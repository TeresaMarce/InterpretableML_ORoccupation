{
 "cells": [
  {
   "cell_type": "markdown",
   "id": "286bd9a5",
   "metadata": {},
   "source": [
    "# XGBoost - Extreme Gradient Boosting\n",
    "\n",
    "- ### <span style='color:green'> Here I will use MAPE and Within together to evaluate the models </span>\n",
    "\n",
    "\n",
    "----\n",
    "\n",
    "\n",
    "## Improving Operating Room Efficiency: A machine learning approach to predict case-time duration\n",
    "\n",
    "\n",
    "\n",
    "#### Made by:\n",
    "* Teresa Marcelino (teresamarcelino98@gmail.com)\n",
    "\n",
    "\n",
    "-------\n",
    "\n",
    "\n",
    "\n",
    "\n",
    "#### Introduction:\n",
    "- XGBoosst is used for supervised learning problems, like this one, where there is a training dataset that includes values for both explanatory variables and the dependent variables—in this case, case-time duration. This algorithm balances the “training loss”—that is, how well the model fits the training data—with the complexity of the model—which can assess the degree of overfitting. XGBoost has been used in a variety of competitions and has been shown to perform well amongst the variety of ML algorithms available.\n",
    "- In this exploration of XGBoost a replication of paper \"Improving Operating Room Efficiency: A machine learning approach to predict case-time duration\" is done. Paper link: https://www.ncbi.nlm.nih.gov/pmc/articles/PMC7077507/\n",
    "\n",
    "#### How works:\n",
    "- It is a very powerful ensemble of Decision Trees that rival the power of Deep Learning\n",
    "- Use Boosting- Combine weak learners(DT with one split) sequencilally and each new tree correct the errors of the previous one\n",
    "- Gradient boosting is an approach where new models are created that predict the residuals or errors of prior models and then added together to make the final prediction. It is called gradient boosting because it uses a gradient descent algorithm to minimize the loss when adding new models.\n",
    "- Define objective function: A salient characteristic of objective functions is that they consist two parts: training loss and regularization term,where 𝐿 is the training loss function, and Ω is the regularization term (controls the complexity of the model, which helps us to avoid overfitting.)\n",
    "\n",
    "                                                  obj(𝜃)=𝐿(𝜃)+Ω(𝜃)\n",
    "                              \n",
    "- We want to find the direction where the loss decreases the fastest --> negative derivative of loss with respect to the previous model's output\n",
    "- For every step m, xgboost produces a model such that ensemble at step m is equal to ensemble at step m-1 plus the learning rate times the weak learner at step m. We want a learner that don't walk to far in any direction to avoid over come the minimum \n",
    "\n",
    "                                         F(m)=F(m-1)+lr* - ∂ L /∂ F(m-1)\n",
    "                                         \n",
    "#### Some interesting articles used:\n",
    "* XGBoost Python Example: https://towardsdatascience.com/xgboost-python-example-42777d01001e\n",
    "* How to Tune the Number and Size of Decision Trees with XGBoost in Python: https://machinelearningmastery.com/tune-number-size-decision-trees-xgboost-python/\n",
    "\n",
    "* Gradient Boosting explained [demonstration]: http://arogozhnikov.github.io/2016/06/24/gradient_boosting_explained.html\n",
    "\n",
    "* A Beginner’s guide to XGBoost - GridSearchCV https://towardsdatascience.com/a-beginners-guide-to-xgboost-87f5d4c30ed7\n",
    "\n",
    "* Hyperparameter tuning in XGBoost - xgb.cv https://blog.cambridgespark.com/hyperparameter-tuning-in-xgboost-4ff9100a3b2f\n",
    "\n",
    "* Interpretable Machine Learning with XGBoost https://towardsdatascience.com/interpretable-machine-learning-with-xgboost-9ec80d148d27\n",
    "\n",
    "\n",
    "#### Documentations used:\n",
    "\n",
    "* XGBoost Python Package https://xgboost.readthedocs.io/en/latest/python/python_api.html\n",
    "\n",
    "* xgb.cv: Cross Validation https://rdrr.io/cran/xgboost/man/xgb.cv.html  (I could also used GridSearchCV)\n",
    "\n",
    "* Custom Objective and Evaluation Metric https://xgboost.readthedocs.io/en/latest/tutorials/custom_metric_obj.html\n",
    "\n",
    "* Diference between xgb.train and model.fit - https://www.kaggle.com/questions-and-answers/65417\n",
    "\n",
    "-----"
   ]
  },
  {
   "cell_type": "markdown",
   "id": "caroline-fusion",
   "metadata": {},
   "source": [
    "#### Instructions to run notebook:\n",
    "- Don't run all notebook! Skip Save Model Section to avoid running a lot of time...every model is saved"
   ]
  },
  {
   "cell_type": "markdown",
   "id": "premium-tracy",
   "metadata": {},
   "source": [
    "-------"
   ]
  },
  {
   "cell_type": "markdown",
   "id": "ffd46249",
   "metadata": {},
   "source": [
    "* [1. Data Load](#1)\n",
    "\n",
    "\n",
    "* [2. Data Transformation](#2)\n",
    "\n",
    "\n",
    "* [4. Create Surgeon-specific model](#4)\n",
    "\n",
    "    * [4.1. Generate datasets](#4.1)\n",
    "    * [4.2. Train -Test Split](#4.2)\n",
    "    * [4.3. Setting the optimal hyperparameters of ML model](#4.3)\n",
    "        * [4.3.1 Best parameters to max_depth and min_child_weight](#4.3.1)\n",
    "        * [4.3.2 Best parameters to gamma, subsample and colsample_bytree](#4.3.2)\n",
    "        * [4.3.3 Best parameters to eta](#4.3.3)\n",
    "    * [4.4. Set Parameters of our gradient boosting ensemble](#4.4)\n",
    "    * [4.5. Training](#4.5)\n",
    "    * [4.6. Save Model](#4.6)\n",
    "    * [4.7. Load Model](#4.7)\n",
    "    * [4.8. Rashomon Curve](#4.8)\n",
    "        * [4.8.1 With imbalance](#4.8.1)\n",
    "        * [4.8.2 Without imbalance](#4.8.2)\n",
    "    * [4.9. Prediction](#4.9)\n",
    "        * [4.9.1 With imbalance](#4.9.1)\n",
    "        * [4.9.2 Without imbalance](#4.9.2)\n",
    "    * [4.10. SHAP Explanation](#4.9) ⟶ SHAP (SHapley Additive exPlanations): https://github.com/slundberg/shap\n",
    "        * [4.10.1 SHAP Summary Plot](#4.10.1)\n",
    "        * [4.10.2 Compute SHAP Interaction Values](#4.10.2)\n",
    "        * [4.10.3 SHAP Dependence Plots](#4.10.3)\n",
    "        \n"
   ]
  },
  {
   "cell_type": "markdown",
   "id": "color-marijuana",
   "metadata": {},
   "source": [
    "-------"
   ]
  },
  {
   "cell_type": "markdown",
   "id": "23ae86a2",
   "metadata": {},
   "source": [
    "## 1. Data Load <a class=\"anchor\" id=\"1\"></a> \n",
    "\n"
   ]
  },
  {
   "cell_type": "code",
   "execution_count": 1,
   "id": "381e0d1c",
   "metadata": {},
   "outputs": [],
   "source": [
    "import numpy as np # linear algebra\n",
    "import pandas as pd # data processing, CSV file I/O (e.g. pd.read_csv)\n",
    "import seaborn as sns\n",
    "import shap\n",
    "import xgboost as xgb\n",
    "import matplotlib.pyplot as plt\n",
    "\n",
    "\n",
    "\n",
    "# import OneHotEncoder --> LabelEncoder only is not a good choice, since it \n",
    "#brings in a natural ordering for different classes.\n",
    "from category_encoders import TargetEncoder\n",
    "from sklearn.preprocessing import OneHotEncoder\n",
    "from sklearn.compose import ColumnTransformer\n",
    "from sklearn.datasets import load_boston\n",
    "from sklearn.model_selection import *\n",
    "from sklearn.metrics import *\n",
    "\n",
    "#table\n",
    "from tabulate import tabulate"
   ]
  },
  {
   "cell_type": "code",
   "execution_count": 2,
   "id": "a515ab83",
   "metadata": {},
   "outputs": [
    {
     "name": "stdout",
     "output_type": "stream",
     "text": [
      "no stored variable or alias #load\n",
      "no stored variable or alias dataset\n",
      "no stored variable or alias generated\n",
      "no stored variable or alias in\n",
      "no stored variable or alias other\n",
      "no stored variable or alias Exploration\n",
      "no stored variable or alias notebook\n"
     ]
    },
    {
     "data": {
      "text/html": [
       "<div>\n",
       "<style scoped>\n",
       "    .dataframe tbody tr th:only-of-type {\n",
       "        vertical-align: middle;\n",
       "    }\n",
       "\n",
       "    .dataframe tbody tr th {\n",
       "        vertical-align: top;\n",
       "    }\n",
       "\n",
       "    .dataframe thead th {\n",
       "        text-align: right;\n",
       "    }\n",
       "</style>\n",
       "<table border=\"1\" class=\"dataframe\">\n",
       "  <thead>\n",
       "    <tr style=\"text-align: right;\">\n",
       "      <th></th>\n",
       "      <th>Speciality</th>\n",
       "      <th>SurgeryNumber</th>\n",
       "      <th>SurgeryPerformed_perDoctor</th>\n",
       "      <th>part_of_day</th>\n",
       "      <th>CUF_Unit</th>\n",
       "      <th>FLG_AMB_INT</th>\n",
       "      <th>Anesthesia</th>\n",
       "      <th>FLG_PROG_URG</th>\n",
       "      <th>I1</th>\n",
       "      <th>Procedures_I</th>\n",
       "      <th>Doctor</th>\n",
       "      <th>Gender</th>\n",
       "      <th>RealRoomDuration</th>\n",
       "      <th>Age</th>\n",
       "      <th>CUFPlannedDuration</th>\n",
       "      <th>Month</th>\n",
       "      <th>Weekday</th>\n",
       "    </tr>\n",
       "  </thead>\n",
       "  <tbody>\n",
       "    <tr>\n",
       "      <th>0</th>\n",
       "      <td>CIRURGIA GERAL</td>\n",
       "      <td>4</td>\n",
       "      <td>78</td>\n",
       "      <td>Noon(13-16)</td>\n",
       "      <td>11</td>\n",
       "      <td>I</td>\n",
       "      <td>RAQ</td>\n",
       "      <td>P</td>\n",
       "      <td>39150013</td>\n",
       "      <td>1</td>\n",
       "      <td>132273102</td>\n",
       "      <td>M</td>\n",
       "      <td>41</td>\n",
       "      <td>65.0</td>\n",
       "      <td>60</td>\n",
       "      <td>April</td>\n",
       "      <td>Tuesday</td>\n",
       "    </tr>\n",
       "    <tr>\n",
       "      <th>1</th>\n",
       "      <td>OFTALMOLOGIA</td>\n",
       "      <td>2</td>\n",
       "      <td>51</td>\n",
       "      <td>Morning(9-12)</td>\n",
       "      <td>11</td>\n",
       "      <td>A</td>\n",
       "      <td>SED</td>\n",
       "      <td>P</td>\n",
       "      <td>46050006</td>\n",
       "      <td>1</td>\n",
       "      <td>093935231</td>\n",
       "      <td>M</td>\n",
       "      <td>32</td>\n",
       "      <td>71.0</td>\n",
       "      <td>60</td>\n",
       "      <td>July</td>\n",
       "      <td>Wednesday</td>\n",
       "    </tr>\n",
       "    <tr>\n",
       "      <th>2</th>\n",
       "      <td>UROLOGIA</td>\n",
       "      <td>1</td>\n",
       "      <td>51</td>\n",
       "      <td>Noon(13-16)</td>\n",
       "      <td>11</td>\n",
       "      <td>I</td>\n",
       "      <td>RAQ</td>\n",
       "      <td>P</td>\n",
       "      <td>40010045</td>\n",
       "      <td>1</td>\n",
       "      <td>775653212</td>\n",
       "      <td>M</td>\n",
       "      <td>27</td>\n",
       "      <td>71.0</td>\n",
       "      <td>60</td>\n",
       "      <td>April</td>\n",
       "      <td>Thursday</td>\n",
       "    </tr>\n",
       "    <tr>\n",
       "      <th>3</th>\n",
       "      <td>UROLOGIA</td>\n",
       "      <td>1</td>\n",
       "      <td>28</td>\n",
       "      <td>Eve(17-20)</td>\n",
       "      <td>11</td>\n",
       "      <td>I</td>\n",
       "      <td>AG</td>\n",
       "      <td>P</td>\n",
       "      <td>40010038</td>\n",
       "      <td>3</td>\n",
       "      <td>462002202</td>\n",
       "      <td>M</td>\n",
       "      <td>55</td>\n",
       "      <td>71.0</td>\n",
       "      <td>60</td>\n",
       "      <td>May</td>\n",
       "      <td>Monday</td>\n",
       "    </tr>\n",
       "    <tr>\n",
       "      <th>4</th>\n",
       "      <td>UROLOGIA</td>\n",
       "      <td>1</td>\n",
       "      <td>34</td>\n",
       "      <td>Eve(17-20)</td>\n",
       "      <td>11</td>\n",
       "      <td>A</td>\n",
       "      <td>AG</td>\n",
       "      <td>P</td>\n",
       "      <td>40010038</td>\n",
       "      <td>1</td>\n",
       "      <td>462002202</td>\n",
       "      <td>M</td>\n",
       "      <td>12</td>\n",
       "      <td>71.0</td>\n",
       "      <td>60</td>\n",
       "      <td>June</td>\n",
       "      <td>Monday</td>\n",
       "    </tr>\n",
       "  </tbody>\n",
       "</table>\n",
       "</div>"
      ],
      "text/plain": [
       "       Speciality SurgeryNumber SurgeryPerformed_perDoctor    part_of_day  \\\n",
       "0  CIRURGIA GERAL             4                         78    Noon(13-16)   \n",
       "1    OFTALMOLOGIA             2                         51  Morning(9-12)   \n",
       "2        UROLOGIA             1                         51    Noon(13-16)   \n",
       "3        UROLOGIA             1                         28     Eve(17-20)   \n",
       "4        UROLOGIA             1                         34     Eve(17-20)   \n",
       "\n",
       "  CUF_Unit FLG_AMB_INT Anesthesia FLG_PROG_URG        I1  Procedures_I  \\\n",
       "0       11           I        RAQ            P  39150013             1   \n",
       "1       11           A        SED            P  46050006             1   \n",
       "2       11           I        RAQ            P  40010045             1   \n",
       "3       11           I         AG            P  40010038             3   \n",
       "4       11           A         AG            P  40010038             1   \n",
       "\n",
       "      Doctor Gender  RealRoomDuration   Age  CUFPlannedDuration  Month  \\\n",
       "0  132273102      M                41  65.0                  60  April   \n",
       "1  093935231      M                32  71.0                  60   July   \n",
       "2  775653212      M                27  71.0                  60  April   \n",
       "3  462002202      M                55  71.0                  60    May   \n",
       "4  462002202      M                12  71.0                  60   June   \n",
       "\n",
       "     Weekday  \n",
       "0    Tuesday  \n",
       "1  Wednesday  \n",
       "2   Thursday  \n",
       "3     Monday  \n",
       "4     Monday  "
      ]
     },
     "execution_count": 2,
     "metadata": {},
     "output_type": "execute_result"
    }
   ],
   "source": [
    "%store -r data_ml #load dataset generated in other Exploration notebook\n",
    "data_ml.head()"
   ]
  },
  {
   "cell_type": "code",
   "execution_count": 3,
   "id": "a02670a5",
   "metadata": {},
   "outputs": [],
   "source": [
    "data_ml['Procedures_I'] = data_ml['Procedures_I'].astype(float) \n",
    "data_ml = data_ml[data_ml.Speciality != 'ADMINISTRAÇÃO REQUISIÇÕES']"
   ]
  },
  {
   "cell_type": "code",
   "execution_count": 4,
   "id": "4b442cbb",
   "metadata": {},
   "outputs": [
    {
     "name": "stdout",
     "output_type": "stream",
     "text": [
      "Dataset has 169770 entries and 17 features\n"
     ]
    }
   ],
   "source": [
    "print(\"Dataset has {} entries and {} features\".format(*data_ml.shape))"
   ]
  },
  {
   "cell_type": "markdown",
   "id": "vital-atlantic",
   "metadata": {},
   "source": [
    "-------"
   ]
  },
  {
   "cell_type": "markdown",
   "id": "d2ac378b",
   "metadata": {},
   "source": [
    "## 2. Data Transformation <a class=\"anchor\" id=\"2\"></a> \n",
    "\n",
    "-Similar to the paper https://linkinghub.elsevier.com/retrieve/pii/S1072751519304053"
   ]
  },
  {
   "cell_type": "code",
   "execution_count": 5,
   "id": "47e1674b",
   "metadata": {},
   "outputs": [],
   "source": [
    "%store -r Genenal_Dataset\n",
    "%store -r Specialities_Dataset\n",
    "%store -r Surgeons_Dataset\n",
    "\n",
    "%store -r list_surgeons\n",
    "%store -r list_specialities"
   ]
  },
  {
   "cell_type": "code",
   "execution_count": 6,
   "id": "e44e8594",
   "metadata": {},
   "outputs": [
    {
     "data": {
      "text/html": [
       "<div>\n",
       "<style scoped>\n",
       "    .dataframe tbody tr th:only-of-type {\n",
       "        vertical-align: middle;\n",
       "    }\n",
       "\n",
       "    .dataframe tbody tr th {\n",
       "        vertical-align: top;\n",
       "    }\n",
       "\n",
       "    .dataframe thead th {\n",
       "        text-align: right;\n",
       "    }\n",
       "</style>\n",
       "<table border=\"1\" class=\"dataframe\">\n",
       "  <thead>\n",
       "    <tr style=\"text-align: right;\">\n",
       "      <th></th>\n",
       "      <th>Urgency</th>\n",
       "      <th>Hospitalization</th>\n",
       "      <th>Gender</th>\n",
       "      <th>Daily Surgery Number_perDoctor</th>\n",
       "      <th>Surgery Number Performed_perDoctor</th>\n",
       "      <th>Procedures_I</th>\n",
       "      <th>Real Room Duration</th>\n",
       "      <th>Age</th>\n",
       "      <th>CUF Planned Duration</th>\n",
       "      <th>I1</th>\n",
       "      <th>Part of the day</th>\n",
       "      <th>Speciality</th>\n",
       "      <th>CUF_Unit</th>\n",
       "      <th>Month</th>\n",
       "      <th>Weekday</th>\n",
       "      <th>Anesthesia</th>\n",
       "    </tr>\n",
       "  </thead>\n",
       "  <tbody>\n",
       "    <tr>\n",
       "      <th>0</th>\n",
       "      <td>0</td>\n",
       "      <td>1</td>\n",
       "      <td>0</td>\n",
       "      <td>1</td>\n",
       "      <td>150</td>\n",
       "      <td>1</td>\n",
       "      <td>16</td>\n",
       "      <td>74.0</td>\n",
       "      <td>20</td>\n",
       "      <td>22.274376</td>\n",
       "      <td>28.212867</td>\n",
       "      <td>28.922468</td>\n",
       "      <td>28.931225</td>\n",
       "      <td>28.601695</td>\n",
       "      <td>28.526646</td>\n",
       "      <td>22.730851</td>\n",
       "    </tr>\n",
       "    <tr>\n",
       "      <th>1</th>\n",
       "      <td>0</td>\n",
       "      <td>1</td>\n",
       "      <td>1</td>\n",
       "      <td>5</td>\n",
       "      <td>266</td>\n",
       "      <td>1</td>\n",
       "      <td>12</td>\n",
       "      <td>53.0</td>\n",
       "      <td>20</td>\n",
       "      <td>22.274376</td>\n",
       "      <td>28.212867</td>\n",
       "      <td>28.922468</td>\n",
       "      <td>28.931225</td>\n",
       "      <td>31.794393</td>\n",
       "      <td>29.081590</td>\n",
       "      <td>22.730851</td>\n",
       "    </tr>\n",
       "    <tr>\n",
       "      <th>2</th>\n",
       "      <td>0</td>\n",
       "      <td>1</td>\n",
       "      <td>1</td>\n",
       "      <td>2</td>\n",
       "      <td>269</td>\n",
       "      <td>1</td>\n",
       "      <td>39</td>\n",
       "      <td>53.0</td>\n",
       "      <td>20</td>\n",
       "      <td>22.274376</td>\n",
       "      <td>28.212867</td>\n",
       "      <td>28.922468</td>\n",
       "      <td>28.931225</td>\n",
       "      <td>28.581395</td>\n",
       "      <td>28.526646</td>\n",
       "      <td>49.927586</td>\n",
       "    </tr>\n",
       "    <tr>\n",
       "      <th>3</th>\n",
       "      <td>0</td>\n",
       "      <td>1</td>\n",
       "      <td>0</td>\n",
       "      <td>2</td>\n",
       "      <td>102</td>\n",
       "      <td>1</td>\n",
       "      <td>20</td>\n",
       "      <td>65.0</td>\n",
       "      <td>20</td>\n",
       "      <td>23.431818</td>\n",
       "      <td>28.212867</td>\n",
       "      <td>28.922468</td>\n",
       "      <td>28.931225</td>\n",
       "      <td>25.790476</td>\n",
       "      <td>29.081590</td>\n",
       "      <td>22.730851</td>\n",
       "    </tr>\n",
       "    <tr>\n",
       "      <th>4</th>\n",
       "      <td>0</td>\n",
       "      <td>1</td>\n",
       "      <td>1</td>\n",
       "      <td>4</td>\n",
       "      <td>63</td>\n",
       "      <td>1</td>\n",
       "      <td>20</td>\n",
       "      <td>22.0</td>\n",
       "      <td>20</td>\n",
       "      <td>24.076953</td>\n",
       "      <td>28.212867</td>\n",
       "      <td>28.922468</td>\n",
       "      <td>28.931225</td>\n",
       "      <td>28.039216</td>\n",
       "      <td>28.663239</td>\n",
       "      <td>22.730851</td>\n",
       "    </tr>\n",
       "    <tr>\n",
       "      <th>...</th>\n",
       "      <td>...</td>\n",
       "      <td>...</td>\n",
       "      <td>...</td>\n",
       "      <td>...</td>\n",
       "      <td>...</td>\n",
       "      <td>...</td>\n",
       "      <td>...</td>\n",
       "      <td>...</td>\n",
       "      <td>...</td>\n",
       "      <td>...</td>\n",
       "      <td>...</td>\n",
       "      <td>...</td>\n",
       "      <td>...</td>\n",
       "      <td>...</td>\n",
       "      <td>...</td>\n",
       "      <td>...</td>\n",
       "    </tr>\n",
       "    <tr>\n",
       "      <th>153</th>\n",
       "      <td>0</td>\n",
       "      <td>1</td>\n",
       "      <td>0</td>\n",
       "      <td>2</td>\n",
       "      <td>1577</td>\n",
       "      <td>1</td>\n",
       "      <td>25</td>\n",
       "      <td>38.0</td>\n",
       "      <td>30</td>\n",
       "      <td>23.431818</td>\n",
       "      <td>27.390625</td>\n",
       "      <td>28.922468</td>\n",
       "      <td>28.931225</td>\n",
       "      <td>26.371429</td>\n",
       "      <td>28.663239</td>\n",
       "      <td>22.730851</td>\n",
       "    </tr>\n",
       "    <tr>\n",
       "      <th>154</th>\n",
       "      <td>0</td>\n",
       "      <td>1</td>\n",
       "      <td>0</td>\n",
       "      <td>5</td>\n",
       "      <td>1589</td>\n",
       "      <td>1</td>\n",
       "      <td>19</td>\n",
       "      <td>41.0</td>\n",
       "      <td>30</td>\n",
       "      <td>24.076953</td>\n",
       "      <td>42.573529</td>\n",
       "      <td>28.922468</td>\n",
       "      <td>28.931225</td>\n",
       "      <td>28.136842</td>\n",
       "      <td>29.081590</td>\n",
       "      <td>49.927586</td>\n",
       "    </tr>\n",
       "    <tr>\n",
       "      <th>155</th>\n",
       "      <td>0</td>\n",
       "      <td>1</td>\n",
       "      <td>1</td>\n",
       "      <td>3</td>\n",
       "      <td>1302</td>\n",
       "      <td>1</td>\n",
       "      <td>17</td>\n",
       "      <td>71.0</td>\n",
       "      <td>20</td>\n",
       "      <td>22.274376</td>\n",
       "      <td>28.212867</td>\n",
       "      <td>28.922468</td>\n",
       "      <td>28.931225</td>\n",
       "      <td>29.500000</td>\n",
       "      <td>29.081590</td>\n",
       "      <td>22.730851</td>\n",
       "    </tr>\n",
       "    <tr>\n",
       "      <th>156</th>\n",
       "      <td>0</td>\n",
       "      <td>1</td>\n",
       "      <td>1</td>\n",
       "      <td>2</td>\n",
       "      <td>1547</td>\n",
       "      <td>1</td>\n",
       "      <td>14</td>\n",
       "      <td>55.0</td>\n",
       "      <td>30</td>\n",
       "      <td>24.229623</td>\n",
       "      <td>27.390625</td>\n",
       "      <td>28.922468</td>\n",
       "      <td>28.931225</td>\n",
       "      <td>27.347826</td>\n",
       "      <td>29.081590</td>\n",
       "      <td>21.485714</td>\n",
       "    </tr>\n",
       "    <tr>\n",
       "      <th>157</th>\n",
       "      <td>0</td>\n",
       "      <td>1</td>\n",
       "      <td>0</td>\n",
       "      <td>4</td>\n",
       "      <td>1303</td>\n",
       "      <td>1</td>\n",
       "      <td>30</td>\n",
       "      <td>69.0</td>\n",
       "      <td>20</td>\n",
       "      <td>22.274376</td>\n",
       "      <td>28.212867</td>\n",
       "      <td>28.922468</td>\n",
       "      <td>28.931225</td>\n",
       "      <td>29.500000</td>\n",
       "      <td>29.081590</td>\n",
       "      <td>22.730851</td>\n",
       "    </tr>\n",
       "  </tbody>\n",
       "</table>\n",
       "<p>158 rows × 16 columns</p>\n",
       "</div>"
      ],
      "text/plain": [
       "     Urgency  Hospitalization  Gender  Daily Surgery Number_perDoctor  \\\n",
       "0          0                1       0                               1   \n",
       "1          0                1       1                               5   \n",
       "2          0                1       1                               2   \n",
       "3          0                1       0                               2   \n",
       "4          0                1       1                               4   \n",
       "..       ...              ...     ...                             ...   \n",
       "153        0                1       0                               2   \n",
       "154        0                1       0                               5   \n",
       "155        0                1       1                               3   \n",
       "156        0                1       1                               2   \n",
       "157        0                1       0                               4   \n",
       "\n",
       "     Surgery Number Performed_perDoctor  Procedures_I  Real Room Duration  \\\n",
       "0                                   150             1                  16   \n",
       "1                                   266             1                  12   \n",
       "2                                   269             1                  39   \n",
       "3                                   102             1                  20   \n",
       "4                                    63             1                  20   \n",
       "..                                  ...           ...                 ...   \n",
       "153                                1577             1                  25   \n",
       "154                                1589             1                  19   \n",
       "155                                1302             1                  17   \n",
       "156                                1547             1                  14   \n",
       "157                                1303             1                  30   \n",
       "\n",
       "      Age  CUF Planned Duration         I1  Part of the day  Speciality  \\\n",
       "0    74.0                    20  22.274376        28.212867   28.922468   \n",
       "1    53.0                    20  22.274376        28.212867   28.922468   \n",
       "2    53.0                    20  22.274376        28.212867   28.922468   \n",
       "3    65.0                    20  23.431818        28.212867   28.922468   \n",
       "4    22.0                    20  24.076953        28.212867   28.922468   \n",
       "..    ...                   ...        ...              ...         ...   \n",
       "153  38.0                    30  23.431818        27.390625   28.922468   \n",
       "154  41.0                    30  24.076953        42.573529   28.922468   \n",
       "155  71.0                    20  22.274376        28.212867   28.922468   \n",
       "156  55.0                    30  24.229623        27.390625   28.922468   \n",
       "157  69.0                    20  22.274376        28.212867   28.922468   \n",
       "\n",
       "      CUF_Unit      Month    Weekday  Anesthesia  \n",
       "0    28.931225  28.601695  28.526646   22.730851  \n",
       "1    28.931225  31.794393  29.081590   22.730851  \n",
       "2    28.931225  28.581395  28.526646   49.927586  \n",
       "3    28.931225  25.790476  29.081590   22.730851  \n",
       "4    28.931225  28.039216  28.663239   22.730851  \n",
       "..         ...        ...        ...         ...  \n",
       "153  28.931225  26.371429  28.663239   22.730851  \n",
       "154  28.931225  28.136842  29.081590   49.927586  \n",
       "155  28.931225  29.500000  29.081590   22.730851  \n",
       "156  28.931225  27.347826  29.081590   21.485714  \n",
       "157  28.931225  29.500000  29.081590   22.730851  \n",
       "\n",
       "[158 rows x 16 columns]"
      ]
     },
     "execution_count": 6,
     "metadata": {},
     "output_type": "execute_result"
    }
   ],
   "source": [
    "df_test_surgeon = pd.read_csv('Data_test_surgeon',header='infer')\n",
    "df_test_surgeon\n"
   ]
  },
  {
   "cell_type": "code",
   "execution_count": 7,
   "id": "3a061d53",
   "metadata": {},
   "outputs": [
    {
     "data": {
      "text/html": [
       "<div>\n",
       "<style scoped>\n",
       "    .dataframe tbody tr th:only-of-type {\n",
       "        vertical-align: middle;\n",
       "    }\n",
       "\n",
       "    .dataframe tbody tr th {\n",
       "        vertical-align: top;\n",
       "    }\n",
       "\n",
       "    .dataframe thead th {\n",
       "        text-align: right;\n",
       "    }\n",
       "</style>\n",
       "<table border=\"1\" class=\"dataframe\">\n",
       "  <thead>\n",
       "    <tr style=\"text-align: right;\">\n",
       "      <th></th>\n",
       "      <th>Urgency</th>\n",
       "      <th>Hospitalization</th>\n",
       "      <th>Gender</th>\n",
       "      <th>Daily Surgery Number_perDoctor</th>\n",
       "      <th>Surgery Number Performed_perDoctor</th>\n",
       "      <th>Procedures_I</th>\n",
       "      <th>Real Room Duration</th>\n",
       "      <th>Age</th>\n",
       "      <th>CUF Planned Duration</th>\n",
       "      <th>I1</th>\n",
       "      <th>Part of the day</th>\n",
       "      <th>Speciality</th>\n",
       "      <th>CUF_Unit</th>\n",
       "      <th>Month</th>\n",
       "      <th>Weekday</th>\n",
       "      <th>Anesthesia</th>\n",
       "    </tr>\n",
       "  </thead>\n",
       "  <tbody>\n",
       "    <tr>\n",
       "      <th>0</th>\n",
       "      <td>0</td>\n",
       "      <td>1</td>\n",
       "      <td>0</td>\n",
       "      <td>6.0</td>\n",
       "      <td>190.0</td>\n",
       "      <td>1.0</td>\n",
       "      <td>45.000000</td>\n",
       "      <td>73.000000</td>\n",
       "      <td>NaN</td>\n",
       "      <td>52.334804</td>\n",
       "      <td>28.212867</td>\n",
       "      <td>28.922468</td>\n",
       "      <td>28.931225</td>\n",
       "      <td>28.601695</td>\n",
       "      <td>29.081590</td>\n",
       "      <td>49.927586</td>\n",
       "    </tr>\n",
       "    <tr>\n",
       "      <th>1</th>\n",
       "      <td>0</td>\n",
       "      <td>1</td>\n",
       "      <td>0</td>\n",
       "      <td>2.0</td>\n",
       "      <td>920.0</td>\n",
       "      <td>2.0</td>\n",
       "      <td>20.000000</td>\n",
       "      <td>68.000000</td>\n",
       "      <td>20.0</td>\n",
       "      <td>22.274376</td>\n",
       "      <td>28.212867</td>\n",
       "      <td>28.922468</td>\n",
       "      <td>28.931225</td>\n",
       "      <td>25.790476</td>\n",
       "      <td>28.526646</td>\n",
       "      <td>22.730851</td>\n",
       "    </tr>\n",
       "    <tr>\n",
       "      <th>2</th>\n",
       "      <td>0</td>\n",
       "      <td>1</td>\n",
       "      <td>0</td>\n",
       "      <td>3.0</td>\n",
       "      <td>192.0</td>\n",
       "      <td>1.0</td>\n",
       "      <td>36.832935</td>\n",
       "      <td>71.046403</td>\n",
       "      <td>NaN</td>\n",
       "      <td>53.762436</td>\n",
       "      <td>28.212510</td>\n",
       "      <td>28.922685</td>\n",
       "      <td>28.930151</td>\n",
       "      <td>31.281645</td>\n",
       "      <td>28.848036</td>\n",
       "      <td>41.516894</td>\n",
       "    </tr>\n",
       "    <tr>\n",
       "      <th>3</th>\n",
       "      <td>0</td>\n",
       "      <td>1</td>\n",
       "      <td>0</td>\n",
       "      <td>4.0</td>\n",
       "      <td>600.0</td>\n",
       "      <td>1.0</td>\n",
       "      <td>20.000000</td>\n",
       "      <td>80.000000</td>\n",
       "      <td>30.0</td>\n",
       "      <td>22.274376</td>\n",
       "      <td>27.390625</td>\n",
       "      <td>28.922468</td>\n",
       "      <td>28.931225</td>\n",
       "      <td>28.601695</td>\n",
       "      <td>26.365854</td>\n",
       "      <td>22.730851</td>\n",
       "    </tr>\n",
       "    <tr>\n",
       "      <th>4</th>\n",
       "      <td>0</td>\n",
       "      <td>1</td>\n",
       "      <td>1</td>\n",
       "      <td>4.0</td>\n",
       "      <td>446.0</td>\n",
       "      <td>1.0</td>\n",
       "      <td>23.000000</td>\n",
       "      <td>56.000000</td>\n",
       "      <td>60.0</td>\n",
       "      <td>22.274376</td>\n",
       "      <td>28.212867</td>\n",
       "      <td>28.922468</td>\n",
       "      <td>28.931225</td>\n",
       "      <td>28.136842</td>\n",
       "      <td>28.663239</td>\n",
       "      <td>22.730851</td>\n",
       "    </tr>\n",
       "    <tr>\n",
       "      <th>...</th>\n",
       "      <td>...</td>\n",
       "      <td>...</td>\n",
       "      <td>...</td>\n",
       "      <td>...</td>\n",
       "      <td>...</td>\n",
       "      <td>...</td>\n",
       "      <td>...</td>\n",
       "      <td>...</td>\n",
       "      <td>...</td>\n",
       "      <td>...</td>\n",
       "      <td>...</td>\n",
       "      <td>...</td>\n",
       "      <td>...</td>\n",
       "      <td>...</td>\n",
       "      <td>...</td>\n",
       "      <td>...</td>\n",
       "    </tr>\n",
       "    <tr>\n",
       "      <th>2456</th>\n",
       "      <td>0</td>\n",
       "      <td>1</td>\n",
       "      <td>0</td>\n",
       "      <td>3.0</td>\n",
       "      <td>455.0</td>\n",
       "      <td>1.0</td>\n",
       "      <td>55.663351</td>\n",
       "      <td>82.065232</td>\n",
       "      <td>NaN</td>\n",
       "      <td>70.357113</td>\n",
       "      <td>28.212969</td>\n",
       "      <td>28.921439</td>\n",
       "      <td>28.931835</td>\n",
       "      <td>29.499133</td>\n",
       "      <td>28.775653</td>\n",
       "      <td>49.928664</td>\n",
       "    </tr>\n",
       "    <tr>\n",
       "      <th>2457</th>\n",
       "      <td>0</td>\n",
       "      <td>1</td>\n",
       "      <td>1</td>\n",
       "      <td>7.0</td>\n",
       "      <td>711.0</td>\n",
       "      <td>1.0</td>\n",
       "      <td>51.229983</td>\n",
       "      <td>59.679937</td>\n",
       "      <td>NaN</td>\n",
       "      <td>53.742975</td>\n",
       "      <td>28.213870</td>\n",
       "      <td>28.921902</td>\n",
       "      <td>28.931201</td>\n",
       "      <td>31.823513</td>\n",
       "      <td>28.903062</td>\n",
       "      <td>49.929983</td>\n",
       "    </tr>\n",
       "    <tr>\n",
       "      <th>2458</th>\n",
       "      <td>0</td>\n",
       "      <td>1</td>\n",
       "      <td>1</td>\n",
       "      <td>3.0</td>\n",
       "      <td>1218.0</td>\n",
       "      <td>1.0</td>\n",
       "      <td>20.000000</td>\n",
       "      <td>66.000000</td>\n",
       "      <td>30.0</td>\n",
       "      <td>22.274376</td>\n",
       "      <td>28.212867</td>\n",
       "      <td>28.922468</td>\n",
       "      <td>28.931225</td>\n",
       "      <td>27.347826</td>\n",
       "      <td>28.526646</td>\n",
       "      <td>22.730851</td>\n",
       "    </tr>\n",
       "    <tr>\n",
       "      <th>2459</th>\n",
       "      <td>0</td>\n",
       "      <td>1</td>\n",
       "      <td>1</td>\n",
       "      <td>4.0</td>\n",
       "      <td>369.0</td>\n",
       "      <td>1.0</td>\n",
       "      <td>28.000000</td>\n",
       "      <td>69.000000</td>\n",
       "      <td>20.0</td>\n",
       "      <td>53.745098</td>\n",
       "      <td>28.212867</td>\n",
       "      <td>28.922468</td>\n",
       "      <td>28.931225</td>\n",
       "      <td>27.347826</td>\n",
       "      <td>28.663239</td>\n",
       "      <td>49.927586</td>\n",
       "    </tr>\n",
       "    <tr>\n",
       "      <th>2460</th>\n",
       "      <td>0</td>\n",
       "      <td>1</td>\n",
       "      <td>1</td>\n",
       "      <td>4.0</td>\n",
       "      <td>136.0</td>\n",
       "      <td>1.0</td>\n",
       "      <td>33.963667</td>\n",
       "      <td>66.903502</td>\n",
       "      <td>NaN</td>\n",
       "      <td>22.275344</td>\n",
       "      <td>28.211397</td>\n",
       "      <td>28.923093</td>\n",
       "      <td>28.931261</td>\n",
       "      <td>26.305119</td>\n",
       "      <td>28.641047</td>\n",
       "      <td>21.326406</td>\n",
       "    </tr>\n",
       "  </tbody>\n",
       "</table>\n",
       "<p>2461 rows × 16 columns</p>\n",
       "</div>"
      ],
      "text/plain": [
       "      Urgency  Hospitalization  Gender  Daily Surgery Number_perDoctor  \\\n",
       "0           0                1       0                             6.0   \n",
       "1           0                1       0                             2.0   \n",
       "2           0                1       0                             3.0   \n",
       "3           0                1       0                             4.0   \n",
       "4           0                1       1                             4.0   \n",
       "...       ...              ...     ...                             ...   \n",
       "2456        0                1       0                             3.0   \n",
       "2457        0                1       1                             7.0   \n",
       "2458        0                1       1                             3.0   \n",
       "2459        0                1       1                             4.0   \n",
       "2460        0                1       1                             4.0   \n",
       "\n",
       "      Surgery Number Performed_perDoctor  Procedures_I  Real Room Duration  \\\n",
       "0                                  190.0           1.0           45.000000   \n",
       "1                                  920.0           2.0           20.000000   \n",
       "2                                  192.0           1.0           36.832935   \n",
       "3                                  600.0           1.0           20.000000   \n",
       "4                                  446.0           1.0           23.000000   \n",
       "...                                  ...           ...                 ...   \n",
       "2456                               455.0           1.0           55.663351   \n",
       "2457                               711.0           1.0           51.229983   \n",
       "2458                              1218.0           1.0           20.000000   \n",
       "2459                               369.0           1.0           28.000000   \n",
       "2460                               136.0           1.0           33.963667   \n",
       "\n",
       "            Age  CUF Planned Duration         I1  Part of the day  Speciality  \\\n",
       "0     73.000000                   NaN  52.334804        28.212867   28.922468   \n",
       "1     68.000000                  20.0  22.274376        28.212867   28.922468   \n",
       "2     71.046403                   NaN  53.762436        28.212510   28.922685   \n",
       "3     80.000000                  30.0  22.274376        27.390625   28.922468   \n",
       "4     56.000000                  60.0  22.274376        28.212867   28.922468   \n",
       "...         ...                   ...        ...              ...         ...   \n",
       "2456  82.065232                   NaN  70.357113        28.212969   28.921439   \n",
       "2457  59.679937                   NaN  53.742975        28.213870   28.921902   \n",
       "2458  66.000000                  30.0  22.274376        28.212867   28.922468   \n",
       "2459  69.000000                  20.0  53.745098        28.212867   28.922468   \n",
       "2460  66.903502                   NaN  22.275344        28.211397   28.923093   \n",
       "\n",
       "       CUF_Unit      Month    Weekday  Anesthesia  \n",
       "0     28.931225  28.601695  29.081590   49.927586  \n",
       "1     28.931225  25.790476  28.526646   22.730851  \n",
       "2     28.930151  31.281645  28.848036   41.516894  \n",
       "3     28.931225  28.601695  26.365854   22.730851  \n",
       "4     28.931225  28.136842  28.663239   22.730851  \n",
       "...         ...        ...        ...         ...  \n",
       "2456  28.931835  29.499133  28.775653   49.928664  \n",
       "2457  28.931201  31.823513  28.903062   49.929983  \n",
       "2458  28.931225  27.347826  28.526646   22.730851  \n",
       "2459  28.931225  27.347826  28.663239   49.927586  \n",
       "2460  28.931261  26.305119  28.641047   21.326406  \n",
       "\n",
       "[2461 rows x 16 columns]"
      ]
     },
     "execution_count": 7,
     "metadata": {},
     "output_type": "execute_result"
    }
   ],
   "source": [
    "df_train_surgeon = pd.read_csv('Data_withsyntheticdata_surgeon',header='infer')\n",
    "df_train_surgeon"
   ]
  },
  {
   "cell_type": "markdown",
   "id": "variable-chambers",
   "metadata": {},
   "source": [
    "-------"
   ]
  },
  {
   "cell_type": "markdown",
   "id": "035ae1e6",
   "metadata": {},
   "source": [
    "* ### 3.3.  Setting the optimal hyperparameters of ML model  <a class=\"anchor\" id=\"3.3\"></a> \n",
    "\n",
    "\n",
    "* In order to tune the other hyperparameters, we will use the cv function from XGBoost. It allows us to run cross-validation on our training dataset and returns a mean MAPE score\n",
    "* The learnable parameters are the choice of decision variables at each node and the numeric thresholds used to decide whether to take the left or right branch when generating predictions."
   ]
  },
  {
   "cell_type": "code",
   "execution_count": 8,
   "id": "76f6ed78",
   "metadata": {},
   "outputs": [],
   "source": [
    "#In order for XGBoost to be able to use our data: transform into DMatrix, a specific format that XGBoost can handle\n",
    "def Dmatrix(split):\n",
    "    D_train = xgb.DMatrix(split[0], label=split[2])\n",
    "    D_test = xgb.DMatrix(split[1], label=split[3])\n",
    "    return D_train, D_test"
   ]
  },
  {
   "cell_type": "markdown",
   "id": "urban-teens",
   "metadata": {},
   "source": [
    "#### 3.3.1  Generate evaluation function  <a class=\"anchor\" id=\"3.3.1\"></a> \n",
    "\n",
    "\n",
    "Note: I generate MAPE funtion because not exist in XGBoost. We are going to use MAPE to evaluate the quality of our predictions"
   ]
  },
  {
   "cell_type": "markdown",
   "id": "active-tunisia",
   "metadata": {},
   "source": [
    "* Evaluation Metrics **Within**/**MAPE**/**Overuse**/**Underuse**"
   ]
  },
  {
   "cell_type": "code",
   "execution_count": 9,
   "id": "wound-northwest",
   "metadata": {},
   "outputs": [],
   "source": [
    "def xgb_mape(preds, D_train):\n",
    "    labels=D_train.get_label()\n",
    "    return('mape', np.mean(np.abs((labels - preds) / (labels)))) #return necessary to "
   ]
  },
  {
   "cell_type": "code",
   "execution_count": 10,
   "id": "selected-cross",
   "metadata": {},
   "outputs": [],
   "source": [
    "#count \n",
    "\n",
    "def count_over(arr, x):\n",
    "    TotalValue = 0\n",
    "    for i in range(len(arr)):\n",
    "        if arr[i] > x:\n",
    "            TotalValue=TotalValue+1\n",
    "    return TotalValue\n",
    "\n",
    "def count_under(arr, x):\n",
    "    TotalValue = 0\n",
    "    for i in range(len(arr)):\n",
    "        if arr[i] < x:\n",
    "            TotalValue=TotalValue+1\n",
    "    return TotalValue\n",
    "\n",
    "def count_within(arr, x):\n",
    "    TotalValue = 0\n",
    "    abs_arr=np.absolute(arr)\n",
    "    for i in range(len(arr)):\n",
    "        if abs_arr[i] <= x:\n",
    "            TotalValue=TotalValue+1\n",
    "    return TotalValue"
   ]
  },
  {
   "cell_type": "code",
   "execution_count": 11,
   "id": "express-oakland",
   "metadata": {},
   "outputs": [],
   "source": [
    "def xgb_overutilization(preds, D_train): #0verutilizatiom\n",
    "    labels=D_train.get_label()\n",
    "    \n",
    "    error=(labels - preds) / (labels)\n",
    "    length=len(error)\n",
    "    counts=count_over(error, 0.1)\n",
    "\n",
    "    return('overuse',counts/length)"
   ]
  },
  {
   "cell_type": "code",
   "execution_count": 12,
   "id": "induced-cable",
   "metadata": {},
   "outputs": [],
   "source": [
    "def xgb_underutilization(preds, D_train):\n",
    "    labels=D_train.get_label()\n",
    "    \n",
    "    error=(labels - preds) / (labels)\n",
    "    length=len(error)\n",
    "    counts=count_under(error, -0.1)\n",
    "\n",
    "    return('underuse', counts/length)"
   ]
  },
  {
   "cell_type": "code",
   "execution_count": 13,
   "id": "rental-wheel",
   "metadata": {},
   "outputs": [],
   "source": [
    "def xgb_within(preds, D_train):\n",
    "    labels=D_train.get_label()\n",
    "    \n",
    "    error=(labels - preds) / (labels)\n",
    "    length=len(error)\n",
    "    counts=count_within(error, 0.1) #i'm using 10 percent as threshold\n",
    "    within=-(counts/length)\n",
    "\n",
    "    return('within', within) # quero minimizar o negativo, porque quero maximizar o within"
   ]
  },
  {
   "cell_type": "markdown",
   "id": "enclosed-holly",
   "metadata": {},
   "source": [
    "* Union of **MAPE** with **Within** - because I cannot use two costumize evaluate funtions"
   ]
  },
  {
   "cell_type": "code",
   "execution_count": 14,
   "id": "moral-cache",
   "metadata": {},
   "outputs": [],
   "source": [
    "def xgb_within_mape(preds, D_train):\n",
    "    within=xgb_within(preds, D_train)[1]\n",
    "    mape=xgb_mape(preds, D_train)[1]\n",
    "\n",
    "    return('within_mape', within+mape) # quero minimazr o negativo, porque quero maximizar o within"
   ]
  },
  {
   "cell_type": "markdown",
   "id": "mineral-windsor",
   "metadata": {},
   "source": [
    "* Objective funtion **MAPE** - is not working"
   ]
  },
  {
   "cell_type": "code",
   "execution_count": 15,
   "id": "played-powell",
   "metadata": {},
   "outputs": [],
   "source": [
    "def mape_objective_function(preds, dtrain):  # https://www.kaggle.com/questions-and-answers/78312\n",
    "    labels = dtrain.get_label()\n",
    "    grad = (preds - labels) / (0.2 + labels * np.abs(preds - labels)) # 0.2 is there only to avoid dividing by zero.\n",
    "    hess = 0.1 + np.zeros(len(preds)); #For the hessian, we need to have a value close to 0 but not 0.\n",
    "    return grad, hess"
   ]
  },
  {
   "cell_type": "markdown",
   "id": "8abc4ab1",
   "metadata": {},
   "source": [
    "\n",
    "#### 3.3.2  Best parameters to **max_depth** and **min_child_weight**  <a class=\"anchor\" id=\"3.3.2\"></a> \n",
    "\n",
    "\n",
    "- max_depth is the maximum number of nodes allowed from the root to the farthest leaf of a tree. Deeper trees can model more complex relationships by adding more nodes, but as we go deeper, splits become less relevant and are sometimes only due to noise, causing the model to overfit.\n",
    "- min_child_weight is the minimum weight (or number of samples if all samples have a weight of 1) required in order to create a new node in the tree. A smaller min_child_weight allows the algorithm to create children that correspond to fewer samples, thus allowing for more complex trees, but again, more likely to overfit.\n",
    "- Thus, those parameters can be used to control the complexity of the trees. It is important to tune them together in order to find a good trade-off between model bias and variance"
   ]
  },
  {
   "cell_type": "code",
   "execution_count": 90,
   "id": "63831094",
   "metadata": {},
   "outputs": [],
   "source": [
    "#dictionary of parameters.\n",
    "params = {\n",
    "    # Parameters that we are going to tune.\n",
    "    'max_depth':6,\n",
    "    'min_child_weight': 1,\n",
    "    'eta':.3,\n",
    "    'subsample': 1,\n",
    "    'colsample_bytree': 1,\n",
    "    # Other parameters\n",
    "    'objective':'reg:squarederror',\n",
    "} \n",
    "#reg:squarederror\n",
    "#reg:linear"
   ]
  },
  {
   "cell_type": "markdown",
   "id": "05ab26d6",
   "metadata": {},
   "source": [
    "#### 3.3.3  Best parameters to **gamma**, **subsample** and **colsample_bytree**  <a class=\"anchor\" id=\"3.3.3\"></a> \n",
    "\n",
    "\n",
    "- subsample corresponds to the fraction of observations (the rows) to subsample at each step. By default it is set to 1 meaning that we use all rows.\n",
    "- colsample_bytree corresponds to the fraction of features (the columns) to use. By default it is set to 1 meaning that we will use all features.\n"
   ]
  },
  {
   "cell_type": "code",
   "execution_count": 91,
   "id": "44ccccec",
   "metadata": {},
   "outputs": [],
   "source": [
    "gridsearch_params_2 = [\n",
    "    (gamma,colsample_bytree,subsample)\n",
    "    for gamma in np.arange(0., 0.5, 0.1)\n",
    "    for colsample_bytree in [i/10. for i in range(7,11)]\n",
    "    for subsample in [i/10. for i in range(7,11)]\n",
    "]\n"
   ]
  },
  {
   "cell_type": "markdown",
   "id": "d81df263",
   "metadata": {},
   "source": [
    "## 4.  Create Surgeon-specific model <a class=\"anchor\" id=\"4\"></a> \n",
    "\n",
    "* #### 375 number of Surgeon-specific models"
   ]
  },
  {
   "cell_type": "code",
   "execution_count": 16,
   "id": "a23ca5c6",
   "metadata": {},
   "outputs": [],
   "source": [
    "Datasets_surgeon_96440008=Surgeons_Dataset['96440008']"
   ]
  },
  {
   "cell_type": "code",
   "execution_count": 17,
   "id": "2882bd64",
   "metadata": {},
   "outputs": [],
   "source": [
    "  \n",
    "Datasets_surgeon_96440008['TrainSet']['CUF_Unit']=Datasets_surgeon_96440008['TrainSet']['CUF_Unit'].astype('float')\n",
    "Datasets_surgeon_96440008['TrainSet']['Anesthesia']=Datasets_surgeon_96440008['TrainSet']['Anesthesia'].astype('float')\n",
    "Datasets_surgeon_96440008['TrainSet']['Speciality']=Datasets_surgeon_96440008['TrainSet']['Speciality'].astype('float')\n",
    "Datasets_surgeon_96440008['TrainSet']['I1']=Datasets_surgeon_96440008['TrainSet']['I1'].astype('float')\n",
    "Datasets_surgeon_96440008['TrainSet']['Month']=Datasets_surgeon_96440008['TrainSet']['Month'].astype('float')\n",
    "Datasets_surgeon_96440008['TrainSet']['Weekday']=Datasets_surgeon_96440008['TrainSet']['Weekday'].astype('float')\n",
    "Datasets_surgeon_96440008['TrainSet']['Procedures_I']=Datasets_surgeon_96440008['TrainSet']['Procedures_I'].astype('int64')\n",
    "Datasets_surgeon_96440008['TrainSet']['Daily Surgery Number_perDoctor']=Datasets_surgeon_96440008['TrainSet']['Daily Surgery Number_perDoctor'].astype('int64')\n",
    "Datasets_surgeon_96440008['TrainSet']['Surgery Number Performed_perDoctor']=Datasets_surgeon_96440008['TrainSet']['Surgery Number Performed_perDoctor'].astype('int64')\n",
    "\n",
    "\n",
    "Datasets_surgeon_96440008['TestSet']['Anesthesia']=Datasets_surgeon_96440008['TestSet']['Anesthesia'].astype('float')\n",
    "Datasets_surgeon_96440008['TestSet']['Speciality']=Datasets_surgeon_96440008['TestSet']['Speciality'].astype('float')\n",
    "Datasets_surgeon_96440008['TestSet']['CUF_Unit']=Datasets_surgeon_96440008['TestSet']['CUF_Unit'].astype('float')\n",
    "Datasets_surgeon_96440008['TestSet']['I1']=Datasets_surgeon_96440008['TestSet']['I1'].astype('float')\n",
    "Datasets_surgeon_96440008['TestSet']['Month']=Datasets_surgeon_96440008['TestSet']['Month'].astype('float')\n",
    "Datasets_surgeon_96440008['TestSet']['Weekday']=Datasets_surgeon_96440008['TestSet']['Weekday'].astype('float')\n",
    "Datasets_surgeon_96440008['TestSet']['Procedures_I']=Datasets_surgeon_96440008['TestSet']['Procedures_I'].astype('int64')\n",
    "Datasets_surgeon_96440008['TestSet']['Daily Surgery Number_perDoctor']=Datasets_surgeon_96440008['TestSet']['Daily Surgery Number_perDoctor'].astype('int64')\n",
    "Datasets_surgeon_96440008['TestSet']['Surgery Number Performed_perDoctor']=Datasets_surgeon_96440008['TestSet']['Surgery Number Performed_perDoctor'].astype('int64')\n",
    "    "
   ]
  },
  {
   "cell_type": "markdown",
   "id": "prerequisite-knock",
   "metadata": {},
   "source": [
    "* ### 4.2.  Split Data  <a class=\"anchor\" id=\"4.2\"></a> "
   ]
  },
  {
   "cell_type": "code",
   "execution_count": 18,
   "id": "5891c3f5",
   "metadata": {},
   "outputs": [],
   "source": [
    "#generate labellabel=pd.DataFrame(data['DUR_CIRURGIA_REAL'])\n",
    "y = {}\n",
    "X = {}\n",
    "X_without_label = {}\n",
    "\n",
    "y=Datasets_surgeon_96440008['TrainSet']['Real Room Duration']\n",
    "X=Datasets_surgeon_96440008['TrainSet']\n",
    "X_without_label=Datasets_surgeon_96440008['TrainSet'].drop(columns=['Real Room Duration'])\n",
    "X_without_label=Datasets_surgeon_96440008['TrainSet'].drop(columns=['CUF Planned Duration'])\n"
   ]
  },
  {
   "cell_type": "code",
   "execution_count": 19,
   "id": "25cce70c",
   "metadata": {},
   "outputs": [],
   "source": [
    "# Train and test split using sklearn\n",
    "def splittrain_test():\n",
    "    \n",
    "    X_train=Datasets_surgeon_96440008['TrainSet'].reset_index(drop=True)\n",
    "    X_test=Datasets_surgeon_96440008['TestSet'].reset_index(drop=True)\n",
    "    y_train=Datasets_surgeon_96440008['TrainSet']['Real Room Duration'].reset_index(drop=True)\n",
    "    y_test=Datasets_surgeon_96440008['TestSet']['Real Room Duration'].reset_index(drop=True)\n",
    "    \n",
    "    \n",
    "    #this is used to see later how accurate are predictions\n",
    "    X_train_planned=X_train['CUF Planned Duration'] \n",
    "    X_test_planned=X_test['CUF Planned Duration']\n",
    "\n",
    "\n",
    "    X_train=X_train.drop(columns=['CUF Planned Duration'])\n",
    "    X_test=X_test.drop(columns=['CUF Planned Duration'])\n",
    "    \n",
    "    X_train=X_train.drop(columns=['Real Room Duration'])\n",
    "    X_test=X_test.drop(columns=['Real Room Duration'])\n",
    "    \n",
    "    return X_train, X_test, y_train, y_test, X_train_planned,X_test_planned\n",
    "\n",
    "\n"
   ]
  },
  {
   "cell_type": "code",
   "execution_count": 20,
   "id": "common-crawford",
   "metadata": {},
   "outputs": [],
   "source": [
    "Splited_data_Surgeon={} #creation of dictionaries for all 24 models \n",
    "\n",
    "i=299\n",
    "\n",
    "Splited_data_Surgeon.update({list_surgeons[i]:{}})\n",
    "    \n"
   ]
  },
  {
   "cell_type": "code",
   "execution_count": 21,
   "id": "broad-shock",
   "metadata": {},
   "outputs": [],
   "source": [
    "\n",
    "\n",
    "split=splittrain_test()\n",
    "matrixes=Dmatrix(split)\n",
    "\n",
    "Splited_data_Surgeon['96440008'].update({\"Splitdataset\": [split[0],split[1],split[2],split[3],split[4],split[5] ]})\n",
    "Splited_data_Surgeon['96440008'].update({\"Dmatrixes\": [matrixes[0], matrixes[1]]})\n"
   ]
  },
  {
   "cell_type": "code",
   "execution_count": 22,
   "id": "262ca5ae",
   "metadata": {},
   "outputs": [],
   "source": [
    "Splited_data_Surgeon_categorical={} #creation of dictionaries for all 24 models \n",
    "\n",
    "i=299\n",
    "\n",
    "Splited_data_Surgeon_categorical.update({list_surgeons[i]:{}})\n",
    "    "
   ]
  },
  {
   "cell_type": "code",
   "execution_count": 23,
   "id": "4e58cb65",
   "metadata": {},
   "outputs": [],
   "source": [
    "# Train and test split using sklearn\n",
    "def splittrain_test_categorical():\n",
    "    \n",
    "    X_train=Datasets_surgeon_96440008['TrainSet'][Datasets_surgeon_96440008['TrainSet']['Real Room Duration']>45].reset_index(drop=True)\n",
    "    X_test=Datasets_surgeon_96440008['TestSet'][Datasets_surgeon_96440008['TestSet']['Real Room Duration']>45].reset_index(drop=True)\n",
    "    y_train=Datasets_surgeon_96440008['TrainSet'][Datasets_surgeon_96440008['TrainSet']['Real Room Duration']>45]['Real Room Duration'].reset_index(drop=True)\n",
    "    y_test=Datasets_surgeon_96440008['TestSet'][Datasets_surgeon_96440008['TestSet']['Real Room Duration']>45]['Real Room Duration'].reset_index(drop=True)\n",
    "    \n",
    "    \n",
    "    #this is used to see later how accurate are predictions\n",
    "    X_train_planned=X_train['CUF Planned Duration'] \n",
    "    X_test_planned=X_test['CUF Planned Duration']\n",
    "\n",
    "\n",
    "    X_train=X_train.drop(columns=['CUF Planned Duration'])\n",
    "    X_test=X_test.drop(columns=['CUF Planned Duration'])\n",
    "    \n",
    "    X_train=X_train.drop(columns=['Real Room Duration'])\n",
    "    X_test=X_test.drop(columns=['Real Room Duration'])\n",
    "    \n",
    "    return X_train, X_test, y_train, y_test, X_train_planned,X_test_planned\n"
   ]
  },
  {
   "cell_type": "code",
   "execution_count": 24,
   "id": "e84ab14d",
   "metadata": {},
   "outputs": [],
   "source": [
    "split=splittrain_test_categorical()\n",
    "matrixes=Dmatrix(split)\n",
    "\n",
    "Splited_data_Surgeon_categorical['96440008'].update({\"Splitdataset\": [split[0],split[1],split[2],split[3],split[4],split[5] ]})\n",
    "Splited_data_Surgeon_categorical['96440008'].update({\"Dmatrixes\": [matrixes[0], matrixes[1]]})\n"
   ]
  },
  {
   "cell_type": "markdown",
   "id": "7dedf073",
   "metadata": {},
   "source": [
    "----"
   ]
  },
  {
   "cell_type": "code",
   "execution_count": 27,
   "id": "8a9068f5",
   "metadata": {},
   "outputs": [],
   "source": [
    "#generate labellabel=pd.DataFrame(data['DUR_CIRURGIA_REAL'])\n",
    "y = {}\n",
    "X = {}\n",
    "X_without_label = {}\n",
    "\n",
    "y=df_train_surgeon['Real Room Duration']\n",
    "X=df_train_surgeon\n",
    "X_without_label=df_train_surgeon.drop(columns=['Real Room Duration'])\n"
   ]
  },
  {
   "cell_type": "code",
   "execution_count": 28,
   "id": "a7ef7208",
   "metadata": {},
   "outputs": [],
   "source": [
    "# Train and test split using sklearn\n",
    "def splittrain_test():\n",
    "    \n",
    "    X_train=df_train_surgeon.reset_index(drop=True)\n",
    "    X_test=df_test_surgeon.reset_index(drop=True)\n",
    "    y_train=df_train_surgeon['Real Room Duration'].reset_index(drop=True)\n",
    "    y_test=df_test_surgeon['Real Room Duration'].reset_index(drop=True)\n",
    "    \n",
    "    \n",
    "    #this is used to see later how accurate are predictions\n",
    "    X_train_planned=X_train['CUF Planned Duration'] \n",
    "    X_test_planned=X_test['CUF Planned Duration']\n",
    "\n",
    "\n",
    "    X_train=X_train.drop(columns=['CUF Planned Duration'])\n",
    "    X_test=X_test.drop(columns=['CUF Planned Duration'])\n",
    "    \n",
    "    X_train=X_train.drop(columns=['Real Room Duration'])\n",
    "    X_test=X_test.drop(columns=['Real Room Duration'])\n",
    "    \n",
    "    return X_train, X_test, y_train, y_test, X_train_planned,X_test_planned\n",
    "\n",
    "\n"
   ]
  },
  {
   "cell_type": "code",
   "execution_count": 29,
   "id": "4e93a303",
   "metadata": {},
   "outputs": [],
   "source": [
    "# Train and test split using sklearn\n",
    "def splittrain_test_categorical():\n",
    "    \n",
    "    X_train=df_train_surgeon[df_train_surgeon['Real Room Duration']>28].reset_index(drop=True)\n",
    "    X_test=df_test_surgeon[df_test_surgeon['Real Room Duration']>28].reset_index(drop=True)\n",
    "    y_train=df_train_surgeon[df_train_surgeon['Real Room Duration']>28]['Real Room Duration'].reset_index(drop=True)\n",
    "    y_test=df_test_surgeon[df_test_surgeon['Real Room Duration']>28]['Real Room Duration'].reset_index(drop=True)\n",
    "    \n",
    "    \n",
    "    #this is used to see later how accurate are predictions\n",
    "    X_train_planned=X_train['CUF Planned Duration'] \n",
    "    X_test_planned=X_test['CUF Planned Duration']\n",
    "\n",
    "\n",
    "    X_train=X_train.drop(columns=['CUF Planned Duration'])\n",
    "    X_test=X_test.drop(columns=['CUF Planned Duration'])\n",
    "    \n",
    "    X_train=X_train.drop(columns=['Real Room Duration'])\n",
    "    X_test=X_test.drop(columns=['Real Room Duration'])\n",
    "    \n",
    "    return X_train, X_test, y_train, y_test, X_train_planned,X_test_planned"
   ]
  },
  {
   "cell_type": "code",
   "execution_count": 30,
   "id": "4d9a32cc",
   "metadata": {},
   "outputs": [],
   "source": [
    "Splited_data_Surgeon={} #creation of dictionaries for all 24 models \n",
    "\n",
    "i=299\n",
    "\n",
    "Splited_data_Surgeon.update({list_surgeons[i]:{}})\n",
    "    "
   ]
  },
  {
   "cell_type": "code",
   "execution_count": 31,
   "id": "29510d1f",
   "metadata": {},
   "outputs": [],
   "source": [
    "Splited_data_Surgeon_categorical={} #creation of dictionaries for all 24 models \n",
    "\n",
    "i=299\n",
    "\n",
    "Splited_data_Surgeon_categorical.update({list_surgeons[i]:{}})\n",
    "   "
   ]
  },
  {
   "cell_type": "code",
   "execution_count": 32,
   "id": "b9cc0cd9",
   "metadata": {},
   "outputs": [],
   "source": [
    "\n",
    "\n",
    "split=splittrain_test()\n",
    "matrixes=Dmatrix(split)\n",
    "\n",
    "Splited_data_Surgeon['96440008'].update({\"Splitdataset\": [split[0],split[1],split[2],split[3],split[4],split[5] ]})\n",
    "Splited_data_Surgeon['96440008'].update({\"Dmatrixes\": [matrixes[0], matrixes[1]]})\n"
   ]
  },
  {
   "cell_type": "code",
   "execution_count": 33,
   "id": "6e207e1d",
   "metadata": {},
   "outputs": [],
   "source": [
    "split=splittrain_test_categorical()\n",
    "matrixes=Dmatrix(split)\n",
    "\n",
    "Splited_data_Surgeon_categorical['96440008'].update({\"Splitdataset\": [split[0],split[1],split[2],split[3],split[4],split[5] ]})\n",
    "Splited_data_Surgeon_categorical['96440008'].update({\"Dmatrixes\": [matrixes[0], matrixes[1]]})\n"
   ]
  },
  {
   "cell_type": "markdown",
   "id": "thousand-laugh",
   "metadata": {},
   "source": [
    "* ### 4.3.  Setting the optimal hyperparameters of ML model  <a class=\"anchor\" id=\"4.3\"></a> "
   ]
  },
  {
   "cell_type": "markdown",
   "id": "mexican-fourth",
   "metadata": {},
   "source": [
    "#### 4.3.1  Best parameters to **max_depth** and **min_child_weight**  <a class=\"anchor\" id=\"4.3.1\"></a> "
   ]
  },
  {
   "cell_type": "code",
   "execution_count": 111,
   "id": "corrected-insulin",
   "metadata": {},
   "outputs": [],
   "source": [
    "# Define initial best params and MAPE\n",
    "def best_parameters1(i):\n",
    "    \n",
    "    gridsearch_params = [\n",
    "        (max_depth, min_child_weight)\n",
    "        for max_depth in range(i,i+1)\n",
    "        for min_child_weight in range(1,8)\n",
    "    ]\n",
    "    \n",
    "    min_mape = float(\"Inf\")\n",
    "    best_params = None\n",
    "    for max_depth, min_child_weight in gridsearch_params:\n",
    "        \n",
    "    #print(\"CV with max_depth={}, min_child_weight={}, eta={}, gamma={}, colsample_bytree={},subsample={}\".format(max_depth,min_child_weight,eta,gamma,colsample_bytree,subsample))\n",
    "    # Update our parameters\n",
    "        params['max_depth'] = max_depth\n",
    "        params['min_child_weight'] = min_child_weight\n",
    "    \n",
    "    # Run CV\n",
    "        cv_results = xgb.cv(\n",
    "            params,\n",
    "            Splited_data_Surgeon['96440008'][\"Dmatrixes\"][0],\n",
    "            num_boost_round=num_boost_round,\n",
    "            seed=42,\n",
    "            nfold=5,\n",
    "            feval = xgb_within_mape, #if we want to costumize our Evaluation Metric\n",
    "        \n",
    "            #if I want to use both metrics\n",
    "            #feval = lambda preds, D_train: [xgb_within(preds, D_train), xgb_mape(preds, D_train)],\n",
    "            maximize=False,\n",
    "            early_stopping_rounds=10\n",
    "        )\n",
    "    # Update best MAPE\n",
    "    #mean_within = cv_results['test-within-mean'].min()\n",
    "    #boost_rounds_within = cv_results['test-within-mean'].argmin()\n",
    "        mean_mape = cv_results['test-within_mape-mean'].min()\n",
    "        boost_rounds = cv_results['test-within_mape-mean'].argmin()\n",
    "    \n",
    "        mean_total=mean_mape\n",
    "    #mean_total=mean_within+mean_mape\n",
    "    #print(\"\\tMAE {} for {} rounds\".format(mean_mae, boost_rounds))\n",
    "        if mean_total < min_mape:\n",
    "            min_mape = mean_total\n",
    "            best_params = (max_depth,min_child_weight)\n",
    "        \n",
    "    \n",
    "    print(\"Best params {} : max_depth: {}, min_child_weight: {} MAPE: {}\".format(i,best_params[0], best_params[1], min_mape))\n",
    "    return best_params"
   ]
  },
  {
   "cell_type": "markdown",
   "id": "modified-quarter",
   "metadata": {},
   "source": [
    "#### 4.3.2  Best parameters to gamma,colsample_bytree and subsample tune <a class=\"anchor\" id=\"4.3.2\"></a> \n"
   ]
  },
  {
   "cell_type": "code",
   "execution_count": 112,
   "id": "oriented-gossip",
   "metadata": {},
   "outputs": [],
   "source": [
    "# Define initial best params and MAPE\n",
    "def best_parameters2():\n",
    "    min_mape = float(\"Inf\")\n",
    "    best_params_2 = None\n",
    "    for gamma,colsample_bytree,subsample in gridsearch_params_2:\n",
    "    #print(\"CV with max_depth={}, min_child_weight={}, eta={}, gamma={}, colsample_bytree={},subsample={}\".format(max_depth,min_child_weight,eta,gamma,colsample_bytree,subsample))\n",
    "    # Update our parameters\n",
    "        params['gamma'] = gamma\n",
    "        params['colsample_bytree'] = colsample_bytree\n",
    "        params['subsample'] = subsample\n",
    "    \n",
    "    # Run CV\n",
    "        cv_results = xgb.cv(\n",
    "            params,\n",
    "            Splited_data_Surgeon['96440008'][\"Dmatrixes\"][0],\n",
    "            num_boost_round=num_boost_round,\n",
    "            seed=42,\n",
    "            nfold=5,\n",
    "            feval = xgb_within_mape,\n",
    "        #feval = lambda preds, D_train: [xgb_within(preds, D_train), xgb_mape(preds, D_train)],\n",
    "            maximize=False,\n",
    "            early_stopping_rounds=10\n",
    "        )\n",
    "        # Update best MAPE and Within\n",
    "\n",
    "        #mean_within = cv_results['test-within-mean'].min()\n",
    "        #boost_rounds_within = cv_results['test-within-mean'].argmin()\n",
    "        mean_mape = cv_results['test-within_mape-mean'].min()\n",
    "        boost_rounds = cv_results['test-within_mape-mean'].argmin()\n",
    "\n",
    "        mean_total=mean_mape\n",
    "        #mean_total=mean_within+mean_mape #minimize the total mape and \n",
    "        #print(\"\\tMAE {} for {} rounds\".format(mean_mae, boost_rounds))\n",
    "        if mean_total < min_mape:\n",
    "            min_mape = mean_total\n",
    "            best_params_2 = (gamma,colsample_bytree,subsample)\n",
    "    print(\"Best params: gamma: {},colsample_bytree: {},subsample: {} MAPE: {}\".format(best_params_2[0], best_params_2[1],best_params_2[2], min_mape))\n",
    "    return best_params_2"
   ]
  },
  {
   "cell_type": "markdown",
   "id": "sustained-sydney",
   "metadata": {},
   "source": [
    "#### 4.3.3  Best parameters to eta <a class=\"anchor\" id=\"4.3.3\"></a> \n"
   ]
  },
  {
   "cell_type": "code",
   "execution_count": 113,
   "id": "organized-valve",
   "metadata": {},
   "outputs": [],
   "source": [
    "#Best parameter to eta\n",
    "# This can take some time…\n",
    "def best_parameters3():\n",
    "    min_mape = float(\"Inf\")\n",
    "    best_params_eta = None\n",
    "    for eta in np.arange(0.01, 0.35, 0.005):\n",
    "        #print(\"CV with eta={}\".format(eta))\n",
    "        # We update our parameters\n",
    "        params['eta'] = eta\n",
    "        # Run CV\n",
    "        cv_results = xgb.cv(\n",
    "                params,\n",
    "                Splited_data_Surgeon['96440008'][\"Dmatrixes\"][0],\n",
    "                num_boost_round=num_boost_round,\n",
    "                seed=42,\n",
    "                nfold=5,\n",
    "                feval = xgb_within_mape,\n",
    "                #feval = lambda preds, D_train: [xgb_within(preds, D_train), xgb_mape(preds, D_train)],\n",
    "                maximize=False,\n",
    "                early_stopping_rounds=10\n",
    "              )\n",
    "        # Update best score\n",
    "\n",
    "        #mean_within = cv_results['test-within-mean'].min()\n",
    "        #boost_rounds_within = cv_results['test-within-mean'].argmin()\n",
    "        mean_mape = cv_results['test-within_mape-mean'].min()\n",
    "        boost_rounds = cv_results['test-within_mape-mean'].argmin()\n",
    "\n",
    "        mean_total=mean_mape\n",
    "        #mean_total=mean_within+mean_mape #minimize the total mape and within\n",
    "        #print(\"\\tMAE {} for {} rounds\\n\".format(mean_mae, boost_rounds))\n",
    "        if mean_total < min_mape:\n",
    "            min_mape = mean_total\n",
    "            best_params_eta = eta\n",
    "    print(\"Best params: {}, MAPE: {}\".format(best_params_eta, min_mape))\n",
    "    return best_params_eta\n"
   ]
  },
  {
   "cell_type": "markdown",
   "id": "allied-slovenia",
   "metadata": {},
   "source": [
    "* ### 4.4.  Set Parameters of our gradient boosting ensemble  <a class=\"anchor\" id=\"4.4\"></a> "
   ]
  },
  {
   "cell_type": "markdown",
   "id": "cutting-geography",
   "metadata": {},
   "source": [
    "I used the same funtions created in 3.4."
   ]
  },
  {
   "cell_type": "code",
   "execution_count": 114,
   "id": "center-confidence",
   "metadata": {},
   "outputs": [],
   "source": [
    "def set_parameters(i):\n",
    "    best1=best_parameters1(i)\n",
    "    best2=best_parameters2()\n",
    "    best3=best_parameters3()\n",
    "    params = {\n",
    "        # Parameters that we are going to tune.\n",
    "        'max_depth':best1[0],\n",
    "        'min_child_weight': best1[1],\n",
    "        'eta':best3,\n",
    "        'colsample_bytree': best2[1],\n",
    "        'subsample': best2[2],\n",
    "        'gamma': best2[0],\n",
    "        # Other parameters \n",
    "        'objective':'reg:squarederror', # regression MSE\n",
    "        #the parameter disable_default_eval_metric is used to suppress the default metric in XGBoost.\n",
    "        'disable_default_eval_metric': 1\n",
    "    }\n",
    "\n",
    "    #params['eval_metric'] = \"mape\"\n",
    "    num_boost_round = 999\n",
    "    return params"
   ]
  },
  {
   "cell_type": "code",
   "execution_count": 115,
   "id": "70899b4f",
   "metadata": {},
   "outputs": [],
   "source": [
    "num_boost_round = 999"
   ]
  },
  {
   "cell_type": "markdown",
   "id": "configured-hunger",
   "metadata": {},
   "source": [
    "* ### 4.5.  Training  <a class=\"anchor\" id=\"4.5\"></a> "
   ]
  },
  {
   "cell_type": "code",
   "execution_count": 116,
   "id": "provincial-johnson",
   "metadata": {},
   "outputs": [],
   "source": [
    "def training_with_early_stopping_rounds(i):\n",
    "    parameters=set_parameters(i)\n",
    "    model = xgb.train(\n",
    "        parameters,\n",
    "        Splited_data_Surgeon['96440008'][\"Dmatrixes\"][0],\n",
    "        num_boost_round=num_boost_round,\n",
    "        evals=[(Splited_data_Surgeon['96440008'][\"Dmatrixes\"][1], \"Test\")],\n",
    "        early_stopping_rounds=10,\n",
    "        feval = xgb_within_mape,\n",
    "        #feval = lambda preds, D_train: [xgb_within(preds, D_train), xgb_mape(preds, D_train)],\n",
    "        maximize=False\n",
    "    )\n",
    "\n",
    "\n",
    "    #print(\"Best MAPE: {:.2f} in {} rounds\".format(model.best_score, model.best_iteration+1))\n",
    "    return model.best_score,model.best_iteration+1,parameters\n"
   ]
  },
  {
   "cell_type": "code",
   "execution_count": 117,
   "id": "gentle-usage",
   "metadata": {},
   "outputs": [],
   "source": [
    "#remove early_stopping_rounds=10 to find best model\n",
    "\n",
    "#num_boost_round = model.best_iteration + 1\n",
    "\n",
    "def training_without_early_stopping_rounds(i):\n",
    "    train_without=training_with_early_stopping_rounds(i)\n",
    "    num_boost_round=train_without[1]\n",
    "\n",
    "    best_model = xgb.train(\n",
    "        train_without[2],\n",
    "        Splited_data_Surgeon['96440008'][\"Dmatrixes\"][0],\n",
    "        num_boost_round=num_boost_round,\n",
    "        evals=[(Splited_data_Surgeon['96440008'][\"Dmatrixes\"][1], \"Test\")],\n",
    "        feval = xgb_within_mape,\n",
    "        #feval = lambda preds, D_train: [xgb_within(preds, D_train), xgb_mape(preds, D_train)],\n",
    "        maximize=False\n",
    "    )\n",
    "\n",
    "\n",
    "    return train_without[2],best_model\n",
    "\n"
   ]
  },
  {
   "cell_type": "markdown",
   "id": "b5660603",
   "metadata": {},
   "source": [
    "\n",
    "* ### 4.6.  Save Model  <a class=\"anchor\" id=\"4.6\"></a> \n"
   ]
  },
  {
   "cell_type": "code",
   "execution_count": 118,
   "id": "5dfd359e",
   "metadata": {},
   "outputs": [],
   "source": [
    "def save_model_Surgeon(i):\n",
    "    pos_training=training_without_early_stopping_rounds(i)\n",
    "    best_model=pos_training[1]\n",
    "    parameters=pos_training[0]\n",
    "    \n",
    "    name=\"Surgeon_96440008_depth{}.model\".format(i)\n",
    "    best_model.save_model(name)\n",
    "    \n",
    "    return best_model,parameters,name"
   ]
  },
  {
   "cell_type": "code",
   "execution_count": 119,
   "id": "israeli-jonathan",
   "metadata": {},
   "outputs": [],
   "source": [
    "Dictionary_Surgeon_models={} #creation of dictionaries for all 24 models \n",
    "\n",
    "for j in range(1,10):\n",
    "    Dictionary_Surgeon_models.update({j:{}})\n",
    "\n",
    "#this_dict = {}this_dict = {}"
   ]
  },
  {
   "cell_type": "code",
   "execution_count": 120,
   "id": "younger-vector",
   "metadata": {},
   "outputs": [
    {
     "name": "stdout",
     "output_type": "stream",
     "text": [
      "Best params 1 : max_depth: 1, min_child_weight: 1 MAPE: 0.0289472\n",
      "Best params: gamma: 0.0,colsample_bytree: 0.8,subsample: 1.0 MAPE: 0.017415999999999997\n",
      "Best params: 0.05499999999999999, MAPE: 0.0026339999999999996\n",
      "[0]\tTest-within_mape:0.91061\n",
      "[1]\tTest-within_mape:0.84841\n",
      "[2]\tTest-within_mape:0.78976\n",
      "[3]\tTest-within_mape:0.73412\n",
      "[4]\tTest-within_mape:0.68135\n",
      "[5]\tTest-within_mape:0.63175\n",
      "[6]\tTest-within_mape:0.57241\n",
      "[7]\tTest-within_mape:0.52933\n",
      "[8]\tTest-within_mape:0.46492\n",
      "[9]\tTest-within_mape:0.39048\n",
      "[10]\tTest-within_mape:0.35487\n",
      "[11]\tTest-within_mape:0.33950\n",
      "[12]\tTest-within_mape:0.33695\n",
      "[13]\tTest-within_mape:0.30599\n",
      "[14]\tTest-within_mape:0.28731\n",
      "[15]\tTest-within_mape:0.22438\n",
      "[16]\tTest-within_mape:0.20165\n",
      "[17]\tTest-within_mape:0.15205\n",
      "[18]\tTest-within_mape:0.12134\n",
      "[19]\tTest-within_mape:0.09460\n",
      "[20]\tTest-within_mape:0.09340\n",
      "[21]\tTest-within_mape:0.02653\n",
      "[22]\tTest-within_mape:0.08045\n",
      "[23]\tTest-within_mape:0.07724\n",
      "[24]\tTest-within_mape:0.03147\n",
      "[25]\tTest-within_mape:0.08726\n",
      "[26]\tTest-within_mape:0.09227\n",
      "[27]\tTest-within_mape:-0.02157\n",
      "[28]\tTest-within_mape:-0.02696\n",
      "[29]\tTest-within_mape:-0.02608\n",
      "[30]\tTest-within_mape:0.00660\n",
      "[31]\tTest-within_mape:-0.02399\n",
      "[32]\tTest-within_mape:-0.01593\n",
      "[33]\tTest-within_mape:-0.01429\n",
      "[34]\tTest-within_mape:-0.01907\n",
      "[35]\tTest-within_mape:-0.01770\n",
      "[36]\tTest-within_mape:0.01531\n",
      "[37]\tTest-within_mape:0.02320\n",
      "[0]\tTest-within_mape:0.91061\n",
      "[1]\tTest-within_mape:0.84841\n",
      "[2]\tTest-within_mape:0.78976\n",
      "[3]\tTest-within_mape:0.73412\n",
      "[4]\tTest-within_mape:0.68135\n",
      "[5]\tTest-within_mape:0.63175\n",
      "[6]\tTest-within_mape:0.57241\n",
      "[7]\tTest-within_mape:0.52933\n",
      "[8]\tTest-within_mape:0.46492\n",
      "[9]\tTest-within_mape:0.39048\n",
      "[10]\tTest-within_mape:0.35487\n",
      "[11]\tTest-within_mape:0.33950\n",
      "[12]\tTest-within_mape:0.33695\n",
      "[13]\tTest-within_mape:0.30599\n",
      "[14]\tTest-within_mape:0.28731\n",
      "[15]\tTest-within_mape:0.22438\n",
      "[16]\tTest-within_mape:0.20165\n",
      "[17]\tTest-within_mape:0.15205\n",
      "[18]\tTest-within_mape:0.12134\n",
      "[19]\tTest-within_mape:0.09460\n",
      "[20]\tTest-within_mape:0.09340\n",
      "[21]\tTest-within_mape:0.02653\n",
      "[22]\tTest-within_mape:0.08045\n",
      "[23]\tTest-within_mape:0.07724\n",
      "[24]\tTest-within_mape:0.03147\n",
      "[25]\tTest-within_mape:0.08726\n",
      "[26]\tTest-within_mape:0.09227\n",
      "[27]\tTest-within_mape:-0.02157\n",
      "[28]\tTest-within_mape:-0.02696\n",
      "Best params 3 : max_depth: 3, min_child_weight: 1 MAPE: 0.008369000000000001\n",
      "Best params: gamma: 0.0,colsample_bytree: 0.9,subsample: 0.8 MAPE: 0.0034023999999999973\n",
      "Best params: 0.015, MAPE: -0.005016400000000002\n",
      "[0]\tTest-within_mape:0.95896\n",
      "[1]\tTest-within_mape:0.94169\n",
      "[2]\tTest-within_mape:0.92451\n",
      "[3]\tTest-within_mape:0.90769\n",
      "[4]\tTest-within_mape:0.89131\n",
      "[5]\tTest-within_mape:0.87492\n",
      "[6]\tTest-within_mape:0.85886\n",
      "[7]\tTest-within_mape:0.84330\n",
      "[8]\tTest-within_mape:0.82778\n",
      "[9]\tTest-within_mape:0.81270\n",
      "[10]\tTest-within_mape:0.79761\n",
      "[11]\tTest-within_mape:0.78295\n",
      "[12]\tTest-within_mape:0.76834\n",
      "[13]\tTest-within_mape:0.75388\n",
      "[14]\tTest-within_mape:0.73958\n",
      "[15]\tTest-within_mape:0.72573\n",
      "[16]\tTest-within_mape:0.71222\n",
      "[17]\tTest-within_mape:0.69899\n",
      "[18]\tTest-within_mape:0.68564\n",
      "[19]\tTest-within_mape:0.67267\n",
      "[20]\tTest-within_mape:0.65967\n",
      "[21]\tTest-within_mape:0.64706\n",
      "[22]\tTest-within_mape:0.62838\n",
      "[23]\tTest-within_mape:0.61642\n",
      "[24]\tTest-within_mape:0.60429\n",
      "[25]\tTest-within_mape:0.59222\n",
      "[26]\tTest-within_mape:0.58078\n",
      "[27]\tTest-within_mape:0.56954\n",
      "[28]\tTest-within_mape:0.55868\n",
      "[29]\tTest-within_mape:0.54767\n",
      "[30]\tTest-within_mape:0.53679\n",
      "[31]\tTest-within_mape:0.52625\n",
      "[32]\tTest-within_mape:0.51606\n",
      "[33]\tTest-within_mape:0.49303\n",
      "[34]\tTest-within_mape:0.47650\n",
      "[35]\tTest-within_mape:0.46671\n",
      "[36]\tTest-within_mape:0.45089\n",
      "[37]\tTest-within_mape:0.44167\n",
      "[38]\tTest-within_mape:0.42024\n",
      "[39]\tTest-within_mape:0.41175\n",
      "[40]\tTest-within_mape:0.40983\n",
      "[41]\tTest-within_mape:0.39538\n",
      "[42]\tTest-within_mape:0.38672\n",
      "[43]\tTest-within_mape:0.36008\n",
      "[44]\tTest-within_mape:0.35872\n",
      "[45]\tTest-within_mape:0.35792\n",
      "[46]\tTest-within_mape:0.34464\n",
      "[47]\tTest-within_mape:0.33138\n",
      "[48]\tTest-within_mape:0.33080\n",
      "[49]\tTest-within_mape:0.31145\n",
      "[50]\tTest-within_mape:0.30517\n",
      "[51]\tTest-within_mape:0.29254\n",
      "[52]\tTest-within_mape:0.29311\n",
      "[53]\tTest-within_mape:0.29391\n",
      "[54]\tTest-within_mape:0.28209\n",
      "[55]\tTest-within_mape:0.27696\n",
      "[56]\tTest-within_mape:0.25291\n",
      "[57]\tTest-within_mape:0.24171\n",
      "[58]\tTest-within_mape:0.24333\n",
      "[59]\tTest-within_mape:0.21349\n",
      "[60]\tTest-within_mape:0.22158\n",
      "[61]\tTest-within_mape:0.19826\n",
      "[62]\tTest-within_mape:0.16864\n",
      "[63]\tTest-within_mape:0.16430\n",
      "[64]\tTest-within_mape:0.14742\n",
      "[65]\tTest-within_mape:0.14330\n",
      "[66]\tTest-within_mape:0.13316\n",
      "[67]\tTest-within_mape:0.12967\n",
      "[68]\tTest-within_mape:0.12614\n",
      "[69]\tTest-within_mape:0.12936\n",
      "[70]\tTest-within_mape:0.11341\n",
      "[71]\tTest-within_mape:0.11024\n",
      "[72]\tTest-within_mape:0.08847\n",
      "[73]\tTest-within_mape:0.08582\n",
      "[74]\tTest-within_mape:0.07093\n",
      "[75]\tTest-within_mape:0.06251\n",
      "[76]\tTest-within_mape:0.06042\n",
      "[77]\tTest-within_mape:0.05224\n",
      "[78]\tTest-within_mape:0.03158\n",
      "[79]\tTest-within_mape:0.04274\n",
      "[80]\tTest-within_mape:0.04120\n",
      "[81]\tTest-within_mape:0.03380\n",
      "[82]\tTest-within_mape:0.04522\n",
      "[83]\tTest-within_mape:0.04379\n",
      "[84]\tTest-within_mape:0.04883\n",
      "[85]\tTest-within_mape:0.06678\n",
      "[86]\tTest-within_mape:0.07835\n",
      "[87]\tTest-within_mape:0.07083\n",
      "[88]\tTest-within_mape:0.06328\n",
      "[0]\tTest-within_mape:0.95896\n",
      "[1]\tTest-within_mape:0.94169\n",
      "[2]\tTest-within_mape:0.92451\n",
      "[3]\tTest-within_mape:0.90769\n",
      "[4]\tTest-within_mape:0.89131\n",
      "[5]\tTest-within_mape:0.87492\n",
      "[6]\tTest-within_mape:0.85886\n",
      "[7]\tTest-within_mape:0.84330\n",
      "[8]\tTest-within_mape:0.82778\n",
      "[9]\tTest-within_mape:0.81270\n",
      "[10]\tTest-within_mape:0.79761\n",
      "[11]\tTest-within_mape:0.78295\n",
      "[12]\tTest-within_mape:0.76834\n",
      "[13]\tTest-within_mape:0.75388\n",
      "[14]\tTest-within_mape:0.73958\n",
      "[15]\tTest-within_mape:0.72573\n",
      "[16]\tTest-within_mape:0.71222\n",
      "[17]\tTest-within_mape:0.69899\n",
      "[18]\tTest-within_mape:0.68564\n",
      "[19]\tTest-within_mape:0.67267\n",
      "[20]\tTest-within_mape:0.65967\n",
      "[21]\tTest-within_mape:0.64706\n",
      "[22]\tTest-within_mape:0.62838\n",
      "[23]\tTest-within_mape:0.61642\n",
      "[24]\tTest-within_mape:0.60429\n",
      "[25]\tTest-within_mape:0.59222\n",
      "[26]\tTest-within_mape:0.58078\n",
      "[27]\tTest-within_mape:0.56954\n",
      "[28]\tTest-within_mape:0.55868\n",
      "[29]\tTest-within_mape:0.54767\n",
      "[30]\tTest-within_mape:0.53679\n",
      "[31]\tTest-within_mape:0.52625\n",
      "[32]\tTest-within_mape:0.51606\n",
      "[33]\tTest-within_mape:0.49303\n",
      "[34]\tTest-within_mape:0.47650\n",
      "[35]\tTest-within_mape:0.46671\n",
      "[36]\tTest-within_mape:0.45089\n",
      "[37]\tTest-within_mape:0.44167\n",
      "[38]\tTest-within_mape:0.42024\n",
      "[39]\tTest-within_mape:0.41175\n",
      "[40]\tTest-within_mape:0.40983\n",
      "[41]\tTest-within_mape:0.39538\n",
      "[42]\tTest-within_mape:0.38672\n",
      "[43]\tTest-within_mape:0.36008\n",
      "[44]\tTest-within_mape:0.35872\n",
      "[45]\tTest-within_mape:0.35792\n",
      "[46]\tTest-within_mape:0.34464\n",
      "[47]\tTest-within_mape:0.33138\n",
      "[48]\tTest-within_mape:0.33080\n",
      "[49]\tTest-within_mape:0.31145\n",
      "[50]\tTest-within_mape:0.30517\n",
      "[51]\tTest-within_mape:0.29254\n",
      "[52]\tTest-within_mape:0.29311\n",
      "[53]\tTest-within_mape:0.29391\n",
      "[54]\tTest-within_mape:0.28209\n",
      "[55]\tTest-within_mape:0.27696\n",
      "[56]\tTest-within_mape:0.25291\n",
      "[57]\tTest-within_mape:0.24171\n",
      "[58]\tTest-within_mape:0.24333\n",
      "[59]\tTest-within_mape:0.21349\n",
      "[60]\tTest-within_mape:0.22158\n",
      "[61]\tTest-within_mape:0.19826\n",
      "[62]\tTest-within_mape:0.16864\n",
      "[63]\tTest-within_mape:0.16430\n",
      "[64]\tTest-within_mape:0.14742\n",
      "[65]\tTest-within_mape:0.14330\n",
      "[66]\tTest-within_mape:0.13316\n",
      "[67]\tTest-within_mape:0.12967\n",
      "[68]\tTest-within_mape:0.12614\n",
      "[69]\tTest-within_mape:0.12936\n",
      "[70]\tTest-within_mape:0.11341\n",
      "[71]\tTest-within_mape:0.11024\n",
      "[72]\tTest-within_mape:0.08847\n",
      "[73]\tTest-within_mape:0.08582\n",
      "[74]\tTest-within_mape:0.07093\n",
      "[75]\tTest-within_mape:0.06251\n",
      "[76]\tTest-within_mape:0.06042\n",
      "[77]\tTest-within_mape:0.05224\n",
      "[78]\tTest-within_mape:0.03158\n",
      "Best params 5 : max_depth: 5, min_child_weight: 4 MAPE: 0.0081162\n",
      "Best params: gamma: 0.0,colsample_bytree: 0.9,subsample: 0.9 MAPE: 0.0001529999999999976\n",
      "Best params: 0.27499999999999997, MAPE: -0.0010811999999999987\n",
      "[0]\tTest-within_mape:0.66158\n",
      "[1]\tTest-within_mape:0.39942\n",
      "[2]\tTest-within_mape:0.18616\n",
      "[3]\tTest-within_mape:0.08172\n",
      "[4]\tTest-within_mape:0.03190\n",
      "[5]\tTest-within_mape:-0.04080\n",
      "[6]\tTest-within_mape:-0.03173\n",
      "[7]\tTest-within_mape:-0.02159\n",
      "[8]\tTest-within_mape:-0.01700\n",
      "[9]\tTest-within_mape:-0.03090\n",
      "[10]\tTest-within_mape:0.01149\n",
      "[11]\tTest-within_mape:0.02953\n",
      "[12]\tTest-within_mape:0.03967\n",
      "[13]\tTest-within_mape:0.04503\n",
      "[14]\tTest-within_mape:0.04052\n",
      "[0]\tTest-within_mape:0.66158\n",
      "[1]\tTest-within_mape:0.39942\n",
      "[2]\tTest-within_mape:0.18616\n"
     ]
    },
    {
     "name": "stdout",
     "output_type": "stream",
     "text": [
      "[3]\tTest-within_mape:0.08172\n",
      "[4]\tTest-within_mape:0.03190\n",
      "[5]\tTest-within_mape:-0.04080\n",
      "Best params 7 : max_depth: 7, min_child_weight: 4 MAPE: 0.003080999999999999\n",
      "Best params: gamma: 0.0,colsample_bytree: 0.9,subsample: 0.9 MAPE: -0.0009998000000000008\n",
      "Best params: 0.11999999999999998, MAPE: -0.005619000000000002\n",
      "[0]\tTest-within_mape:0.83799\n",
      "[1]\tTest-within_mape:0.71640\n",
      "[2]\tTest-within_mape:0.61175\n",
      "[3]\tTest-within_mape:0.51396\n",
      "[4]\tTest-within_mape:0.41448\n",
      "[5]\tTest-within_mape:0.30819\n",
      "[6]\tTest-within_mape:0.25000\n",
      "[7]\tTest-within_mape:0.14517\n",
      "[8]\tTest-within_mape:0.08213\n",
      "[9]\tTest-within_mape:0.07592\n",
      "[10]\tTest-within_mape:0.05769\n",
      "[11]\tTest-within_mape:0.00811\n",
      "[12]\tTest-within_mape:0.02549\n",
      "[13]\tTest-within_mape:-0.00077\n",
      "[14]\tTest-within_mape:-0.01121\n",
      "[15]\tTest-within_mape:-0.06770\n",
      "[16]\tTest-within_mape:-0.07295\n",
      "[17]\tTest-within_mape:-0.07308\n",
      "[18]\tTest-within_mape:-0.08866\n",
      "[19]\tTest-within_mape:-0.06997\n",
      "[20]\tTest-within_mape:-0.05185\n",
      "[21]\tTest-within_mape:-0.04011\n",
      "[22]\tTest-within_mape:-0.02329\n",
      "[23]\tTest-within_mape:-0.00144\n",
      "[24]\tTest-within_mape:0.00089\n",
      "[25]\tTest-within_mape:0.01003\n",
      "[26]\tTest-within_mape:0.03853\n",
      "[27]\tTest-within_mape:0.02168\n",
      "[0]\tTest-within_mape:0.83799\n",
      "[1]\tTest-within_mape:0.71640\n",
      "[2]\tTest-within_mape:0.61175\n",
      "[3]\tTest-within_mape:0.51396\n",
      "[4]\tTest-within_mape:0.41448\n",
      "[5]\tTest-within_mape:0.30819\n",
      "[6]\tTest-within_mape:0.25000\n",
      "[7]\tTest-within_mape:0.14517\n",
      "[8]\tTest-within_mape:0.08213\n",
      "[9]\tTest-within_mape:0.07592\n",
      "[10]\tTest-within_mape:0.05769\n",
      "[11]\tTest-within_mape:0.00811\n",
      "[12]\tTest-within_mape:0.02549\n",
      "[13]\tTest-within_mape:-0.00077\n",
      "[14]\tTest-within_mape:-0.01121\n",
      "[15]\tTest-within_mape:-0.06770\n",
      "[16]\tTest-within_mape:-0.07295\n",
      "[17]\tTest-within_mape:-0.07308\n",
      "[18]\tTest-within_mape:-0.08866\n",
      "Best params 9 : max_depth: 9, min_child_weight: 4 MAPE: 0.0164562\n",
      "Best params: gamma: 0.0,colsample_bytree: 1.0,subsample: 0.8 MAPE: 0.003378199999999999\n",
      "Best params: 0.12999999999999998, MAPE: -0.005151999999999999\n",
      "[0]\tTest-within_mape:0.82737\n",
      "[1]\tTest-within_mape:0.69915\n",
      "[2]\tTest-within_mape:0.58962\n",
      "[3]\tTest-within_mape:0.48274\n",
      "[4]\tTest-within_mape:0.37623\n",
      "[5]\tTest-within_mape:0.29002\n",
      "[6]\tTest-within_mape:0.16901\n",
      "[7]\tTest-within_mape:0.09454\n",
      "[8]\tTest-within_mape:0.07707\n",
      "[9]\tTest-within_mape:0.10908\n",
      "[10]\tTest-within_mape:0.02329\n",
      "[11]\tTest-within_mape:0.01699\n",
      "[12]\tTest-within_mape:0.01703\n",
      "[13]\tTest-within_mape:0.00568\n",
      "[14]\tTest-within_mape:-0.00955\n",
      "[15]\tTest-within_mape:-0.00121\n",
      "[16]\tTest-within_mape:0.04904\n",
      "[17]\tTest-within_mape:0.03498\n",
      "[18]\tTest-within_mape:0.00753\n",
      "[19]\tTest-within_mape:0.00329\n",
      "[20]\tTest-within_mape:0.02047\n",
      "[21]\tTest-within_mape:0.03791\n",
      "[22]\tTest-within_mape:0.04250\n",
      "[23]\tTest-within_mape:0.04435\n",
      "[24]\tTest-within_mape:0.04748\n",
      "[0]\tTest-within_mape:0.82737\n",
      "[1]\tTest-within_mape:0.69915\n",
      "[2]\tTest-within_mape:0.58962\n",
      "[3]\tTest-within_mape:0.48274\n",
      "[4]\tTest-within_mape:0.37623\n",
      "[5]\tTest-within_mape:0.29002\n",
      "[6]\tTest-within_mape:0.16901\n",
      "[7]\tTest-within_mape:0.09454\n",
      "[8]\tTest-within_mape:0.07707\n",
      "[9]\tTest-within_mape:0.10908\n",
      "[10]\tTest-within_mape:0.02329\n",
      "[11]\tTest-within_mape:0.01699\n",
      "[12]\tTest-within_mape:0.01703\n",
      "[13]\tTest-within_mape:0.00568\n",
      "[14]\tTest-within_mape:-0.00955\n",
      "Best params 11 : max_depth: 11, min_child_weight: 4 MAPE: 0.0119998\n",
      "Best params: gamma: 0.0,colsample_bytree: 0.9,subsample: 1.0 MAPE: 0.0148594\n",
      "Best params: 0.12499999999999997, MAPE: -0.0028378000000000014\n",
      "[0]\tTest-within_mape:0.83231\n",
      "[1]\tTest-within_mape:0.69680\n",
      "[2]\tTest-within_mape:0.59095\n",
      "[3]\tTest-within_mape:0.48850\n",
      "[4]\tTest-within_mape:0.37506\n",
      "[5]\tTest-within_mape:0.30403\n",
      "[6]\tTest-within_mape:0.19293\n",
      "[7]\tTest-within_mape:0.10436\n",
      "[8]\tTest-within_mape:0.10620\n",
      "[9]\tTest-within_mape:0.14163\n",
      "[10]\tTest-within_mape:0.06887\n",
      "[11]\tTest-within_mape:0.08040\n",
      "[12]\tTest-within_mape:0.04119\n",
      "[13]\tTest-within_mape:0.03132\n",
      "[14]\tTest-within_mape:0.01523\n",
      "[15]\tTest-within_mape:0.00142\n",
      "[16]\tTest-within_mape:0.01544\n",
      "[17]\tTest-within_mape:0.02542\n",
      "[18]\tTest-within_mape:0.03810\n",
      "[19]\tTest-within_mape:0.05487\n",
      "[20]\tTest-within_mape:0.06617\n",
      "[21]\tTest-within_mape:0.04378\n",
      "[22]\tTest-within_mape:0.06008\n",
      "[23]\tTest-within_mape:0.06850\n",
      "[24]\tTest-within_mape:0.05967\n",
      "[25]\tTest-within_mape:0.06940\n",
      "[0]\tTest-within_mape:0.83231\n",
      "[1]\tTest-within_mape:0.69680\n",
      "[2]\tTest-within_mape:0.59095\n",
      "[3]\tTest-within_mape:0.48850\n",
      "[4]\tTest-within_mape:0.37506\n",
      "[5]\tTest-within_mape:0.30403\n",
      "[6]\tTest-within_mape:0.19293\n",
      "[7]\tTest-within_mape:0.10436\n",
      "[8]\tTest-within_mape:0.10620\n",
      "[9]\tTest-within_mape:0.14163\n",
      "[10]\tTest-within_mape:0.06887\n",
      "[11]\tTest-within_mape:0.08040\n",
      "[12]\tTest-within_mape:0.04119\n",
      "[13]\tTest-within_mape:0.03132\n",
      "[14]\tTest-within_mape:0.01523\n",
      "[15]\tTest-within_mape:0.00142\n",
      "Best params 13 : max_depth: 13, min_child_weight: 4 MAPE: 0.010330399999999998\n",
      "Best params: gamma: 0.4,colsample_bytree: 0.9,subsample: 1.0 MAPE: -0.003175200000000003\n",
      "Best params: 0.034999999999999996, MAPE: -0.002806800000000001\n",
      "[0]\tTest-within_mape:0.93608\n",
      "[1]\tTest-within_mape:0.89619\n",
      "[2]\tTest-within_mape:0.85779\n",
      "[3]\tTest-within_mape:0.82082\n",
      "[4]\tTest-within_mape:0.78580\n",
      "[5]\tTest-within_mape:0.75208\n",
      "[6]\tTest-within_mape:0.71348\n",
      "[7]\tTest-within_mape:0.68998\n",
      "[8]\tTest-within_mape:0.66093\n",
      "[9]\tTest-within_mape:0.63301\n",
      "[10]\tTest-within_mape:0.60563\n",
      "[11]\tTest-within_mape:0.57350\n",
      "[12]\tTest-within_mape:0.54903\n",
      "[13]\tTest-within_mape:0.52543\n",
      "[14]\tTest-within_mape:0.49670\n",
      "[15]\tTest-within_mape:0.47550\n",
      "[16]\tTest-within_mape:0.44145\n",
      "[17]\tTest-within_mape:0.39618\n",
      "[18]\tTest-within_mape:0.37789\n",
      "[19]\tTest-within_mape:0.34767\n",
      "[20]\tTest-within_mape:0.32676\n",
      "[21]\tTest-within_mape:0.30563\n",
      "[22]\tTest-within_mape:0.29162\n",
      "[23]\tTest-within_mape:0.26671\n",
      "[24]\tTest-within_mape:0.22931\n",
      "[25]\tTest-within_mape:0.19365\n",
      "[26]\tTest-within_mape:0.17746\n",
      "[27]\tTest-within_mape:0.14995\n",
      "[28]\tTest-within_mape:0.13573\n",
      "[29]\tTest-within_mape:0.13554\n",
      "[30]\tTest-within_mape:0.09870\n",
      "[31]\tTest-within_mape:0.09245\n",
      "[32]\tTest-within_mape:0.11314\n",
      "[33]\tTest-within_mape:0.10333\n",
      "[34]\tTest-within_mape:0.10641\n",
      "[35]\tTest-within_mape:0.11694\n",
      "[36]\tTest-within_mape:0.10763\n",
      "[37]\tTest-within_mape:0.09354\n",
      "[38]\tTest-within_mape:0.11140\n",
      "[39]\tTest-within_mape:0.10369\n",
      "[40]\tTest-within_mape:0.09683\n",
      "[41]\tTest-within_mape:0.08312\n",
      "[42]\tTest-within_mape:0.06982\n",
      "[43]\tTest-within_mape:0.06319\n",
      "[44]\tTest-within_mape:0.04340\n",
      "[45]\tTest-within_mape:0.04333\n",
      "[46]\tTest-within_mape:0.02439\n",
      "[47]\tTest-within_mape:0.04391\n",
      "[48]\tTest-within_mape:0.05040\n",
      "[49]\tTest-within_mape:0.03800\n",
      "[50]\tTest-within_mape:0.03817\n",
      "[51]\tTest-within_mape:0.02625\n",
      "[52]\tTest-within_mape:0.02682\n",
      "[53]\tTest-within_mape:0.02144\n",
      "[54]\tTest-within_mape:0.02147\n",
      "[55]\tTest-within_mape:0.00338\n",
      "[56]\tTest-within_mape:-0.00108\n",
      "[57]\tTest-within_mape:0.00625\n",
      "[58]\tTest-within_mape:0.01432\n",
      "[59]\tTest-within_mape:0.01569\n",
      "[60]\tTest-within_mape:0.02345\n",
      "[61]\tTest-within_mape:0.02470\n",
      "[62]\tTest-within_mape:0.01961\n",
      "[63]\tTest-within_mape:0.01452\n",
      "[64]\tTest-within_mape:0.01520\n",
      "[65]\tTest-within_mape:0.02286\n",
      "[66]\tTest-within_mape:0.02429\n",
      "[0]\tTest-within_mape:0.93608\n",
      "[1]\tTest-within_mape:0.89619\n",
      "[2]\tTest-within_mape:0.85779\n",
      "[3]\tTest-within_mape:0.82082\n",
      "[4]\tTest-within_mape:0.78580\n",
      "[5]\tTest-within_mape:0.75208\n",
      "[6]\tTest-within_mape:0.71348\n",
      "[7]\tTest-within_mape:0.68998\n",
      "[8]\tTest-within_mape:0.66093\n",
      "[9]\tTest-within_mape:0.63301\n",
      "[10]\tTest-within_mape:0.60563\n",
      "[11]\tTest-within_mape:0.57350\n",
      "[12]\tTest-within_mape:0.54903\n",
      "[13]\tTest-within_mape:0.52543\n",
      "[14]\tTest-within_mape:0.49670\n",
      "[15]\tTest-within_mape:0.47550\n",
      "[16]\tTest-within_mape:0.44145\n",
      "[17]\tTest-within_mape:0.39618\n",
      "[18]\tTest-within_mape:0.37789\n",
      "[19]\tTest-within_mape:0.34767\n",
      "[20]\tTest-within_mape:0.32676\n",
      "[21]\tTest-within_mape:0.30563\n",
      "[22]\tTest-within_mape:0.29162\n",
      "[23]\tTest-within_mape:0.26671\n",
      "[24]\tTest-within_mape:0.22931\n",
      "[25]\tTest-within_mape:0.19365\n",
      "[26]\tTest-within_mape:0.17746\n",
      "[27]\tTest-within_mape:0.14995\n",
      "[28]\tTest-within_mape:0.13573\n",
      "[29]\tTest-within_mape:0.13554\n",
      "[30]\tTest-within_mape:0.09870\n",
      "[31]\tTest-within_mape:0.09245\n",
      "[32]\tTest-within_mape:0.11314\n",
      "[33]\tTest-within_mape:0.10333\n",
      "[34]\tTest-within_mape:0.10641\n",
      "[35]\tTest-within_mape:0.11694\n",
      "[36]\tTest-within_mape:0.10763\n",
      "[37]\tTest-within_mape:0.09354\n",
      "[38]\tTest-within_mape:0.11140\n",
      "[39]\tTest-within_mape:0.10369\n",
      "[40]\tTest-within_mape:0.09683\n",
      "[41]\tTest-within_mape:0.08312\n",
      "[42]\tTest-within_mape:0.06982\n",
      "[43]\tTest-within_mape:0.06319\n",
      "[44]\tTest-within_mape:0.04340\n",
      "[45]\tTest-within_mape:0.04333\n",
      "[46]\tTest-within_mape:0.02439\n"
     ]
    },
    {
     "name": "stdout",
     "output_type": "stream",
     "text": [
      "[47]\tTest-within_mape:0.04391\n",
      "[48]\tTest-within_mape:0.05040\n",
      "[49]\tTest-within_mape:0.03800\n",
      "[50]\tTest-within_mape:0.03817\n",
      "[51]\tTest-within_mape:0.02625\n",
      "[52]\tTest-within_mape:0.02682\n",
      "[53]\tTest-within_mape:0.02144\n",
      "[54]\tTest-within_mape:0.02147\n",
      "[55]\tTest-within_mape:0.00338\n",
      "[56]\tTest-within_mape:-0.00108\n",
      "Best params 15 : max_depth: 15, min_child_weight: 2 MAPE: 0.020796600000000002\n",
      "Best params: gamma: 0.0,colsample_bytree: 0.9,subsample: 1.0 MAPE: 0.004721600000000001\n",
      "Best params: 0.19499999999999998, MAPE: -0.006989\n",
      "[0]\tTest-within_mape:0.75093\n",
      "[1]\tTest-within_mape:0.56400\n",
      "[2]\tTest-within_mape:0.40703\n",
      "[3]\tTest-within_mape:0.25441\n",
      "[4]\tTest-within_mape:0.16457\n",
      "[5]\tTest-within_mape:0.10392\n",
      "[6]\tTest-within_mape:0.11421\n",
      "[7]\tTest-within_mape:0.07545\n",
      "[8]\tTest-within_mape:0.04698\n",
      "[9]\tTest-within_mape:0.02269\n",
      "[10]\tTest-within_mape:0.03434\n",
      "[11]\tTest-within_mape:0.03082\n",
      "[12]\tTest-within_mape:0.04737\n",
      "[13]\tTest-within_mape:0.05381\n",
      "[14]\tTest-within_mape:0.03777\n",
      "[15]\tTest-within_mape:0.04245\n",
      "[16]\tTest-within_mape:0.06143\n",
      "[17]\tTest-within_mape:0.07088\n",
      "[18]\tTest-within_mape:0.07432\n",
      "[19]\tTest-within_mape:0.09785\n",
      "[0]\tTest-within_mape:0.75093\n",
      "[1]\tTest-within_mape:0.56400\n",
      "[2]\tTest-within_mape:0.40703\n",
      "[3]\tTest-within_mape:0.25441\n",
      "[4]\tTest-within_mape:0.16457\n",
      "[5]\tTest-within_mape:0.10392\n",
      "[6]\tTest-within_mape:0.11421\n",
      "[7]\tTest-within_mape:0.07545\n",
      "[8]\tTest-within_mape:0.04698\n",
      "[9]\tTest-within_mape:0.02269\n",
      "Best params 17 : max_depth: 17, min_child_weight: 6 MAPE: 0.022756\n",
      "Best params: gamma: 0.0,colsample_bytree: 0.9,subsample: 1.0 MAPE: 0.0043632\n",
      "Best params: 0.21499999999999997, MAPE: -0.0056314\n",
      "[0]\tTest-within_mape:0.72854\n",
      "[1]\tTest-within_mape:0.53125\n",
      "[2]\tTest-within_mape:0.35843\n",
      "[3]\tTest-within_mape:0.14443\n",
      "[4]\tTest-within_mape:0.08481\n",
      "[5]\tTest-within_mape:0.11189\n",
      "[6]\tTest-within_mape:0.07330\n",
      "[7]\tTest-within_mape:0.04204\n",
      "[8]\tTest-within_mape:0.02224\n",
      "[9]\tTest-within_mape:0.02794\n",
      "[10]\tTest-within_mape:0.02830\n",
      "[11]\tTest-within_mape:0.02156\n",
      "[12]\tTest-within_mape:0.01240\n",
      "[13]\tTest-within_mape:0.01157\n",
      "[14]\tTest-within_mape:0.01786\n",
      "[15]\tTest-within_mape:0.02193\n",
      "[16]\tTest-within_mape:0.02097\n",
      "[17]\tTest-within_mape:0.02562\n",
      "[18]\tTest-within_mape:0.02875\n",
      "[19]\tTest-within_mape:0.03932\n",
      "[20]\tTest-within_mape:0.06107\n",
      "[21]\tTest-within_mape:0.08233\n",
      "[22]\tTest-within_mape:0.07247\n",
      "[0]\tTest-within_mape:0.72854\n",
      "[1]\tTest-within_mape:0.53125\n",
      "[2]\tTest-within_mape:0.35843\n",
      "[3]\tTest-within_mape:0.14443\n",
      "[4]\tTest-within_mape:0.08481\n",
      "[5]\tTest-within_mape:0.11189\n",
      "[6]\tTest-within_mape:0.07330\n",
      "[7]\tTest-within_mape:0.04204\n",
      "[8]\tTest-within_mape:0.02224\n",
      "[9]\tTest-within_mape:0.02794\n",
      "[10]\tTest-within_mape:0.02830\n",
      "[11]\tTest-within_mape:0.02156\n",
      "[12]\tTest-within_mape:0.01240\n",
      "[13]\tTest-within_mape:0.01157\n"
     ]
    }
   ],
   "source": [
    "t=1\n",
    "\n",
    "for j in range(1,10):\n",
    "    \n",
    "    \n",
    "    Dictionary_Surgeon_models[j].update({\"Data\": [X, y]})\n",
    "    model=save_model_Surgeon(t)\n",
    "    Dictionary_Surgeon_models[j].update({\"BestParameters\": [model[0],model[1],model[2]]})\n",
    "    t+=2"
   ]
  },
  {
   "cell_type": "code",
   "execution_count": 166,
   "id": "d51faade",
   "metadata": {},
   "outputs": [],
   "source": [
    "def save_model_Surgeon(i):\n",
    "    pos_training=training_without_early_stopping_rounds(i)\n",
    "    best_model=pos_training[1]\n",
    "    parameters=pos_training[0]\n",
    "    \n",
    "    name=\"Surgeon_96440008_withoutimbalanced_depth{}.model\".format(i)\n",
    "    best_model.save_model(name)\n",
    "    \n",
    "    return best_model,parameters,name"
   ]
  },
  {
   "cell_type": "code",
   "execution_count": 167,
   "id": "c6eacdb0",
   "metadata": {},
   "outputs": [],
   "source": [
    "Dictionary_Surgeon_models_witjoutimbalanced={} #creation of dictionaries for all 24 models \n",
    "\n",
    "for j in range(1,10):\n",
    "    Dictionary_Surgeon_models_witjoutimbalanced.update({j:{}})\n",
    "\n",
    "#this_dict = {}this_dict = {}"
   ]
  },
  {
   "cell_type": "code",
   "execution_count": 168,
   "id": "d6dec0e6",
   "metadata": {},
   "outputs": [
    {
     "name": "stdout",
     "output_type": "stream",
     "text": [
      "Best params 1 : max_depth: 1, min_child_weight: 6 MAPE: 0.0044567999999999995\n",
      "Best params: gamma: 0.0,colsample_bytree: 1.0,subsample: 0.8 MAPE: -0.008208799999999999\n",
      "Best params: 0.3, MAPE: -0.0033295999999999994\n",
      "[0]\tTest-within_mape:0.55250\n",
      "[1]\tTest-within_mape:0.23143\n",
      "[2]\tTest-within_mape:0.04813\n",
      "[3]\tTest-within_mape:0.00733\n",
      "[4]\tTest-within_mape:0.09119\n",
      "[5]\tTest-within_mape:0.18080\n",
      "[6]\tTest-within_mape:0.14560\n",
      "[7]\tTest-within_mape:0.17097\n",
      "[8]\tTest-within_mape:0.17925\n",
      "[9]\tTest-within_mape:0.17398\n",
      "[10]\tTest-within_mape:0.17360\n",
      "[11]\tTest-within_mape:0.16854\n",
      "[12]\tTest-within_mape:0.18031\n",
      "[0]\tTest-within_mape:0.55250\n",
      "[1]\tTest-within_mape:0.23143\n",
      "[2]\tTest-within_mape:0.04813\n",
      "[3]\tTest-within_mape:0.00733\n",
      "Best params 3 : max_depth: 3, min_child_weight: 7 MAPE: -0.0446144\n",
      "Best params: gamma: 0.0,colsample_bytree: 0.8,subsample: 1.0 MAPE: -0.05000020000000001\n",
      "Best params: 0.16499999999999998, MAPE: -0.04728140000000001\n",
      "[0]\tTest-within_mape:0.77371\n",
      "[1]\tTest-within_mape:0.58554\n",
      "[2]\tTest-within_mape:0.43882\n",
      "[3]\tTest-within_mape:0.30580\n",
      "[4]\tTest-within_mape:0.28320\n",
      "[5]\tTest-within_mape:0.10603\n",
      "[6]\tTest-within_mape:0.09358\n",
      "[7]\tTest-within_mape:0.09483\n",
      "[8]\tTest-within_mape:0.07553\n",
      "[9]\tTest-within_mape:-0.03562\n",
      "[10]\tTest-within_mape:-0.01193\n",
      "[11]\tTest-within_mape:-0.01074\n",
      "[12]\tTest-within_mape:0.01525\n",
      "[13]\tTest-within_mape:0.00308\n",
      "[14]\tTest-within_mape:0.01707\n",
      "[15]\tTest-within_mape:0.01928\n",
      "[16]\tTest-within_mape:0.00814\n",
      "[17]\tTest-within_mape:0.05717\n",
      "[18]\tTest-within_mape:0.05480\n",
      "[19]\tTest-within_mape:0.06366\n",
      "[0]\tTest-within_mape:0.77371\n",
      "[1]\tTest-within_mape:0.58554\n",
      "[2]\tTest-within_mape:0.43882\n",
      "[3]\tTest-within_mape:0.30580\n",
      "[4]\tTest-within_mape:0.28320\n",
      "[5]\tTest-within_mape:0.10603\n",
      "[6]\tTest-within_mape:0.09358\n",
      "[7]\tTest-within_mape:0.09483\n",
      "[8]\tTest-within_mape:0.07553\n",
      "[9]\tTest-within_mape:-0.03562\n",
      "Best params 5 : max_depth: 5, min_child_weight: 1 MAPE: -0.06983379999999999\n",
      "Best params: gamma: 0.0,colsample_bytree: 1.0,subsample: 1.0 MAPE: -0.06429280000000001\n",
      "Best params: 0.22999999999999998, MAPE: -0.0732406\n",
      "[0]\tTest-within_mape:0.70081\n",
      "[1]\tTest-within_mape:0.47947\n",
      "[2]\tTest-within_mape:0.29661\n",
      "[3]\tTest-within_mape:0.11293\n",
      "[4]\tTest-within_mape:0.08183\n",
      "[5]\tTest-within_mape:0.04810\n",
      "[6]\tTest-within_mape:0.01323\n",
      "[7]\tTest-within_mape:-0.03211\n",
      "[8]\tTest-within_mape:-0.03256\n",
      "[9]\tTest-within_mape:-0.03763\n",
      "[10]\tTest-within_mape:-0.00389\n",
      "[11]\tTest-within_mape:0.00198\n",
      "[12]\tTest-within_mape:0.01371\n",
      "[13]\tTest-within_mape:0.04433\n",
      "[14]\tTest-within_mape:0.05357\n",
      "[15]\tTest-within_mape:0.05818\n",
      "[16]\tTest-within_mape:0.05430\n",
      "[17]\tTest-within_mape:0.08573\n",
      "[18]\tTest-within_mape:0.08167\n",
      "[19]\tTest-within_mape:0.08250\n",
      "[0]\tTest-within_mape:0.70081\n",
      "[1]\tTest-within_mape:0.47947\n",
      "[2]\tTest-within_mape:0.29661\n",
      "[3]\tTest-within_mape:0.11293\n",
      "[4]\tTest-within_mape:0.08183\n",
      "[5]\tTest-within_mape:0.04810\n",
      "[6]\tTest-within_mape:0.01323\n",
      "[7]\tTest-within_mape:-0.03211\n",
      "[8]\tTest-within_mape:-0.03256\n",
      "[9]\tTest-within_mape:-0.03763\n",
      "Best params 7 : max_depth: 7, min_child_weight: 5 MAPE: -0.0693506\n",
      "Best params: gamma: 0.2,colsample_bytree: 0.9,subsample: 1.0 MAPE: -0.0688836\n",
      "Best params: 0.10999999999999997, MAPE: -0.0849192\n",
      "[0]\tTest-within_mape:0.84945\n",
      "[1]\tTest-within_mape:0.73259\n",
      "[2]\tTest-within_mape:0.62738\n",
      "[3]\tTest-within_mape:0.53410\n",
      "[4]\tTest-within_mape:0.43607\n",
      "[5]\tTest-within_mape:0.34366\n",
      "[6]\tTest-within_mape:0.28935\n",
      "[7]\tTest-within_mape:0.19800\n",
      "[8]\tTest-within_mape:0.14088\n",
      "[9]\tTest-within_mape:0.08343\n",
      "[10]\tTest-within_mape:0.07878\n",
      "[11]\tTest-within_mape:0.06127\n",
      "[12]\tTest-within_mape:0.05251\n",
      "[13]\tTest-within_mape:0.05015\n",
      "[14]\tTest-within_mape:0.01711\n",
      "[15]\tTest-within_mape:-0.03334\n",
      "[16]\tTest-within_mape:-0.05762\n",
      "[17]\tTest-within_mape:-0.04887\n",
      "[18]\tTest-within_mape:-0.05242\n",
      "[19]\tTest-within_mape:-0.06762\n",
      "[20]\tTest-within_mape:-0.06450\n",
      "[21]\tTest-within_mape:-0.06831\n",
      "[22]\tTest-within_mape:-0.06968\n",
      "[23]\tTest-within_mape:-0.04660\n",
      "[24]\tTest-within_mape:-0.02502\n",
      "[25]\tTest-within_mape:-0.02210\n",
      "[26]\tTest-within_mape:-0.02511\n",
      "[27]\tTest-within_mape:-0.01627\n",
      "[28]\tTest-within_mape:0.01191\n",
      "[29]\tTest-within_mape:0.01553\n",
      "[30]\tTest-within_mape:0.02402\n",
      "[31]\tTest-within_mape:0.03831\n",
      "[32]\tTest-within_mape:0.03929\n",
      "[0]\tTest-within_mape:0.84945\n",
      "[1]\tTest-within_mape:0.73259\n",
      "[2]\tTest-within_mape:0.62738\n",
      "[3]\tTest-within_mape:0.53410\n",
      "[4]\tTest-within_mape:0.43607\n",
      "[5]\tTest-within_mape:0.34366\n",
      "[6]\tTest-within_mape:0.28935\n",
      "[7]\tTest-within_mape:0.19800\n",
      "[8]\tTest-within_mape:0.14088\n",
      "[9]\tTest-within_mape:0.08343\n",
      "[10]\tTest-within_mape:0.07878\n",
      "[11]\tTest-within_mape:0.06127\n",
      "[12]\tTest-within_mape:0.05251\n",
      "[13]\tTest-within_mape:0.05015\n",
      "[14]\tTest-within_mape:0.01711\n",
      "[15]\tTest-within_mape:-0.03334\n",
      "[16]\tTest-within_mape:-0.05762\n",
      "[17]\tTest-within_mape:-0.04887\n",
      "[18]\tTest-within_mape:-0.05242\n",
      "[19]\tTest-within_mape:-0.06762\n",
      "[20]\tTest-within_mape:-0.06450\n",
      "[21]\tTest-within_mape:-0.06831\n",
      "[22]\tTest-within_mape:-0.06968\n",
      "Best params 9 : max_depth: 9, min_child_weight: 6 MAPE: -0.062572\n",
      "Best params: gamma: 0.4,colsample_bytree: 0.8,subsample: 1.0 MAPE: -0.061785599999999996\n",
      "Best params: 0.07499999999999998, MAPE: -0.0796238\n",
      "[0]\tTest-within_mape:0.88958\n",
      "[1]\tTest-within_mape:0.80771\n",
      "[2]\tTest-within_mape:0.72748\n",
      "[3]\tTest-within_mape:0.64942\n",
      "[4]\tTest-within_mape:0.58895\n",
      "[5]\tTest-within_mape:0.52426\n",
      "[6]\tTest-within_mape:0.47545\n",
      "[7]\tTest-within_mape:0.39982\n",
      "[8]\tTest-within_mape:0.31890\n",
      "[9]\tTest-within_mape:0.29766\n",
      "[10]\tTest-within_mape:0.26488\n",
      "[11]\tTest-within_mape:0.19328\n",
      "[12]\tTest-within_mape:0.14888\n",
      "[13]\tTest-within_mape:0.11648\n",
      "[14]\tTest-within_mape:0.07551\n",
      "[15]\tTest-within_mape:0.08670\n",
      "[16]\tTest-within_mape:0.09266\n",
      "[17]\tTest-within_mape:0.07681\n",
      "[18]\tTest-within_mape:0.05096\n",
      "[19]\tTest-within_mape:0.05014\n",
      "[20]\tTest-within_mape:0.06832\n",
      "[21]\tTest-within_mape:0.03646\n",
      "[22]\tTest-within_mape:0.03055\n",
      "[23]\tTest-within_mape:0.02422\n",
      "[24]\tTest-within_mape:0.00145\n",
      "[25]\tTest-within_mape:0.00223\n",
      "[26]\tTest-within_mape:-0.02251\n",
      "[27]\tTest-within_mape:-0.02084\n",
      "[28]\tTest-within_mape:-0.01912\n",
      "[29]\tTest-within_mape:-0.02402\n",
      "[30]\tTest-within_mape:-0.02782\n",
      "[31]\tTest-within_mape:-0.04432\n",
      "[32]\tTest-within_mape:-0.03529\n",
      "[33]\tTest-within_mape:-0.04532\n",
      "[34]\tTest-within_mape:-0.03015\n",
      "[35]\tTest-within_mape:-0.02150\n",
      "[36]\tTest-within_mape:-0.01826\n",
      "[37]\tTest-within_mape:-0.02217\n",
      "[38]\tTest-within_mape:-0.01375\n",
      "[39]\tTest-within_mape:-0.01101\n",
      "[40]\tTest-within_mape:0.00341\n",
      "[41]\tTest-within_mape:0.00447\n",
      "[42]\tTest-within_mape:0.00558\n",
      "[0]\tTest-within_mape:0.88958\n",
      "[1]\tTest-within_mape:0.80771\n",
      "[2]\tTest-within_mape:0.72748\n",
      "[3]\tTest-within_mape:0.64942\n",
      "[4]\tTest-within_mape:0.58895\n",
      "[5]\tTest-within_mape:0.52426\n",
      "[6]\tTest-within_mape:0.47545\n",
      "[7]\tTest-within_mape:0.39982\n",
      "[8]\tTest-within_mape:0.31890\n",
      "[9]\tTest-within_mape:0.29766\n",
      "[10]\tTest-within_mape:0.26488\n",
      "[11]\tTest-within_mape:0.19328\n",
      "[12]\tTest-within_mape:0.14888\n",
      "[13]\tTest-within_mape:0.11648\n",
      "[14]\tTest-within_mape:0.07551\n",
      "[15]\tTest-within_mape:0.08670\n",
      "[16]\tTest-within_mape:0.09266\n",
      "[17]\tTest-within_mape:0.07681\n",
      "[18]\tTest-within_mape:0.05096\n",
      "[19]\tTest-within_mape:0.05014\n",
      "[20]\tTest-within_mape:0.06832\n",
      "[21]\tTest-within_mape:0.03646\n",
      "[22]\tTest-within_mape:0.03055\n",
      "[23]\tTest-within_mape:0.02422\n",
      "[24]\tTest-within_mape:0.00145\n",
      "[25]\tTest-within_mape:0.00223\n",
      "[26]\tTest-within_mape:-0.02251\n",
      "[27]\tTest-within_mape:-0.02084\n",
      "[28]\tTest-within_mape:-0.01912\n",
      "[29]\tTest-within_mape:-0.02402\n",
      "[30]\tTest-within_mape:-0.02782\n",
      "[31]\tTest-within_mape:-0.04432\n",
      "[32]\tTest-within_mape:-0.03529\n",
      "[33]\tTest-within_mape:-0.04532\n",
      "Best params 11 : max_depth: 11, min_child_weight: 1 MAPE: -0.060664800000000005\n",
      "Best params: gamma: 0.1,colsample_bytree: 0.8,subsample: 1.0 MAPE: -0.0683446\n",
      "Best params: 0.23999999999999996, MAPE: -0.081184\n",
      "[0]\tTest-within_mape:0.69193\n",
      "[1]\tTest-within_mape:0.47286\n",
      "[2]\tTest-within_mape:0.30214\n",
      "[3]\tTest-within_mape:0.15857\n",
      "[4]\tTest-within_mape:0.11330\n",
      "[5]\tTest-within_mape:0.07145\n",
      "[6]\tTest-within_mape:-0.00901\n",
      "[7]\tTest-within_mape:-0.00854\n",
      "[8]\tTest-within_mape:0.00209\n",
      "[9]\tTest-within_mape:0.01679\n",
      "[10]\tTest-within_mape:0.02420\n",
      "[11]\tTest-within_mape:0.08474\n",
      "[12]\tTest-within_mape:0.06532\n",
      "[13]\tTest-within_mape:0.07817\n",
      "[14]\tTest-within_mape:0.07139\n",
      "[15]\tTest-within_mape:0.08962\n",
      "[16]\tTest-within_mape:0.10434\n",
      "[0]\tTest-within_mape:0.69193\n",
      "[1]\tTest-within_mape:0.47286\n",
      "[2]\tTest-within_mape:0.30214\n",
      "[3]\tTest-within_mape:0.15857\n",
      "[4]\tTest-within_mape:0.11330\n",
      "[5]\tTest-within_mape:0.07145\n",
      "[6]\tTest-within_mape:-0.00901\n"
     ]
    },
    {
     "name": "stdout",
     "output_type": "stream",
     "text": [
      "Best params 13 : max_depth: 13, min_child_weight: 7 MAPE: -0.0761964\n",
      "Best params: gamma: 0.30000000000000004,colsample_bytree: 1.0,subsample: 1.0 MAPE: -0.0761964\n",
      "Best params: 0.27999999999999997, MAPE: -0.08485380000000001\n",
      "[0]\tTest-within_mape:0.63331\n",
      "[1]\tTest-within_mape:0.37432\n",
      "[2]\tTest-within_mape:0.21495\n",
      "[3]\tTest-within_mape:0.08799\n",
      "[4]\tTest-within_mape:0.01940\n",
      "[5]\tTest-within_mape:-0.03202\n",
      "[6]\tTest-within_mape:-0.01050\n",
      "[7]\tTest-within_mape:0.06104\n",
      "[8]\tTest-within_mape:0.05852\n",
      "[9]\tTest-within_mape:0.06382\n",
      "[10]\tTest-within_mape:0.07874\n",
      "[11]\tTest-within_mape:0.07024\n",
      "[12]\tTest-within_mape:0.07418\n",
      "[13]\tTest-within_mape:0.09787\n",
      "[14]\tTest-within_mape:0.08700\n",
      "[15]\tTest-within_mape:0.09376\n",
      "[0]\tTest-within_mape:0.63331\n",
      "[1]\tTest-within_mape:0.37432\n",
      "[2]\tTest-within_mape:0.21495\n",
      "[3]\tTest-within_mape:0.08799\n",
      "[4]\tTest-within_mape:0.01940\n",
      "[5]\tTest-within_mape:-0.03202\n",
      "Best params 15 : max_depth: 15, min_child_weight: 6 MAPE: -0.0609654\n",
      "Best params: gamma: 0.0,colsample_bytree: 0.8,subsample: 1.0 MAPE: -0.0667602\n",
      "Best params: 0.08499999999999998, MAPE: -0.085602\n",
      "[0]\tTest-within_mape:0.87800\n",
      "[1]\tTest-within_mape:0.78621\n",
      "[2]\tTest-within_mape:0.69685\n",
      "[3]\tTest-within_mape:0.60585\n",
      "[4]\tTest-within_mape:0.54843\n",
      "[5]\tTest-within_mape:0.46253\n",
      "[6]\tTest-within_mape:0.38688\n",
      "[7]\tTest-within_mape:0.33751\n",
      "[8]\tTest-within_mape:0.30593\n",
      "[9]\tTest-within_mape:0.23179\n",
      "[10]\tTest-within_mape:0.18230\n",
      "[11]\tTest-within_mape:0.12665\n",
      "[12]\tTest-within_mape:0.08074\n",
      "[13]\tTest-within_mape:0.09832\n",
      "[14]\tTest-within_mape:0.10185\n",
      "[15]\tTest-within_mape:0.10644\n",
      "[16]\tTest-within_mape:0.07819\n",
      "[17]\tTest-within_mape:0.05296\n",
      "[18]\tTest-within_mape:0.05540\n",
      "[19]\tTest-within_mape:0.03144\n",
      "[20]\tTest-within_mape:0.03148\n",
      "[21]\tTest-within_mape:0.02718\n",
      "[22]\tTest-within_mape:0.00421\n",
      "[23]\tTest-within_mape:0.00647\n",
      "[24]\tTest-within_mape:-0.00385\n",
      "[25]\tTest-within_mape:-0.00245\n",
      "[26]\tTest-within_mape:0.00134\n",
      "[27]\tTest-within_mape:0.01749\n",
      "[28]\tTest-within_mape:0.04028\n",
      "[29]\tTest-within_mape:0.02432\n",
      "[30]\tTest-within_mape:0.04015\n",
      "[31]\tTest-within_mape:0.06246\n",
      "[32]\tTest-within_mape:0.06471\n",
      "[33]\tTest-within_mape:0.06768\n",
      "[34]\tTest-within_mape:0.06385\n",
      "[0]\tTest-within_mape:0.87800\n",
      "[1]\tTest-within_mape:0.78621\n",
      "[2]\tTest-within_mape:0.69685\n",
      "[3]\tTest-within_mape:0.60585\n",
      "[4]\tTest-within_mape:0.54843\n",
      "[5]\tTest-within_mape:0.46253\n",
      "[6]\tTest-within_mape:0.38688\n",
      "[7]\tTest-within_mape:0.33751\n",
      "[8]\tTest-within_mape:0.30593\n",
      "[9]\tTest-within_mape:0.23179\n",
      "[10]\tTest-within_mape:0.18230\n",
      "[11]\tTest-within_mape:0.12665\n",
      "[12]\tTest-within_mape:0.08074\n",
      "[13]\tTest-within_mape:0.09832\n",
      "[14]\tTest-within_mape:0.10185\n",
      "[15]\tTest-within_mape:0.10644\n",
      "[16]\tTest-within_mape:0.07819\n",
      "[17]\tTest-within_mape:0.05296\n",
      "[18]\tTest-within_mape:0.05540\n",
      "[19]\tTest-within_mape:0.03144\n",
      "[20]\tTest-within_mape:0.03148\n",
      "[21]\tTest-within_mape:0.02718\n",
      "[22]\tTest-within_mape:0.00421\n",
      "[23]\tTest-within_mape:0.00647\n",
      "[24]\tTest-within_mape:-0.00385\n",
      "Best params 17 : max_depth: 17, min_child_weight: 5 MAPE: -0.056912800000000006\n",
      "Best params: gamma: 0.0,colsample_bytree: 0.7,subsample: 1.0 MAPE: -0.0609832\n",
      "Best params: 0.25999999999999995, MAPE: -0.08413439999999998\n",
      "[0]\tTest-within_mape:0.66795\n",
      "[1]\tTest-within_mape:0.40938\n",
      "[2]\tTest-within_mape:0.21515\n",
      "[3]\tTest-within_mape:0.08506\n",
      "[4]\tTest-within_mape:0.04157\n",
      "[5]\tTest-within_mape:-0.00001\n",
      "[6]\tTest-within_mape:-0.01166\n",
      "[7]\tTest-within_mape:-0.01819\n",
      "[8]\tTest-within_mape:0.01741\n",
      "[9]\tTest-within_mape:0.01243\n",
      "[10]\tTest-within_mape:0.03226\n",
      "[11]\tTest-within_mape:0.03550\n",
      "[12]\tTest-within_mape:0.04969\n",
      "[13]\tTest-within_mape:0.07437\n",
      "[14]\tTest-within_mape:0.07689\n",
      "[15]\tTest-within_mape:0.06621\n",
      "[16]\tTest-within_mape:0.08520\n",
      "[0]\tTest-within_mape:0.66795\n",
      "[1]\tTest-within_mape:0.40938\n",
      "[2]\tTest-within_mape:0.21515\n",
      "[3]\tTest-within_mape:0.08506\n",
      "[4]\tTest-within_mape:0.04157\n",
      "[5]\tTest-within_mape:-0.00001\n",
      "[6]\tTest-within_mape:-0.01166\n",
      "[7]\tTest-within_mape:-0.01819\n"
     ]
    }
   ],
   "source": [
    "t=1\n",
    "\n",
    "for j in range(1,10):\n",
    "    \n",
    "    \n",
    "    Dictionary_Surgeon_models_witjoutimbalanced[j].update({\"Data\": [X, y]})\n",
    "    model=save_model_Surgeon(t)\n",
    "    Dictionary_Surgeon_models_witjoutimbalanced[j].update({\"BestParameters\": [model[0],model[1],model[2]]})\n",
    "    t+=2"
   ]
  },
  {
   "cell_type": "markdown",
   "id": "addressed-netscape",
   "metadata": {},
   "source": [
    "* ### 4.7. Load Model  <a class=\"anchor\" id=\"4.7\"></a> \n"
   ]
  },
  {
   "cell_type": "code",
   "execution_count": 25,
   "id": "087d8239",
   "metadata": {},
   "outputs": [],
   "source": [
    "def percCal(x,y):\n",
    "    return (x-y)*100/x"
   ]
  },
  {
   "cell_type": "code",
   "execution_count": 26,
   "id": "still-palmer",
   "metadata": {},
   "outputs": [],
   "source": [
    "#generate a dictionary with labels from XBoost, time Planned by CUF and Real Duration of surgery for each speciality\n",
    "Loading_Surgeon_models={}  \n",
    "\n",
    "for j in range(1,10):\n",
    "    Loading_Surgeon_models.update({j:{}})\n",
    "\n",
    "t=1\n",
    "for i in range(1,10): # as últimas três tem tao poucas cirugias que não é possivel separar 80/20%\n",
    "    bst_speciality = xgb.Booster()\n",
    "    name=\"Surgeon_96440008_depth{}.model\".format(t)\n",
    "    Loading_Surgeon_models[i].update({\"Load Model\":bst_speciality.load_model(name)})\n",
    "    Loading_Surgeon_models[i].update({\"Label Test\":bst_speciality.predict(Splited_data_Surgeon['96440008'][\"Dmatrixes\"][1])})\n",
    "    Loading_Surgeon_models[i].update({\"Planned CUF\":Splited_data_Surgeon['96440008'][\"Splitdataset\"][5]})\n",
    "    Loading_Surgeon_models[i].update({\"Real Duration\":Splited_data_Surgeon['96440008'][\"Splitdataset\"][3]})\n",
    "    \n",
    "    rf_score_train = np.round(mean_squared_error(bst_speciality.predict(Splited_data_Surgeon_categorical['96440008'][\"Dmatrixes\"][0]),Splited_data_Surgeon_categorical['96440008'][\"Splitdataset\"][2],squared=False))\n",
    "\n",
    "    rf_score = np.round(mean_squared_error(bst_speciality.predict(Splited_data_Surgeon_categorical['96440008'][\"Dmatrixes\"][1]),Splited_data_Surgeon_categorical['96440008'][\"Splitdataset\"][3],squared=False))\n",
    "    \n",
    "    dataset_predicton = {\"Real Duration\": Loading_Surgeon_models[i][\"Real Duration\"], \"Planned by Cuf\": Loading_Surgeon_models[i][\"Planned CUF\"], \"Labels from XGBoost\": Loading_Surgeon_models[i][\"Label Test\"]}\n",
    "    dataset_predicton=pd.DataFrame(dataset_predicton)\n",
    "        \n",
    "    dataset_predicton['Error_XGboost'] = percCal(dataset_predicton['Real Duration'], dataset_predicton['Labels from XGBoost'])\n",
    "    dataset_predicton['Error_CUF'] = percCal(dataset_predicton['Real Duration'], dataset_predicton['Planned by Cuf'])\n",
    "    \n",
    "    #Overutilization \n",
    "    CUF_overuse=dataset_predicton[dataset_predicton['Error_CUF']>10].shape[0]/dataset_predicton.shape[0]\n",
    "    XGBoost_overuse=dataset_predicton[dataset_predicton['Error_XGboost']>10].shape[0]/dataset_predicton.shape[0]\n",
    "    #Underutilization\n",
    "    CUF_under=dataset_predicton[dataset_predicton['Error_CUF']<-10].shape[0]/dataset_predicton.shape[0]\n",
    "    XGBoost_under=dataset_predicton[dataset_predicton['Error_XGboost']<-10].shape[0]/dataset_predicton.shape[0]\n",
    "    #Within\n",
    "    CUF_Within=dataset_predicton[dataset_predicton['Error_CUF'].abs()<=10].shape[0]/dataset_predicton.shape[0]\n",
    "    XGBoost_Within=dataset_predicton[dataset_predicton['Error_XGboost'].abs()<=10].shape[0]/dataset_predicton.shape[0]\n",
    "\n",
    "    Loading_Surgeon_models[i].update({\"Depth\": t})\n",
    "    Loading_Surgeon_models[i].update({\"TestScore\": rf_score})\n",
    "    Loading_Surgeon_models[i].update({\"TrainScore\": rf_score_train})\n",
    "    Loading_Surgeon_models[i].update({\"Dataset_predicton\": dataset_predicton})\n",
    "\n",
    "    Loading_Surgeon_models[i].update({\"Percentage\": [XGBoost_Within, XGBoost_under, XGBoost_overuse]})\n",
    "    Loading_Surgeon_models[i].update({\"Percentage_CUF\": [CUF_Within, CUF_under, CUF_overuse]})\n",
    "\n",
    "    \n",
    "    dataset_predicton = {\"Real Duration\": Splited_data_Surgeon['96440008'][\"Splitdataset\"][2], \"Labels from XGBoost\": bst_speciality.predict(Splited_data_Surgeon['96440008'][\"Dmatrixes\"][0])}\n",
    "    dataset_predicton=pd.DataFrame(dataset_predicton)\n",
    "        \n",
    "    dataset_predicton['Error_XGboost'] = percCal(dataset_predicton['Real Duration'], dataset_predicton['Labels from XGBoost'])\n",
    "    \n",
    "    XGBoost_overuse=dataset_predicton[dataset_predicton['Error_XGboost']>10].shape[0]/dataset_predicton.shape[0]\n",
    "    #Underutilization\n",
    "    \n",
    "    XGBoost_under=dataset_predicton[dataset_predicton['Error_XGboost']<-10].shape[0]/dataset_predicton.shape[0]\n",
    "    #Within\n",
    "    XGBoost_Within=dataset_predicton[dataset_predicton['Error_XGboost'].abs()<=10].shape[0]/dataset_predicton.shape[0]\n",
    "\n",
    "    Loading_Surgeon_models[i].update({\"Percentage_Train\": [XGBoost_Within, XGBoost_under, XGBoost_overuse]})\n",
    "    \n",
    "    dataset_predicton = {\"Real Duration\": Splited_data_Surgeon_categorical['96440008'][\"Splitdataset\"][2], \"Labels from XGBoost\": bst_speciality.predict(Splited_data_Surgeon_categorical['96440008'][\"Dmatrixes\"][0])}\n",
    "    dataset_predicton=pd.DataFrame(dataset_predicton)\n",
    "        \n",
    "    dataset_predicton['Error_XGboost'] = percCal(dataset_predicton['Real Duration'], dataset_predicton['Labels from XGBoost'])\n",
    "    \n",
    "    XGBoost_overuse=dataset_predicton[dataset_predicton['Error_XGboost']>10].shape[0]/dataset_predicton.shape[0]\n",
    "    #Underutilization\n",
    "    \n",
    "    XGBoost_under=dataset_predicton[dataset_predicton['Error_XGboost']<-10].shape[0]/dataset_predicton.shape[0]\n",
    "    #Within\n",
    "    XGBoost_Within=dataset_predicton[dataset_predicton['Error_XGboost'].abs()<=10].shape[0]/dataset_predicton.shape[0]\n",
    "\n",
    "    Loading_Surgeon_models[i].update({\"Percentage_Train_categorical\": [XGBoost_Within, XGBoost_under, XGBoost_overuse]})\n",
    "    \n",
    "    dataset_predicton = {\"Real Duration\": Splited_data_Surgeon_categorical['96440008'][\"Splitdataset\"][3], \"Labels from XGBoost\": bst_speciality.predict(Splited_data_Surgeon_categorical['96440008'][\"Dmatrixes\"][1])}\n",
    "    dataset_predicton=pd.DataFrame(dataset_predicton)\n",
    "        \n",
    "    dataset_predicton['Error_XGboost'] = percCal(dataset_predicton['Real Duration'], dataset_predicton['Labels from XGBoost'])\n",
    "    \n",
    "    XGBoost_overuse=dataset_predicton[dataset_predicton['Error_XGboost']>10].shape[0]/dataset_predicton.shape[0]\n",
    "    #Underutilization\n",
    "    \n",
    "    XGBoost_under=dataset_predicton[dataset_predicton['Error_XGboost']<-10].shape[0]/dataset_predicton.shape[0]\n",
    "    #Within\n",
    "    XGBoost_Within=dataset_predicton[dataset_predicton['Error_XGboost'].abs()<=10].shape[0]/dataset_predicton.shape[0]\n",
    "\n",
    "    Loading_Surgeon_models[i].update({\"Percentage_Test_categorical\": [XGBoost_Within, XGBoost_under, XGBoost_overuse]})\n",
    "    Loading_Surgeon_models[i].update({\"Dataset categorical \": [dataset_predicton]})\n",
    "    t+=2                                             \n",
    "\n",
    "\n",
    "\n",
    "\n",
    "\n"
   ]
  },
  {
   "cell_type": "code",
   "execution_count": 53,
   "id": "f84ef7ed",
   "metadata": {},
   "outputs": [],
   "source": [
    "#generate a dictionary with labels from XBoost, time Planned by CUF and Real Duration of surgery for each speciality\n",
    "Loading_Surgeon_models_withoutimbalanced={}  \n",
    "\n",
    "for j in range(1,10):\n",
    "    Loading_Surgeon_models_withoutimbalanced.update({j:{}})\n",
    "\n",
    "t=1\n",
    "for i in range(1,10): # as últimas três tem tao poucas cirugias que não é possivel separar 80/20%\n",
    "    bst_speciality = xgb.Booster()\n",
    "    name=\"Surgeon_96440008_withoutimbalanced_depth{}.model\".format(t)\n",
    "    Loading_Surgeon_models_withoutimbalanced[i].update({\"Load Model\":bst_speciality.load_model(name)})\n",
    "    Loading_Surgeon_models_withoutimbalanced[i].update({\"Label Test\":bst_speciality.predict(Splited_data_Surgeon['96440008'][\"Dmatrixes\"][1])})\n",
    "    Loading_Surgeon_models_withoutimbalanced[i].update({\"Planned CUF\":Splited_data_Surgeon['96440008'][\"Splitdataset\"][5]})\n",
    "    Loading_Surgeon_models_withoutimbalanced[i].update({\"Real Duration\":Splited_data_Surgeon['96440008'][\"Splitdataset\"][3]})\n",
    "    \n",
    "    rf_score_train = np.round(mean_squared_error(bst_speciality.predict(Splited_data_Surgeon_categorical['96440008'][\"Dmatrixes\"][0]),Splited_data_Surgeon_categorical['96440008'][\"Splitdataset\"][2],squared=False))\n",
    "\n",
    "    rf_score = np.round(mean_squared_error(bst_speciality.predict(Splited_data_Surgeon_categorical['96440008'][\"Dmatrixes\"][1]),Splited_data_Surgeon_categorical['96440008'][\"Splitdataset\"][3],squared=False))\n",
    "    \n",
    "    dataset_predicton = {\"Real Duration\": Loading_Surgeon_models_withoutimbalanced[i][\"Real Duration\"], \"Planned by Cuf\": Loading_Surgeon_models_withoutimbalanced[i][\"Planned CUF\"], \"Labels from XGBoost\": Loading_Surgeon_models_withoutimbalanced[i][\"Label Test\"]}\n",
    "    dataset_predicton=pd.DataFrame(dataset_predicton)\n",
    "        \n",
    "    dataset_predicton['Error_XGboost'] = percCal(dataset_predicton['Real Duration'], dataset_predicton['Labels from XGBoost'])\n",
    "    dataset_predicton['Error_CUF'] = percCal(dataset_predicton['Real Duration'], dataset_predicton['Planned by Cuf'])\n",
    "    \n",
    "    #Overutilization \n",
    "    CUF_overuse=dataset_predicton[dataset_predicton['Error_CUF']>10].shape[0]/dataset_predicton.shape[0]\n",
    "    XGBoost_overuse=dataset_predicton[dataset_predicton['Error_XGboost']>10].shape[0]/dataset_predicton.shape[0]\n",
    "    #Underutilization\n",
    "    CUF_under=dataset_predicton[dataset_predicton['Error_CUF']<-10].shape[0]/dataset_predicton.shape[0]\n",
    "    XGBoost_under=dataset_predicton[dataset_predicton['Error_XGboost']<-10].shape[0]/dataset_predicton.shape[0]\n",
    "    #Within\n",
    "    CUF_Within=dataset_predicton[dataset_predicton['Error_CUF'].abs()<=10].shape[0]/dataset_predicton.shape[0]\n",
    "    XGBoost_Within=dataset_predicton[dataset_predicton['Error_XGboost'].abs()<=10].shape[0]/dataset_predicton.shape[0]\n",
    "\n",
    "    Loading_Surgeon_models_withoutimbalanced[i].update({\"Depth\": t})\n",
    "    Loading_Surgeon_models_withoutimbalanced[i].update({\"TestScore\": rf_score})\n",
    "    Loading_Surgeon_models_withoutimbalanced[i].update({\"TrainScore\": rf_score_train})\n",
    "    Loading_Surgeon_models_withoutimbalanced[i].update({\"Dataset_predicton\": dataset_predicton})\n",
    "\n",
    "    Loading_Surgeon_models_withoutimbalanced[i].update({\"Percentage\": [XGBoost_Within, XGBoost_under, XGBoost_overuse]})\n",
    "    Loading_Surgeon_models_withoutimbalanced[i].update({\"Percentage_CUF\": [CUF_Within, CUF_under, CUF_overuse]})\n",
    "\n",
    "    \n",
    "    dataset_predicton = {\"Real Duration\": Splited_data_Surgeon['96440008'][\"Splitdataset\"][2], \"Labels from XGBoost\": bst_speciality.predict(Splited_data_Surgeon['96440008'][\"Dmatrixes\"][0])}\n",
    "    dataset_predicton=pd.DataFrame(dataset_predicton)\n",
    "        \n",
    "    dataset_predicton['Error_XGboost'] = percCal(dataset_predicton['Real Duration'], dataset_predicton['Labels from XGBoost'])\n",
    "    \n",
    "    XGBoost_overuse=dataset_predicton[dataset_predicton['Error_XGboost']>10].shape[0]/dataset_predicton.shape[0]\n",
    "    #Underutilization\n",
    "    \n",
    "    XGBoost_under=dataset_predicton[dataset_predicton['Error_XGboost']<-10].shape[0]/dataset_predicton.shape[0]\n",
    "    #Within\n",
    "    XGBoost_Within=dataset_predicton[dataset_predicton['Error_XGboost'].abs()<=10].shape[0]/dataset_predicton.shape[0]\n",
    "\n",
    "    Loading_Surgeon_models_withoutimbalanced[i].update({\"Percentage_Train\": [XGBoost_Within, XGBoost_under, XGBoost_overuse]})\n",
    "    \n",
    "    dataset_predicton = {\"Real Duration\": Splited_data_Surgeon_categorical['96440008'][\"Splitdataset\"][2], \"Labels from XGBoost\": bst_speciality.predict(Splited_data_Surgeon_categorical['96440008'][\"Dmatrixes\"][0])}\n",
    "    dataset_predicton=pd.DataFrame(dataset_predicton)\n",
    "        \n",
    "    dataset_predicton['Error_XGboost'] = percCal(dataset_predicton['Real Duration'], dataset_predicton['Labels from XGBoost'])\n",
    "    \n",
    "    XGBoost_overuse=dataset_predicton[dataset_predicton['Error_XGboost']>10].shape[0]/dataset_predicton.shape[0]\n",
    "    #Underutilization\n",
    "    \n",
    "    XGBoost_under=dataset_predicton[dataset_predicton['Error_XGboost']<-10].shape[0]/dataset_predicton.shape[0]\n",
    "    #Within\n",
    "    XGBoost_Within=dataset_predicton[dataset_predicton['Error_XGboost'].abs()<=10].shape[0]/dataset_predicton.shape[0]\n",
    "\n",
    "    Loading_Surgeon_models_withoutimbalanced[i].update({\"Percentage_Train_categorical\": [XGBoost_Within, XGBoost_under, XGBoost_overuse]})\n",
    "    \n",
    "    dataset_predicton = {\"Planned by Cuf\": Splited_data_Surgeon_categorical['96440008'][\"Splitdataset\"][5],\"Real Duration\": Splited_data_Surgeon_categorical['96440008'][\"Splitdataset\"][3], \"Labels from XGBoost\": bst_speciality.predict(Splited_data_Surgeon_categorical['96440008'][\"Dmatrixes\"][1])}\n",
    "    dataset_predicton=pd.DataFrame(dataset_predicton)\n",
    "        \n",
    "    dataset_predicton['Error_XGboost'] = percCal(dataset_predicton['Real Duration'], dataset_predicton['Labels from XGBoost'])\n",
    "    \n",
    "    XGBoost_overuse=dataset_predicton[dataset_predicton['Error_XGboost']>10].shape[0]/dataset_predicton.shape[0]\n",
    "    #Underutilization\n",
    "    \n",
    "    XGBoost_under=dataset_predicton[dataset_predicton['Error_XGboost']<-10].shape[0]/dataset_predicton.shape[0]\n",
    "    #Within\n",
    "    XGBoost_Within=dataset_predicton[dataset_predicton['Error_XGboost'].abs()<=10].shape[0]/dataset_predicton.shape[0]\n",
    "\n",
    "    Loading_Surgeon_models_withoutimbalanced[i].update({\"Percentage_Test_categorical\": [XGBoost_Within, XGBoost_under, XGBoost_overuse]})\n",
    "    Loading_Surgeon_models_withoutimbalanced[i].update({\"Dataset categorical \": [dataset_predicton]})\n",
    "    t+=2                                                        \n",
    "\n",
    "\n"
   ]
  },
  {
   "cell_type": "markdown",
   "id": "fec76bb7",
   "metadata": {},
   "source": [
    "* ### 4.8.  Rashomon Curve  <a class=\"anchor\" id=\"4.8\"></a> "
   ]
  },
  {
   "cell_type": "markdown",
   "id": "ae07728d",
   "metadata": {},
   "source": [
    "* #### 4.8.1  With Imbalance  <a class=\"anchor\" id=\"4.8.1\"></a> "
   ]
  },
  {
   "cell_type": "code",
   "execution_count": 35,
   "id": "efbeb440",
   "metadata": {},
   "outputs": [],
   "source": [
    "Score_test=[]\n",
    "Score_train=[]\n",
    "Depth=[]\n",
    "Within_Test=[]\n",
    "Within_Train=[]\n",
    "\n",
    "for i in range(1,10):\n",
    "    \n",
    "\n",
    "    Score_train_intercalar=abs(Loading_Surgeon_models[i]['TrainScore'])\n",
    "    Score_test_intercalar=abs(Loading_Surgeon_models[i]['TestScore'])\n",
    "    depth=Loading_Surgeon_models[i]['Depth']\n",
    "    Within_intercalar_test=Loading_Surgeon_models[i]['Percentage_Test_categorical'][0]\n",
    "    Within_intercalar_train=Loading_Surgeon_models[i]['Percentage_Train_categorical'][0]\n",
    "     \n",
    "\n",
    "    Score_test+=[Score_test_intercalar]\n",
    "    Score_train+=[Score_train_intercalar]\n",
    "    Depth+=[depth]\n",
    "    Within_Test+=[Within_intercalar_test]\n",
    "    Within_Train+=[Within_intercalar_train]\n",
    "    "
   ]
  },
  {
   "cell_type": "code",
   "execution_count": 36,
   "id": "75eed02d",
   "metadata": {},
   "outputs": [
    {
     "data": {
      "image/png": "[encoded data removed]",
      "text/plain": [
       "<Figure size 432x288 with 1 Axes>"
      ]
     },
     "metadata": {
      "needs_background": "light"
     },
     "output_type": "display_data"
    },
    {
     "data": {
      "text/plain": [
       "<Figure size 720x720 with 0 Axes>"
      ]
     },
     "metadata": {},
     "output_type": "display_data"
    }
   ],
   "source": [
    "colors = iter(plt.cm.rainbow(np.linspace(0, 1, len(Score_train))))\n",
    "\n",
    "\n",
    "plt.scatter(Within_Train, Depth)\n",
    "for i in range(len(Depth)):\n",
    "    \n",
    "    plt.arrow(x=Within_Train[i],y=Depth[i],dx=Within_Test[i],dy=0,color=next(colors))\n",
    "\n",
    "    \n",
    "plt.figure(figsize=(10,10))\n",
    "plt.show()"
   ]
  },
  {
   "cell_type": "code",
   "execution_count": 37,
   "id": "df19e967",
   "metadata": {
    "scrolled": true
   },
   "outputs": [
    {
     "data": {
      "image/png": "[encoded data removed]",
      "text/plain": [
       "<Figure size 432x288 with 1 Axes>"
      ]
     },
     "metadata": {
      "needs_background": "light"
     },
     "output_type": "display_data"
    },
    {
     "data": {
      "text/plain": [
       "<Figure size 720x720 with 0 Axes>"
      ]
     },
     "metadata": {},
     "output_type": "display_data"
    }
   ],
   "source": [
    "colors = iter(plt.cm.rainbow(np.linspace(0, 1, len(Score_train))))\n",
    "\n",
    "\n",
    "plt.scatter(Score_train, Depth)\n",
    "for i in range(len(Depth)):\n",
    "    \n",
    "    plt.arrow(x=Score_train[i],y=Depth[i],dx=Score_test[i],dy=0,color=next(colors))\n",
    "\n",
    "    \n",
    "plt.figure(figsize=(10,10))\n",
    "plt.show()"
   ]
  },
  {
   "cell_type": "code",
   "execution_count": 38,
   "id": "f4dadf7b",
   "metadata": {},
   "outputs": [
    {
     "data": {
      "text/plain": [
       "<matplotlib.legend.Legend at 0x1d2204be550>"
      ]
     },
     "execution_count": 38,
     "metadata": {},
     "output_type": "execute_result"
    },
    {
     "data": {
      "image/png": "[encoded data removed]",
      "text/plain": [
       "<Figure size 432x288 with 1 Axes>"
      ]
     },
     "metadata": {
      "needs_background": "light"
     },
     "output_type": "display_data"
    }
   ],
   "source": [
    "import numpy as np\n",
    "import matplotlib.pyplot as plt\n",
    "\n",
    "X = np.arange(1,19,2)\n",
    "fig = plt.figure()\n",
    "ax = fig.add_axes([0,0,1,1])\n",
    "ax.bar(X + 0.00, Score_train, color = 'lightgrey', width = 0.4)\n",
    "ax.bar(X + 0.4,Score_test , color = 'darkturquoise', width = 0.4)\n",
    "plt.ylabel('RMSE')   \n",
    "plt.xlabel('Depth of tree')\n",
    "plt.xticks(X)  \n",
    "ax.legend(['RMSE Train','RMSE Test'])"
   ]
  },
  {
   "cell_type": "code",
   "execution_count": 39,
   "id": "d917d021",
   "metadata": {},
   "outputs": [
    {
     "data": {
      "text/plain": [
       "[32.0, 34.0, 24.0, 19.0, 21.0, 20.0, 20.0, 17.0, 15.0]"
      ]
     },
     "execution_count": 39,
     "metadata": {},
     "output_type": "execute_result"
    }
   ],
   "source": [
    "Score_train"
   ]
  },
  {
   "cell_type": "code",
   "execution_count": 40,
   "id": "6504f03b",
   "metadata": {},
   "outputs": [
    {
     "data": {
      "text/plain": [
       "[28.0, 31.0, 26.0, 24.0, 25.0, 26.0, 26.0, 26.0, 22.0]"
      ]
     },
     "execution_count": 40,
     "metadata": {},
     "output_type": "execute_result"
    }
   ],
   "source": [
    "Score_test"
   ]
  },
  {
   "cell_type": "markdown",
   "id": "2409a329",
   "metadata": {},
   "source": [
    "* #### 4.8.2  Without Imbalance  <a class=\"anchor\" id=\"4.8.2\"></a> "
   ]
  },
  {
   "cell_type": "code",
   "execution_count": 41,
   "id": "a45cad79",
   "metadata": {},
   "outputs": [],
   "source": [
    "Score_test=[]\n",
    "Score_train=[]\n",
    "Depth=[]\n",
    "Within_Test=[]\n",
    "Within_Train=[]\n",
    "\n",
    "for i in range(1,10):\n",
    "    \n",
    "\n",
    "    Score_train_intercalar=abs(Loading_Surgeon_models_withoutimbalanced[i]['TrainScore'])\n",
    "    Score_test_intercalar=abs(Loading_Surgeon_models_withoutimbalanced[i]['TestScore'])\n",
    "    depth=Loading_Surgeon_models_withoutimbalanced[i]['Depth']\n",
    "    Within_intercalar_test=Loading_Surgeon_models_withoutimbalanced[i]['Percentage_Test_categorical'][0]\n",
    "    Within_intercalar_train=Loading_Surgeon_models_withoutimbalanced[i]['Percentage_Train_categorical'][0]\n",
    "     \n",
    "\n",
    "    Score_test+=[Score_test_intercalar]\n",
    "    Score_train+=[Score_train_intercalar]\n",
    "    Depth+=[depth]\n",
    "    Within_Test+=[Within_intercalar_test]\n",
    "    Within_Train+=[Within_intercalar_train]\n",
    "    \n",
    "      "
   ]
  },
  {
   "cell_type": "code",
   "execution_count": 42,
   "id": "044f08b3",
   "metadata": {},
   "outputs": [
    {
     "data": {
      "image/png": "[encoded data removed]",
      "text/plain": [
       "<Figure size 432x288 with 1 Axes>"
      ]
     },
     "metadata": {
      "needs_background": "light"
     },
     "output_type": "display_data"
    },
    {
     "data": {
      "text/plain": [
       "<Figure size 720x720 with 0 Axes>"
      ]
     },
     "metadata": {},
     "output_type": "display_data"
    }
   ],
   "source": [
    "colors = iter(plt.cm.rainbow(np.linspace(0, 1, len(Score_train))))\n",
    "\n",
    "\n",
    "plt.scatter(Within_Train, Depth)\n",
    "for i in range(len(Depth)):\n",
    "    \n",
    "    plt.arrow(x=Within_Train[i],y=Depth[i],dx=Within_Test[i],dy=0,color=next(colors))\n",
    "\n",
    "    \n",
    "plt.figure(figsize=(10,10))\n",
    "plt.show()"
   ]
  },
  {
   "cell_type": "code",
   "execution_count": 43,
   "id": "a3da492d",
   "metadata": {
    "scrolled": true
   },
   "outputs": [
    {
     "data": {
      "image/png": "[encoded data removed]",
      "text/plain": [
       "<Figure size 432x288 with 1 Axes>"
      ]
     },
     "metadata": {
      "needs_background": "light"
     },
     "output_type": "display_data"
    },
    {
     "data": {
      "text/plain": [
       "<Figure size 720x720 with 0 Axes>"
      ]
     },
     "metadata": {},
     "output_type": "display_data"
    }
   ],
   "source": [
    "colors = iter(plt.cm.rainbow(np.linspace(0, 1, len(Score_train))))\n",
    "\n",
    "\n",
    "plt.scatter(Score_train, Depth)\n",
    "for i in range(len(Depth)):\n",
    "    \n",
    "    plt.arrow(x=Score_train[i],y=Depth[i],dx=Score_test[i],dy=0,color=next(colors))\n",
    "\n",
    "    \n",
    "plt.figure(figsize=(10,10))\n",
    "plt.show()"
   ]
  },
  {
   "cell_type": "code",
   "execution_count": 44,
   "id": "c0002f7a",
   "metadata": {},
   "outputs": [
    {
     "data": {
      "text/plain": [
       "<matplotlib.legend.Legend at 0x1d2206d3d00>"
      ]
     },
     "execution_count": 44,
     "metadata": {},
     "output_type": "execute_result"
    },
    {
     "data": {
      "image/png": "[encoded data removed]",
      "text/plain": [
       "<Figure size 432x288 with 1 Axes>"
      ]
     },
     "metadata": {
      "needs_background": "light"
     },
     "output_type": "display_data"
    }
   ],
   "source": [
    "import numpy as np\n",
    "import matplotlib.pyplot as plt\n",
    "\n",
    "X = np.arange(1,19,2)\n",
    "fig = plt.figure()\n",
    "ax = fig.add_axes([0,0,1,1])\n",
    "ax.bar(X + 0.00, Score_train, color = 'lightgrey', width = 0.4)\n",
    "ax.bar(X + 0.4,Score_test , color = 'darkturquoise', width = 0.4)\n",
    "plt.ylabel('RMSE')   \n",
    "plt.xlabel('Depth of tree')\n",
    "plt.xticks(X)  \n",
    "ax.legend(['RMSE Train','RMSE Test'])"
   ]
  },
  {
   "cell_type": "markdown",
   "id": "d55e3efb",
   "metadata": {},
   "source": [
    "* ### 4.9.  Predictions  <a class=\"anchor\" id=\"4.9\"></a> "
   ]
  },
  {
   "cell_type": "markdown",
   "id": "celtic-notice",
   "metadata": {},
   "source": [
    "* #### 4.9.1  With Imbalance  <a class=\"anchor\" id=\"4.9.1\"></a> "
   ]
  },
  {
   "cell_type": "code",
   "execution_count": 45,
   "id": "a9bb81fb",
   "metadata": {},
   "outputs": [
    {
     "name": "stdout",
     "output_type": "stream",
     "text": [
      "Prediction to 3 depth \n"
     ]
    }
   ],
   "source": [
    "i=2\n",
    "planned_bycuf=Loading_Surgeon_models[i][\"Planned CUF\"]\n",
    "labels_test=Loading_Surgeon_models[i][\"Label Test\"]\n",
    "real_duration=Loading_Surgeon_models[i][\"Real Duration\"]\n",
    "\n",
    "print(\"Prediction to {} depth \".format(Loading_Surgeon_models[i][\"Depth\"]))"
   ]
  },
  {
   "cell_type": "code",
   "execution_count": 46,
   "id": "c32df2b6",
   "metadata": {},
   "outputs": [
    {
     "data": {
      "image/png": "[encoded data removed]",
      "text/plain": [
       "<Figure size 432x288 with 1 Axes>"
      ]
     },
     "metadata": {
      "needs_background": "light"
     },
     "output_type": "display_data"
    }
   ],
   "source": [
    "a = plt.axes(aspect='equal')\n",
    "plt.scatter(real_duration, labels_test)\n",
    "plt.xlabel('True Values [Time]')\n",
    "plt.ylabel('Predictions [Time]')\n",
    "lims = [0, 250]\n",
    "plt.xlim(lims)\n",
    "plt.ylim(lims)\n",
    "_ = plt.plot(lims, lims)"
   ]
  },
  {
   "cell_type": "code",
   "execution_count": 47,
   "id": "21bef726",
   "metadata": {},
   "outputs": [],
   "source": [
    "def percCal(x,y):\n",
    "    return (x-y)*100/x\n",
    "\n",
    "dataset_predicton=Loading_Surgeon_models[i]['Dataset_predicton']\n",
    "dataset_predicton['Error_XGboost'] = percCal(dataset_predicton['Real Duration'], dataset_predicton['Labels from XGBoost'])\n",
    "dataset_predicton['Error_CUF'] = percCal(dataset_predicton['Real Duration'], dataset_predicton['Planned by Cuf'])\n"
   ]
  },
  {
   "cell_type": "code",
   "execution_count": 48,
   "id": "9a82a0fa",
   "metadata": {},
   "outputs": [
    {
     "data": {
      "text/plain": [
       "Text(0.5, 1.0, '775653212')"
      ]
     },
     "execution_count": 48,
     "metadata": {},
     "output_type": "execute_result"
    },
    {
     "data": {
      "image/png": "[encoded data removed]",
      "text/plain": [
       "<Figure size 432x288 with 1 Axes>"
      ]
     },
     "metadata": {
      "needs_background": "light"
     },
     "output_type": "display_data"
    }
   ],
   "source": [
    "\n",
    "\n",
    "dataset_predicton['Error_CUF'].plot(kind='density')\n",
    "dataset_predicton['Error_XGboost'].plot(kind='density')\n",
    "plt.xlim([-400, 400])\n",
    "plt.title(list_surgeons[i])\n"
   ]
  },
  {
   "cell_type": "code",
   "execution_count": 49,
   "id": "a107d64b",
   "metadata": {},
   "outputs": [],
   "source": [
    "#Overutilization \n",
    "CUF_overuse=dataset_predicton[dataset_predicton['Error_CUF']>10].shape[0]/dataset_predicton.shape[0]\n",
    "XGBoost_overuse=dataset_predicton[dataset_predicton['Error_XGboost']>10].shape[0]/dataset_predicton.shape[0]\n",
    "#Underutilization\n",
    "CUF_under=dataset_predicton[dataset_predicton['Error_CUF']<-10].shape[0]/dataset_predicton.shape[0]\n",
    "XGBoost_under=dataset_predicton[dataset_predicton['Error_XGboost']<-10].shape[0]/dataset_predicton.shape[0]\n",
    "#Within\n",
    "CUF_Within=dataset_predicton[dataset_predicton['Error_CUF'].abs()<=10].shape[0]/dataset_predicton.shape[0]\n",
    "XGBoost_Within=dataset_predicton[dataset_predicton['Error_XGboost'].abs()<=10].shape[0]/dataset_predicton.shape[0]"
   ]
  },
  {
   "cell_type": "code",
   "execution_count": 51,
   "id": "affecbca",
   "metadata": {},
   "outputs": [
    {
     "data": {
      "text/plain": [
       "13.0"
      ]
     },
     "execution_count": 51,
     "metadata": {},
     "output_type": "execute_result"
    }
   ],
   "source": [
    "np.round(mean_squared_error(dataset_predicton['Labels from XGBoost'],dataset_predicton['Real Duration'],squared=False))\n"
   ]
  },
  {
   "cell_type": "code",
   "execution_count": 52,
   "id": "147e7ec6",
   "metadata": {},
   "outputs": [
    {
     "name": "stderr",
     "output_type": "stream",
     "text": [
      "Arrays of bytes/strings is being converted to decimal numbers if dtype='numeric'. This behavior is deprecated in 0.24 and will be removed in 1.1 (renaming of 0.26). Please convert your data to numeric values explicitly instead.\n"
     ]
    },
    {
     "data": {
      "text/plain": [
       "17.0"
      ]
     },
     "execution_count": 52,
     "metadata": {},
     "output_type": "execute_result"
    }
   ],
   "source": [
    "np.round(mean_squared_error(dataset_predicton['Planned by Cuf'],dataset_predicton['Real Duration'],squared=False))\n"
   ]
  },
  {
   "cell_type": "code",
   "execution_count": 50,
   "id": "5652e3de",
   "metadata": {},
   "outputs": [
    {
     "name": "stdout",
     "output_type": "stream",
     "text": [
      "-------------  -------------------  -------------------  -------------------\n",
      "Model          Within               Overutilization      Underutilization\n",
      "CUF Model      0.13924050632911392  0.27848101265822783  0.5822784810126582\n",
      "XGBoost Model  0.23417721518987342  0.6518987341772152   0.11392405063291139\n",
      "-------------  -------------------  -------------------  -------------------\n"
     ]
    }
   ],
   "source": [
    "table2 = [['Model', 'Within', 'Overutilization','Underutilization'], ['CUF Model', CUF_Within, CUF_overuse,CUF_under], ['XGBoost Model', XGBoost_Within, XGBoost_overuse,XGBoost_under]]\n",
    "print(tabulate(table2))"
   ]
  },
  {
   "cell_type": "code",
   "execution_count": 223,
   "id": "e6f171c0",
   "metadata": {},
   "outputs": [],
   "source": [
    "dataset_predicton['Labels from XGBoost'].to_csv('Labels_XGBoost_surgeon_imbalanced',index=False)"
   ]
  },
  {
   "cell_type": "markdown",
   "id": "dd6bc809",
   "metadata": {},
   "source": [
    "-----"
   ]
  },
  {
   "cell_type": "markdown",
   "id": "418cec79",
   "metadata": {},
   "source": [
    "* #### 4.9.2  Without Imbalance  <a class=\"anchor\" id=\"4.9.2\"></a> "
   ]
  },
  {
   "cell_type": "code",
   "execution_count": 54,
   "id": "6de25789",
   "metadata": {},
   "outputs": [
    {
     "name": "stdout",
     "output_type": "stream",
     "text": [
      "Prediction to 3 depth \n"
     ]
    }
   ],
   "source": [
    "#choose a number between 0-375 to choose speciality\n",
    "i=2\n",
    "\n",
    "planned_bycuf=Loading_Surgeon_models_withoutimbalanced[i][\"Planned CUF\"]\n",
    "labels_test=Loading_Surgeon_models_withoutimbalanced[i][\"Label Test\"]\n",
    "real_duration=Loading_Surgeon_models_withoutimbalanced[i][\"Real Duration\"]\n",
    "\n",
    "print(\"Prediction to {} depth \".format(Loading_Surgeon_models_withoutimbalanced[i][\"Depth\"]))"
   ]
  },
  {
   "cell_type": "code",
   "execution_count": 55,
   "id": "135256f7",
   "metadata": {},
   "outputs": [
    {
     "data": {
      "image/png": "[encoded data removed]",
      "text/plain": [
       "<Figure size 432x288 with 1 Axes>"
      ]
     },
     "metadata": {
      "needs_background": "light"
     },
     "output_type": "display_data"
    }
   ],
   "source": [
    "a = plt.axes(aspect='equal')\n",
    "plt.scatter(real_duration, labels_test)\n",
    "plt.xlabel('True Values [Time]')\n",
    "plt.ylabel('Predictions [Time]')\n",
    "lims = [0, 250]\n",
    "plt.xlim(lims)\n",
    "plt.ylim(lims)\n",
    "_ = plt.plot(lims, lims)"
   ]
  },
  {
   "cell_type": "code",
   "execution_count": 70,
   "id": "9e8d4df1",
   "metadata": {},
   "outputs": [],
   "source": [
    "def percCal(x,y):\n",
    "    return (x-y)*100/x\n",
    "\n",
    "dataset_predicton=Loading_Surgeon_models_withoutimbalanced[i]['Dataset_predicton']\n",
    "dataset_predicton['Error_XGboost'] = percCal(dataset_predicton['Real Duration'], dataset_predicton['Labels from XGBoost'])\n",
    "dataset_predicton['Error_CUF'] = percCal(dataset_predicton['Real Duration'], dataset_predicton['Planned by Cuf'])\n"
   ]
  },
  {
   "cell_type": "code",
   "execution_count": 71,
   "id": "232cfaf7",
   "metadata": {},
   "outputs": [
    {
     "data": {
      "text/plain": [
       "Text(0.5, 1.0, '775653212')"
      ]
     },
     "execution_count": 71,
     "metadata": {},
     "output_type": "execute_result"
    },
    {
     "data": {
      "image/png": "[encoded data removed]",
      "text/plain": [
       "<Figure size 432x288 with 1 Axes>"
      ]
     },
     "metadata": {
      "needs_background": "light"
     },
     "output_type": "display_data"
    }
   ],
   "source": [
    "\n",
    "\n",
    "dataset_predicton['Error_CUF'].plot(kind='density')\n",
    "dataset_predicton['Error_XGboost'].plot(kind='density')\n",
    "plt.xlim([-400, 400])\n",
    "plt.title(list_surgeons[i])\n"
   ]
  },
  {
   "cell_type": "code",
   "execution_count": 72,
   "id": "dd3db0f0",
   "metadata": {},
   "outputs": [
    {
     "data": {
      "text/plain": [
       "10.831806293354596"
      ]
     },
     "execution_count": 72,
     "metadata": {},
     "output_type": "execute_result"
    }
   ],
   "source": [
    "mean_squared_error(dataset_predicton['Labels from XGBoost'],dataset_predicton['Real Duration'],squared=False)\n",
    "  "
   ]
  },
  {
   "cell_type": "code",
   "execution_count": 73,
   "id": "c5c32406",
   "metadata": {},
   "outputs": [
    {
     "data": {
      "text/plain": [
       "16.990503676756422"
      ]
     },
     "execution_count": 73,
     "metadata": {},
     "output_type": "execute_result"
    }
   ],
   "source": [
    "mean_squared_error(dataset_predicton['Planned by Cuf'],dataset_predicton['Real Duration'],squared=False)\n"
   ]
  },
  {
   "cell_type": "code",
   "execution_count": 58,
   "id": "49e4a8bf",
   "metadata": {},
   "outputs": [],
   "source": [
    "#Overutilization \n",
    "CUF_overuse=dataset_predicton[dataset_predicton['Error_CUF']>10].shape[0]/dataset_predicton.shape[0]\n",
    "XGBoost_overuse=dataset_predicton[dataset_predicton['Error_XGboost']>10].shape[0]/dataset_predicton.shape[0]\n",
    "#Underutilization\n",
    "CUF_under=dataset_predicton[dataset_predicton['Error_CUF']<-10].shape[0]/dataset_predicton.shape[0]\n",
    "XGBoost_under=dataset_predicton[dataset_predicton['Error_XGboost']<-10].shape[0]/dataset_predicton.shape[0]\n",
    "#Within\n",
    "CUF_Within=dataset_predicton[dataset_predicton['Error_CUF'].abs()<=10].shape[0]/dataset_predicton.shape[0]\n",
    "XGBoost_Within=dataset_predicton[dataset_predicton['Error_XGboost'].abs()<=10].shape[0]/dataset_predicton.shape[0]"
   ]
  },
  {
   "cell_type": "code",
   "execution_count": 59,
   "id": "e48a142e",
   "metadata": {},
   "outputs": [
    {
     "name": "stdout",
     "output_type": "stream",
     "text": [
      "-------------  -------------------  ------------------  -------------------\n",
      "Model          Within               Overutilization     Underutilization\n",
      "CUF Model      0.18421052631578946  0.7368421052631579  0.07894736842105263\n",
      "XGBoost Model  0.21052631578947367  0.6578947368421053  0.13157894736842105\n",
      "-------------  -------------------  ------------------  -------------------\n"
     ]
    }
   ],
   "source": [
    "table2 = [['Model', 'Within', 'Overutilization','Underutilization'], ['CUF Model', CUF_Within, CUF_overuse,CUF_under], ['XGBoost Model', XGBoost_Within, XGBoost_overuse,XGBoost_under]]\n",
    "print(tabulate(table2))"
   ]
  },
  {
   "cell_type": "code",
   "execution_count": 230,
   "id": "f9f79ec0",
   "metadata": {},
   "outputs": [],
   "source": [
    "dataset_predicton['Labels from XGBoost'].to_csv('Labels_XGBoost_surgeon_not_imbalanced',index=False)"
   ]
  },
  {
   "cell_type": "markdown",
   "id": "b08a3339",
   "metadata": {},
   "source": [
    "---"
   ]
  },
  {
   "cell_type": "markdown",
   "id": "aca6fcf4",
   "metadata": {},
   "source": [
    "* ### 4.10. SHAP Explanation <a class=\"anchor\" id=\"4.10\"></a>"
   ]
  },
  {
   "cell_type": "code",
   "execution_count": 57,
   "id": "3b04d6f7",
   "metadata": {},
   "outputs": [
    {
     "ename": "XGBoostError",
     "evalue": "[10:30:09] C:/Users/Administrator/workspace/xgboost-win64_release_1.4.0/dmlc-core/src/io/local_filesys.cc:209: Check failed: allow_null:  LocalFileSystem::Open \"Surgeon_5050005_withoutimbalanced_depth2.model\": No such file or directory",
     "output_type": "error",
     "traceback": [
      "\u001b[1;31m---------------------------------------------------------------------------\u001b[0m",
      "\u001b[1;31mXGBoostError\u001b[0m                              Traceback (most recent call last)",
      "\u001b[1;32m<ipython-input-57-103e8209b747>\u001b[0m in \u001b[0;36m<module>\u001b[1;34m\u001b[0m\n\u001b[0;32m      6\u001b[0m \u001b[1;33m\u001b[0m\u001b[0m\n\u001b[0;32m      7\u001b[0m \u001b[0mbst_doctor\u001b[0m \u001b[1;33m=\u001b[0m \u001b[0mxgb\u001b[0m\u001b[1;33m.\u001b[0m\u001b[0mBooster\u001b[0m\u001b[1;33m(\u001b[0m\u001b[1;33m)\u001b[0m\u001b[1;33m\u001b[0m\u001b[1;33m\u001b[0m\u001b[0m\n\u001b[1;32m----> 8\u001b[1;33m \u001b[0mbst_doctor\u001b[0m\u001b[1;33m.\u001b[0m\u001b[0mload_model\u001b[0m\u001b[1;33m(\u001b[0m\u001b[1;34m\"Surgeon_5050005_withoutimbalanced_depth{}.model\"\u001b[0m\u001b[1;33m.\u001b[0m\u001b[0mformat\u001b[0m\u001b[1;33m(\u001b[0m\u001b[0mi\u001b[0m\u001b[1;33m)\u001b[0m\u001b[1;33m)\u001b[0m\u001b[1;33m\u001b[0m\u001b[1;33m\u001b[0m\u001b[0m\n\u001b[0m\u001b[0;32m      9\u001b[0m \u001b[1;33m\u001b[0m\u001b[0m\n\u001b[0;32m     10\u001b[0m \u001b[0mshap_values\u001b[0m \u001b[1;33m=\u001b[0m \u001b[0mshap\u001b[0m\u001b[1;33m.\u001b[0m\u001b[0mTreeExplainer\u001b[0m\u001b[1;33m(\u001b[0m\u001b[0mbst_doctor\u001b[0m\u001b[1;33m)\u001b[0m\u001b[1;33m.\u001b[0m\u001b[0mshap_values\u001b[0m\u001b[1;33m(\u001b[0m\u001b[0mX_shap\u001b[0m\u001b[1;33m)\u001b[0m\u001b[1;33m\u001b[0m\u001b[1;33m\u001b[0m\u001b[0m\n",
      "\u001b[1;32m~\\anaconda3\\lib\\site-packages\\xgboost\\core.py\u001b[0m in \u001b[0;36mload_model\u001b[1;34m(self, fname)\u001b[0m\n\u001b[0;32m   1980\u001b[0m             \u001b[1;31m# from URL.\u001b[0m\u001b[1;33m\u001b[0m\u001b[1;33m\u001b[0m\u001b[1;33m\u001b[0m\u001b[0m\n\u001b[0;32m   1981\u001b[0m             \u001b[0mfname\u001b[0m \u001b[1;33m=\u001b[0m \u001b[0mos\u001b[0m\u001b[1;33m.\u001b[0m\u001b[0mfspath\u001b[0m\u001b[1;33m(\u001b[0m\u001b[0mos\u001b[0m\u001b[1;33m.\u001b[0m\u001b[0mpath\u001b[0m\u001b[1;33m.\u001b[0m\u001b[0mexpanduser\u001b[0m\u001b[1;33m(\u001b[0m\u001b[0mfname\u001b[0m\u001b[1;33m)\u001b[0m\u001b[1;33m)\u001b[0m\u001b[1;33m\u001b[0m\u001b[1;33m\u001b[0m\u001b[0m\n\u001b[1;32m-> 1982\u001b[1;33m             _check_call(_LIB.XGBoosterLoadModel(\n\u001b[0m\u001b[0;32m   1983\u001b[0m                 self.handle, c_str(fname)))\n\u001b[0;32m   1984\u001b[0m         \u001b[1;32melif\u001b[0m \u001b[0misinstance\u001b[0m\u001b[1;33m(\u001b[0m\u001b[0mfname\u001b[0m\u001b[1;33m,\u001b[0m \u001b[0mbytearray\u001b[0m\u001b[1;33m)\u001b[0m\u001b[1;33m:\u001b[0m\u001b[1;33m\u001b[0m\u001b[1;33m\u001b[0m\u001b[0m\n",
      "\u001b[1;32m~\\anaconda3\\lib\\site-packages\\xgboost\\core.py\u001b[0m in \u001b[0;36m_check_call\u001b[1;34m(ret)\u001b[0m\n\u001b[0;32m    208\u001b[0m     \"\"\"\n\u001b[0;32m    209\u001b[0m     \u001b[1;32mif\u001b[0m \u001b[0mret\u001b[0m \u001b[1;33m!=\u001b[0m \u001b[1;36m0\u001b[0m\u001b[1;33m:\u001b[0m\u001b[1;33m\u001b[0m\u001b[1;33m\u001b[0m\u001b[0m\n\u001b[1;32m--> 210\u001b[1;33m         \u001b[1;32mraise\u001b[0m \u001b[0mXGBoostError\u001b[0m\u001b[1;33m(\u001b[0m\u001b[0mpy_str\u001b[0m\u001b[1;33m(\u001b[0m\u001b[0m_LIB\u001b[0m\u001b[1;33m.\u001b[0m\u001b[0mXGBGetLastError\u001b[0m\u001b[1;33m(\u001b[0m\u001b[1;33m)\u001b[0m\u001b[1;33m)\u001b[0m\u001b[1;33m)\u001b[0m\u001b[1;33m\u001b[0m\u001b[1;33m\u001b[0m\u001b[0m\n\u001b[0m\u001b[0;32m    211\u001b[0m \u001b[1;33m\u001b[0m\u001b[0m\n\u001b[0;32m    212\u001b[0m \u001b[1;33m\u001b[0m\u001b[0m\n",
      "\u001b[1;31mXGBoostError\u001b[0m: [10:30:09] C:/Users/Administrator/workspace/xgboost-win64_release_1.4.0/dmlc-core/src/io/local_filesys.cc:209: Check failed: allow_null:  LocalFileSystem::Open \"Surgeon_5050005_withoutimbalanced_depth2.model\": No such file or directory"
     ]
    }
   ],
   "source": [
    "#choose a number between 0-375 to choose speciality\n",
    "i=2\n",
    "\n",
    "X_shap=splittrain_test()[0] #drop column planned duration\n",
    " \n",
    "    \n",
    "bst_doctor = xgb.Booster()\n",
    "bst_doctor.load_model(\"Surgeon_96440008_withoutimbalanced_depth{}.model\".format(i))\n",
    "   \n",
    "shap_values = shap.TreeExplainer(bst_doctor).shap_values(X_shap)\n",
    "\n",
    "explainer = shap.Explainer(bst_doctor)\n",
    "shap_values1 = explainer(X_shap)\n",
    "\n",
    "print(\"Prediction to {} depth \".format(Loading_Surgeon_models[i][\"Depth\"]))"
   ]
  },
  {
   "cell_type": "markdown",
   "id": "material-journalism",
   "metadata": {},
   "source": [
    "The next explanation shows features each contributing to push the model output from the base value (the average model output over the training dataset we passed) to the model output. Features pushing the prediction higher are shown in red, those pushing the prediction lower are in blue. \n"
   ]
  },
  {
   "cell_type": "markdown",
   "id": "concerned-influence",
   "metadata": {},
   "source": [
    "#### 4.10.1 SHAP Summary Plot <a class=\"anchor\" id=\"4.10.1\"></a>\n",
    "\n",
    "The SHAP values for XGBoost explain the margin output of the model, which is the change in log odds of dying for a Cox proportional hazards model. We can see below that the primary risk to a high use time according to the model is procedures.\n",
    "\n",
    "This summary plot replaces the typical bar chart of feature importance. It tells which features are most important, and also their range of effects over the dataset. The color allows us match how changes in the value of a feature effect the change in time \n"
   ]
  },
  {
   "cell_type": "code",
   "execution_count": 221,
   "id": "covered-parking",
   "metadata": {},
   "outputs": [
    {
     "data": {
      "image/png": "[encoded data removed]",
      "text/plain": [
       "<Figure size 576x511.2 with 2 Axes>"
      ]
     },
     "metadata": {
      "needs_background": "light"
     },
     "output_type": "display_data"
    }
   ],
   "source": [
    "shap.summary_plot(shap_values, X_shap) #65.914215686 CIRURGIA Geral"
   ]
  },
  {
   "cell_type": "code",
   "execution_count": 222,
   "id": "62b7af99",
   "metadata": {},
   "outputs": [
    {
     "data": {
      "image/png": "[encoded data removed]",
      "text/plain": [
       "<Figure size 576x468 with 3 Axes>"
      ]
     },
     "metadata": {},
     "output_type": "display_data"
    }
   ],
   "source": [
    "shap.plots.waterfall(shap_values1[0])"
   ]
  },
  {
   "cell_type": "markdown",
   "id": "opposed-brunei",
   "metadata": {},
   "source": [
    "#### 4.10.2 SHAP Dependence Plots <a class=\"anchor\" id=\"4.10.2\"></a>"
   ]
  },
  {
   "cell_type": "code",
   "execution_count": 223,
   "id": "pursuant-throat",
   "metadata": {},
   "outputs": [
    {
     "data": {
      "image/png": "[encoded data removed]",
      "text/plain": [
       "<Figure size 540x360 with 2 Axes>"
      ]
     },
     "metadata": {
      "needs_background": "light"
     },
     "output_type": "display_data"
    }
   ],
   "source": [
    "shap.dependence_plot(\"Age\", shap_values, X_shap)"
   ]
  },
  {
   "cell_type": "code",
   "execution_count": 224,
   "id": "forward-advice",
   "metadata": {},
   "outputs": [
    {
     "data": {
      "image/png": "[encoded data removed]",
      "text/plain": [
       "<Figure size 540x360 with 2 Axes>"
      ]
     },
     "metadata": {
      "needs_background": "light"
     },
     "output_type": "display_data"
    }
   ],
   "source": [
    "shap.dependence_plot(\"Gender\", shap_values, X_shap)"
   ]
  },
  {
   "cell_type": "code",
   "execution_count": 225,
   "id": "egyptian-rendering",
   "metadata": {},
   "outputs": [
    {
     "data": {
      "image/png": "[encoded data removed]",
      "text/plain": [
       "<Figure size 540x360 with 2 Axes>"
      ]
     },
     "metadata": {
      "needs_background": "light"
     },
     "output_type": "display_data"
    }
   ],
   "source": [
    "shap.dependence_plot(\"Anesthesia\", shap_values, X_shap)"
   ]
  },
  {
   "cell_type": "code",
   "execution_count": 226,
   "id": "vanilla-tsunami",
   "metadata": {},
   "outputs": [
    {
     "data": {
      "image/png": "[encoded data removed]",
      "text/plain": [
       "<Figure size 540x360 with 2 Axes>"
      ]
     },
     "metadata": {
      "needs_background": "light"
     },
     "output_type": "display_data"
    }
   ],
   "source": [
    "shap.dependence_plot(\"Hospitalization\", shap_values, X_shap)"
   ]
  },
  {
   "cell_type": "code",
   "execution_count": 227,
   "id": "unlikely-formula",
   "metadata": {},
   "outputs": [
    {
     "data": {
      "image/png": "[encoded data removed]",
      "text/plain": [
       "<Figure size 540x360 with 2 Axes>"
      ]
     },
     "metadata": {
      "needs_background": "light"
     },
     "output_type": "display_data"
    }
   ],
   "source": [
    "shap.dependence_plot(\"I1\", shap_values, X_shap)"
   ]
  },
  {
   "cell_type": "markdown",
   "id": "framed-headquarters",
   "metadata": {},
   "source": [
    "#### 4.10.3 Compute SHAP Interaction Values <a class=\"anchor\" id=\"4.10.3\"></a>"
   ]
  },
  {
   "cell_type": "code",
   "execution_count": 228,
   "id": "british-style",
   "metadata": {},
   "outputs": [],
   "source": [
    "shap_interaction_values = shap.TreeExplainer(bst_doctor).shap_interaction_values(X_shap)"
   ]
  },
  {
   "cell_type": "code",
   "execution_count": 229,
   "id": "authentic-cancellation",
   "metadata": {
    "scrolled": true
   },
   "outputs": [
    {
     "data": {
      "image/png": "[encoded data removed]",
      "text/plain": [
       "<Figure size 828x475.2 with 7 Axes>"
      ]
     },
     "metadata": {
      "needs_background": "light"
     },
     "output_type": "display_data"
    }
   ],
   "source": [
    "shap.summary_plot(shap_interaction_values, X_shap)"
   ]
  },
  {
   "cell_type": "code",
   "execution_count": 230,
   "id": "affected-demographic",
   "metadata": {
    "scrolled": true
   },
   "outputs": [
    {
     "name": "stderr",
     "output_type": "stream",
     "text": [
      "Passing parameters norm and vmin/vmax simultaneously is deprecated since 3.3 and will become an error two minor releases later. Please pass vmin/vmax directly to the norm when creating it.\n"
     ]
    },
    {
     "data": {
      "image/png": "[encoded data removed]",
      "text/plain": [
       "<Figure size 540x360 with 2 Axes>"
      ]
     },
     "metadata": {
      "needs_background": "light"
     },
     "output_type": "display_data"
    }
   ],
   "source": [
    "shap.dependence_plot(\n",
    "    (\"Age\", \"Gender\"),\n",
    "    shap_interaction_values, X_shap\n",
    ")"
   ]
  },
  {
   "cell_type": "code",
   "execution_count": null,
   "id": "b1d730b8",
   "metadata": {},
   "outputs": [],
   "source": []
  }
 ],
 "metadata": {
  "kernelspec": {
   "display_name": "Python 3",
   "language": "python",
   "name": "python3"
  },
  "language_info": {
   "codemirror_mode": {
    "name": "ipython",
    "version": 3
   },
   "file_extension": ".py",
   "mimetype": "text/x-python",
   "name": "python",
   "nbconvert_exporter": "python",
   "pygments_lexer": "ipython3",
   "version": "3.8.8"
  }
 },
 "nbformat": 4,
 "nbformat_minor": 5
}
