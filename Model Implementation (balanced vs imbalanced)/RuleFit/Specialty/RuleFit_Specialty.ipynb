{
 "cells": [
  {
   "cell_type": "markdown",
   "metadata": {},
   "source": [
    "# Rule Fit applied to Speciality\n",
    "\n",
    "#### Made by:\n",
    "* Teresa Marcelino (teresamarcelino98@gmail.com)\n",
    "\n",
    "\n",
    "-------\n",
    "\n",
    "\n"
   ]
  },
  {
   "cell_type": "code",
   "execution_count": 54,
   "metadata": {},
   "outputs": [],
   "source": [
    "%store -r Speciality_model_Ophthalmology\n",
    "%store -r Best_Parameters_Regularizers_Ophthalmology\n",
    "%store -r Rashomon_curve_speciality"
   ]
  },
  {
   "cell_type": "code",
   "execution_count": 55,
   "metadata": {},
   "outputs": [],
   "source": [
    "%store -r Specialities_Dataset\n",
    "%store -r list_specialities"
   ]
  },
  {
   "cell_type": "markdown",
   "metadata": {},
   "source": [
    "----"
   ]
  },
  {
   "cell_type": "markdown",
   "metadata": {
    "id": "5YX6LDDr5u0A"
   },
   "source": [
    "\n",
    "\n",
    "## 1. Load Data and Libraries  <a class=\"anchor\" id=\"1\"></a> \n"
   ]
  },
  {
   "cell_type": "code",
   "execution_count": 56,
   "metadata": {
    "executionInfo": {
     "elapsed": 313,
     "status": "ok",
     "timestamp": 1623152190991,
     "user": {
      "displayName": "Maria Teresa De Carvalho Dias Marcelino",
      "photoUrl": "",
      "userId": "09725677787817561318"
     },
     "user_tz": -60
    },
    "id": "EhykeetsyVnv"
   },
   "outputs": [],
   "source": [
    "import numpy as np # linear algebra\n",
    "import pandas as pd # data processing, CSV file I/O (e.g. pd.read_csv)\n",
    "import seaborn as sns\n",
    "import shap\n",
    "import matplotlib.pyplot as plt\n",
    "#from rulefit import RuleFit\n",
    "\n",
    "import sklearn\n",
    "\n",
    "from sklearn.linear_model import LinearRegression, Ridge\n",
    "from sklearn.ensemble import GradientBoostingRegressor, RandomForestRegressor, AdaBoostRegressor, BaggingRegressor, ExtraTreesRegressor\n",
    "from sklearn.tree import DecisionTreeRegressor\n",
    "#Encoder\n",
    "from category_encoders import TargetEncoder\n",
    "from sklearn.preprocessing import StandardScaler\n",
    "\n",
    "from sklearn.metrics import *\n",
    "import matplotlib\n",
    "import copy\n",
    "from datetime import datetime\n",
    "\n",
    "from sklearn.linear_model import LassoCV\n",
    "from sklearn.model_selection import GridSearchCV\n",
    "from sklearn.linear_model import Lasso\n",
    "from sklearn.model_selection import cross_val_score\n",
    "\n",
    "from tabulate import tabulate\n",
    "import pickle\n",
    "import math"
   ]
  },
  {
   "cell_type": "code",
   "execution_count": 57,
   "metadata": {},
   "outputs": [],
   "source": [
    "import RuleFit_withoutCV as RuleFit_withoutCV\n",
    "\n",
    "import RuleFit_customized as RuleFit_custom\n",
    "from rulefit import RuleFit \n",
    "import pyowl\n",
    "from pyowl import OwlRegressor"
   ]
  },
  {
   "cell_type": "code",
   "execution_count": 58,
   "metadata": {},
   "outputs": [
    {
     "data": {
      "text/html": [
       "<div>\n",
       "<style scoped>\n",
       "    .dataframe tbody tr th:only-of-type {\n",
       "        vertical-align: middle;\n",
       "    }\n",
       "\n",
       "    .dataframe tbody tr th {\n",
       "        vertical-align: top;\n",
       "    }\n",
       "\n",
       "    .dataframe thead th {\n",
       "        text-align: right;\n",
       "    }\n",
       "</style>\n",
       "<table border=\"1\" class=\"dataframe\">\n",
       "  <thead>\n",
       "    <tr style=\"text-align: right;\">\n",
       "      <th></th>\n",
       "      <th>Urgency</th>\n",
       "      <th>Hospitalization</th>\n",
       "      <th>Gender</th>\n",
       "      <th>Daily Surgery Number_perDoctor</th>\n",
       "      <th>Surgery Number Performed_perDoctor</th>\n",
       "      <th>Procedures_I</th>\n",
       "      <th>Real Room Duration</th>\n",
       "      <th>Age</th>\n",
       "      <th>CUF Planned Duration</th>\n",
       "      <th>Doctor</th>\n",
       "      <th>CUF_Unit</th>\n",
       "      <th>Part of the day</th>\n",
       "      <th>I1</th>\n",
       "      <th>Month</th>\n",
       "      <th>Weekday</th>\n",
       "      <th>Anesthesia</th>\n",
       "    </tr>\n",
       "  </thead>\n",
       "  <tbody>\n",
       "    <tr>\n",
       "      <th>0</th>\n",
       "      <td>0</td>\n",
       "      <td>1</td>\n",
       "      <td>0</td>\n",
       "      <td>4</td>\n",
       "      <td>11</td>\n",
       "      <td>1</td>\n",
       "      <td>36</td>\n",
       "      <td>68.0</td>\n",
       "      <td>60</td>\n",
       "      <td>43.375940</td>\n",
       "      <td>37.703783</td>\n",
       "      <td>39.423691</td>\n",
       "      <td>29.399988</td>\n",
       "      <td>35.055131</td>\n",
       "      <td>34.884527</td>\n",
       "      <td>53.486158</td>\n",
       "    </tr>\n",
       "    <tr>\n",
       "      <th>1</th>\n",
       "      <td>0</td>\n",
       "      <td>1</td>\n",
       "      <td>1</td>\n",
       "      <td>1</td>\n",
       "      <td>71</td>\n",
       "      <td>1</td>\n",
       "      <td>41</td>\n",
       "      <td>65.0</td>\n",
       "      <td>60</td>\n",
       "      <td>36.311628</td>\n",
       "      <td>37.703783</td>\n",
       "      <td>36.551606</td>\n",
       "      <td>29.399988</td>\n",
       "      <td>33.255834</td>\n",
       "      <td>32.554100</td>\n",
       "      <td>53.486158</td>\n",
       "    </tr>\n",
       "    <tr>\n",
       "      <th>2</th>\n",
       "      <td>0</td>\n",
       "      <td>1</td>\n",
       "      <td>1</td>\n",
       "      <td>5</td>\n",
       "      <td>16</td>\n",
       "      <td>1</td>\n",
       "      <td>30</td>\n",
       "      <td>73.0</td>\n",
       "      <td>60</td>\n",
       "      <td>27.969697</td>\n",
       "      <td>28.233843</td>\n",
       "      <td>36.551606</td>\n",
       "      <td>29.399988</td>\n",
       "      <td>36.000000</td>\n",
       "      <td>35.058103</td>\n",
       "      <td>28.201140</td>\n",
       "    </tr>\n",
       "    <tr>\n",
       "      <th>3</th>\n",
       "      <td>0</td>\n",
       "      <td>1</td>\n",
       "      <td>1</td>\n",
       "      <td>5</td>\n",
       "      <td>18</td>\n",
       "      <td>1</td>\n",
       "      <td>31</td>\n",
       "      <td>81.0</td>\n",
       "      <td>30</td>\n",
       "      <td>30.974576</td>\n",
       "      <td>26.387958</td>\n",
       "      <td>39.423691</td>\n",
       "      <td>29.399988</td>\n",
       "      <td>37.007716</td>\n",
       "      <td>36.602331</td>\n",
       "      <td>30.848830</td>\n",
       "    </tr>\n",
       "    <tr>\n",
       "      <th>4</th>\n",
       "      <td>0</td>\n",
       "      <td>1</td>\n",
       "      <td>1</td>\n",
       "      <td>2</td>\n",
       "      <td>83</td>\n",
       "      <td>1</td>\n",
       "      <td>58</td>\n",
       "      <td>86.0</td>\n",
       "      <td>60</td>\n",
       "      <td>36.311628</td>\n",
       "      <td>37.703783</td>\n",
       "      <td>36.551606</td>\n",
       "      <td>29.399988</td>\n",
       "      <td>33.342558</td>\n",
       "      <td>32.554100</td>\n",
       "      <td>53.486158</td>\n",
       "    </tr>\n",
       "    <tr>\n",
       "      <th>...</th>\n",
       "      <td>...</td>\n",
       "      <td>...</td>\n",
       "      <td>...</td>\n",
       "      <td>...</td>\n",
       "      <td>...</td>\n",
       "      <td>...</td>\n",
       "      <td>...</td>\n",
       "      <td>...</td>\n",
       "      <td>...</td>\n",
       "      <td>...</td>\n",
       "      <td>...</td>\n",
       "      <td>...</td>\n",
       "      <td>...</td>\n",
       "      <td>...</td>\n",
       "      <td>...</td>\n",
       "      <td>...</td>\n",
       "    </tr>\n",
       "    <tr>\n",
       "      <th>2724</th>\n",
       "      <td>0</td>\n",
       "      <td>1</td>\n",
       "      <td>1</td>\n",
       "      <td>2</td>\n",
       "      <td>1555</td>\n",
       "      <td>1</td>\n",
       "      <td>20</td>\n",
       "      <td>51.0</td>\n",
       "      <td>30</td>\n",
       "      <td>28.728209</td>\n",
       "      <td>35.808129</td>\n",
       "      <td>32.937803</td>\n",
       "      <td>29.399988</td>\n",
       "      <td>33.342558</td>\n",
       "      <td>36.602331</td>\n",
       "      <td>30.848830</td>\n",
       "    </tr>\n",
       "    <tr>\n",
       "      <th>2725</th>\n",
       "      <td>0</td>\n",
       "      <td>1</td>\n",
       "      <td>0</td>\n",
       "      <td>3</td>\n",
       "      <td>1415</td>\n",
       "      <td>1</td>\n",
       "      <td>25</td>\n",
       "      <td>73.0</td>\n",
       "      <td>30</td>\n",
       "      <td>28.728209</td>\n",
       "      <td>35.808129</td>\n",
       "      <td>36.551606</td>\n",
       "      <td>29.399988</td>\n",
       "      <td>35.937566</td>\n",
       "      <td>34.884527</td>\n",
       "      <td>30.848830</td>\n",
       "    </tr>\n",
       "    <tr>\n",
       "      <th>2726</th>\n",
       "      <td>0</td>\n",
       "      <td>1</td>\n",
       "      <td>0</td>\n",
       "      <td>2</td>\n",
       "      <td>1354</td>\n",
       "      <td>1</td>\n",
       "      <td>45</td>\n",
       "      <td>69.0</td>\n",
       "      <td>30</td>\n",
       "      <td>28.728209</td>\n",
       "      <td>35.808129</td>\n",
       "      <td>39.423691</td>\n",
       "      <td>29.399988</td>\n",
       "      <td>34.384065</td>\n",
       "      <td>34.884527</td>\n",
       "      <td>53.486158</td>\n",
       "    </tr>\n",
       "    <tr>\n",
       "      <th>2727</th>\n",
       "      <td>0</td>\n",
       "      <td>1</td>\n",
       "      <td>0</td>\n",
       "      <td>4</td>\n",
       "      <td>1303</td>\n",
       "      <td>1</td>\n",
       "      <td>30</td>\n",
       "      <td>69.0</td>\n",
       "      <td>20</td>\n",
       "      <td>28.728209</td>\n",
       "      <td>35.808129</td>\n",
       "      <td>39.423691</td>\n",
       "      <td>29.399988</td>\n",
       "      <td>36.000000</td>\n",
       "      <td>34.884527</td>\n",
       "      <td>30.848830</td>\n",
       "    </tr>\n",
       "    <tr>\n",
       "      <th>2728</th>\n",
       "      <td>0</td>\n",
       "      <td>1</td>\n",
       "      <td>1</td>\n",
       "      <td>1</td>\n",
       "      <td>181</td>\n",
       "      <td>1</td>\n",
       "      <td>32</td>\n",
       "      <td>65.0</td>\n",
       "      <td>45</td>\n",
       "      <td>43.584795</td>\n",
       "      <td>35.808129</td>\n",
       "      <td>36.551606</td>\n",
       "      <td>29.399988</td>\n",
       "      <td>34.384065</td>\n",
       "      <td>35.058103</td>\n",
       "      <td>30.848830</td>\n",
       "    </tr>\n",
       "  </tbody>\n",
       "</table>\n",
       "<p>2729 rows × 16 columns</p>\n",
       "</div>"
      ],
      "text/plain": [
       "      Urgency  Hospitalization  Gender  Daily Surgery Number_perDoctor  \\\n",
       "0           0                1       0                               4   \n",
       "1           0                1       1                               1   \n",
       "2           0                1       1                               5   \n",
       "3           0                1       1                               5   \n",
       "4           0                1       1                               2   \n",
       "...       ...              ...     ...                             ...   \n",
       "2724        0                1       1                               2   \n",
       "2725        0                1       0                               3   \n",
       "2726        0                1       0                               2   \n",
       "2727        0                1       0                               4   \n",
       "2728        0                1       1                               1   \n",
       "\n",
       "      Surgery Number Performed_perDoctor  Procedures_I  Real Room Duration  \\\n",
       "0                                     11             1                  36   \n",
       "1                                     71             1                  41   \n",
       "2                                     16             1                  30   \n",
       "3                                     18             1                  31   \n",
       "4                                     83             1                  58   \n",
       "...                                  ...           ...                 ...   \n",
       "2724                                1555             1                  20   \n",
       "2725                                1415             1                  25   \n",
       "2726                                1354             1                  45   \n",
       "2727                                1303             1                  30   \n",
       "2728                                 181             1                  32   \n",
       "\n",
       "       Age  CUF Planned Duration     Doctor   CUF_Unit  Part of the day  \\\n",
       "0     68.0                    60  43.375940  37.703783        39.423691   \n",
       "1     65.0                    60  36.311628  37.703783        36.551606   \n",
       "2     73.0                    60  27.969697  28.233843        36.551606   \n",
       "3     81.0                    30  30.974576  26.387958        39.423691   \n",
       "4     86.0                    60  36.311628  37.703783        36.551606   \n",
       "...    ...                   ...        ...        ...              ...   \n",
       "2724  51.0                    30  28.728209  35.808129        32.937803   \n",
       "2725  73.0                    30  28.728209  35.808129        36.551606   \n",
       "2726  69.0                    30  28.728209  35.808129        39.423691   \n",
       "2727  69.0                    20  28.728209  35.808129        39.423691   \n",
       "2728  65.0                    45  43.584795  35.808129        36.551606   \n",
       "\n",
       "             I1      Month    Weekday  Anesthesia  \n",
       "0     29.399988  35.055131  34.884527   53.486158  \n",
       "1     29.399988  33.255834  32.554100   53.486158  \n",
       "2     29.399988  36.000000  35.058103   28.201140  \n",
       "3     29.399988  37.007716  36.602331   30.848830  \n",
       "4     29.399988  33.342558  32.554100   53.486158  \n",
       "...         ...        ...        ...         ...  \n",
       "2724  29.399988  33.342558  36.602331   30.848830  \n",
       "2725  29.399988  35.937566  34.884527   30.848830  \n",
       "2726  29.399988  34.384065  34.884527   53.486158  \n",
       "2727  29.399988  36.000000  34.884527   30.848830  \n",
       "2728  29.399988  34.384065  35.058103   30.848830  \n",
       "\n",
       "[2729 rows x 16 columns]"
      ]
     },
     "execution_count": 58,
     "metadata": {},
     "output_type": "execute_result"
    }
   ],
   "source": [
    "df_test_speciality = pd.read_csv('Data_test_speciality',header='infer')\n",
    "df_test_speciality\n"
   ]
  },
  {
   "cell_type": "code",
   "execution_count": 59,
   "metadata": {
    "colab": {
     "base_uri": "https://localhost:8080/"
    },
    "executionInfo": {
     "elapsed": 1347,
     "status": "ok",
     "timestamp": 1623150738852,
     "user": {
      "displayName": "Maria Teresa De Carvalho Dias Marcelino",
      "photoUrl": "",
      "userId": "09725677787817561318"
     },
     "user_tz": -60
    },
    "id": "t_BCNasFzs1a",
    "outputId": "2af652a1-c4c9-4b66-9d89-781c4fe60dbe"
   },
   "outputs": [
    {
     "data": {
      "text/html": [
       "<div>\n",
       "<style scoped>\n",
       "    .dataframe tbody tr th:only-of-type {\n",
       "        vertical-align: middle;\n",
       "    }\n",
       "\n",
       "    .dataframe tbody tr th {\n",
       "        vertical-align: top;\n",
       "    }\n",
       "\n",
       "    .dataframe thead th {\n",
       "        text-align: right;\n",
       "    }\n",
       "</style>\n",
       "<table border=\"1\" class=\"dataframe\">\n",
       "  <thead>\n",
       "    <tr style=\"text-align: right;\">\n",
       "      <th></th>\n",
       "      <th>Urgency</th>\n",
       "      <th>Hospitalization</th>\n",
       "      <th>Gender</th>\n",
       "      <th>Daily Surgery Number_perDoctor</th>\n",
       "      <th>Surgery Number Performed_perDoctor</th>\n",
       "      <th>Procedures_I</th>\n",
       "      <th>Real Room Duration</th>\n",
       "      <th>Age</th>\n",
       "      <th>CUF Planned Duration</th>\n",
       "      <th>Doctor</th>\n",
       "      <th>CUF_Unit</th>\n",
       "      <th>Part of the day</th>\n",
       "      <th>I1</th>\n",
       "      <th>Month</th>\n",
       "      <th>Weekday</th>\n",
       "      <th>Anesthesia</th>\n",
       "    </tr>\n",
       "  </thead>\n",
       "  <tbody>\n",
       "    <tr>\n",
       "      <th>0</th>\n",
       "      <td>0</td>\n",
       "      <td>1</td>\n",
       "      <td>1</td>\n",
       "      <td>2.0</td>\n",
       "      <td>240.0</td>\n",
       "      <td>1.0</td>\n",
       "      <td>47.261936</td>\n",
       "      <td>71.315091</td>\n",
       "      <td>NaN</td>\n",
       "      <td>35.888239</td>\n",
       "      <td>28.127457</td>\n",
       "      <td>37.998379</td>\n",
       "      <td>29.398867</td>\n",
       "      <td>34.720835</td>\n",
       "      <td>35.298601</td>\n",
       "      <td>30.850072</td>\n",
       "    </tr>\n",
       "    <tr>\n",
       "      <th>1</th>\n",
       "      <td>0</td>\n",
       "      <td>1</td>\n",
       "      <td>1</td>\n",
       "      <td>3.0</td>\n",
       "      <td>44.0</td>\n",
       "      <td>2.0</td>\n",
       "      <td>27.000000</td>\n",
       "      <td>71.000000</td>\n",
       "      <td>30.0</td>\n",
       "      <td>24.434579</td>\n",
       "      <td>29.894079</td>\n",
       "      <td>32.937803</td>\n",
       "      <td>31.382716</td>\n",
       "      <td>33.342558</td>\n",
       "      <td>36.602331</td>\n",
       "      <td>30.848830</td>\n",
       "    </tr>\n",
       "    <tr>\n",
       "      <th>2</th>\n",
       "      <td>0</td>\n",
       "      <td>1</td>\n",
       "      <td>1</td>\n",
       "      <td>3.0</td>\n",
       "      <td>85.0</td>\n",
       "      <td>1.0</td>\n",
       "      <td>46.000000</td>\n",
       "      <td>77.000000</td>\n",
       "      <td>NaN</td>\n",
       "      <td>45.378947</td>\n",
       "      <td>33.228385</td>\n",
       "      <td>33.029912</td>\n",
       "      <td>29.399988</td>\n",
       "      <td>36.893540</td>\n",
       "      <td>35.058103</td>\n",
       "      <td>30.848830</td>\n",
       "    </tr>\n",
       "    <tr>\n",
       "      <th>3</th>\n",
       "      <td>0</td>\n",
       "      <td>0</td>\n",
       "      <td>1</td>\n",
       "      <td>1.0</td>\n",
       "      <td>506.0</td>\n",
       "      <td>1.0</td>\n",
       "      <td>51.854021</td>\n",
       "      <td>67.398397</td>\n",
       "      <td>NaN</td>\n",
       "      <td>37.604121</td>\n",
       "      <td>36.941209</td>\n",
       "      <td>32.927294</td>\n",
       "      <td>29.401959</td>\n",
       "      <td>34.937211</td>\n",
       "      <td>35.250030</td>\n",
       "      <td>41.915108</td>\n",
       "    </tr>\n",
       "    <tr>\n",
       "      <th>4</th>\n",
       "      <td>0</td>\n",
       "      <td>1</td>\n",
       "      <td>1</td>\n",
       "      <td>3.0</td>\n",
       "      <td>42.0</td>\n",
       "      <td>1.0</td>\n",
       "      <td>25.000000</td>\n",
       "      <td>69.000000</td>\n",
       "      <td>30.0</td>\n",
       "      <td>33.147368</td>\n",
       "      <td>35.808129</td>\n",
       "      <td>36.551606</td>\n",
       "      <td>29.399988</td>\n",
       "      <td>37.007716</td>\n",
       "      <td>36.602331</td>\n",
       "      <td>30.848830</td>\n",
       "    </tr>\n",
       "    <tr>\n",
       "      <th>...</th>\n",
       "      <td>...</td>\n",
       "      <td>...</td>\n",
       "      <td>...</td>\n",
       "      <td>...</td>\n",
       "      <td>...</td>\n",
       "      <td>...</td>\n",
       "      <td>...</td>\n",
       "      <td>...</td>\n",
       "      <td>...</td>\n",
       "      <td>...</td>\n",
       "      <td>...</td>\n",
       "      <td>...</td>\n",
       "      <td>...</td>\n",
       "      <td>...</td>\n",
       "      <td>...</td>\n",
       "      <td>...</td>\n",
       "    </tr>\n",
       "    <tr>\n",
       "      <th>44049</th>\n",
       "      <td>0</td>\n",
       "      <td>1</td>\n",
       "      <td>1</td>\n",
       "      <td>1.0</td>\n",
       "      <td>869.0</td>\n",
       "      <td>2.0</td>\n",
       "      <td>51.595873</td>\n",
       "      <td>54.026953</td>\n",
       "      <td>NaN</td>\n",
       "      <td>39.066548</td>\n",
       "      <td>36.804034</td>\n",
       "      <td>36.242386</td>\n",
       "      <td>56.410442</td>\n",
       "      <td>35.032944</td>\n",
       "      <td>35.075822</td>\n",
       "      <td>53.485287</td>\n",
       "    </tr>\n",
       "    <tr>\n",
       "      <th>44050</th>\n",
       "      <td>0</td>\n",
       "      <td>1</td>\n",
       "      <td>1</td>\n",
       "      <td>1.0</td>\n",
       "      <td>148.0</td>\n",
       "      <td>2.0</td>\n",
       "      <td>70.000000</td>\n",
       "      <td>44.000000</td>\n",
       "      <td>NaN</td>\n",
       "      <td>60.986486</td>\n",
       "      <td>33.228385</td>\n",
       "      <td>75.987342</td>\n",
       "      <td>86.487544</td>\n",
       "      <td>35.862680</td>\n",
       "      <td>35.058103</td>\n",
       "      <td>53.486158</td>\n",
       "    </tr>\n",
       "    <tr>\n",
       "      <th>44051</th>\n",
       "      <td>0</td>\n",
       "      <td>1</td>\n",
       "      <td>1</td>\n",
       "      <td>5.0</td>\n",
       "      <td>288.0</td>\n",
       "      <td>1.0</td>\n",
       "      <td>58.527456</td>\n",
       "      <td>58.024760</td>\n",
       "      <td>NaN</td>\n",
       "      <td>28.728679</td>\n",
       "      <td>35.808947</td>\n",
       "      <td>39.423114</td>\n",
       "      <td>62.507795</td>\n",
       "      <td>35.868825</td>\n",
       "      <td>32.241604</td>\n",
       "      <td>53.488259</td>\n",
       "    </tr>\n",
       "    <tr>\n",
       "      <th>44052</th>\n",
       "      <td>0</td>\n",
       "      <td>1</td>\n",
       "      <td>1</td>\n",
       "      <td>2.0</td>\n",
       "      <td>767.0</td>\n",
       "      <td>3.0</td>\n",
       "      <td>109.000000</td>\n",
       "      <td>58.000000</td>\n",
       "      <td>NaN</td>\n",
       "      <td>37.604871</td>\n",
       "      <td>26.387958</td>\n",
       "      <td>36.551606</td>\n",
       "      <td>55.600000</td>\n",
       "      <td>34.790614</td>\n",
       "      <td>40.010771</td>\n",
       "      <td>53.486158</td>\n",
       "    </tr>\n",
       "    <tr>\n",
       "      <th>44053</th>\n",
       "      <td>0</td>\n",
       "      <td>1</td>\n",
       "      <td>1</td>\n",
       "      <td>5.0</td>\n",
       "      <td>217.0</td>\n",
       "      <td>1.0</td>\n",
       "      <td>25.000000</td>\n",
       "      <td>70.000000</td>\n",
       "      <td>30.0</td>\n",
       "      <td>25.742004</td>\n",
       "      <td>26.387958</td>\n",
       "      <td>36.551606</td>\n",
       "      <td>29.399988</td>\n",
       "      <td>35.937566</td>\n",
       "      <td>40.010771</td>\n",
       "      <td>30.848830</td>\n",
       "    </tr>\n",
       "  </tbody>\n",
       "</table>\n",
       "<p>44054 rows × 16 columns</p>\n",
       "</div>"
      ],
      "text/plain": [
       "       Urgency  Hospitalization  Gender  Daily Surgery Number_perDoctor  \\\n",
       "0            0                1       1                             2.0   \n",
       "1            0                1       1                             3.0   \n",
       "2            0                1       1                             3.0   \n",
       "3            0                0       1                             1.0   \n",
       "4            0                1       1                             3.0   \n",
       "...        ...              ...     ...                             ...   \n",
       "44049        0                1       1                             1.0   \n",
       "44050        0                1       1                             1.0   \n",
       "44051        0                1       1                             5.0   \n",
       "44052        0                1       1                             2.0   \n",
       "44053        0                1       1                             5.0   \n",
       "\n",
       "       Surgery Number Performed_perDoctor  Procedures_I  Real Room Duration  \\\n",
       "0                                   240.0           1.0           47.261936   \n",
       "1                                    44.0           2.0           27.000000   \n",
       "2                                    85.0           1.0           46.000000   \n",
       "3                                   506.0           1.0           51.854021   \n",
       "4                                    42.0           1.0           25.000000   \n",
       "...                                   ...           ...                 ...   \n",
       "44049                               869.0           2.0           51.595873   \n",
       "44050                               148.0           2.0           70.000000   \n",
       "44051                               288.0           1.0           58.527456   \n",
       "44052                               767.0           3.0          109.000000   \n",
       "44053                               217.0           1.0           25.000000   \n",
       "\n",
       "             Age  CUF Planned Duration     Doctor   CUF_Unit  Part of the day  \\\n",
       "0      71.315091                   NaN  35.888239  28.127457        37.998379   \n",
       "1      71.000000                  30.0  24.434579  29.894079        32.937803   \n",
       "2      77.000000                   NaN  45.378947  33.228385        33.029912   \n",
       "3      67.398397                   NaN  37.604121  36.941209        32.927294   \n",
       "4      69.000000                  30.0  33.147368  35.808129        36.551606   \n",
       "...          ...                   ...        ...        ...              ...   \n",
       "44049  54.026953                   NaN  39.066548  36.804034        36.242386   \n",
       "44050  44.000000                   NaN  60.986486  33.228385        75.987342   \n",
       "44051  58.024760                   NaN  28.728679  35.808947        39.423114   \n",
       "44052  58.000000                   NaN  37.604871  26.387958        36.551606   \n",
       "44053  70.000000                  30.0  25.742004  26.387958        36.551606   \n",
       "\n",
       "              I1      Month    Weekday  Anesthesia  \n",
       "0      29.398867  34.720835  35.298601   30.850072  \n",
       "1      31.382716  33.342558  36.602331   30.848830  \n",
       "2      29.399988  36.893540  35.058103   30.848830  \n",
       "3      29.401959  34.937211  35.250030   41.915108  \n",
       "4      29.399988  37.007716  36.602331   30.848830  \n",
       "...          ...        ...        ...         ...  \n",
       "44049  56.410442  35.032944  35.075822   53.485287  \n",
       "44050  86.487544  35.862680  35.058103   53.486158  \n",
       "44051  62.507795  35.868825  32.241604   53.488259  \n",
       "44052  55.600000  34.790614  40.010771   53.486158  \n",
       "44053  29.399988  35.937566  40.010771   30.848830  \n",
       "\n",
       "[44054 rows x 16 columns]"
      ]
     },
     "execution_count": 59,
     "metadata": {},
     "output_type": "execute_result"
    }
   ],
   "source": [
    "df_train_speciality = pd.read_csv('Data_withsyntheticdata_speciality',header='infer')\n",
    "df_train_speciality"
   ]
  },
  {
   "cell_type": "markdown",
   "metadata": {},
   "source": [
    "----"
   ]
  },
  {
   "cell_type": "markdown",
   "metadata": {},
   "source": [
    "\n",
    "## 1. Speciality-specific RuleFit  <a class=\"anchor\" id=\"1\"></a> "
   ]
  },
  {
   "cell_type": "markdown",
   "metadata": {},
   "source": [
    "### 1.1.  Split Data  <a class=\"anchor\" id=\"1.1\"></a> "
   ]
  },
  {
   "cell_type": "code",
   "execution_count": 7,
   "metadata": {},
   "outputs": [],
   "source": [
    "train_dataset_speciality= df_train_speciality\n",
    "test_dataset_speciality = df_test_speciality\n",
    "\n",
    "\n",
    "train_features_speciality = train_dataset_speciality.copy()\n",
    "test_features_speciality = test_dataset_speciality.copy()\n",
    "\n",
    "train_labels_speciality = train_features_speciality.pop('Real Room Duration')\n",
    "test_labels_speciality = test_features_speciality.pop('Real Room Duration')\n",
    "\n",
    "train_CUF_labels_speciality = train_features_speciality.pop('CUF Planned Duration')\n",
    "test_CUF_labels_speciality= test_features_speciality.pop('CUF Planned Duration')\n",
    "\n",
    "\n",
    "#Resolve issue \"Failed to convert a NumPy array to a Tensor (Unsupported object type int)\"\"\n",
    "specialitycolumns=train_features_speciality.columns\n",
    "#Dataset\n",
    "train_dataset_speciality= np.asarray(train_dataset_speciality).astype(np.float32)\n",
    "test_dataset_speciality = np.asarray(test_dataset_speciality).astype(np.float32)\n",
    "\n",
    "#Features\n",
    "train_features_speciality= np.asarray(train_features_speciality).astype(np.float32)\n",
    "test_features_speciality = np.asarray(test_features_speciality).astype(np.float32)\n",
    "\n",
    "#labels\n",
    "train_labels_speciality = np.asarray(train_labels_speciality).astype(np.float32)\n",
    "test_labels_speciality = np.asarray(test_labels_speciality).astype(np.float32)\n",
    "\n",
    "\n",
    "#CUF\n",
    "train_CUF_labels_speciality = np.asarray(train_CUF_labels_speciality).astype(np.float32)\n",
    "test_CUF_labels_speciality = np.asarray(test_CUF_labels_speciality).astype(np.float32)\n"
   ]
  },
  {
   "cell_type": "markdown",
   "metadata": {},
   "source": [
    "### 1.2.  Parameters Tuning  <a class=\"anchor\" id=\"1.2\"></a> \n",
    "\n",
    "\n"
   ]
  },
  {
   "cell_type": "code",
   "execution_count": 8,
   "metadata": {},
   "outputs": [],
   "source": [
    "Tuning_models = {'Library_Script':['RuleFit_custom',\n",
    "                                  'RuleFit_withoutCV'], \n",
    "                 'Decision_Tree':[RandomForestRegressor,\n",
    "                                  GradientBoostingRegressor,\n",
    "                                  BaggingRegressor,\n",
    "                                  ExtraTreesRegressor],\n",
    "                 'Regularizers_0':['LassoCV','ElasticNetCV','Pyowl'],\n",
    "                 'Regularizers_1':['Lasso','ElasticNet','Pyowl'],\n",
    "                 'Alphas':np.logspace(-8, math.log(3,10), 1000,base=10), #between 10^-7 and 3\n",
    "                }\n",
    "\n",
    "Tuning_models.update({'Cs':1./Tuning_models['Alphas']})"
   ]
  },
  {
   "cell_type": "code",
   "execution_count": 9,
   "metadata": {},
   "outputs": [],
   "source": [
    "Best_Parameters_Decison_Tree_Speciality= {}\n",
    "\n",
    "for i in Tuning_models['Decision_Tree']:\n",
    "    # The Normalization layer\n",
    "    Best_Parameters_Decison_Tree_Speciality[i] = {} "
   ]
  },
  {
   "cell_type": "code",
   "execution_count": 10,
   "metadata": {},
   "outputs": [],
   "source": [
    "Parameters_RandomForestRegressor = {'n_estimators':[100,250,500,750,1000,1250,1500,1750],\n",
    "              'max_depth':[3,4]}\n",
    "\n",
    "Parameters_GradientBoostingRegressor = {'learning_rate':[0.15,0.1,0.05,0.01,0.005,0.001], \n",
    "                                        'n_estimators':[100,250,500,750,1000,1250,1500,1750],\n",
    "                                        'max_depth':[6]}\n",
    "\n",
    "Parameters_BaggingRegressor = {'n_estimators':[100,250,500,750,1000,1250,1500,1750],\n",
    "                               'base_estimator__max_depth':[3,4]}\n",
    "\n",
    "Parameters_ExtraTreesRegressor = {'n_estimators':[100,250,500,750,1000,1250,1500,1750],\n",
    "                                  'max_depth':[3,4]}\n",
    "\n",
    "Best_Parameters_Decison_Tree_Speciality[Tuning_models['Decision_Tree'][0]].update({\"Search_Parameters\": Parameters_RandomForestRegressor})\n",
    "Best_Parameters_Decison_Tree_Speciality[Tuning_models['Decision_Tree'][1]].update({\"Search_Parameters\": Parameters_GradientBoostingRegressor})\n",
    "Best_Parameters_Decison_Tree_Speciality[Tuning_models['Decision_Tree'][2]].update({\"Search_Parameters\": Parameters_BaggingRegressor})\n",
    "Best_Parameters_Decison_Tree_Speciality[Tuning_models['Decision_Tree'][3]].update({\"Search_Parameters\": Parameters_ExtraTreesRegressor})\n",
    "\n",
    "\n"
   ]
  },
  {
   "cell_type": "code",
   "execution_count": 44,
   "metadata": {},
   "outputs": [],
   "source": [
    "Speciality_model_Ophthalmology_depth5={} #creation of dictionaries for all 442 models \n",
    "\n",
    "for j in Tuning_models['Decision_Tree']:\n",
    "        \n",
    "    Speciality_model_Ophthalmology_depth5[j]={}\n"
   ]
  },
  {
   "cell_type": "code",
   "execution_count": 48,
   "metadata": {},
   "outputs": [],
   "source": [
    "Speciality_model_Ophthalmology_depth6={} #creation of dictionaries for all 442 models \n",
    "\n",
    "for j in Tuning_models['Decision_Tree']:\n",
    "        \n",
    "    Speciality_model_Ophthalmology_depth6[j]={}"
   ]
  },
  {
   "cell_type": "markdown",
   "metadata": {},
   "source": [
    "* ### 1.2.1  Tuning Decision Trees  <a class=\"anchor\" id=\"1.2.1\"></a> \n"
   ]
  },
  {
   "cell_type": "code",
   "execution_count": 14,
   "metadata": {},
   "outputs": [
    {
     "name": "stdout",
     "output_type": "stream",
     "text": [
      "Fitting 5 folds for each of 16 candidates, totalling 80 fits\n",
      "<class 'sklearn.ensemble._forest.RandomForestRegressor'>\n",
      "Fitting 5 folds for each of 96 candidates, totalling 480 fits\n",
      "<class 'sklearn.ensemble._gb.GradientBoostingRegressor'>\n",
      "Fitting 5 folds for each of 16 candidates, totalling 80 fits\n",
      "<class 'sklearn.ensemble._bagging.BaggingRegressor'>\n",
      "Fitting 5 folds for each of 16 candidates, totalling 80 fits\n",
      "<class 'sklearn.ensemble._forest.ExtraTreesRegressor'>\n"
     ]
    }
   ],
   "source": [
    "for i in range(len(Tuning_models['Decision_Tree'])):\n",
    "    if i!=2:\n",
    "        Decison_Tree=Tuning_models['Decision_Tree'][i](random_state=123)\n",
    "    else:\n",
    "        Decison_Tree=Tuning_models['Decision_Tree'][i](base_estimator=DecisionTreeRegressor(),random_state=123)\n",
    "\n",
    "    Parameters_Decision_Tree=Best_Parameters_Decison_Tree_Speciality[Tuning_models['Decision_Tree'][i]][\"Search_Parameters\"]\n",
    "\n",
    "    tuning = GridSearchCV(estimator=Decison_Tree, \n",
    "                              param_grid = Parameters_Decision_Tree, \n",
    "                              scoring='neg_mean_absolute_error',n_jobs=-1, cv=5,verbose=1)\n",
    "\n",
    "\n",
    "    tuning.fit(train_features_speciality, train_labels_speciality)\n",
    "    Best_estimator=tuning.best_estimator_\n",
    "    Best_params=tuning.best_params_\n",
    "\n",
    "    print(Tuning_models['Decision_Tree'][i])\n",
    "\n",
    "    Speciality_model_Ophthalmology[Tuning_models['Decision_Tree'][i]].update({\"Best_estimator\": Best_estimator})\n",
    "    Speciality_model_Ophthalmology[Tuning_models['Decision_Tree'][i]].update({\"Best_params_dict\": Best_params})\n",
    "\n"
   ]
  },
  {
   "cell_type": "code",
   "execution_count": 45,
   "metadata": {},
   "outputs": [
    {
     "name": "stdout",
     "output_type": "stream",
     "text": [
      "Fitting 5 folds for each of 48 candidates, totalling 240 fits\n",
      "<class 'sklearn.ensemble._gb.GradientBoostingRegressor'>\n"
     ]
    }
   ],
   "source": [
    "for i in range(len(Tuning_models['Decision_Tree'])):\n",
    "    \n",
    "    if i==1:\n",
    "        if i!=2:\n",
    "            Decison_Tree=Tuning_models['Decision_Tree'][i](random_state=123)\n",
    "        else:\n",
    "            Decison_Tree=Tuning_models['Decision_Tree'][i](base_estimator=DecisionTreeRegressor(),random_state=123)\n",
    "\n",
    "        Parameters_Decision_Tree=Best_Parameters_Decison_Tree_Speciality[Tuning_models['Decision_Tree'][i]][\"Search_Parameters\"]\n",
    "\n",
    "        tuning = GridSearchCV(estimator=Decison_Tree, \n",
    "                                  param_grid = Parameters_Decision_Tree, \n",
    "                                  scoring='neg_mean_absolute_error',n_jobs=-1, cv=5,verbose=1)\n",
    "\n",
    "\n",
    "        tuning.fit(train_features_speciality, train_labels_speciality)\n",
    "        Best_estimator=tuning.best_estimator_\n",
    "        Best_params=tuning.best_params_\n",
    "\n",
    "        print(Tuning_models['Decision_Tree'][i])\n",
    "\n",
    "        Speciality_model_Ophthalmology_depth5[Tuning_models['Decision_Tree'][i]].update({\"Best_estimator\": Best_estimator})\n",
    "        Speciality_model_Ophthalmology_depth5[Tuning_models['Decision_Tree'][i]].update({\"Best_params_dict\": Best_params})\n"
   ]
  },
  {
   "cell_type": "code",
   "execution_count": 46,
   "metadata": {},
   "outputs": [
    {
     "name": "stdout",
     "output_type": "stream",
     "text": [
      "Stored 'Speciality_model_Ophthalmology_depth5' (dict)\n"
     ]
    }
   ],
   "source": [
    "%store Speciality_model_Ophthalmology_depth5"
   ]
  },
  {
   "cell_type": "code",
   "execution_count": 49,
   "metadata": {},
   "outputs": [
    {
     "name": "stdout",
     "output_type": "stream",
     "text": [
      "Fitting 5 folds for each of 48 candidates, totalling 240 fits\n",
      "<class 'sklearn.ensemble._gb.GradientBoostingRegressor'>\n"
     ]
    }
   ],
   "source": [
    "for i in range(len(Tuning_models['Decision_Tree'])):\n",
    "    \n",
    "    if i==1:\n",
    "        if i!=2:\n",
    "            Decison_Tree=Tuning_models['Decision_Tree'][i](random_state=123)\n",
    "        else:\n",
    "            Decison_Tree=Tuning_models['Decision_Tree'][i](base_estimator=DecisionTreeRegressor(),random_state=123)\n",
    "\n",
    "        Parameters_Decision_Tree=Best_Parameters_Decison_Tree_Speciality[Tuning_models['Decision_Tree'][i]][\"Search_Parameters\"]\n",
    "\n",
    "        tuning = GridSearchCV(estimator=Decison_Tree, \n",
    "                                  param_grid = Parameters_Decision_Tree, \n",
    "                                  scoring='neg_mean_absolute_error',n_jobs=-1, cv=5,verbose=1)\n",
    "\n",
    "\n",
    "        tuning.fit(train_features_speciality, train_labels_speciality)\n",
    "        Best_estimator=tuning.best_estimator_\n",
    "        Best_params=tuning.best_params_\n",
    "\n",
    "        print(Tuning_models['Decision_Tree'][i])\n",
    "\n",
    "        Speciality_model_Ophthalmology_depth6[Tuning_models['Decision_Tree'][i]].update({\"Best_estimator\": Best_estimator})\n",
    "        Speciality_model_Ophthalmology_depth6[Tuning_models['Decision_Tree'][i]].update({\"Best_params_dict\": Best_params})\n"
   ]
  },
  {
   "cell_type": "code",
   "execution_count": 50,
   "metadata": {},
   "outputs": [
    {
     "name": "stdout",
     "output_type": "stream",
     "text": [
      "Stored 'Speciality_model_Ophthalmology_depth6' (dict)\n"
     ]
    }
   ],
   "source": [
    "%store Speciality_model_Ophthalmology_depth6"
   ]
  },
  {
   "cell_type": "code",
   "execution_count": null,
   "metadata": {},
   "outputs": [],
   "source": [
    "for i in range(len(Tuning_models['Decision_Tree'])):\n",
    "    if i!=2:\n",
    "        Decison_Tree=Tuning_models['Decision_Tree'][i](random_state=123)\n",
    "    else:\n",
    "        Decison_Tree=Tuning_models['Decision_Tree'][i](base_estimator=DecisionTreeRegressor(),random_state=123)\n",
    "\n",
    "    Parameters_Decision_Tree=Best_Parameters_Decison_Tree_Speciality[Tuning_models['Decision_Tree'][i]][\"Search_Parameters\"]\n",
    "\n",
    "    tuning = GridSearchCV(estimator=Decison_Tree, \n",
    "                              param_grid = Parameters_Decision_Tree, \n",
    "                              scoring='neg_mean_absolute_error',n_jobs=-1, cv=5,verbose=1)\n",
    "\n",
    "\n",
    "    tuning.fit(train_features_speciality, train_labels_speciality)\n",
    "    Best_estimator=tuning.best_estimator_\n",
    "    Best_params=tuning.best_params_\n",
    "\n",
    "    print(Tuning_models['Decision_Tree'][i])\n",
    "\n",
    "    Speciality_model_Ophthalmology[Tuning_models['Decision_Tree'][i]].update({\"Best_estimator\": Best_estimator})\n",
    "    Speciality_model_Ophthalmology[Tuning_models['Decision_Tree'][i]].update({\"Best_params_dict\": Best_params})\n"
   ]
  },
  {
   "cell_type": "code",
   "execution_count": 11,
   "metadata": {},
   "outputs": [],
   "source": [
    "%store -r Speciality_model_Ophthalmology"
   ]
  },
  {
   "cell_type": "markdown",
   "metadata": {},
   "source": [
    "### 1.3.  Perform Rulefit for all DecisionTree and Regularizers  <a class=\"anchor\" id=\"1.3\"></a> \n"
   ]
  },
  {
   "cell_type": "code",
   "execution_count": 16,
   "metadata": {},
   "outputs": [],
   "source": [
    "Best_Parameters_Regularizers_Ophthalmology= {}\n",
    "\n",
    "for r in Tuning_models['Library_Script']:\n",
    "        # The Normalization layer\n",
    "        Best_Parameters_Regularizers_Ophthalmology[r] = {}\n",
    "\n",
    "        for l in Tuning_models['Decision_Tree']:\n",
    "        # The Normalization layer\n",
    "            Best_Parameters_Regularizers_Ophthalmology[r][l] = {}\n",
    "\n",
    "            for j in range(len(Tuning_models['Regularizers_0'])):\n",
    "\n",
    "                if r==Tuning_models['Library_Script'][0]:\n",
    "\n",
    "                    Best_Parameters_Regularizers_Ophthalmology[r][l][Tuning_models['Regularizers_0'][j]]={}\n",
    "\n",
    "                else:\n",
    "                    Best_Parameters_Regularizers_Ophthalmology[r][l][Tuning_models['Regularizers_1'][j]]={}\n"
   ]
  },
  {
   "cell_type": "code",
   "execution_count": 17,
   "metadata": {},
   "outputs": [],
   "source": [
    "\n",
    "def percCal(x,y):\n",
    "    return (x-y)*100/x"
   ]
  },
  {
   "cell_type": "code",
   "execution_count": 25,
   "metadata": {},
   "outputs": [
    {
     "name": "stdout",
     "output_type": "stream",
     "text": [
      "GradientBoostingRegressor(max_depth=4, n_estimators=1500, random_state=123)\n",
      "Pyowl\n",
      "1438\n",
      "1509\n",
      "1407\n",
      "1380\n",
      "1276\n",
      "836\n",
      "593\n",
      "445\n",
      "312\n",
      "228\n",
      "242\n",
      "239\n",
      "212\n",
      "179\n",
      "168\n",
      "167\n",
      "152\n",
      "159\n",
      "120\n",
      "110\n",
      "130\n",
      "119\n",
      "115\n",
      "110\n",
      "90\n",
      "106\n",
      "110\n",
      "92\n",
      "93\n",
      "79\n",
      "85\n",
      "105\n",
      "65\n",
      "89\n",
      "66\n",
      "83\n",
      "80\n",
      "71\n",
      "55\n",
      "81\n",
      "79\n",
      "62\n",
      "71\n",
      "80\n",
      "63\n",
      "83\n",
      "54\n",
      "72\n",
      "66\n",
      "44\n",
      "0.0\n",
      "Pyowl\n",
      "1432\n",
      "1432\n",
      "1430\n",
      "1362\n",
      "1059\n",
      "820\n",
      "578\n",
      "452\n",
      "260\n",
      "248\n",
      "191\n",
      "225\n",
      "209\n"
     ]
    },
    {
     "ename": "KeyboardInterrupt",
     "evalue": "",
     "output_type": "error",
     "traceback": [
      "\u001b[1;31m---------------------------------------------------------------------------\u001b[0m",
      "\u001b[1;31mKeyboardInterrupt\u001b[0m                         Traceback (most recent call last)",
      "\u001b[1;32m<ipython-input-25-117e8e4ae86f>\u001b[0m in \u001b[0;36m<module>\u001b[1;34m\u001b[0m\n\u001b[0;32m     56\u001b[0m \u001b[1;33m\u001b[0m\u001b[0m\n\u001b[0;32m     57\u001b[0m \u001b[1;33m\u001b[0m\u001b[0m\n\u001b[1;32m---> 58\u001b[1;33m                 \u001b[0mrf\u001b[0m\u001b[1;33m.\u001b[0m\u001b[0mfit\u001b[0m\u001b[1;33m(\u001b[0m\u001b[0mtrain_features_speciality\u001b[0m\u001b[1;33m,\u001b[0m \u001b[0mtrain_labels_speciality\u001b[0m\u001b[1;33m,\u001b[0m \u001b[0mfeature_names\u001b[0m\u001b[1;33m=\u001b[0m\u001b[0mspecialitycolumns\u001b[0m\u001b[1;33m)\u001b[0m\u001b[1;33m\u001b[0m\u001b[1;33m\u001b[0m\u001b[0m\n\u001b[0m\u001b[0;32m     59\u001b[0m \u001b[1;33m\u001b[0m\u001b[0m\n\u001b[0;32m     60\u001b[0m                 \u001b[0mrules\u001b[0m \u001b[1;33m=\u001b[0m \u001b[0mrf\u001b[0m\u001b[1;33m.\u001b[0m\u001b[0mget_rules\u001b[0m\u001b[1;33m(\u001b[0m\u001b[1;33m)\u001b[0m\u001b[1;33m\u001b[0m\u001b[1;33m\u001b[0m\u001b[0m\n",
      "\u001b[1;32m~\\Desktop\\Tese Teresa\\RuleFit\\RuleFit Speciality Synthetic\\RuleFit_withoutCV.py\u001b[0m in \u001b[0;36mfit\u001b[1;34m(self, X, y, feature_names)\u001b[0m\n\u001b[0;32m    417\u001b[0m                     \u001b[0mself\u001b[0m\u001b[1;33m.\u001b[0m\u001b[0mtree_generator\u001b[0m\u001b[1;33m.\u001b[0m\u001b[0mset_params\u001b[0m\u001b[1;33m(\u001b[0m\u001b[0mrandom_state\u001b[0m\u001b[1;33m=\u001b[0m\u001b[0mi_size\u001b[0m\u001b[1;33m+\u001b[0m\u001b[0mrandom_state_add\u001b[0m\u001b[1;33m)\u001b[0m \u001b[1;31m# warm_state=True seems to reset random_state, such that the trees are highly correlated, unless we manually change the random_sate here.\u001b[0m\u001b[1;33m\u001b[0m\u001b[1;33m\u001b[0m\u001b[0m\n\u001b[0;32m    418\u001b[0m                     \u001b[0mself\u001b[0m\u001b[1;33m.\u001b[0m\u001b[0mtree_generator\u001b[0m\u001b[1;33m.\u001b[0m\u001b[0mget_params\u001b[0m\u001b[1;33m(\u001b[0m\u001b[1;33m)\u001b[0m\u001b[1;33m[\u001b[0m\u001b[1;34m'n_estimators'\u001b[0m\u001b[1;33m]\u001b[0m\u001b[1;33m\u001b[0m\u001b[1;33m\u001b[0m\u001b[0m\n\u001b[1;32m--> 419\u001b[1;33m                     \u001b[0mself\u001b[0m\u001b[1;33m.\u001b[0m\u001b[0mtree_generator\u001b[0m\u001b[1;33m.\u001b[0m\u001b[0mfit\u001b[0m\u001b[1;33m(\u001b[0m\u001b[0mnp\u001b[0m\u001b[1;33m.\u001b[0m\u001b[0mcopy\u001b[0m\u001b[1;33m(\u001b[0m\u001b[0mX\u001b[0m\u001b[1;33m,\u001b[0m \u001b[0morder\u001b[0m\u001b[1;33m=\u001b[0m\u001b[1;34m'C'\u001b[0m\u001b[1;33m)\u001b[0m\u001b[1;33m,\u001b[0m \u001b[0mnp\u001b[0m\u001b[1;33m.\u001b[0m\u001b[0mcopy\u001b[0m\u001b[1;33m(\u001b[0m\u001b[0my\u001b[0m\u001b[1;33m,\u001b[0m \u001b[0morder\u001b[0m\u001b[1;33m=\u001b[0m\u001b[1;34m'C'\u001b[0m\u001b[1;33m)\u001b[0m\u001b[1;33m)\u001b[0m\u001b[1;33m\u001b[0m\u001b[1;33m\u001b[0m\u001b[0m\n\u001b[0m\u001b[0;32m    420\u001b[0m                     \u001b[0mcurr_est_\u001b[0m\u001b[1;33m=\u001b[0m\u001b[0mcurr_est_\u001b[0m\u001b[1;33m+\u001b[0m\u001b[1;36m1\u001b[0m\u001b[1;33m\u001b[0m\u001b[1;33m\u001b[0m\u001b[0m\n\u001b[0;32m    421\u001b[0m                 \u001b[0mself\u001b[0m\u001b[1;33m.\u001b[0m\u001b[0mtree_generator\u001b[0m\u001b[1;33m.\u001b[0m\u001b[0mset_params\u001b[0m\u001b[1;33m(\u001b[0m\u001b[0mwarm_start\u001b[0m\u001b[1;33m=\u001b[0m\u001b[1;32mFalse\u001b[0m\u001b[1;33m)\u001b[0m\u001b[1;33m\u001b[0m\u001b[1;33m\u001b[0m\u001b[0m\n",
      "\u001b[1;32m~\\anaconda3\\lib\\site-packages\\sklearn\\ensemble\\_gb.py\u001b[0m in \u001b[0;36mfit\u001b[1;34m(self, X, y, sample_weight, monitor)\u001b[0m\n\u001b[0;32m    498\u001b[0m             \u001b[1;31m# matrices.\u001b[0m\u001b[1;33m\u001b[0m\u001b[1;33m\u001b[0m\u001b[1;33m\u001b[0m\u001b[0m\n\u001b[0;32m    499\u001b[0m             \u001b[0mX\u001b[0m \u001b[1;33m=\u001b[0m \u001b[0mcheck_array\u001b[0m\u001b[1;33m(\u001b[0m\u001b[0mX\u001b[0m\u001b[1;33m,\u001b[0m \u001b[0mdtype\u001b[0m\u001b[1;33m=\u001b[0m\u001b[0mDTYPE\u001b[0m\u001b[1;33m,\u001b[0m \u001b[0morder\u001b[0m\u001b[1;33m=\u001b[0m\u001b[1;34m\"C\"\u001b[0m\u001b[1;33m,\u001b[0m \u001b[0maccept_sparse\u001b[0m\u001b[1;33m=\u001b[0m\u001b[1;34m'csr'\u001b[0m\u001b[1;33m)\u001b[0m\u001b[1;33m\u001b[0m\u001b[1;33m\u001b[0m\u001b[0m\n\u001b[1;32m--> 500\u001b[1;33m             \u001b[0mraw_predictions\u001b[0m \u001b[1;33m=\u001b[0m \u001b[0mself\u001b[0m\u001b[1;33m.\u001b[0m\u001b[0m_raw_predict\u001b[0m\u001b[1;33m(\u001b[0m\u001b[0mX\u001b[0m\u001b[1;33m)\u001b[0m\u001b[1;33m\u001b[0m\u001b[1;33m\u001b[0m\u001b[0m\n\u001b[0m\u001b[0;32m    501\u001b[0m             \u001b[0mself\u001b[0m\u001b[1;33m.\u001b[0m\u001b[0m_resize_state\u001b[0m\u001b[1;33m(\u001b[0m\u001b[1;33m)\u001b[0m\u001b[1;33m\u001b[0m\u001b[1;33m\u001b[0m\u001b[0m\n\u001b[0;32m    502\u001b[0m \u001b[1;33m\u001b[0m\u001b[0m\n",
      "\u001b[1;31mKeyboardInterrupt\u001b[0m: "
     ]
    }
   ],
   "source": [
    "r=1\n",
    "\n",
    "for l in range(len(Tuning_models['Decision_Tree'])):\n",
    "    \n",
    "    i=l+1\n",
    "    Parameters=Speciality_model_Ophthalmology[Tuning_models['Decision_Tree'][i]][\"Best_params_dict\"]\n",
    "\n",
    "\n",
    "    if i==0 or i==3:                                                                            \n",
    "        Decison_Tree=Tuning_models['Decision_Tree'][i](random_state=123,max_depth=Parameters[\"max_depth\"],n_estimators=Parameters[\"n_estimators\"])\n",
    "        print(Decison_Tree)\n",
    "\n",
    "    if i==1:                                                                            \n",
    "        Decison_Tree=Tuning_models['Decision_Tree'][i](random_state=123,learning_rate=Parameters[\"learning_rate\"],max_depth=Parameters[\"max_depth\"],n_estimators=Parameters[\"n_estimators\"])\n",
    "        print(Decison_Tree)\n",
    "\n",
    "    if i==2:\n",
    "        Decison_Tree=Tuning_models['Decision_Tree'][i](base_estimator=DecisionTreeRegressor(max_depth=Parameters[\"base_estimator__max_depth\"]),n_estimators=Parameters[\"n_estimators\"],random_state=123)\n",
    "\n",
    "        print(Decison_Tree)\n",
    "\n",
    "    for t in range(len(Tuning_models['Regularizers_0'])):\n",
    "\n",
    "\n",
    "        Decison_Tree_tune=copy.deepcopy(Decison_Tree)\n",
    "\n",
    "        if r==0:\n",
    "            regularizer=Tuning_models['Regularizers_0'][j]\n",
    "\n",
    "        else:\n",
    "            regularizer=Tuning_models['Regularizers_1'][j]\n",
    "\n",
    "        print(regularizer)\n",
    "\n",
    "        Cs=Tuning_models['Cs']\n",
    "\n",
    "        beta=0.1\n",
    "        alpha=0.001\n",
    "        j=2\n",
    "        if j==2:\n",
    "            \n",
    "            len_reduce_rules=1000\n",
    "            max_tents=0\n",
    "            max_tents=0\n",
    "            minimum_rules=float('Inf')\n",
    "            while len_reduce_rules>50 and max_tents<=15:\n",
    "\n",
    "                Decison_Tree_tune=copy.deepcopy(Decison_Tree)\n",
    "\n",
    "                if r==0:\n",
    "\n",
    "                    rf = RuleFit_custom.RuleFit(tree_generator=Decison_Tree_tune, Cs=Cs, beta=beta, max_iter=10e10, regularization='Pyowl',n_jobs=-1)\n",
    "\n",
    "                else:\n",
    "                    rf = RuleFit_withoutCV.RuleFit(tree_generator=Decison_Tree_tune, Cs=Cs, beta=beta, max_iter=10e10, regularization='Pyowl',n_jobs=-1)\n",
    "\n",
    "\n",
    "                rf.fit(train_features_speciality, train_labels_speciality, feature_names=specialitycolumns)\n",
    "\n",
    "                rules = rf.get_rules()\n",
    "\n",
    "                reduce_rules = rules[abs(rules.coef) !=0].sort_values(\"coef\", ascending=False)\n",
    "\n",
    "                if len(reduce_rules)< minimum_rules:\n",
    "                    minimum_rules=len(reduce_rules)\n",
    "                    max_tents=0\n",
    "\n",
    "                else:\n",
    "                    max_tents=max_tents+1\n",
    "\n",
    "\n",
    "                len_reduce_rules=len(reduce_rules)\n",
    "\n",
    "                print(len_reduce_rules)\n",
    "\n",
    "                rf_score = np.round(r2_score(rf.predict(test_features_speciality),test_labels_speciality),2)\n",
    "\n",
    "                predictions=rf.predict(test_features_speciality)\n",
    "\n",
    "                beta=beta+1\n",
    "        else:\n",
    "            len_reduce_rules=1000\n",
    "            max_rules=1000\n",
    "            while len_reduce_rules>50:\n",
    "\n",
    "                Decison_Tree_tune=copy.deepcopy(Decison_Tree)\n",
    "                print(max_rules)\n",
    "                if r==0:\n",
    "                    rf = RuleFit_custom.RuleFit(max_rules=max_rules,tree_generator=Decison_Tree_tune, alpha=alpha,Cs=Cs, max_iter=10e10, regularization=regularizer,n_jobs=-1)\n",
    "\n",
    "                else:    \n",
    "                    rf = RuleFit_withoutCV.RuleFit(tree_generator=Decison_Tree_tune,alpha=alpha, Cs=Cs, max_iter=10e10, regularization=regularizer,n_jobs=-1)\n",
    "\n",
    "\n",
    "                rf.fit(train_features_speciality, train_labels_speciality, feature_names=specialitycolumns)\n",
    "\n",
    "                rules = rf.get_rules()\n",
    "\n",
    "                reduce_rules = rules[abs(rules.coef) !=0].sort_values(\"coef\", ascending=False)\n",
    "\n",
    "\n",
    "                len_reduce_rules=len(reduce_rules)\n",
    "\n",
    "                print(len_reduce_rules)\n",
    "\n",
    "                rf_score = np.round(r2_score(rf.predict(test_features_speciality),test_labels_speciality),2)\n",
    "\n",
    "                predictions=rf.predict(test_features_speciality)\n",
    "\n",
    "                if j==0:\n",
    "                    if len_reduce_rules>120:\n",
    "                        alpha+=0.05\n",
    "\n",
    "                    else:\n",
    "                        alpha+=0.005\n",
    "                        \n",
    "                if j==1:\n",
    "                    if len_reduce_rules>120:\n",
    "                        alpha+=1.2\n",
    "\n",
    "                    else:\n",
    "                        alpha+=0.35\n",
    "\n",
    "\n",
    "                if max_rules<=100:\n",
    "                    max_rules+=-10\n",
    "\n",
    "                else:\n",
    "                    max_rules+=-100\n",
    "\n",
    "\n",
    "\n",
    "        print(rf_score)\n",
    "\n",
    "        dataset_predicton = {\"Real Duration\": test_labels_speciality, \"Planned by Cuf\": test_CUF_labels_speciality, \"Labels from RuleFit\": predictions}\n",
    "        dataset_predicton=pd.DataFrame(dataset_predicton)\n",
    "\n",
    "        dataset_predicton['Error_RuleFit'] = percCal(dataset_predicton['Real Duration'], dataset_predicton['Labels from RuleFit'])\n",
    "        dataset_predicton['Error_CUF'] = percCal(dataset_predicton['Real Duration'], dataset_predicton['Planned by Cuf'])\n",
    "\n",
    "        CUF_overuse=dataset_predicton[dataset_predicton['Error_CUF']>10].shape[0]/dataset_predicton.shape[0]\n",
    "        RuleFit_overuse=dataset_predicton[dataset_predicton['Error_RuleFit']>10].shape[0]/dataset_predicton.shape[0]\n",
    "        #Underutilization\n",
    "        CUF_under=dataset_predicton[dataset_predicton['Error_CUF']<-10].shape[0]/dataset_predicton.shape[0]\n",
    "        RuleFit_under=dataset_predicton[dataset_predicton['Error_RuleFit']<-10].shape[0]/dataset_predicton.shape[0]\n",
    "            #Within\n",
    "        CUF_Within=dataset_predicton[dataset_predicton['Error_CUF'].abs()<=10].shape[0]/dataset_predicton.shape[0]\n",
    "        RuleFit_Within=dataset_predicton[dataset_predicton['Error_RuleFit'].abs()<=10].shape[0]/dataset_predicton.shape[0]\n",
    "\n",
    "        Best_Parameters_Regularizers_Ophthalmology[Tuning_models['Library_Script'][r]][Tuning_models['Decision_Tree'][i]][regularizer].update({\"Model\": rf})\n",
    "        Best_Parameters_Regularizers_Ophthalmology[Tuning_models['Library_Script'][r]][Tuning_models['Decision_Tree'][i]][regularizer].update({\"Rules\": rules})\n",
    "\n",
    "        Best_Parameters_Regularizers_Ophthalmology[Tuning_models['Library_Script'][r]][Tuning_models['Decision_Tree'][i]][regularizer].update({\"Rules_non0\": reduce_rules})\n",
    "\n",
    "        Best_Parameters_Regularizers_Ophthalmology[Tuning_models['Library_Script'][r]][Tuning_models['Decision_Tree'][i]][regularizer].update({\"Number Rules\": len(reduce_rules)})\n",
    "        Best_Parameters_Regularizers_Ophthalmology[Tuning_models['Library_Script'][r]][Tuning_models['Decision_Tree'][i]][regularizer].update({\"Score\": rf_score})\n",
    "        Best_Parameters_Regularizers_Ophthalmology[Tuning_models['Library_Script'][r]][Tuning_models['Decision_Tree'][i]][regularizer].update({\"Predictions\": predictions})\n",
    "        Best_Parameters_Regularizers_Ophthalmology[Tuning_models['Library_Script'][r]][Tuning_models['Decision_Tree'][i]][regularizer].update({\"Dataset_predicton\": dataset_predicton})\n",
    "\n",
    "        Best_Parameters_Regularizers_Ophthalmology[Tuning_models['Library_Script'][r]][Tuning_models['Decision_Tree'][i]][regularizer].update({\"Percentage\": [RuleFit_Within, RuleFit_under, RuleFit_overuse]})\n",
    "        Best_Parameters_Regularizers_Ophthalmology[Tuning_models['Library_Script'][r]][Tuning_models['Decision_Tree'][i]][regularizer].update({\"Percentage_CUF\": [CUF_Within, CUF_under, CUF_overuse]})\n",
    "\n"
   ]
  },
  {
   "cell_type": "code",
   "execution_count": 12,
   "metadata": {},
   "outputs": [],
   "source": [
    "%store -r Best_Parameters_Regularizers_Ophthalmology"
   ]
  },
  {
   "cell_type": "code",
   "execution_count": 15,
   "metadata": {},
   "outputs": [],
   "source": [
    "keep=[]\n",
    "\n",
    "r=1\n",
    "for i in range(len(Tuning_models['Decision_Tree'])):\n",
    "\n",
    "    for j in range(len(Tuning_models['Regularizers_0'])):\n",
    "        if r==0:\n",
    "            Percentage=Best_Parameters_Regularizers_Ophthalmology[Tuning_models['Library_Script'][r]][Tuning_models['Decision_Tree'][i]][Tuning_models['Regularizers_0'][j]]['Percentage']\n",
    "\n",
    "            name=\"Model{}_{}_{}\".format('WithCV',Tuning_models['Decision_Tree'][i],Tuning_models['Regularizers_0'][j])\n",
    "            keep=keep+[[name, Percentage[0], Percentage[2],Percentage[1]]]\n",
    "\n",
    "        else:\n",
    "            Percentage=Best_Parameters_Regularizers_Ophthalmology[Tuning_models['Library_Script'][r]][Tuning_models['Decision_Tree'][i]][Tuning_models['Regularizers_1'][j]]['Percentage']\n",
    "\n",
    "            name=\"Model{}_{}_{}\".format('WithoutCV',Tuning_models['Decision_Tree'][i],Tuning_models['Regularizers_1'][j])\n",
    "            keep=keep+[[name, Percentage[0], Percentage[2],Percentage[1]]]\n",
    "\n"
   ]
  },
  {
   "cell_type": "code",
   "execution_count": 16,
   "metadata": {},
   "outputs": [
    {
     "name": "stdout",
     "output_type": "stream",
     "text": [
      "-----------------------------------------------------------------------------------  ---------  ---------------\n",
      "Model                                                                                Score      Number of Rules\n",
      "Model_WithoutCV_<class 'sklearn.ensemble._forest.RandomForestRegressor'>_Lasso       0.31       47\n",
      "Model_WithoutCV_<class 'sklearn.ensemble._forest.RandomForestRegressor'>_ElasticNet  0.0        0\n",
      "Model_WithoutCV_<class 'sklearn.ensemble._forest.RandomForestRegressor'>_Pyowl       0.16       765\n",
      "Model_WithoutCV_<class 'sklearn.ensemble._gb.GradientBoostingRegressor'>_Lasso       0.19       45\n",
      "Model_WithoutCV_<class 'sklearn.ensemble._gb.GradientBoostingRegressor'>_ElasticNet  -284.99    47\n",
      "Model_WithoutCV_<class 'sklearn.ensemble._gb.GradientBoostingRegressor'>_Pyowl       0.0        44\n",
      "Model_WithoutCV_<class 'sklearn.ensemble._bagging.BaggingRegressor'>_Lasso           0.3        47\n",
      "Model_WithoutCV_<class 'sklearn.ensemble._bagging.BaggingRegressor'>_ElasticNet      0.0        0\n",
      "Model_WithoutCV_<class 'sklearn.ensemble._bagging.BaggingRegressor'>_Pyowl           0.1        1016\n",
      "Model_WithoutCV_<class 'sklearn.ensemble._forest.ExtraTreesRegressor'>_Lasso         0.22       47\n",
      "Model_WithoutCV_<class 'sklearn.ensemble._forest.ExtraTreesRegressor'>_ElasticNet    -55084.77  23\n",
      "Model_WithoutCV_<class 'sklearn.ensemble._forest.ExtraTreesRegressor'>_Pyowl         -0.03      996\n",
      "-----------------------------------------------------------------------------------  ---------  ---------------\n"
     ]
    }
   ],
   "source": [
    "\n",
    "Score=[]\n",
    "\n",
    "r=1\n",
    "\n",
    "for i in range(len(Tuning_models['Decision_Tree'])):\n",
    "\n",
    "    for j in range(len(Tuning_models['Regularizers_0'])):\n",
    "\n",
    "        if r==0:\n",
    "            Score_model=Best_Parameters_Regularizers_Ophthalmology[Tuning_models['Library_Script'][r]][Tuning_models['Decision_Tree'][i]][Tuning_models['Regularizers_0'][j]]['Score']\n",
    "\n",
    "            rules=Best_Parameters_Regularizers_Ophthalmology[Tuning_models['Library_Script'][r]][Tuning_models['Decision_Tree'][i]][Tuning_models['Regularizers_0'][j]]['Number Rules']\n",
    "\n",
    "            name=\"Model_{}_{}_{}\".format('WithCV',Tuning_models['Decision_Tree'][i],Tuning_models['Regularizers_0'][j])\n",
    "            Score=Score+[[name,Score_model,rules]]\n",
    "\n",
    "        else:\n",
    "            Score_model=Best_Parameters_Regularizers_Ophthalmology[Tuning_models['Library_Script'][r]][Tuning_models['Decision_Tree'][i]][Tuning_models['Regularizers_1'][j]]['Score']\n",
    "\n",
    "            rules=Best_Parameters_Regularizers_Ophthalmology[Tuning_models['Library_Script'][r]][Tuning_models['Decision_Tree'][i]][Tuning_models['Regularizers_1'][j]]['Number Rules']\n",
    "\n",
    "            name=\"Model_{}_{}_{}\".format('WithoutCV',Tuning_models['Decision_Tree'][i],Tuning_models['Regularizers_1'][j])\n",
    "            Score=Score+[[name,Score_model,rules]]\n",
    "        \n",
    "table2 = [['Model', 'Score', 'Number of Rules']]\n",
    "\n",
    "for i in range(len(Score)):\n",
    "    table2=table2+[Score[i]]\n",
    "print(tabulate(table2))"
   ]
  },
  {
   "cell_type": "code",
   "execution_count": 17,
   "metadata": {},
   "outputs": [
    {
     "name": "stdout",
     "output_type": "stream",
     "text": [
      "----------------------------------------------------------------------------------  -------------------  -------------------  ------------------\n",
      "Model                                                                               Within               Overutilization      Underutilization\n",
      "CUF Model                                                                           0.15793330890436058  0.22572370831806524  0.6163429827775742\n",
      "ModelWithoutCV_<class 'sklearn.ensemble._forest.RandomForestRegressor'>_Lasso       0.20410406742396484  0.2671308171491389   0.5287651154268963\n",
      "ModelWithoutCV_<class 'sklearn.ensemble._forest.RandomForestRegressor'>_ElasticNet  0.0348112861854159   0.09307438622205937  0.8721143275925247\n",
      "ModelWithoutCV_<class 'sklearn.ensemble._forest.RandomForestRegressor'>_Pyowl       0.1835837303041407   0.23451813851227557  0.5818981311835837\n",
      "ModelWithoutCV_<class 'sklearn.ensemble._gb.GradientBoostingRegressor'>_Lasso       0.21289849761817514  0.25943569072920486  0.52766581165262\n",
      "ModelWithoutCV_<class 'sklearn.ensemble._gb.GradientBoostingRegressor'>_ElasticNet  0.04177354342249908  0.09197508244778307  0.8662513741297179\n",
      "ModelWithoutCV_<class 'sklearn.ensemble._gb.GradientBoostingRegressor'>_Pyowl       0.17552216929278125  0.19604250641260534  0.6284353242946135\n",
      "ModelWithoutCV_<class 'sklearn.ensemble._bagging.BaggingRegressor'>_Lasso           0.19824111396115793  0.2649322096005863   0.5368266764382558\n",
      "ModelWithoutCV_<class 'sklearn.ensemble._bagging.BaggingRegressor'>_ElasticNet      0.0348112861854159   0.09307438622205937  0.8721143275925247\n",
      "ModelWithoutCV_<class 'sklearn.ensemble._bagging.BaggingRegressor'>_Pyowl           0.1824844265298644   0.1835837303041407   0.6339318431659948\n",
      "ModelWithoutCV_<class 'sklearn.ensemble._forest.ExtraTreesRegressor'>_Lasso         0.1978746793697325   0.182117991938439    0.6200073286918285\n",
      "ModelWithoutCV_<class 'sklearn.ensemble._forest.ExtraTreesRegressor'>_ElasticNet    0.0348112861854159   0.09307438622205937  0.8721143275925247\n",
      "ModelWithoutCV_<class 'sklearn.ensemble._forest.ExtraTreesRegressor'>_Pyowl         0.16709417368999632  0.14950531330157568  0.683400513008428\n",
      "----------------------------------------------------------------------------------  -------------------  -------------------  ------------------\n"
     ]
    }
   ],
   "source": [
    "CUF=Best_Parameters_Regularizers_Ophthalmology[Tuning_models['Library_Script'][1]][Tuning_models['Decision_Tree'][1]][Tuning_models['Regularizers_1'][1]]['Percentage_CUF']\n",
    "            \n",
    "table2 = [['Model', 'Within', 'Overutilization','Underutilization'], \n",
    "          ['CUF Model', CUF[0], CUF[2],CUF[1]]]\n",
    "\n",
    "for i in range(len(keep)):\n",
    "    \n",
    "    table2=table2+[keep[i]]\n",
    "print(tabulate(table2))"
   ]
  },
  {
   "cell_type": "markdown",
   "metadata": {},
   "source": [
    "### 1.4.  Choose Best Rulefit Model  <a class=\"anchor\" id=\"1.4\"></a> \n"
   ]
  },
  {
   "cell_type": "code",
   "execution_count": 18,
   "metadata": {},
   "outputs": [],
   "source": [
    "\n",
    "Script=1\n",
    "tree=1\n",
    "regularizer=0"
   ]
  },
  {
   "cell_type": "code",
   "execution_count": 19,
   "metadata": {},
   "outputs": [],
   "source": [
    "Best_model_speciality=Best_Parameters_Regularizers_Ophthalmology[Tuning_models['Library_Script'][Script]][Tuning_models['Decision_Tree'][tree]][Tuning_models['Regularizers_1'][regularizer]][\"Model\"]"
   ]
  },
  {
   "cell_type": "code",
   "execution_count": 20,
   "metadata": {},
   "outputs": [
    {
     "data": {
      "text/plain": [
       "0.19"
      ]
     },
     "execution_count": 20,
     "metadata": {},
     "output_type": "execute_result"
    }
   ],
   "source": [
    "# Record r2 score from RuleFit model\n",
    "rf_score  = Best_Parameters_Regularizers_Ophthalmology[Tuning_models['Library_Script'][Script]][Tuning_models['Decision_Tree'][tree]][Tuning_models['Regularizers_1'][regularizer]][\"Score\"]\n",
    "rf_score\n",
    "\n"
   ]
  },
  {
   "cell_type": "code",
   "execution_count": 17,
   "metadata": {},
   "outputs": [],
   "source": [
    "predictions=Best_model_speciality.predict(test_features_speciality)\n"
   ]
  },
  {
   "cell_type": "code",
   "execution_count": 18,
   "metadata": {},
   "outputs": [
    {
     "data": {
      "image/png": "[encoded data removed]",
      "text/plain": [
       "<Figure size 432x288 with 1 Axes>"
      ]
     },
     "metadata": {
      "needs_background": "light"
     },
     "output_type": "display_data"
    }
   ],
   "source": [
    "a = plt.axes(aspect='equal')\n",
    "plt.scatter(test_labels_speciality, predictions)\n",
    "plt.xlabel('True Values [Time]')\n",
    "plt.ylabel('Predictions [Time]')\n",
    "lims = [0, 300]\n",
    "plt.xlim(lims)\n",
    "plt.ylim(lims)\n",
    "_ = plt.plot(lims, lims)"
   ]
  },
  {
   "cell_type": "code",
   "execution_count": 19,
   "metadata": {},
   "outputs": [
    {
     "data": {
      "image/png": "[encoded data removed]",
      "text/plain": [
       "<Figure size 432x288 with 1 Axes>"
      ]
     },
     "metadata": {
      "needs_background": "light"
     },
     "output_type": "display_data"
    }
   ],
   "source": [
    "error = predictions - test_labels_speciality\n",
    "plt.hist(error, bins=25)\n",
    "plt.xlabel('Prediction Error')\n",
    "_ = plt.ylabel('Count')"
   ]
  },
  {
   "cell_type": "code",
   "execution_count": 20,
   "metadata": {},
   "outputs": [
    {
     "data": {
      "text/html": [
       "<div>\n",
       "<style scoped>\n",
       "    .dataframe tbody tr th:only-of-type {\n",
       "        vertical-align: middle;\n",
       "    }\n",
       "\n",
       "    .dataframe tbody tr th {\n",
       "        vertical-align: top;\n",
       "    }\n",
       "\n",
       "    .dataframe thead th {\n",
       "        text-align: right;\n",
       "    }\n",
       "</style>\n",
       "<table border=\"1\" class=\"dataframe\">\n",
       "  <thead>\n",
       "    <tr style=\"text-align: right;\">\n",
       "      <th></th>\n",
       "      <th>Real Duration</th>\n",
       "      <th>Planned by Cuf</th>\n",
       "      <th>Labels from RuleFit</th>\n",
       "    </tr>\n",
       "  </thead>\n",
       "  <tbody>\n",
       "    <tr>\n",
       "      <th>0</th>\n",
       "      <td>36.0</td>\n",
       "      <td>60.0</td>\n",
       "      <td>51.301727</td>\n",
       "    </tr>\n",
       "    <tr>\n",
       "      <th>1</th>\n",
       "      <td>41.0</td>\n",
       "      <td>60.0</td>\n",
       "      <td>43.392257</td>\n",
       "    </tr>\n",
       "    <tr>\n",
       "      <th>2</th>\n",
       "      <td>30.0</td>\n",
       "      <td>60.0</td>\n",
       "      <td>20.587360</td>\n",
       "    </tr>\n",
       "    <tr>\n",
       "      <th>3</th>\n",
       "      <td>31.0</td>\n",
       "      <td>30.0</td>\n",
       "      <td>30.341023</td>\n",
       "    </tr>\n",
       "    <tr>\n",
       "      <th>4</th>\n",
       "      <td>58.0</td>\n",
       "      <td>60.0</td>\n",
       "      <td>39.906298</td>\n",
       "    </tr>\n",
       "    <tr>\n",
       "      <th>...</th>\n",
       "      <td>...</td>\n",
       "      <td>...</td>\n",
       "      <td>...</td>\n",
       "    </tr>\n",
       "    <tr>\n",
       "      <th>2724</th>\n",
       "      <td>20.0</td>\n",
       "      <td>30.0</td>\n",
       "      <td>29.999453</td>\n",
       "    </tr>\n",
       "    <tr>\n",
       "      <th>2725</th>\n",
       "      <td>25.0</td>\n",
       "      <td>30.0</td>\n",
       "      <td>25.627756</td>\n",
       "    </tr>\n",
       "    <tr>\n",
       "      <th>2726</th>\n",
       "      <td>45.0</td>\n",
       "      <td>30.0</td>\n",
       "      <td>28.289717</td>\n",
       "    </tr>\n",
       "    <tr>\n",
       "      <th>2727</th>\n",
       "      <td>30.0</td>\n",
       "      <td>20.0</td>\n",
       "      <td>23.401458</td>\n",
       "    </tr>\n",
       "    <tr>\n",
       "      <th>2728</th>\n",
       "      <td>32.0</td>\n",
       "      <td>45.0</td>\n",
       "      <td>38.608495</td>\n",
       "    </tr>\n",
       "  </tbody>\n",
       "</table>\n",
       "<p>2729 rows × 3 columns</p>\n",
       "</div>"
      ],
      "text/plain": [
       "      Real Duration  Planned by Cuf  Labels from RuleFit\n",
       "0              36.0            60.0            51.301727\n",
       "1              41.0            60.0            43.392257\n",
       "2              30.0            60.0            20.587360\n",
       "3              31.0            30.0            30.341023\n",
       "4              58.0            60.0            39.906298\n",
       "...             ...             ...                  ...\n",
       "2724           20.0            30.0            29.999453\n",
       "2725           25.0            30.0            25.627756\n",
       "2726           45.0            30.0            28.289717\n",
       "2727           30.0            20.0            23.401458\n",
       "2728           32.0            45.0            38.608495\n",
       "\n",
       "[2729 rows x 3 columns]"
      ]
     },
     "execution_count": 20,
     "metadata": {},
     "output_type": "execute_result"
    }
   ],
   "source": [
    "dataset_predicton = {\"Real Duration\": test_labels_speciality, \"Planned by Cuf\": test_CUF_labels_speciality, \"Labels from RuleFit\": predictions}\n",
    "dataset_predicton=pd.DataFrame(dataset_predicton)\n",
    "dataset_predicton\n",
    "\n"
   ]
  },
  {
   "cell_type": "code",
   "execution_count": 21,
   "metadata": {},
   "outputs": [
    {
     "data": {
      "text/plain": [
       "<matplotlib.legend.Legend at 0x236333b88b0>"
      ]
     },
     "execution_count": 21,
     "metadata": {},
     "output_type": "execute_result"
    },
    {
     "data": {
      "image/png": "[encoded data removed]",
      "text/plain": [
       "<Figure size 432x288 with 1 Axes>"
      ]
     },
     "metadata": {
      "needs_background": "light"
     },
     "output_type": "display_data"
    }
   ],
   "source": [
    "\n",
    "def percCal(x,y):\n",
    "    return (x-y)*100/x\n",
    "\n",
    "dataset_predicton['Error_RuleFit'] = percCal(dataset_predicton['Real Duration'], dataset_predicton['Labels from RuleFit'])\n",
    "dataset_predicton['Error_CUF'] = percCal(dataset_predicton['Real Duration'], dataset_predicton['Planned by Cuf'])\n",
    "\n",
    "\n",
    "dataset_predicton['Error_CUF'].plot(kind='density')\n",
    "dataset_predicton['Error_RuleFit'].plot(kind='density')\n",
    "plt.xlim([-400, 400])\n",
    "plt.title('General RuleFit vs CUF prediction')\n",
    "orange_patch = matplotlib.patches.Patch(color='orange', label='RuleFit')\n",
    "blue_patch = matplotlib.patches.Patch(color='blue', label='CUF')\n",
    "plt.legend(handles=[orange_patch,blue_patch])"
   ]
  },
  {
   "cell_type": "code",
   "execution_count": 22,
   "metadata": {},
   "outputs": [
    {
     "name": "stdout",
     "output_type": "stream",
     "text": [
      "-------------  -------------------  -------------------  ------------------\n",
      "Model          Within               Overutilization      Underutilization\n",
      "CUF Model      0.15793330890436058  0.22572370831806524  0.6163429827775742\n",
      "RuleFit Model  0.21289849761817514  0.25943569072920486  0.52766581165262\n",
      "-------------  -------------------  -------------------  ------------------\n"
     ]
    }
   ],
   "source": [
    "#Overutilization \n",
    "CUF_overuse=dataset_predicton[dataset_predicton['Error_CUF']>10].shape[0]/dataset_predicton.shape[0]\n",
    "RuleFit_overuse=dataset_predicton[dataset_predicton['Error_RuleFit']>10].shape[0]/dataset_predicton.shape[0]\n",
    "#Underutilization\n",
    "CUF_under=dataset_predicton[dataset_predicton['Error_CUF']<-10].shape[0]/dataset_predicton.shape[0]\n",
    "RuleFit_under=dataset_predicton[dataset_predicton['Error_RuleFit']<-10].shape[0]/dataset_predicton.shape[0]\n",
    "#Within\n",
    "CUF_Within=dataset_predicton[dataset_predicton['Error_CUF'].abs()<=10].shape[0]/dataset_predicton.shape[0]\n",
    "RuleFit_Within=dataset_predicton[dataset_predicton['Error_RuleFit'].abs()<=10].shape[0]/dataset_predicton.shape[0]\n",
    "\n",
    "table2 = [['Model', 'Within', 'Overutilization','Underutilization'], ['CUF Model', CUF_Within, CUF_overuse,CUF_under], ['RuleFit Model', RuleFit_Within, RuleFit_overuse,RuleFit_under]]\n",
    "print(tabulate(table2))"
   ]
  },
  {
   "cell_type": "markdown",
   "metadata": {},
   "source": [
    "-----"
   ]
  },
  {
   "cell_type": "markdown",
   "metadata": {},
   "source": [
    "# Design Rashomon Curve"
   ]
  },
  {
   "cell_type": "code",
   "execution_count": 13,
   "metadata": {},
   "outputs": [],
   "source": [
    "number_of_rules=10"
   ]
  },
  {
   "cell_type": "code",
   "execution_count": 41,
   "metadata": {},
   "outputs": [],
   "source": [
    "\n",
    "\n",
    "Rashomon_curve_speciality= {}\n",
    "\n",
    "for j in range(0,2):\n",
    "        # The Normalization layer\n",
    "    Rashomon_curve_speciality[j] = {}\n",
    "\n",
    "    for r in range(number_of_rules):\n",
    "            # The Normalization layer\n",
    "        Rashomon_curve_speciality[j][r] = {}\n",
    "\n",
    "       "
   ]
  },
  {
   "cell_type": "code",
   "execution_count": 51,
   "metadata": {},
   "outputs": [],
   "source": [
    "\n",
    "\n",
    "Rashomon_curve_speciality_depth5= {}\n",
    "\n",
    "for j in range(0,2):\n",
    "        # The Normalization layer\n",
    "    Rashomon_curve_speciality_depth5[j] = {}\n",
    "\n",
    "    for r in range(number_of_rules):\n",
    "            # The Normalization layer\n",
    "        Rashomon_curve_speciality_depth5[j][r] = {}\n"
   ]
  },
  {
   "cell_type": "code",
   "execution_count": 52,
   "metadata": {},
   "outputs": [],
   "source": [
    "\n",
    "\n",
    "Rashomon_curve_speciality_depth6= {}\n",
    "\n",
    "for j in range(0,2):\n",
    "        # The Normalization layer\n",
    "    Rashomon_curve_speciality_depth6[j] = {}\n",
    "\n",
    "    for r in range(number_of_rules):\n",
    "            # The Normalization layer\n",
    "        Rashomon_curve_speciality_depth6[j][r] = {}"
   ]
  },
  {
   "cell_type": "code",
   "execution_count": 44,
   "metadata": {},
   "outputs": [],
   "source": [
    "Datasets_speciality_ophthalmology=Specialities_Dataset['Ophthalmology']"
   ]
  },
  {
   "cell_type": "code",
   "execution_count": 14,
   "metadata": {},
   "outputs": [],
   "source": [
    "\n",
    "def percCal(x,y):\n",
    "    return (x-y)*100/x\n",
    "\n",
    "def percCal2(x,y):\n",
    "    return abs(x-y)\n",
    "\n"
   ]
  },
  {
   "cell_type": "code",
   "execution_count": 79,
   "metadata": {},
   "outputs": [
    {
     "name": "stdout",
     "output_type": "stream",
     "text": [
      "1\n",
      "GradientBoostingRegressor(learning_rate=0.05, max_depth=5, n_estimators=1750,\n",
      "                          random_state=123)\n",
      "Lasso\n",
      "15\n",
      "12\n",
      "10\n",
      "[]\n"
     ]
    }
   ],
   "source": [
    "alphas=[]\n",
    "\n",
    "for j in range(0,2):\n",
    "    print(j)\n",
    "    if j==0:\n",
    "        train_dataset_speciality= Datasets_speciality_ophthalmology['TrainSet']\n",
    "        test_dataset_speciality= Datasets_speciality_ophthalmology['TestSet']\n",
    "        train_dataset_speciality_categorical=Datasets_speciality_ophthalmology['TrainSet'][Datasets_speciality_ophthalmology['TrainSet']['Real Room Duration']>40]\n",
    "        test_dataset_speciality_categorical=Datasets_speciality_ophthalmology['TestSet'][Datasets_speciality_ophthalmology['TestSet']['Real Room Duration']>40]\n",
    "        \n",
    "        \n",
    "    if j==1:\n",
    "        train_dataset_speciality= df_train_speciality\n",
    "        test_dataset_speciality= df_test_speciality\n",
    "        train_dataset_speciality_categorical= df_train_speciality[df_train_speciality['Real Room Duration']>40]\n",
    "        test_dataset_speciality_categorical= df_test_speciality[df_test_speciality['Real Room Duration']>40]\n",
    "        \n",
    "    \n",
    "        \n",
    "    r=1\n",
    "    \n",
    "    Parameters=Speciality_model_Ophthalmology_depth5[Tuning_models['Decision_Tree'][1]][\"Best_params_dict\"]\n",
    "\n",
    "    Decison_Tree=Tuning_models['Decision_Tree'][1](random_state=123,learning_rate=Parameters[\"learning_rate\"],max_depth=Parameters[\"max_depth\"],n_estimators=Parameters[\"n_estimators\"])\n",
    "    print(Decison_Tree)\n",
    "\n",
    "\n",
    "    regularizer=Tuning_models['Regularizers_1'][0]\n",
    "\n",
    "\n",
    "\n",
    "    print(regularizer)\n",
    "\n",
    "    Cs=Tuning_models['Cs']\n",
    "\n",
    "    beta=0.1\n",
    "    alpha=0.0001\n",
    "    \n",
    "    train_features_speciality = train_dataset_speciality.copy()\n",
    "\n",
    "    train_labels_speciality = train_features_speciality.pop('Real Room Duration')\n",
    "\n",
    "    train_CUF_labels_speciality = train_features_speciality.pop('CUF Planned Duration')\n",
    "    \n",
    "    test_features_speciality = test_dataset_speciality.copy()\n",
    "\n",
    "    test_labels_speciality = test_features_speciality.pop('Real Room Duration')\n",
    "\n",
    "    test_CUF_labels_speciality = test_features_speciality.pop('CUF Planned Duration')\n",
    "    #-----\n",
    "    \n",
    "    \n",
    "\n",
    "    train_features_speciality_categorical = train_dataset_speciality_categorical.copy()\n",
    "\n",
    "    train_labels_speciality_categorical = train_features_speciality_categorical.pop('Real Room Duration')\n",
    "\n",
    "    train_CUF_labels_speciality_categorical = train_features_speciality_categorical.pop('CUF Planned Duration')\n",
    "    \n",
    "    test_features_speciality_categorical = test_dataset_speciality_categorical.copy()\n",
    "\n",
    "    test_labels_speciality_categorical = test_features_speciality_categorical.pop('Real Room Duration')\n",
    "\n",
    "    test_CUF_labels_speciality_categorical = test_features_speciality_categorical.pop('CUF Planned Duration')\n",
    "\n",
    "\n",
    "\n",
    "\n",
    "    #Dataset\n",
    "    train_dataset_speciality= np.asarray(train_dataset_speciality).astype(np.float32)\n",
    "\n",
    "    #Features\n",
    "    train_features_speciality= np.asarray(train_features_speciality).astype(np.float32)\n",
    "\n",
    "    #labels\n",
    "    train_labels_speciality= np.asarray(train_labels_speciality).astype(np.float32)\n",
    "    \n",
    "    #Dataset\n",
    "    train_dataset_speciality_categorical= np.asarray(train_dataset_speciality_categorical).astype(np.float32)\n",
    "\n",
    "    #Features\n",
    "    train_features_speciality_categorical= np.asarray(train_features_speciality_categorical).astype(np.float32)\n",
    "\n",
    "    #labels\n",
    "    train_labels_speciality_categorical= np.asarray(train_labels_speciality_categorical).astype(np.float32)\n",
    "    \n",
    "    \n",
    "    ##---\n",
    "    \n",
    "    #Dataset\n",
    "    test_dataset_speciality= np.asarray(test_dataset_speciality).astype(np.float32)\n",
    "\n",
    "    #Features\n",
    "    test_features_speciality= np.asarray(test_features_speciality).astype(np.float32)\n",
    "\n",
    "    #labels\n",
    "    test_labels_speciality= np.asarray(test_labels_speciality).astype(np.float32)\n",
    "    \n",
    "    #Dataset\n",
    "    test_dataset_speciality_categorical= np.asarray(test_dataset_speciality_categorical).astype(np.float32)\n",
    "\n",
    "    #Features\n",
    "    test_features_speciality_categorical= np.asarray(test_features_speciality_categorical).astype(np.float32)\n",
    "\n",
    "    #labels\n",
    "    test_labels_speciality_categorical= np.asarray(test_labels_speciality_categorical).astype(np.float32)\n",
    "    \n",
    "\n",
    "    t=0\n",
    "    for rules_n in range(number_of_rules):\n",
    "        \n",
    "\n",
    "        max_rules=(10-rules_n)*10\n",
    "\n",
    "        len_reduce_rules=1000\n",
    "\n",
    "        while len_reduce_rules>max_rules:\n",
    "\n",
    "            Decison_Tree_tune=copy.deepcopy(Decison_Tree)\n",
    "\n",
    "            rf = RuleFit_withoutCV.RuleFit(tree_generator=Decison_Tree_tune,alpha=alpha, Cs=Cs, max_iter=10e10, regularization=regularizer,n_jobs=-1)\n",
    "\n",
    "\n",
    "            rf.fit(train_features_speciality, train_labels_speciality, feature_names=specialitycolumns)\n",
    "\n",
    "            rules = rf.get_rules()\n",
    "\n",
    "            reduce_rules = rules[abs(rules.coef) !=0].sort_values(\"coef\", ascending=False)\n",
    "\n",
    "\n",
    "            len_reduce_rules=len(reduce_rules)\n",
    "\n",
    "            print(len_reduce_rules)\n",
    "\n",
    "            rf_score_train = np.round(mean_squared_error(rf.predict(train_features_speciality),train_labels_speciality,squared=False))\n",
    "\n",
    "          \n",
    "\n",
    "            rf_score = np.round(mean_squared_error(rf.predict(test_features_speciality),test_labels_speciality,squared=False))\n",
    "\n",
    "            \n",
    "            predictions=rf.predict(test_features_speciality)\n",
    "\n",
    "            if len_reduce_rules>200:\n",
    "                alpha+=0.05\n",
    "\n",
    "                \n",
    "            if len_reduce_rules>max_rules+20:\n",
    "                alpha+=0.010\n",
    "\n",
    "            else:\n",
    "                alpha+=0.01\n",
    "                \n",
    "        \n",
    "            \n",
    "        print(alphas)\n",
    "\n",
    "\n",
    "        dataset_predicton = {\"Real Duration\": test_labels_speciality, \"Planned by Cuf\": test_CUF_labels_speciality, \"Labels from RuleFit\": predictions}\n",
    "        dataset_predicton=pd.DataFrame(dataset_predicton)\n",
    "\n",
    "        dataset_predicton['Error_RuleFit'] = percCal(dataset_predicton['Real Duration'], dataset_predicton['Labels from RuleFit'])\n",
    "        dataset_predicton['Error_CUF'] = percCal(dataset_predicton['Real Duration'], dataset_predicton['Planned by Cuf'])\n",
    "\n",
    "        CUF_overuse=dataset_predicton[dataset_predicton['Error_CUF']>10].shape[0]/dataset_predicton.shape[0]\n",
    "        RuleFit_overuse=dataset_predicton[dataset_predicton['Error_RuleFit']>10].shape[0]/dataset_predicton.shape[0]\n",
    "        #Underutilization\n",
    "        CUF_under=dataset_predicton[dataset_predicton['Error_CUF']<-10].shape[0]/dataset_predicton.shape[0]\n",
    "        RuleFit_under=dataset_predicton[dataset_predicton['Error_RuleFit']<-10].shape[0]/dataset_predicton.shape[0]\n",
    "            #Within\n",
    "        CUF_Within=dataset_predicton[dataset_predicton['Error_CUF'].abs()<=10].shape[0]/dataset_predicton.shape[0]\n",
    "        RuleFit_Within=dataset_predicton[dataset_predicton['Error_RuleFit'].abs()<=10].shape[0]/dataset_predicton.shape[0]\n",
    "\n",
    "        Rashomon_curve_speciality_depth5[j][rules_n].update({\"Model\": rf})\n",
    "        Rashomon_curve_speciality_depth5[j][rules_n].update({\"Rules\": rules})\n",
    "\n",
    "        Rashomon_curve_speciality_depth5[j][rules_n].update({\"Rules_non0\": reduce_rules})\n",
    "\n",
    "        Rashomon_curve_speciality_depth5[j][rules_n].update({\"Number Rules\": len(reduce_rules)})\n",
    "        Rashomon_curve_speciality_depth5[j][rules_n].update({\"TestScore\": rf_score})\n",
    "        Rashomon_curve_speciality_depth5[j][rules_n].update({\"TrainScore\": rf_score_train})\n",
    "        Rashomon_curve_speciality_depth5[j][rules_n].update({\"Predictions\": predictions})\n",
    "        Rashomon_curve_speciality_depth5[j][rules_n].update({\"Dataset_predicton\": dataset_predicton})\n",
    "\n",
    "        Rashomon_curve_speciality_depth5[j][rules_n].update({\"Percentage\": [RuleFit_Within, RuleFit_under, RuleFit_overuse]})\n",
    "        Rashomon_curve_speciality_depth5[j][rules_n].update({\"Percentage_CUF\": [CUF_Within, CUF_under, CUF_overuse]})\n",
    "        \n",
    "        predictions_train=rf.predict(train_features_speciality)\n",
    "        \n",
    "        rf_score_test =mean_squared_error(rf.predict(test_features_speciality),test_labels_speciality,squared=False)\n",
    "        \n",
    "        rf_score_train = mean_squared_error(rf.predict(train_features_speciality),train_labels_speciality,squared=False)\n",
    "        \n",
    "        \n",
    "       \n",
    "        \n",
    "        rf_score_test_categorical = mean_squared_error(rf.predict(test_features_speciality_categorical),test_labels_speciality_categorical,squared=False)\n",
    "        \n",
    "        rf_score_train_categorical = mean_squared_error(rf.predict(train_features_speciality_categorical),train_labels_speciality_categorical,squared=False)\n",
    "        \n",
    "\n",
    "        dataset_predicton = {\"Real Duration\": train_labels_speciality, \"Planned by Cuf\": train_CUF_labels_speciality, \"Labels from RuleFit\": predictions_train}\n",
    "        dataset_predicton=pd.DataFrame(dataset_predicton)\n",
    "\n",
    "        dataset_predicton['Error_RuleFit'] = percCal(dataset_predicton['Real Duration'], dataset_predicton['Labels from RuleFit'])\n",
    "        dataset_predicton['Error_CUF'] = percCal(dataset_predicton['Real Duration'], dataset_predicton['Planned by Cuf'])\n",
    "\n",
    "        CUF_overuse=dataset_predicton[dataset_predicton['Error_CUF']>10].shape[0]/dataset_predicton.shape[0]\n",
    "        RuleFit_overuse=dataset_predicton[dataset_predicton['Error_RuleFit']>10].shape[0]/dataset_predicton.shape[0]\n",
    "        #Underutilization\n",
    "        CUF_under=dataset_predicton[dataset_predicton['Error_CUF']<-10].shape[0]/dataset_predicton.shape[0]\n",
    "        RuleFit_under=dataset_predicton[dataset_predicton['Error_RuleFit']<-10].shape[0]/dataset_predicton.shape[0]\n",
    "            #Within\n",
    "        CUF_Within=dataset_predicton[dataset_predicton['Error_CUF'].abs()<=10].shape[0]/dataset_predicton.shape[0]\n",
    "        RuleFit_Within=dataset_predicton[dataset_predicton['Error_RuleFit'].abs()<=10].shape[0]/dataset_predicton.shape[0]\n",
    "\n",
    "        Rashomon_curve_speciality_depth5[j][rules_n].update({\"Score R2 Train\": rf_score_train})\n",
    "        Rashomon_curve_speciality_depth5[j][rules_n].update({\"Score R2 Test\": rf_score_test})\n",
    "        Rashomon_curve_speciality_depth5[j][rules_n].update({\"Score R2 Train Categorical\": rf_score_train_categorical})\n",
    "        Rashomon_curve_speciality_depth5[j][rules_n].update({\"Score R2 Test Categorical\": rf_score_test_categorical})\n",
    "        \n",
    "        Rashomon_curve_speciality_depth5[j][rules_n].update({\"Percentage_Train\": [RuleFit_Within, RuleFit_under, RuleFit_overuse]})\n",
    "        \n",
    "        #------\n",
    "        \n",
    "        predictions_test_categorical=rf.predict(test_features_speciality_categorical)\n",
    "        \n",
    "        dataset_predicton = {\"Real Duration\": test_labels_speciality_categorical, \"Planned by Cuf\": test_CUF_labels_speciality_categorical, \"Labels from RuleFit\": predictions_test_categorical}\n",
    "        dataset_predicton=pd.DataFrame(dataset_predicton)\n",
    "\n",
    "        dataset_predicton['Error_RuleFit'] = percCal(dataset_predicton['Real Duration'], dataset_predicton['Labels from RuleFit'])\n",
    "        dataset_predicton['Error_CUF'] = percCal(dataset_predicton['Real Duration'], dataset_predicton['Planned by Cuf'])\n",
    "\n",
    "        CUF_overuse=dataset_predicton[dataset_predicton['Error_CUF']>10].shape[0]/dataset_predicton.shape[0]\n",
    "        RuleFit_overuse=dataset_predicton[dataset_predicton['Error_RuleFit']>10].shape[0]/dataset_predicton.shape[0]\n",
    "        #Underutilization\n",
    "        CUF_under=dataset_predicton[dataset_predicton['Error_CUF']<-10].shape[0]/dataset_predicton.shape[0]\n",
    "        RuleFit_under=dataset_predicton[dataset_predicton['Error_RuleFit']<-10].shape[0]/dataset_predicton.shape[0]\n",
    "            #Within\n",
    "        CUF_Within=dataset_predicton[dataset_predicton['Error_CUF'].abs()<=10].shape[0]/dataset_predicton.shape[0]\n",
    "        RuleFit_Within=dataset_predicton[dataset_predicton['Error_RuleFit'].abs()<=10].shape[0]/dataset_predicton.shape[0]\n",
    "        \n",
    "        Rashomon_curve_speciality_depth5[j][rules_n].update({\"Percentage Test Categorical\": [RuleFit_Within, RuleFit_under, RuleFit_overuse]})\n",
    "        \n",
    "        \n",
    "        #------\n",
    "        \n",
    "        predictions_train_categorical=rf.predict(train_features_speciality_categorical)\n",
    "        \n",
    "        dataset_predicton = {\"Real Duration\": train_labels_speciality_categorical, \"Planned by Cuf\": train_CUF_labels_speciality_categorical, \"Labels from RuleFit\": predictions_train_categorical}\n",
    "        dataset_predicton=pd.DataFrame(dataset_predicton)\n",
    "\n",
    "        dataset_predicton['Error_RuleFit'] = percCal(dataset_predicton['Real Duration'], dataset_predicton['Labels from RuleFit'])\n",
    "        dataset_predicton['Error_CUF'] = percCal(dataset_predicton['Real Duration'], dataset_predicton['Planned by Cuf'])\n",
    "\n",
    "        CUF_overuse=dataset_predicton[dataset_predicton['Error_CUF']>10].shape[0]/dataset_predicton.shape[0]\n",
    "        RuleFit_overuse=dataset_predicton[dataset_predicton['Error_RuleFit']>10].shape[0]/dataset_predicton.shape[0]\n",
    "        #Underutilization\n",
    "        CUF_under=dataset_predicton[dataset_predicton['Error_CUF']<-10].shape[0]/dataset_predicton.shape[0]\n",
    "        RuleFit_under=dataset_predicton[dataset_predicton['Error_RuleFit']<-10].shape[0]/dataset_predicton.shape[0]\n",
    "            #Within\n",
    "        CUF_Within=dataset_predicton[dataset_predicton['Error_CUF'].abs()<=10].shape[0]/dataset_predicton.shape[0]\n",
    "        RuleFit_Within=dataset_predicton[dataset_predicton['Error_RuleFit'].abs()<=10].shape[0]/dataset_predicton.shape[0]\n",
    "        \n",
    "        Rashomon_curve_speciality_depth5[j][rules_n].update({\"Percentage Train Categorical\": [RuleFit_Within, RuleFit_under, RuleFit_overuse]})\n",
    "        \n"
   ]
  },
  {
   "cell_type": "code",
   "execution_count": 60,
   "metadata": {},
   "outputs": [],
   "source": [
    "%store -r Rashomon_curve_speciality"
   ]
  },
  {
   "cell_type": "code",
   "execution_count": null,
   "metadata": {},
   "outputs": [],
   "source": [
    "alphas=[]\n",
    "\n",
    "for j in range(1,2):\n",
    "    print(j)\n",
    "    if j==0:\n",
    "        train_dataset_speciality= Datasets_speciality_ophthalmology['TrainSet']\n",
    "        test_dataset_speciality= Datasets_speciality_ophthalmology['TestSet']\n",
    "        train_dataset_speciality_categorical=Datasets_speciality_ophthalmology['TrainSet'][Datasets_speciality_ophthalmology['TrainSet']['Real Room Duration']>40]\n",
    "        test_dataset_speciality_categorical=Datasets_speciality_ophthalmology['TestSet'][Datasets_speciality_ophthalmology['TestSet']['Real Room Duration']>40]\n",
    "        \n",
    "        \n",
    "    if j==1:\n",
    "        train_dataset_speciality= df_train_speciality\n",
    "        test_dataset_speciality= df_test_speciality\n",
    "        train_dataset_speciality_categorical= df_train_speciality[df_train_speciality['Real Room Duration']>40]\n",
    "        test_dataset_speciality_categorical= df_test_speciality[df_test_speciality['Real Room Duration']>40]\n",
    "        \n",
    "    \n",
    "        \n",
    "    r=1\n",
    "    \n",
    "    Parameters=Speciality_model_Ophthalmology_depth6[Tuning_models['Decision_Tree'][1]][\"Best_params_dict\"]\n",
    "\n",
    "    Decison_Tree=Tuning_models['Decision_Tree'][1](random_state=123,learning_rate=Parameters[\"learning_rate\"],max_depth=Parameters[\"max_depth\"],n_estimators=Parameters[\"n_estimators\"])\n",
    "    print(Decison_Tree)\n",
    "\n",
    "\n",
    "    regularizer=Tuning_models['Regularizers_1'][0]\n",
    "\n",
    "\n",
    "\n",
    "    print(regularizer)\n",
    "\n",
    "    Cs=Tuning_models['Cs']\n",
    "\n",
    "    beta=0.1\n",
    "    alpha=0.0001\n",
    "    \n",
    "    train_features_speciality = train_dataset_speciality.copy()\n",
    "\n",
    "    train_labels_speciality = train_features_speciality.pop('Real Room Duration')\n",
    "\n",
    "    train_CUF_labels_speciality = train_features_speciality.pop('CUF Planned Duration')\n",
    "    \n",
    "    test_features_speciality = test_dataset_speciality.copy()\n",
    "\n",
    "    test_labels_speciality = test_features_speciality.pop('Real Room Duration')\n",
    "\n",
    "    test_CUF_labels_speciality = test_features_speciality.pop('CUF Planned Duration')\n",
    "    #-----\n",
    "    \n",
    "    \n",
    "\n",
    "    train_features_speciality_categorical = train_dataset_speciality_categorical.copy()\n",
    "\n",
    "    train_labels_speciality_categorical = train_features_speciality_categorical.pop('Real Room Duration')\n",
    "\n",
    "    train_CUF_labels_speciality_categorical = train_features_speciality_categorical.pop('CUF Planned Duration')\n",
    "    \n",
    "    test_features_speciality_categorical = test_dataset_speciality_categorical.copy()\n",
    "\n",
    "    test_labels_speciality_categorical = test_features_speciality_categorical.pop('Real Room Duration')\n",
    "\n",
    "    test_CUF_labels_speciality_categorical = test_features_speciality_categorical.pop('CUF Planned Duration')\n",
    "\n",
    "\n",
    "\n",
    "\n",
    "    #Dataset\n",
    "    train_dataset_speciality= np.asarray(train_dataset_speciality).astype(np.float32)\n",
    "\n",
    "    #Features\n",
    "    train_features_speciality= np.asarray(train_features_speciality).astype(np.float32)\n",
    "\n",
    "    #labels\n",
    "    train_labels_speciality= np.asarray(train_labels_speciality).astype(np.float32)\n",
    "    \n",
    "    #Dataset\n",
    "    train_dataset_speciality_categorical= np.asarray(train_dataset_speciality_categorical).astype(np.float32)\n",
    "\n",
    "    #Features\n",
    "    train_features_speciality_categorical= np.asarray(train_features_speciality_categorical).astype(np.float32)\n",
    "\n",
    "    #labels\n",
    "    train_labels_speciality_categorical= np.asarray(train_labels_speciality_categorical).astype(np.float32)\n",
    "    \n",
    "    \n",
    "    ##---\n",
    "    \n",
    "    #Dataset\n",
    "    test_dataset_speciality= np.asarray(test_dataset_speciality).astype(np.float32)\n",
    "\n",
    "    #Features\n",
    "    test_features_speciality= np.asarray(test_features_speciality).astype(np.float32)\n",
    "\n",
    "    #labels\n",
    "    test_labels_speciality= np.asarray(test_labels_speciality).astype(np.float32)\n",
    "    \n",
    "    #Dataset\n",
    "    test_dataset_speciality_categorical= np.asarray(test_dataset_speciality_categorical).astype(np.float32)\n",
    "\n",
    "    #Features\n",
    "    test_features_speciality_categorical= np.asarray(test_features_speciality_categorical).astype(np.float32)\n",
    "\n",
    "    #labels\n",
    "    test_labels_speciality_categorical= np.asarray(test_labels_speciality_categorical).astype(np.float32)\n",
    "    \n",
    "\n",
    "    t=0\n",
    "    for rules_n in range(3,number_of_rules):\n",
    "        \n",
    "\n",
    "        max_rules=(10-rules_n)*10\n",
    "\n",
    "        len_reduce_rules=1000\n",
    "\n",
    "        while len_reduce_rules>max_rules:\n",
    "\n",
    "            Decison_Tree_tune=copy.deepcopy(Decison_Tree)\n",
    "\n",
    "            rf = RuleFit_withoutCV.RuleFit(tree_generator=Decison_Tree_tune,alpha=alpha, Cs=Cs, max_iter=10e10, regularization=regularizer,n_jobs=-1)\n",
    "\n",
    "\n",
    "            rf.fit(train_features_speciality, train_labels_speciality, feature_names=specialitycolumns)\n",
    "\n",
    "            rules = rf.get_rules()\n",
    "\n",
    "            reduce_rules = rules[abs(rules.coef) !=0].sort_values(\"coef\", ascending=False)\n",
    "\n",
    "\n",
    "            len_reduce_rules=len(reduce_rules)\n",
    "\n",
    "            print(len_reduce_rules)\n",
    "\n",
    "            rf_score_train = np.round(mean_squared_error(rf.predict(train_features_speciality),train_labels_speciality,squared=False))\n",
    "\n",
    "          \n",
    "\n",
    "            rf_score = np.round(mean_squared_error(rf.predict(test_features_speciality),test_labels_speciality,squared=False))\n",
    "\n",
    "            \n",
    "            predictions=rf.predict(test_features_speciality)\n",
    "\n",
    "            if len_reduce_rules>200:\n",
    "                alpha+=0.05\n",
    "\n",
    "                \n",
    "            if len_reduce_rules>max_rules+20:\n",
    "                alpha+=0.007\n",
    "\n",
    "            else:\n",
    "                alpha+=0.01\n",
    "                \n",
    "        \n",
    "            \n",
    "        print(alphas)\n",
    "\n",
    "\n",
    "        dataset_predicton = {\"Real Duration\": test_labels_speciality, \"Planned by Cuf\": test_CUF_labels_speciality, \"Labels from RuleFit\": predictions}\n",
    "        dataset_predicton=pd.DataFrame(dataset_predicton)\n",
    "\n",
    "        dataset_predicton['Error_RuleFit'] = percCal(dataset_predicton['Real Duration'], dataset_predicton['Labels from RuleFit'])\n",
    "        dataset_predicton['Error_CUF'] = percCal(dataset_predicton['Real Duration'], dataset_predicton['Planned by Cuf'])\n",
    "\n",
    "        CUF_overuse=dataset_predicton[dataset_predicton['Error_CUF']>10].shape[0]/dataset_predicton.shape[0]\n",
    "        RuleFit_overuse=dataset_predicton[dataset_predicton['Error_RuleFit']>10].shape[0]/dataset_predicton.shape[0]\n",
    "        #Underutilization\n",
    "        CUF_under=dataset_predicton[dataset_predicton['Error_CUF']<-10].shape[0]/dataset_predicton.shape[0]\n",
    "        RuleFit_under=dataset_predicton[dataset_predicton['Error_RuleFit']<-10].shape[0]/dataset_predicton.shape[0]\n",
    "            #Within\n",
    "        CUF_Within=dataset_predicton[dataset_predicton['Error_CUF'].abs()<=10].shape[0]/dataset_predicton.shape[0]\n",
    "        RuleFit_Within=dataset_predicton[dataset_predicton['Error_RuleFit'].abs()<=10].shape[0]/dataset_predicton.shape[0]\n",
    "\n",
    "        Rashomon_curve_speciality_depth6[j][rules_n].update({\"Model\": rf})\n",
    "        Rashomon_curve_speciality_depth6[j][rules_n].update({\"Rules\": rules})\n",
    "\n",
    "        Rashomon_curve_speciality_depth6[j][rules_n].update({\"Rules_non0\": reduce_rules})\n",
    "\n",
    "        Rashomon_curve_speciality_depth6[j][rules_n].update({\"Number Rules\": len(reduce_rules)})\n",
    "        Rashomon_curve_speciality_depth6[j][rules_n].update({\"TestScore\": rf_score})\n",
    "        Rashomon_curve_speciality_depth6[j][rules_n].update({\"TrainScore\": rf_score_train})\n",
    "        Rashomon_curve_speciality_depth6[j][rules_n].update({\"Predictions\": predictions})\n",
    "        Rashomon_curve_speciality_depth6[j][rules_n].update({\"Dataset_predicton\": dataset_predicton})\n",
    "\n",
    "        Rashomon_curve_speciality_depth6[j][rules_n].update({\"Percentage\": [RuleFit_Within, RuleFit_under, RuleFit_overuse]})\n",
    "        Rashomon_curve_speciality_depth6[j][rules_n].update({\"Percentage_CUF\": [CUF_Within, CUF_under, CUF_overuse]})\n",
    "        \n",
    "        predictions_train=rf.predict(train_features_speciality)\n",
    "        \n",
    "        rf_score_test =mean_squared_error(rf.predict(test_features_speciality),test_labels_speciality,squared=False)\n",
    "        \n",
    "        rf_score_train = mean_squared_error(rf.predict(train_features_speciality),train_labels_speciality,squared=False)\n",
    "        \n",
    "        \n",
    "       \n",
    "        \n",
    "        rf_score_test_categorical = mean_squared_error(rf.predict(test_features_speciality_categorical),test_labels_speciality_categorical,squared=False)\n",
    "        \n",
    "        rf_score_train_categorical = mean_squared_error(rf.predict(train_features_speciality_categorical),train_labels_speciality_categorical,squared=False)\n",
    "        \n",
    "\n",
    "        dataset_predicton = {\"Real Duration\": train_labels_speciality, \"Planned by Cuf\": train_CUF_labels_speciality, \"Labels from RuleFit\": predictions_train}\n",
    "        dataset_predicton=pd.DataFrame(dataset_predicton)\n",
    "\n",
    "        dataset_predicton['Error_RuleFit'] = percCal(dataset_predicton['Real Duration'], dataset_predicton['Labels from RuleFit'])\n",
    "        dataset_predicton['Error_CUF'] = percCal(dataset_predicton['Real Duration'], dataset_predicton['Planned by Cuf'])\n",
    "\n",
    "        CUF_overuse=dataset_predicton[dataset_predicton['Error_CUF']>10].shape[0]/dataset_predicton.shape[0]\n",
    "        RuleFit_overuse=dataset_predicton[dataset_predicton['Error_RuleFit']>10].shape[0]/dataset_predicton.shape[0]\n",
    "        #Underutilization\n",
    "        CUF_under=dataset_predicton[dataset_predicton['Error_CUF']<-10].shape[0]/dataset_predicton.shape[0]\n",
    "        RuleFit_under=dataset_predicton[dataset_predicton['Error_RuleFit']<-10].shape[0]/dataset_predicton.shape[0]\n",
    "            #Within\n",
    "        CUF_Within=dataset_predicton[dataset_predicton['Error_CUF'].abs()<=10].shape[0]/dataset_predicton.shape[0]\n",
    "        RuleFit_Within=dataset_predicton[dataset_predicton['Error_RuleFit'].abs()<=10].shape[0]/dataset_predicton.shape[0]\n",
    "\n",
    "        Rashomon_curve_speciality_depth6[j][rules_n].update({\"Score R2 Train\": rf_score_train})\n",
    "        Rashomon_curve_speciality_depth6[j][rules_n].update({\"Score R2 Test\": rf_score_test})\n",
    "        Rashomon_curve_speciality_depth6[j][rules_n].update({\"Score R2 Train Categorical\": rf_score_train_categorical})\n",
    "        Rashomon_curve_speciality_depth6[j][rules_n].update({\"Score R2 Test Categorical\": rf_score_test_categorical})\n",
    "        \n",
    "        Rashomon_curve_speciality_depth6[j][rules_n].update({\"Percentage_Train\": [RuleFit_Within, RuleFit_under, RuleFit_overuse]})\n",
    "        \n",
    "        #------\n",
    "        \n",
    "        predictions_test_categorical=rf.predict(test_features_speciality_categorical)\n",
    "        \n",
    "        dataset_predicton = {\"Real Duration\": test_labels_speciality_categorical, \"Planned by Cuf\": test_CUF_labels_speciality_categorical, \"Labels from RuleFit\": predictions_test_categorical}\n",
    "        dataset_predicton=pd.DataFrame(dataset_predicton)\n",
    "\n",
    "        dataset_predicton['Error_RuleFit'] = percCal(dataset_predicton['Real Duration'], dataset_predicton['Labels from RuleFit'])\n",
    "        dataset_predicton['Error_CUF'] = percCal(dataset_predicton['Real Duration'], dataset_predicton['Planned by Cuf'])\n",
    "\n",
    "        CUF_overuse=dataset_predicton[dataset_predicton['Error_CUF']>10].shape[0]/dataset_predicton.shape[0]\n",
    "        RuleFit_overuse=dataset_predicton[dataset_predicton['Error_RuleFit']>10].shape[0]/dataset_predicton.shape[0]\n",
    "        #Underutilization\n",
    "        CUF_under=dataset_predicton[dataset_predicton['Error_CUF']<-10].shape[0]/dataset_predicton.shape[0]\n",
    "        RuleFit_under=dataset_predicton[dataset_predicton['Error_RuleFit']<-10].shape[0]/dataset_predicton.shape[0]\n",
    "            #Within\n",
    "        CUF_Within=dataset_predicton[dataset_predicton['Error_CUF'].abs()<=10].shape[0]/dataset_predicton.shape[0]\n",
    "        RuleFit_Within=dataset_predicton[dataset_predicton['Error_RuleFit'].abs()<=10].shape[0]/dataset_predicton.shape[0]\n",
    "        \n",
    "        Rashomon_curve_speciality_depth6[j][rules_n].update({\"Percentage Test Categorical\": [RuleFit_Within, RuleFit_under, RuleFit_overuse]})\n",
    "        \n",
    "        \n",
    "        #------\n",
    "        \n",
    "        predictions_train_categorical=rf.predict(train_features_speciality_categorical)\n",
    "        \n",
    "        dataset_predicton = {\"Real Duration\": train_labels_speciality_categorical, \"Planned by Cuf\": train_CUF_labels_speciality_categorical, \"Labels from RuleFit\": predictions_train_categorical}\n",
    "        dataset_predicton=pd.DataFrame(dataset_predicton)\n",
    "\n",
    "        dataset_predicton['Error_RuleFit'] = percCal(dataset_predicton['Real Duration'], dataset_predicton['Labels from RuleFit'])\n",
    "        dataset_predicton['Error_CUF'] = percCal(dataset_predicton['Real Duration'], dataset_predicton['Planned by Cuf'])\n",
    "\n",
    "        CUF_overuse=dataset_predicton[dataset_predicton['Error_CUF']>10].shape[0]/dataset_predicton.shape[0]\n",
    "        RuleFit_overuse=dataset_predicton[dataset_predicton['Error_RuleFit']>10].shape[0]/dataset_predicton.shape[0]\n",
    "        #Underutilization\n",
    "        CUF_under=dataset_predicton[dataset_predicton['Error_CUF']<-10].shape[0]/dataset_predicton.shape[0]\n",
    "        RuleFit_under=dataset_predicton[dataset_predicton['Error_RuleFit']<-10].shape[0]/dataset_predicton.shape[0]\n",
    "            #Within\n",
    "        CUF_Within=dataset_predicton[dataset_predicton['Error_CUF'].abs()<=10].shape[0]/dataset_predicton.shape[0]\n",
    "        RuleFit_Within=dataset_predicton[dataset_predicton['Error_RuleFit'].abs()<=10].shape[0]/dataset_predicton.shape[0]\n",
    "        \n",
    "        Rashomon_curve_speciality_depth6[j][rules_n].update({\"Percentage Train Categorical\": [RuleFit_Within, RuleFit_under, RuleFit_overuse]})\n",
    "        "
   ]
  },
  {
   "cell_type": "code",
   "execution_count": null,
   "metadata": {},
   "outputs": [],
   "source": [
    "%store Rashomon_curve_speciality_depth6"
   ]
  },
  {
   "cell_type": "code",
   "execution_count": 61,
   "metadata": {},
   "outputs": [],
   "source": [
    "%store -r Rashomon_curve_speciality"
   ]
  },
  {
   "cell_type": "code",
   "execution_count": 62,
   "metadata": {},
   "outputs": [
    {
     "name": "stdout",
     "output_type": "stream",
     "text": [
      "RuleFit_Imbalanced_100.sav\n",
      "RuleFit_Imbalanced_90.sav\n",
      "RuleFit_Imbalanced_80.sav\n",
      "RuleFit_Imbalanced_70.sav\n",
      "RuleFit_Imbalanced_60.sav\n",
      "RuleFit_Imbalanced_50.sav\n",
      "RuleFit_Imbalanced_40.sav\n",
      "RuleFit_Imbalanced_30.sav\n",
      "RuleFit_Imbalanced_20.sav\n",
      "RuleFit_Imbalanced_10.sav\n"
     ]
    }
   ],
   "source": [
    "# save the model to disk\n",
    "Curve=0\n",
    "\n",
    "rules=[100,90,80,70,60,50,40,30,20,10]\n",
    "\n",
    "\n",
    "for i in range(len(rules)):\n",
    "    \n",
    "    Best_model=Rashomon_curve_speciality[Curve][i]['Model']\n",
    "    \n",
    "    filename=\"RuleFit_Imbalanced_{}.sav\".format(rules[i])\n",
    "    print(filename)\n",
    "    pickle.dump(Best_model, open(filename, 'wb'))"
   ]
  },
  {
   "cell_type": "code",
   "execution_count": 63,
   "metadata": {},
   "outputs": [
    {
     "name": "stdout",
     "output_type": "stream",
     "text": [
      "RuleFit_WithoutImbalanced_100.sav\n",
      "RuleFit_WithoutImbalanced_90.sav\n",
      "RuleFit_WithoutImbalanced_80.sav\n",
      "RuleFit_WithoutImbalanced_70.sav\n",
      "RuleFit_WithoutImbalanced_60.sav\n",
      "RuleFit_WithoutImbalanced_50.sav\n",
      "RuleFit_WithoutImbalanced_40.sav\n",
      "RuleFit_WithoutImbalanced_30.sav\n",
      "RuleFit_WithoutImbalanced_20.sav\n",
      "RuleFit_WithoutImbalanced_10.sav\n"
     ]
    }
   ],
   "source": [
    "# save the model to disk\n",
    "Curve=1\n",
    "\n",
    "rules=[100,90,80,70,60,50,40,30,20,10]\n",
    "\n",
    "\n",
    "for i in range(len(rules)):\n",
    "    \n",
    "    Best_model=Rashomon_curve_speciality[Curve][i]['Model']\n",
    "    \n",
    "    filename=\"RuleFit_WithoutImbalanced_{}.sav\".format(rules[i])\n",
    "    print(filename)\n",
    "    pickle.dump(Best_model, open(filename, 'wb'))"
   ]
  },
  {
   "cell_type": "markdown",
   "metadata": {},
   "source": [
    "-----"
   ]
  },
  {
   "cell_type": "code",
   "execution_count": 17,
   "metadata": {},
   "outputs": [],
   "source": [
    "curve=0"
   ]
  },
  {
   "cell_type": "code",
   "execution_count": 18,
   "metadata": {
    "scrolled": true
   },
   "outputs": [],
   "source": [
    "Score_test=[]\n",
    "Score_train=[]\n",
    "Number_of_rules=[]\n",
    "Within_Test=[]\n",
    "Within_Train=[]\n",
    "Diference_error=[]\n",
    "\n",
    "for rules_n in range(number_of_rules):\n",
    "\n",
    "    Score_train_intercalar=abs(Rashomon_curve_speciality[curve][rules_n]['Score R2 Train Categorical'])\n",
    "    Score_test_intercalar=abs(Rashomon_curve_speciality[curve][rules_n]['Score R2 Test Categorical'])\n",
    "    Number_of_rules_intercalar=Rashomon_curve_speciality[curve][rules_n]['Number Rules']\n",
    "    Within_intercalar_test=Rashomon_curve_speciality[curve][rules_n]['Percentage Test Categorical'][0]\n",
    "    Within_intercalar_train=Rashomon_curve_speciality[curve][rules_n]['Percentage Train Categorical'][0]\n",
    "     \n",
    "    Diference_error+=[abs(Score_test_intercalar-Score_train_intercalar)]\n",
    "    Score_test+=[Score_test_intercalar]\n",
    "    Score_train+=[Score_train_intercalar]\n",
    "    Number_of_rules+=[Number_of_rules_intercalar]\n",
    "    Within_Test+=[Within_intercalar_test]\n",
    "    Within_Train+=[Within_intercalar_train]"
   ]
  },
  {
   "cell_type": "code",
   "execution_count": 19,
   "metadata": {},
   "outputs": [
    {
     "data": {
      "image/png": "[encoded data removed]",
      "text/plain": [
       "<Figure size 432x288 with 1 Axes>"
      ]
     },
     "metadata": {
      "needs_background": "light"
     },
     "output_type": "display_data"
    },
    {
     "data": {
      "text/plain": [
       "<Figure size 720x720 with 0 Axes>"
      ]
     },
     "metadata": {},
     "output_type": "display_data"
    }
   ],
   "source": [
    "colors = iter(plt.cm.rainbow(np.linspace(0, 1, len(Score_train))))\n",
    "\n",
    "\n",
    "plt.scatter(Within_Train, Number_of_rules)\n",
    "for i in range(len(Number_of_rules)):\n",
    "    \n",
    "    plt.arrow(x=Within_Train[i],y=Number_of_rules[i],dx=Within_Test[i],dy=0,color=next(colors))\n",
    "\n",
    "\n",
    "plt.xlabel('Within Percentage')\n",
    "plt.ylabel('Rules')\n",
    "plt.figure(figsize=(10,10))\n",
    "plt.show()"
   ]
  },
  {
   "cell_type": "code",
   "execution_count": 20,
   "metadata": {},
   "outputs": [
    {
     "data": {
      "image/png": "[encoded data removed]",
      "text/plain": [
       "<Figure size 432x288 with 1 Axes>"
      ]
     },
     "metadata": {
      "needs_background": "light"
     },
     "output_type": "display_data"
    },
    {
     "data": {
      "text/plain": [
       "<Figure size 720x720 with 0 Axes>"
      ]
     },
     "metadata": {},
     "output_type": "display_data"
    }
   ],
   "source": [
    "colors = iter(plt.cm.rainbow(np.linspace(0, 1, len(Score_train))))\n",
    "\n",
    "plt.xlabel('RMSE Error')\n",
    "plt.ylabel('Rules')\n",
    "plt.xlabel('RMSE (minority classes)')\n",
    "plt.ylabel('Number of rules')\n",
    "plt.xlim([30,53])\n",
    "\n",
    "plt.scatter(Score_train, Number_of_rules)\n",
    "for i in range(len(Number_of_rules)):\n",
    "    \n",
    "    plt.arrow(x=Score_train[i],y=Number_of_rules[i],dx=Diference_error[i],dy=0,color=next(colors))\n",
    "\n",
    "    \n",
    "plt.figure(figsize=(10,10))\n",
    "plt.show()"
   ]
  },
  {
   "cell_type": "code",
   "execution_count": 21,
   "metadata": {},
   "outputs": [
    {
     "data": {
      "text/plain": [
       "<matplotlib.legend.Legend at 0x1962b227070>"
      ]
     },
     "execution_count": 21,
     "metadata": {},
     "output_type": "execute_result"
    },
    {
     "data": {
      "image/png": "[encoded data removed]",
      "text/plain": [
       "<Figure size 432x288 with 1 Axes>"
      ]
     },
     "metadata": {
      "needs_background": "light"
     },
     "output_type": "display_data"
    }
   ],
   "source": [
    "import numpy as np\n",
    "import matplotlib.pyplot as plt\n",
    "\n",
    "Rev_Score_train=Score_train[::-1]\n",
    "Rev_Score_test=Score_test[::-1]\n",
    "\n",
    "X = np.arange(5,105,10)\n",
    "fig = plt.figure()\n",
    "ax = fig.add_axes([0,0,1,1])\n",
    "ax.bar(X + 0.00, Rev_Score_train, color = '#627aa1', width =3)\n",
    "ax.bar(X +3,Rev_Score_test , color = '#b7c9e5', width =3)\n",
    "plt.ylabel('RMSE (minority classes)')   \n",
    "plt.xlabel('Number of Rules')\n",
    "plt.xticks(X) \n",
    "plt.ylim([0,40]) \n",
    "ax.legend(['RMSE Train','RMSE Test'])"
   ]
  },
  {
   "cell_type": "code",
   "execution_count": 22,
   "metadata": {},
   "outputs": [],
   "source": [
    "curve=1\n",
    "\n",
    "Score_test=[]\n",
    "Score_train=[]\n",
    "Number_of_rules=[]\n",
    "Within_Test=[]\n",
    "Within_Train=[]\n",
    "Diference_error=[]\n",
    "\n",
    "for rules_n in range(number_of_rules):\n",
    "\n",
    "    Score_train_intercalar=abs(Rashomon_curve_speciality[curve][rules_n]['Score R2 Train Categorical'])\n",
    "    Score_test_intercalar=abs(Rashomon_curve_speciality[curve][rules_n]['Score R2 Test Categorical'])\n",
    "    Number_of_rules_intercalar=Rashomon_curve_speciality[curve][rules_n]['Number Rules']\n",
    "    Within_intercalar_test=Rashomon_curve_speciality[curve][rules_n]['Percentage Test Categorical'][0]\n",
    "    Within_intercalar_train=Rashomon_curve_speciality[curve][rules_n]['Percentage Train Categorical'][0]\n",
    "    \n",
    "    \n",
    "    Diference_error+=[abs(Score_test_intercalar-Score_train_intercalar)]\n",
    "\n",
    "    Score_test+=[Score_test_intercalar]\n",
    "    Score_train+=[Score_train_intercalar]\n",
    "    Number_of_rules+=[Number_of_rules_intercalar]\n",
    "    Within_Test+=[Within_intercalar_test]\n",
    "    Within_Train+=[Within_intercalar_train]\n",
    "    "
   ]
  },
  {
   "cell_type": "code",
   "execution_count": 23,
   "metadata": {},
   "outputs": [
    {
     "data": {
      "text/plain": [
       "<matplotlib.collections.PathCollection at 0x1962b27b160>"
      ]
     },
     "execution_count": 23,
     "metadata": {},
     "output_type": "execute_result"
    },
    {
     "data": {
      "image/png": "[encoded data removed]",
      "text/plain": [
       "<Figure size 432x288 with 1 Axes>"
      ]
     },
     "metadata": {
      "needs_background": "light"
     },
     "output_type": "display_data"
    }
   ],
   "source": [
    "colors = iter(plt.cm.rainbow(np.linspace(0, 1, len(Score_train))))\n",
    "\n",
    "\n",
    "plt.scatter(Score_train, Number_of_rules)"
   ]
  },
  {
   "cell_type": "code",
   "execution_count": 24,
   "metadata": {},
   "outputs": [
    {
     "data": {
      "image/png": "[encoded data removed]",
      "text/plain": [
       "<Figure size 432x288 with 1 Axes>"
      ]
     },
     "metadata": {
      "needs_background": "light"
     },
     "output_type": "display_data"
    },
    {
     "data": {
      "text/plain": [
       "<Figure size 720x720 with 0 Axes>"
      ]
     },
     "metadata": {},
     "output_type": "display_data"
    }
   ],
   "source": [
    "colors = iter(plt.cm.rainbow(np.linspace(0, 1, len(Score_train))))\n",
    "\n",
    "\n",
    "plt.scatter(Within_Train, Number_of_rules)\n",
    "for i in range(len(Number_of_rules)):\n",
    "    \n",
    "    plt.arrow(x=Within_Train[i],y=Number_of_rules[i],dx=Within_Test[i],dy=0,color=next(colors))\n",
    "\n",
    "\n",
    "plt.xlabel('Within Percentage')\n",
    "plt.ylabel('Rules')\n",
    "plt.figure(figsize=(10,10))\n",
    "plt.show()"
   ]
  },
  {
   "cell_type": "code",
   "execution_count": 25,
   "metadata": {},
   "outputs": [
    {
     "data": {
      "image/png": "[encoded data removed]",
      "text/plain": [
       "<Figure size 432x288 with 1 Axes>"
      ]
     },
     "metadata": {
      "needs_background": "light"
     },
     "output_type": "display_data"
    },
    {
     "data": {
      "text/plain": [
       "<Figure size 720x720 with 0 Axes>"
      ]
     },
     "metadata": {},
     "output_type": "display_data"
    }
   ],
   "source": [
    "colors = iter(plt.cm.rainbow(np.linspace(0, 1, len(Score_train))))\n",
    "\n",
    "plt.xlabel('RMSE (minority classes)')\n",
    "plt.ylabel('Number of rules')\n",
    "plt.xlim([30,53])\n",
    "plt.scatter(Score_train, Number_of_rules)\n",
    "for i in range(len(Number_of_rules)):\n",
    "    \n",
    "    plt.arrow(x=Score_train[i],y=Number_of_rules[i],dx=Diference_error[i],dy=0,color=next(colors))\n",
    "\n",
    "    \n",
    "plt.figure(figsize=(10,10))\n",
    "plt.show()"
   ]
  },
  {
   "cell_type": "code",
   "execution_count": 26,
   "metadata": {},
   "outputs": [
    {
     "data": {
      "text/plain": [
       "<matplotlib.legend.Legend at 0x1962b2e19d0>"
      ]
     },
     "execution_count": 26,
     "metadata": {},
     "output_type": "execute_result"
    },
    {
     "data": {
      "image/png": "[encoded data removed]",
      "text/plain": [
       "<Figure size 432x288 with 1 Axes>"
      ]
     },
     "metadata": {
      "needs_background": "light"
     },
     "output_type": "display_data"
    }
   ],
   "source": [
    "import numpy as np\n",
    "import matplotlib.pyplot as plt\n",
    "\n",
    "Rev_Score_train=Score_train[::-1]\n",
    "Rev_Score_test=Score_test[::-1]\n",
    "\n",
    "X = np.arange(5,105,10)\n",
    "fig = plt.figure()\n",
    "ax = fig.add_axes([0,0,1,1])\n",
    "plt.ylabel('RMSE (minority classes)')   \n",
    "plt.xlabel('Number of Rules')\n",
    "ax.bar(X + 0.00, Rev_Score_train, color = '#627aa1', width =3)\n",
    "ax.bar(X +3,Rev_Score_test , color = '#b7c9e5', width =3)\n",
    "plt.xticks(X)  \n",
    "plt.ylim([0,40]) \n",
    "ax.legend(['RMSE Train','RMSE Test'])"
   ]
  },
  {
   "cell_type": "markdown",
   "metadata": {},
   "source": [
    "* ## 5 seems the optimal value in Rashomon elbow"
   ]
  },
  {
   "cell_type": "code",
   "execution_count": 27,
   "metadata": {},
   "outputs": [],
   "source": [
    "curve=1\n",
    "value=5"
   ]
  },
  {
   "cell_type": "code",
   "execution_count": 28,
   "metadata": {},
   "outputs": [],
   "source": [
    "Best_model=Rashomon_curve_speciality[curve][value]['Model']"
   ]
  },
  {
   "cell_type": "code",
   "execution_count": 29,
   "metadata": {},
   "outputs": [
    {
     "data": {
      "text/plain": [
       "47"
      ]
     },
     "execution_count": 29,
     "metadata": {},
     "output_type": "execute_result"
    }
   ],
   "source": [
    "len(Rashomon_curve_speciality[curve][value]['Rules_non0'])"
   ]
  },
  {
   "cell_type": "code",
   "execution_count": 30,
   "metadata": {},
   "outputs": [],
   "source": [
    "dataset_predicton=Rashomon_curve_speciality[curve][value]['Dataset_predicton']"
   ]
  },
  {
   "cell_type": "code",
   "execution_count": 31,
   "metadata": {},
   "outputs": [
    {
     "data": {
      "text/plain": [
       "17.759406659570878"
      ]
     },
     "execution_count": 31,
     "metadata": {},
     "output_type": "execute_result"
    }
   ],
   "source": [
    "mean_squared_error(dataset_predicton['Labels from RuleFit'],dataset_predicton['Real Duration'],squared=False)"
   ]
  },
  {
   "cell_type": "code",
   "execution_count": 32,
   "metadata": {},
   "outputs": [
    {
     "data": {
      "text/plain": [
       "21.365684826161687"
      ]
     },
     "execution_count": 32,
     "metadata": {},
     "output_type": "execute_result"
    }
   ],
   "source": [
    "mean_squared_error(dataset_predicton['Planned by Cuf'],dataset_predicton['Real Duration'],squared=False)"
   ]
  },
  {
   "cell_type": "code",
   "execution_count": 33,
   "metadata": {},
   "outputs": [
    {
     "data": {
      "image/png": "[encoded data removed]",
      "text/plain": [
       "<Figure size 432x288 with 1 Axes>"
      ]
     },
     "metadata": {
      "needs_background": "light"
     },
     "output_type": "display_data"
    }
   ],
   "source": [
    "a = plt.axes(aspect='equal')\n",
    "plt.scatter(dataset_predicton['Real Duration'], dataset_predicton['Labels from RuleFit'])\n",
    "plt.xlabel('True Values [Time]')\n",
    "plt.ylabel('Predictions [Time]')\n",
    "lims = [0, 300]\n",
    "plt.xlim(lims)\n",
    "plt.ylim(lims)\n",
    "_ = plt.plot(lims, lims)"
   ]
  },
  {
   "cell_type": "code",
   "execution_count": 34,
   "metadata": {},
   "outputs": [
    {
     "data": {
      "image/png": "[encoded data removed]",
      "text/plain": [
       "<Figure size 432x288 with 1 Axes>"
      ]
     },
     "metadata": {
      "needs_background": "light"
     },
     "output_type": "display_data"
    }
   ],
   "source": [
    "error = dataset_predicton['Labels from RuleFit'] - dataset_predicton['Real Duration']\n",
    "plt.hist(error, bins=25)\n",
    "plt.xlabel('Prediction Error')\n",
    "_ = plt.ylabel('Count')"
   ]
  },
  {
   "cell_type": "code",
   "execution_count": 35,
   "metadata": {},
   "outputs": [
    {
     "data": {
      "text/plain": [
       "<matplotlib.legend.Legend at 0x1962b362700>"
      ]
     },
     "execution_count": 35,
     "metadata": {},
     "output_type": "execute_result"
    },
    {
     "data": {
      "image/png": "[encoded data removed]",
      "text/plain": [
       "<Figure size 432x288 with 1 Axes>"
      ]
     },
     "metadata": {
      "needs_background": "light"
     },
     "output_type": "display_data"
    }
   ],
   "source": [
    "\n",
    "def percCal(x,y):\n",
    "    return (x-y)*100/x\n",
    "\n",
    "def percCal2(x,y):\n",
    "    return abs(x-y)\n",
    "\n",
    "\n",
    "dataset_predicton['Error_RuleFit'] = percCal(dataset_predicton['Real Duration'], dataset_predicton['Labels from RuleFit'])\n",
    "dataset_predicton['Error_CUF'] = percCal(dataset_predicton['Real Duration'], dataset_predicton['Planned by Cuf'])\n",
    "dataset_predicton['Minutes_RuleFit'] = percCal2(dataset_predicton['Real Duration'], dataset_predicton['Labels from RuleFit'])\n",
    "dataset_predicton['Minutes_CUF'] = percCal2(dataset_predicton['Real Duration'], dataset_predicton['Planned by Cuf'])\n",
    "\n",
    "\n",
    "dataset_predicton['Error_CUF'].plot(kind='density')\n",
    "dataset_predicton['Error_RuleFit'].plot(kind='density')\n",
    "plt.xlim([-400, 400])\n",
    "plt.title('General RuleFit vs CUF prediction')\n",
    "orange_patch = matplotlib.patches.Patch(color='orange', label='RuleFit')\n",
    "blue_patch = matplotlib.patches.Patch(color='blue', label='CUF')\n",
    "plt.legend(handles=[orange_patch,blue_patch])"
   ]
  },
  {
   "cell_type": "code",
   "execution_count": 36,
   "metadata": {},
   "outputs": [
    {
     "data": {
      "text/plain": [
       "14.803224624404544"
      ]
     },
     "execution_count": 36,
     "metadata": {},
     "output_type": "execute_result"
    }
   ],
   "source": [
    "dataset_predicton['Minutes_CUF'].sum()/2729"
   ]
  },
  {
   "cell_type": "code",
   "execution_count": 37,
   "metadata": {},
   "outputs": [
    {
     "data": {
      "text/plain": [
       "12.257793985597397"
      ]
     },
     "execution_count": 37,
     "metadata": {},
     "output_type": "execute_result"
    }
   ],
   "source": [
    "dataset_predicton['Minutes_RuleFit'].sum()/2729"
   ]
  },
  {
   "cell_type": "code",
   "execution_count": 38,
   "metadata": {},
   "outputs": [
    {
     "name": "stdout",
     "output_type": "stream",
     "text": [
      "-------------  -------------------  -------------------  ------------------\n",
      "Model          Within               Overutilization      Underutilization\n",
      "CUF Model      0.15793330890436058  0.22572370831806524  0.6163429827775742\n",
      "RuleFit Model  0.21179919384389886  0.2557713448149505   0.5324294613411507\n",
      "-------------  -------------------  -------------------  ------------------\n"
     ]
    }
   ],
   "source": [
    "#Overutilization \n",
    "CUF_overuse=dataset_predicton[dataset_predicton['Error_CUF']>10].shape[0]/dataset_predicton.shape[0]\n",
    "RuleFit_overuse=dataset_predicton[dataset_predicton['Error_RuleFit']>10].shape[0]/dataset_predicton.shape[0]\n",
    "#Underutilization\n",
    "CUF_under=dataset_predicton[dataset_predicton['Error_CUF']<-10].shape[0]/dataset_predicton.shape[0]\n",
    "RuleFit_under=dataset_predicton[dataset_predicton['Error_RuleFit']<-10].shape[0]/dataset_predicton.shape[0]\n",
    "#Within\n",
    "CUF_Within=dataset_predicton[dataset_predicton['Error_CUF'].abs()<=10].shape[0]/dataset_predicton.shape[0]\n",
    "RuleFit_Within=dataset_predicton[dataset_predicton['Error_RuleFit'].abs()<=10].shape[0]/dataset_predicton.shape[0]\n",
    "\n",
    "table2 = [['Model', 'Within', 'Overutilization','Underutilization'], ['CUF Model', CUF_Within, CUF_overuse,CUF_under], ['RuleFit Model', RuleFit_Within, RuleFit_overuse,RuleFit_under]]\n",
    "print(tabulate(table2))"
   ]
  },
  {
   "cell_type": "code",
   "execution_count": 39,
   "metadata": {},
   "outputs": [],
   "source": [
    "dataset_predicton['Labels from RuleFit'].to_csv('Labels_RuleFit_speciality_notimbalance',index=False)"
   ]
  },
  {
   "cell_type": "code",
   "execution_count": 40,
   "metadata": {},
   "outputs": [
    {
     "data": {
      "text/plain": [
       "18.0"
      ]
     },
     "execution_count": 40,
     "metadata": {},
     "output_type": "execute_result"
    }
   ],
   "source": [
    "np.round(mean_squared_error(dataset_predicton['Labels from RuleFit'],dataset_predicton['Real Duration'],squared=False))\n",
    "   "
   ]
  },
  {
   "cell_type": "code",
   "execution_count": 41,
   "metadata": {},
   "outputs": [
    {
     "data": {
      "text/plain": [
       "21.0"
      ]
     },
     "execution_count": 41,
     "metadata": {},
     "output_type": "execute_result"
    }
   ],
   "source": [
    "np.round(mean_squared_error(dataset_predicton['Planned by Cuf'],dataset_predicton['Real Duration'],squared=False))\n"
   ]
  },
  {
   "cell_type": "markdown",
   "metadata": {},
   "source": [
    "* Generalization Set"
   ]
  },
  {
   "cell_type": "code",
   "execution_count": 45,
   "metadata": {},
   "outputs": [],
   "source": [
    "generalization_dataset_speciality=Datasets_speciality_ophthalmology['GeneralizationSet_After_Encoding']\n",
    "\n",
    "generalization_features_speciality = generalization_dataset_speciality.copy()\n",
    "generalization_labels_speciality = generalization_features_speciality.pop('Real Room Duration')\n",
    "generalization_CUF_labels_speciality = generalization_features_speciality.pop('CUF Planned Duration')\n",
    "\n",
    "generalization_dataset_speciality= np.asarray(generalization_dataset_speciality).astype(np.float32)\n",
    "\n",
    "    #Features\n",
    "generalization_features_speciality= np.asarray(generalization_features_speciality).astype(np.float32)\n",
    "\n",
    "#labels\n",
    "generalization_labels_speciality= np.asarray(generalization_labels_speciality).astype(np.float32)\n"
   ]
  },
  {
   "cell_type": "code",
   "execution_count": 46,
   "metadata": {},
   "outputs": [
    {
     "data": {
      "text/html": [
       "<div>\n",
       "<style scoped>\n",
       "    .dataframe tbody tr th:only-of-type {\n",
       "        vertical-align: middle;\n",
       "    }\n",
       "\n",
       "    .dataframe tbody tr th {\n",
       "        vertical-align: top;\n",
       "    }\n",
       "\n",
       "    .dataframe thead th {\n",
       "        text-align: right;\n",
       "    }\n",
       "</style>\n",
       "<table border=\"1\" class=\"dataframe\">\n",
       "  <thead>\n",
       "    <tr style=\"text-align: right;\">\n",
       "      <th></th>\n",
       "      <th>Real Duration</th>\n",
       "      <th>Planned by Cuf</th>\n",
       "      <th>Labels from RuleFit</th>\n",
       "    </tr>\n",
       "  </thead>\n",
       "  <tbody>\n",
       "    <tr>\n",
       "      <th>15426</th>\n",
       "      <td>21.0</td>\n",
       "      <td>30</td>\n",
       "      <td>38.277077</td>\n",
       "    </tr>\n",
       "    <tr>\n",
       "      <th>17123</th>\n",
       "      <td>25.0</td>\n",
       "      <td>30</td>\n",
       "      <td>41.396279</td>\n",
       "    </tr>\n",
       "    <tr>\n",
       "      <th>23341</th>\n",
       "      <td>24.0</td>\n",
       "      <td>30</td>\n",
       "      <td>38.733406</td>\n",
       "    </tr>\n",
       "    <tr>\n",
       "      <th>15034</th>\n",
       "      <td>26.0</td>\n",
       "      <td>30</td>\n",
       "      <td>50.779525</td>\n",
       "    </tr>\n",
       "    <tr>\n",
       "      <th>26306</th>\n",
       "      <td>26.0</td>\n",
       "      <td>45</td>\n",
       "      <td>36.490556</td>\n",
       "    </tr>\n",
       "    <tr>\n",
       "      <th>...</th>\n",
       "      <td>...</td>\n",
       "      <td>...</td>\n",
       "      <td>...</td>\n",
       "    </tr>\n",
       "    <tr>\n",
       "      <th>931</th>\n",
       "      <td>37.0</td>\n",
       "      <td>60</td>\n",
       "      <td>29.576139</td>\n",
       "    </tr>\n",
       "    <tr>\n",
       "      <th>12341</th>\n",
       "      <td>62.0</td>\n",
       "      <td>30</td>\n",
       "      <td>26.587669</td>\n",
       "    </tr>\n",
       "    <tr>\n",
       "      <th>19331</th>\n",
       "      <td>25.0</td>\n",
       "      <td>60</td>\n",
       "      <td>29.888760</td>\n",
       "    </tr>\n",
       "    <tr>\n",
       "      <th>716</th>\n",
       "      <td>22.0</td>\n",
       "      <td>30</td>\n",
       "      <td>25.746769</td>\n",
       "    </tr>\n",
       "    <tr>\n",
       "      <th>8711</th>\n",
       "      <td>15.0</td>\n",
       "      <td>30</td>\n",
       "      <td>26.251984</td>\n",
       "    </tr>\n",
       "  </tbody>\n",
       "</table>\n",
       "<p>2729 rows × 3 columns</p>\n",
       "</div>"
      ],
      "text/plain": [
       "       Real Duration  Planned by Cuf  Labels from RuleFit\n",
       "15426           21.0              30            38.277077\n",
       "17123           25.0              30            41.396279\n",
       "23341           24.0              30            38.733406\n",
       "15034           26.0              30            50.779525\n",
       "26306           26.0              45            36.490556\n",
       "...              ...             ...                  ...\n",
       "931             37.0              60            29.576139\n",
       "12341           62.0              30            26.587669\n",
       "19331           25.0              60            29.888760\n",
       "716             22.0              30            25.746769\n",
       "8711            15.0              30            26.251984\n",
       "\n",
       "[2729 rows x 3 columns]"
      ]
     },
     "execution_count": 46,
     "metadata": {},
     "output_type": "execute_result"
    }
   ],
   "source": [
    "labels_generalization=Best_model.predict(generalization_features_speciality)\n",
    "dataset_predicton_generalization = {\"Real Duration\": generalization_labels_speciality, \"Planned by Cuf\": generalization_CUF_labels_speciality, \"Labels from RuleFit\": labels_generalization}\n",
    "    \n",
    "dataset_predicton_generalization=pd.DataFrame(dataset_predicton_generalization)\n",
    "dataset_predicton_generalization"
   ]
  },
  {
   "cell_type": "code",
   "execution_count": 47,
   "metadata": {},
   "outputs": [
    {
     "data": {
      "text/plain": [
       "<matplotlib.legend.Legend at 0x1962b3f5fa0>"
      ]
     },
     "execution_count": 47,
     "metadata": {},
     "output_type": "execute_result"
    },
    {
     "data": {
      "image/png": "[encoded data removed]",
      "text/plain": [
       "<Figure size 432x288 with 1 Axes>"
      ]
     },
     "metadata": {
      "needs_background": "light"
     },
     "output_type": "display_data"
    }
   ],
   "source": [
    "\n",
    "def percCal(x,y):\n",
    "    return (x-y)*100/x\n",
    "\n",
    "def percCal2(x,y):\n",
    "    return abs(x-y)\n",
    "\n",
    "\n",
    "dataset_predicton_generalization['Error_RuleFit'] = percCal(dataset_predicton_generalization['Real Duration'], dataset_predicton_generalization['Labels from RuleFit'])\n",
    "dataset_predicton_generalization['Error_CUF'] = percCal(dataset_predicton_generalization['Real Duration'], dataset_predicton_generalization['Planned by Cuf'])\n",
    "dataset_predicton_generalization['Minutes_RuleFit'] = percCal2(dataset_predicton_generalization['Real Duration'], dataset_predicton_generalization['Labels from RuleFit'])\n",
    "dataset_predicton_generalization['Minutes_CUF'] = percCal2(dataset_predicton_generalization['Real Duration'], dataset_predicton_generalization['Planned by Cuf'])\n",
    "\n",
    "\n",
    "dataset_predicton_generalization['Error_CUF'].plot(kind='density')\n",
    "dataset_predicton_generalization['Error_RuleFit'].plot(kind='density')\n",
    "plt.xlim([-400, 400])\n",
    "plt.title('General RuleFit vs CUF prediction')\n",
    "orange_patch = matplotlib.patches.Patch(color='orange', label='RuleFit')\n",
    "blue_patch = matplotlib.patches.Patch(color='blue', label='CUF')\n",
    "plt.legend(handles=[orange_patch,blue_patch])"
   ]
  },
  {
   "cell_type": "code",
   "execution_count": 48,
   "metadata": {},
   "outputs": [
    {
     "name": "stdout",
     "output_type": "stream",
     "text": [
      "-------------  -------------------  -------------------  ------------------\n",
      "Model          Within               Overutilization      Underutilization\n",
      "CUF Model      0.15793330890436058  0.2205936240381092   0.6214730670575302\n",
      "RuleFit Model  0.19347746427262733  0.24807621839501648  0.5584463173323562\n",
      "-------------  -------------------  -------------------  ------------------\n"
     ]
    }
   ],
   "source": [
    "#Overutilization \n",
    "CUF_overuse=dataset_predicton_generalization[dataset_predicton_generalization['Error_CUF']>10].shape[0]/dataset_predicton_generalization.shape[0]\n",
    "RuleFit_overuse=dataset_predicton_generalization[dataset_predicton_generalization['Error_RuleFit']>10].shape[0]/dataset_predicton_generalization.shape[0]\n",
    "#Underutilization\n",
    "CUF_under=dataset_predicton_generalization[dataset_predicton_generalization['Error_CUF']<-10].shape[0]/dataset_predicton_generalization.shape[0]\n",
    "RuleFit_under=dataset_predicton_generalization[dataset_predicton_generalization['Error_RuleFit']<-10].shape[0]/dataset_predicton_generalization.shape[0]\n",
    "#Within\n",
    "CUF_Within=dataset_predicton_generalization[dataset_predicton_generalization['Error_CUF'].abs()<=10].shape[0]/dataset_predicton_generalization.shape[0]\n",
    "RuleFit_Within=dataset_predicton_generalization[dataset_predicton_generalization['Error_RuleFit'].abs()<=10].shape[0]/dataset_predicton_generalization.shape[0]\n",
    "\n",
    "table2 = [['Model', 'Within', 'Overutilization','Underutilization'], ['CUF Model', CUF_Within, CUF_overuse,CUF_under], ['RuleFit Model', RuleFit_Within, RuleFit_overuse,RuleFit_under]]\n",
    "print(tabulate(table2))"
   ]
  },
  {
   "cell_type": "code",
   "execution_count": 51,
   "metadata": {},
   "outputs": [],
   "source": [
    "dataset=dataset_predicton_generalization[dataset_predicton_generalization['Real Duration']>40]"
   ]
  },
  {
   "cell_type": "code",
   "execution_count": 52,
   "metadata": {},
   "outputs": [
    {
     "data": {
      "text/plain": [
       "28.279443527751052"
      ]
     },
     "execution_count": 52,
     "metadata": {},
     "output_type": "execute_result"
    }
   ],
   "source": [
    "mean_squared_error(dataset['Labels from RuleFit'],dataset['Real Duration'],squared=False)"
   ]
  },
  {
   "cell_type": "code",
   "execution_count": 53,
   "metadata": {},
   "outputs": [
    {
     "name": "stderr",
     "output_type": "stream",
     "text": [
      "Arrays of bytes/strings is being converted to decimal numbers if dtype='numeric'. This behavior is deprecated in 0.24 and will be removed in 1.1 (renaming of 0.26). Please convert your data to numeric values explicitly instead.\n"
     ]
    },
    {
     "data": {
      "text/plain": [
       "35.54402340759977"
      ]
     },
     "execution_count": 53,
     "metadata": {},
     "output_type": "execute_result"
    }
   ],
   "source": [
    "mean_squared_error(dataset['Planned by Cuf'],dataset['Real Duration'],squared=False)"
   ]
  },
  {
   "cell_type": "code",
   "execution_count": 66,
   "metadata": {},
   "outputs": [
    {
     "data": {
      "text/plain": [
       "12.627086720981769"
      ]
     },
     "execution_count": 66,
     "metadata": {},
     "output_type": "execute_result"
    }
   ],
   "source": [
    "dataset_predicton_generalization['Minutes_RuleFit'].sum()/2729"
   ]
  },
  {
   "cell_type": "code",
   "execution_count": 67,
   "metadata": {},
   "outputs": [
    {
     "data": {
      "text/plain": [
       "14.618686353209869"
      ]
     },
     "execution_count": 67,
     "metadata": {},
     "output_type": "execute_result"
    }
   ],
   "source": [
    "dataset_predicton_generalization[dataset_predicton_generalization['Error_RuleFit']<-10]['Minutes_RuleFit'].sum()/dataset_predicton_generalization[dataset_predicton_generalization['Error_RuleFit']<-10].shape[0]"
   ]
  },
  {
   "cell_type": "code",
   "execution_count": 68,
   "metadata": {},
   "outputs": [
    {
     "data": {
      "text/plain": [
       "15.485259433962264"
      ]
     },
     "execution_count": 68,
     "metadata": {},
     "output_type": "execute_result"
    }
   ],
   "source": [
    "dataset_predicton_generalization[dataset_predicton_generalization['Error_CUF']<-10]['Minutes_CUF'].sum()/dataset_predicton_generalization[dataset_predicton_generalization['Error_CUF']<-10].shape[0]"
   ]
  },
  {
   "cell_type": "code",
   "execution_count": 69,
   "metadata": {},
   "outputs": [
    {
     "data": {
      "text/plain": [
       "16.45150190246651"
      ]
     },
     "execution_count": 69,
     "metadata": {},
     "output_type": "execute_result"
    }
   ],
   "source": [
    "dataset_predicton_generalization[dataset_predicton_generalization['Error_RuleFit']>10]['Minutes_RuleFit'].sum()/dataset_predicton_generalization[dataset_predicton_generalization['Error_RuleFit']>10].shape[0]"
   ]
  },
  {
   "cell_type": "code",
   "execution_count": 70,
   "metadata": {},
   "outputs": [
    {
     "data": {
      "text/plain": [
       "23.55481727574751"
      ]
     },
     "execution_count": 70,
     "metadata": {},
     "output_type": "execute_result"
    }
   ],
   "source": [
    "dataset_predicton_generalization[dataset_predicton_generalization['Error_CUF']>10]['Minutes_CUF'].sum()/dataset_predicton_generalization[dataset_predicton_generalization['Error_CUF']>10].shape[0]"
   ]
  },
  {
   "cell_type": "code",
   "execution_count": null,
   "metadata": {},
   "outputs": [],
   "source": []
  },
  {
   "cell_type": "code",
   "execution_count": 60,
   "metadata": {},
   "outputs": [
    {
     "data": {
      "text/plain": [
       "18.0"
      ]
     },
     "execution_count": 60,
     "metadata": {},
     "output_type": "execute_result"
    }
   ],
   "source": [
    "np.round(mean_squared_error(labels_generalization,generalization_labels_speciality,squared=False))\n",
    "        \n",
    "        "
   ]
  },
  {
   "cell_type": "code",
   "execution_count": 61,
   "metadata": {},
   "outputs": [
    {
     "name": "stderr",
     "output_type": "stream",
     "text": [
      "Arrays of bytes/strings is being converted to decimal numbers if dtype='numeric'. This behavior is deprecated in 0.24 and will be removed in 1.1 (renaming of 0.26). Please convert your data to numeric values explicitly instead.\n"
     ]
    },
    {
     "data": {
      "text/plain": [
       "22.0"
      ]
     },
     "execution_count": 61,
     "metadata": {},
     "output_type": "execute_result"
    }
   ],
   "source": [
    "np.round(mean_squared_error(generalization_CUF_labels_speciality,generalization_labels_speciality,squared=False))\n",
    "   "
   ]
  },
  {
   "cell_type": "markdown",
   "metadata": {},
   "source": [
    "* ## Imbalance"
   ]
  },
  {
   "cell_type": "code",
   "execution_count": 32,
   "metadata": {},
   "outputs": [],
   "source": [
    "curve=0\n",
    "value=5"
   ]
  },
  {
   "cell_type": "code",
   "execution_count": 40,
   "metadata": {},
   "outputs": [],
   "source": [
    "Best_model=Rashomon_curve_speciality[curve][value]['Model']\n"
   ]
  },
  {
   "cell_type": "code",
   "execution_count": 41,
   "metadata": {},
   "outputs": [
    {
     "data": {
      "text/html": [
       "<div>\n",
       "<style scoped>\n",
       "    .dataframe tbody tr th:only-of-type {\n",
       "        vertical-align: middle;\n",
       "    }\n",
       "\n",
       "    .dataframe tbody tr th {\n",
       "        vertical-align: top;\n",
       "    }\n",
       "\n",
       "    .dataframe thead th {\n",
       "        text-align: right;\n",
       "    }\n",
       "</style>\n",
       "<table border=\"1\" class=\"dataframe\">\n",
       "  <thead>\n",
       "    <tr style=\"text-align: right;\">\n",
       "      <th></th>\n",
       "      <th>Real Duration</th>\n",
       "      <th>Planned by Cuf</th>\n",
       "      <th>Labels from RuleFit</th>\n",
       "      <th>Error_RuleFit</th>\n",
       "      <th>Error_CUF</th>\n",
       "    </tr>\n",
       "  </thead>\n",
       "  <tbody>\n",
       "    <tr>\n",
       "      <th>1</th>\n",
       "      <td>36.0</td>\n",
       "      <td>60</td>\n",
       "      <td>42.283387</td>\n",
       "      <td>-17.453852</td>\n",
       "      <td>-66.666667</td>\n",
       "    </tr>\n",
       "    <tr>\n",
       "      <th>5</th>\n",
       "      <td>41.0</td>\n",
       "      <td>60</td>\n",
       "      <td>42.897960</td>\n",
       "      <td>-4.629170</td>\n",
       "      <td>-46.341463</td>\n",
       "    </tr>\n",
       "    <tr>\n",
       "      <th>13</th>\n",
       "      <td>30.0</td>\n",
       "      <td>60</td>\n",
       "      <td>25.500891</td>\n",
       "      <td>14.997030</td>\n",
       "      <td>-100.0</td>\n",
       "    </tr>\n",
       "    <tr>\n",
       "      <th>16</th>\n",
       "      <td>31.0</td>\n",
       "      <td>30</td>\n",
       "      <td>27.190418</td>\n",
       "      <td>12.288976</td>\n",
       "      <td>3.225806</td>\n",
       "    </tr>\n",
       "    <tr>\n",
       "      <th>22</th>\n",
       "      <td>58.0</td>\n",
       "      <td>60</td>\n",
       "      <td>37.049443</td>\n",
       "      <td>36.121650</td>\n",
       "      <td>-3.448276</td>\n",
       "    </tr>\n",
       "    <tr>\n",
       "      <th>...</th>\n",
       "      <td>...</td>\n",
       "      <td>...</td>\n",
       "      <td>...</td>\n",
       "      <td>...</td>\n",
       "      <td>...</td>\n",
       "    </tr>\n",
       "    <tr>\n",
       "      <th>27260</th>\n",
       "      <td>20.0</td>\n",
       "      <td>30</td>\n",
       "      <td>24.110098</td>\n",
       "      <td>-20.550490</td>\n",
       "      <td>-50.0</td>\n",
       "    </tr>\n",
       "    <tr>\n",
       "      <th>27278</th>\n",
       "      <td>25.0</td>\n",
       "      <td>30</td>\n",
       "      <td>23.042800</td>\n",
       "      <td>7.828799</td>\n",
       "      <td>-20.0</td>\n",
       "    </tr>\n",
       "    <tr>\n",
       "      <th>27283</th>\n",
       "      <td>45.0</td>\n",
       "      <td>30</td>\n",
       "      <td>24.066687</td>\n",
       "      <td>46.518473</td>\n",
       "      <td>33.333333</td>\n",
       "    </tr>\n",
       "    <tr>\n",
       "      <th>27284</th>\n",
       "      <td>30.0</td>\n",
       "      <td>20</td>\n",
       "      <td>21.513298</td>\n",
       "      <td>28.289005</td>\n",
       "      <td>33.333333</td>\n",
       "    </tr>\n",
       "    <tr>\n",
       "      <th>27286</th>\n",
       "      <td>32.0</td>\n",
       "      <td>45</td>\n",
       "      <td>38.797382</td>\n",
       "      <td>-21.241819</td>\n",
       "      <td>-40.625</td>\n",
       "    </tr>\n",
       "  </tbody>\n",
       "</table>\n",
       "<p>2729 rows × 5 columns</p>\n",
       "</div>"
      ],
      "text/plain": [
       "       Real Duration  Planned by Cuf  Labels from RuleFit  Error_RuleFit  \\\n",
       "1               36.0              60            42.283387     -17.453852   \n",
       "5               41.0              60            42.897960      -4.629170   \n",
       "13              30.0              60            25.500891      14.997030   \n",
       "16              31.0              30            27.190418      12.288976   \n",
       "22              58.0              60            37.049443      36.121650   \n",
       "...              ...             ...                  ...            ...   \n",
       "27260           20.0              30            24.110098     -20.550490   \n",
       "27278           25.0              30            23.042800       7.828799   \n",
       "27283           45.0              30            24.066687      46.518473   \n",
       "27284           30.0              20            21.513298      28.289005   \n",
       "27286           32.0              45            38.797382     -21.241819   \n",
       "\n",
       "       Error_CUF  \n",
       "1     -66.666667  \n",
       "5     -46.341463  \n",
       "13        -100.0  \n",
       "16      3.225806  \n",
       "22     -3.448276  \n",
       "...          ...  \n",
       "27260      -50.0  \n",
       "27278      -20.0  \n",
       "27283  33.333333  \n",
       "27284  33.333333  \n",
       "27286    -40.625  \n",
       "\n",
       "[2729 rows x 5 columns]"
      ]
     },
     "execution_count": 41,
     "metadata": {},
     "output_type": "execute_result"
    }
   ],
   "source": [
    "dataset_predicton=Rashomon_curve_speciality[curve][value]['Dataset_predicton']\n",
    "dataset_predicton"
   ]
  },
  {
   "cell_type": "code",
   "execution_count": 42,
   "metadata": {},
   "outputs": [],
   "source": [
    "dataset_predicton['Labels from RuleFit'].to_csv('Labels_RuleFit_speciality_imbalance',index=False)"
   ]
  },
  {
   "cell_type": "code",
   "execution_count": null,
   "metadata": {},
   "outputs": [],
   "source": []
  }
 ],
 "metadata": {
  "accelerator": "GPU",
  "colab": {
   "authorship_tag": "ABX9TyNYey+gTE2lnQN6F2DitrqX",
   "collapsed_sections": [],
   "name": "RuleFit.ipynb",
   "provenance": []
  },
  "kernelspec": {
   "display_name": "Python 3",
   "language": "python",
   "name": "python3"
  },
  "language_info": {
   "codemirror_mode": {
    "name": "ipython",
    "version": 3
   },
   "file_extension": ".py",
   "mimetype": "text/x-python",
   "name": "python",
   "nbconvert_exporter": "python",
   "pygments_lexer": "ipython3",
   "version": "3.8.8"
  }
 },
 "nbformat": 4,
 "nbformat_minor": 1
}
