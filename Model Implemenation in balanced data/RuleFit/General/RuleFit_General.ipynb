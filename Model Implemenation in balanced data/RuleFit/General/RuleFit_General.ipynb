{
 "cells": [
  {
   "cell_type": "markdown",
   "metadata": {},
   "source": [
    "# Rule Fit applied to General Dataset\n",
    "\n",
    "#### Made by:\n",
    "* Teresa Marcelino (teresamarcelino98@gmail.com)\n",
    "\n",
    "\n",
    "-------\n",
    "\n",
    "\n"
   ]
  },
  {
   "cell_type": "code",
   "execution_count": 1,
   "metadata": {},
   "outputs": [],
   "source": [
    "%store -r Model_GeneralSynthetic\n",
    "%store -r Best_Parameters_Regularizers_general\n"
   ]
  },
  {
   "cell_type": "code",
   "execution_count": 2,
   "metadata": {},
   "outputs": [],
   "source": [
    "%store -r Genenal_Dataset"
   ]
  },
  {
   "cell_type": "markdown",
   "metadata": {},
   "source": [
    "----"
   ]
  },
  {
   "cell_type": "markdown",
   "metadata": {
    "id": "5YX6LDDr5u0A"
   },
   "source": [
    "\n",
    "\n",
    "## 1. Load Data and Libraries  <a class=\"anchor\" id=\"1\"></a> \n"
   ]
  },
  {
   "cell_type": "code",
   "execution_count": 3,
   "metadata": {
    "executionInfo": {
     "elapsed": 313,
     "status": "ok",
     "timestamp": 1623152190991,
     "user": {
      "displayName": "Maria Teresa De Carvalho Dias Marcelino",
      "photoUrl": "",
      "userId": "09725677787817561318"
     },
     "user_tz": -60
    },
    "id": "EhykeetsyVnv"
   },
   "outputs": [],
   "source": [
    "import numpy as np # linear algebra\n",
    "import pandas as pd # data processing, CSV file I/O (e.g. pd.read_csv)\n",
    "import seaborn as sns\n",
    "import shap\n",
    "import matplotlib.pyplot as plt\n",
    "#from rulefit import RuleFit\n",
    "\n",
    "import sklearn\n",
    "\n",
    "from sklearn.linear_model import LinearRegression, Ridge\n",
    "from sklearn.ensemble import GradientBoostingRegressor, RandomForestRegressor, AdaBoostRegressor, BaggingRegressor, ExtraTreesRegressor\n",
    "from sklearn.tree import DecisionTreeRegressor\n",
    "#Encoder\n",
    "from category_encoders import TargetEncoder\n",
    "from sklearn.preprocessing import StandardScaler\n",
    "\n",
    "from sklearn.metrics import *\n",
    "import matplotlib\n",
    "import copy\n",
    "from datetime import datetime\n",
    "\n",
    "from sklearn.linear_model import LassoCV\n",
    "from sklearn.model_selection import GridSearchCV\n",
    "from sklearn.linear_model import Lasso\n",
    "from sklearn.model_selection import cross_val_score\n",
    "\n",
    "from tabulate import tabulate\n",
    "import pickle\n",
    "import math"
   ]
  },
  {
   "cell_type": "code",
   "execution_count": 4,
   "metadata": {},
   "outputs": [],
   "source": [
    "import RuleFit_withoutCV as RuleFit_withoutCV\n",
    "\n",
    "import RuleFit_customized as RuleFit_custom\n",
    "from rulefit import RuleFit \n",
    "import pyowl\n",
    "from pyowl import OwlRegressor"
   ]
  },
  {
   "cell_type": "code",
   "execution_count": 5,
   "metadata": {
    "scrolled": true
   },
   "outputs": [
    {
     "data": {
      "text/html": [
       "<div>\n",
       "<style scoped>\n",
       "    .dataframe tbody tr th:only-of-type {\n",
       "        vertical-align: middle;\n",
       "    }\n",
       "\n",
       "    .dataframe tbody tr th {\n",
       "        vertical-align: top;\n",
       "    }\n",
       "\n",
       "    .dataframe thead th {\n",
       "        text-align: right;\n",
       "    }\n",
       "</style>\n",
       "<table border=\"1\" class=\"dataframe\">\n",
       "  <thead>\n",
       "    <tr style=\"text-align: right;\">\n",
       "      <th></th>\n",
       "      <th>Urgency</th>\n",
       "      <th>Hospitalization</th>\n",
       "      <th>Gender</th>\n",
       "      <th>Daily Surgery Number_perDoctor</th>\n",
       "      <th>Surgery Number Performed_perDoctor</th>\n",
       "      <th>Procedures_I</th>\n",
       "      <th>Real Room Duration</th>\n",
       "      <th>Age</th>\n",
       "      <th>CUF Planned Duration</th>\n",
       "      <th>Speciality</th>\n",
       "      <th>Part of the day</th>\n",
       "      <th>CUF_Unit</th>\n",
       "      <th>I1</th>\n",
       "      <th>Doctor</th>\n",
       "      <th>Month</th>\n",
       "      <th>Weekday</th>\n",
       "      <th>Anesthesia</th>\n",
       "    </tr>\n",
       "  </thead>\n",
       "  <tbody>\n",
       "    <tr>\n",
       "      <th>0</th>\n",
       "      <td>0</td>\n",
       "      <td>0</td>\n",
       "      <td>0</td>\n",
       "      <td>4</td>\n",
       "      <td>78</td>\n",
       "      <td>1</td>\n",
       "      <td>41</td>\n",
       "      <td>65.0</td>\n",
       "      <td>60</td>\n",
       "      <td>84.799861</td>\n",
       "      <td>74.987601</td>\n",
       "      <td>68.701950</td>\n",
       "      <td>62.910761</td>\n",
       "      <td>64.647143</td>\n",
       "      <td>79.264845</td>\n",
       "      <td>82.362462</td>\n",
       "      <td>79.007678</td>\n",
       "    </tr>\n",
       "    <tr>\n",
       "      <th>1</th>\n",
       "      <td>0</td>\n",
       "      <td>0</td>\n",
       "      <td>0</td>\n",
       "      <td>1</td>\n",
       "      <td>28</td>\n",
       "      <td>3</td>\n",
       "      <td>55</td>\n",
       "      <td>71.0</td>\n",
       "      <td>60</td>\n",
       "      <td>68.580158</td>\n",
       "      <td>79.510016</td>\n",
       "      <td>68.701950</td>\n",
       "      <td>29.501126</td>\n",
       "      <td>49.730159</td>\n",
       "      <td>81.234219</td>\n",
       "      <td>80.683935</td>\n",
       "      <td>93.552812</td>\n",
       "    </tr>\n",
       "    <tr>\n",
       "      <th>2</th>\n",
       "      <td>0</td>\n",
       "      <td>1</td>\n",
       "      <td>0</td>\n",
       "      <td>1</td>\n",
       "      <td>34</td>\n",
       "      <td>1</td>\n",
       "      <td>12</td>\n",
       "      <td>71.0</td>\n",
       "      <td>60</td>\n",
       "      <td>68.580158</td>\n",
       "      <td>79.510016</td>\n",
       "      <td>68.701950</td>\n",
       "      <td>29.501126</td>\n",
       "      <td>49.730159</td>\n",
       "      <td>79.227901</td>\n",
       "      <td>80.683935</td>\n",
       "      <td>93.552812</td>\n",
       "    </tr>\n",
       "    <tr>\n",
       "      <th>3</th>\n",
       "      <td>0</td>\n",
       "      <td>0</td>\n",
       "      <td>1</td>\n",
       "      <td>2</td>\n",
       "      <td>123</td>\n",
       "      <td>1</td>\n",
       "      <td>53</td>\n",
       "      <td>66.0</td>\n",
       "      <td>60</td>\n",
       "      <td>97.069451</td>\n",
       "      <td>73.699808</td>\n",
       "      <td>68.701950</td>\n",
       "      <td>128.531250</td>\n",
       "      <td>75.286885</td>\n",
       "      <td>78.038784</td>\n",
       "      <td>82.362462</td>\n",
       "      <td>93.552812</td>\n",
       "    </tr>\n",
       "    <tr>\n",
       "      <th>4</th>\n",
       "      <td>0</td>\n",
       "      <td>0</td>\n",
       "      <td>1</td>\n",
       "      <td>4</td>\n",
       "      <td>65</td>\n",
       "      <td>1</td>\n",
       "      <td>55</td>\n",
       "      <td>36.0</td>\n",
       "      <td>30</td>\n",
       "      <td>97.069451</td>\n",
       "      <td>79.510016</td>\n",
       "      <td>68.701950</td>\n",
       "      <td>82.114754</td>\n",
       "      <td>84.685590</td>\n",
       "      <td>77.612903</td>\n",
       "      <td>81.861779</td>\n",
       "      <td>79.007678</td>\n",
       "    </tr>\n",
       "    <tr>\n",
       "      <th>...</th>\n",
       "      <td>...</td>\n",
       "      <td>...</td>\n",
       "      <td>...</td>\n",
       "      <td>...</td>\n",
       "      <td>...</td>\n",
       "      <td>...</td>\n",
       "      <td>...</td>\n",
       "      <td>...</td>\n",
       "      <td>...</td>\n",
       "      <td>...</td>\n",
       "      <td>...</td>\n",
       "      <td>...</td>\n",
       "      <td>...</td>\n",
       "      <td>...</td>\n",
       "      <td>...</td>\n",
       "      <td>...</td>\n",
       "      <td>...</td>\n",
       "    </tr>\n",
       "    <tr>\n",
       "      <th>16972</th>\n",
       "      <td>0</td>\n",
       "      <td>1</td>\n",
       "      <td>0</td>\n",
       "      <td>3</td>\n",
       "      <td>572</td>\n",
       "      <td>1</td>\n",
       "      <td>19</td>\n",
       "      <td>50.0</td>\n",
       "      <td>20</td>\n",
       "      <td>25.177548</td>\n",
       "      <td>74.987601</td>\n",
       "      <td>82.238419</td>\n",
       "      <td>34.984542</td>\n",
       "      <td>17.152401</td>\n",
       "      <td>76.679079</td>\n",
       "      <td>80.683935</td>\n",
       "      <td>36.332970</td>\n",
       "    </tr>\n",
       "    <tr>\n",
       "      <th>16973</th>\n",
       "      <td>0</td>\n",
       "      <td>1</td>\n",
       "      <td>0</td>\n",
       "      <td>1</td>\n",
       "      <td>87</td>\n",
       "      <td>1</td>\n",
       "      <td>90</td>\n",
       "      <td>71.0</td>\n",
       "      <td>90</td>\n",
       "      <td>35.231121</td>\n",
       "      <td>84.140671</td>\n",
       "      <td>82.238419</td>\n",
       "      <td>89.062497</td>\n",
       "      <td>51.345679</td>\n",
       "      <td>78.038784</td>\n",
       "      <td>76.818586</td>\n",
       "      <td>93.552812</td>\n",
       "    </tr>\n",
       "    <tr>\n",
       "      <th>16974</th>\n",
       "      <td>0</td>\n",
       "      <td>1</td>\n",
       "      <td>0</td>\n",
       "      <td>2</td>\n",
       "      <td>1040</td>\n",
       "      <td>1</td>\n",
       "      <td>94</td>\n",
       "      <td>54.0</td>\n",
       "      <td>60</td>\n",
       "      <td>84.799861</td>\n",
       "      <td>84.140671</td>\n",
       "      <td>82.238419</td>\n",
       "      <td>34.984542</td>\n",
       "      <td>83.589057</td>\n",
       "      <td>81.234219</td>\n",
       "      <td>76.818586</td>\n",
       "      <td>36.332970</td>\n",
       "    </tr>\n",
       "    <tr>\n",
       "      <th>16975</th>\n",
       "      <td>0</td>\n",
       "      <td>1</td>\n",
       "      <td>0</td>\n",
       "      <td>4</td>\n",
       "      <td>1064</td>\n",
       "      <td>2</td>\n",
       "      <td>33</td>\n",
       "      <td>47.0</td>\n",
       "      <td>60</td>\n",
       "      <td>84.799861</td>\n",
       "      <td>74.987601</td>\n",
       "      <td>82.238419</td>\n",
       "      <td>34.984542</td>\n",
       "      <td>83.589057</td>\n",
       "      <td>80.393772</td>\n",
       "      <td>76.818586</td>\n",
       "      <td>36.332970</td>\n",
       "    </tr>\n",
       "    <tr>\n",
       "      <th>16976</th>\n",
       "      <td>0</td>\n",
       "      <td>0</td>\n",
       "      <td>1</td>\n",
       "      <td>1</td>\n",
       "      <td>210</td>\n",
       "      <td>1</td>\n",
       "      <td>390</td>\n",
       "      <td>71.0</td>\n",
       "      <td>240</td>\n",
       "      <td>120.894856</td>\n",
       "      <td>84.140671</td>\n",
       "      <td>82.238419</td>\n",
       "      <td>265.428571</td>\n",
       "      <td>126.294118</td>\n",
       "      <td>80.984848</td>\n",
       "      <td>80.683935</td>\n",
       "      <td>93.552812</td>\n",
       "    </tr>\n",
       "  </tbody>\n",
       "</table>\n",
       "<p>16977 rows × 17 columns</p>\n",
       "</div>"
      ],
      "text/plain": [
       "       Urgency  Hospitalization  Gender  Daily Surgery Number_perDoctor  \\\n",
       "0            0                0       0                               4   \n",
       "1            0                0       0                               1   \n",
       "2            0                1       0                               1   \n",
       "3            0                0       1                               2   \n",
       "4            0                0       1                               4   \n",
       "...        ...              ...     ...                             ...   \n",
       "16972        0                1       0                               3   \n",
       "16973        0                1       0                               1   \n",
       "16974        0                1       0                               2   \n",
       "16975        0                1       0                               4   \n",
       "16976        0                0       1                               1   \n",
       "\n",
       "       Surgery Number Performed_perDoctor  Procedures_I  Real Room Duration  \\\n",
       "0                                      78             1                  41   \n",
       "1                                      28             3                  55   \n",
       "2                                      34             1                  12   \n",
       "3                                     123             1                  53   \n",
       "4                                      65             1                  55   \n",
       "...                                   ...           ...                 ...   \n",
       "16972                                 572             1                  19   \n",
       "16973                                  87             1                  90   \n",
       "16974                                1040             1                  94   \n",
       "16975                                1064             2                  33   \n",
       "16976                                 210             1                 390   \n",
       "\n",
       "        Age  CUF Planned Duration  Speciality  Part of the day   CUF_Unit  \\\n",
       "0      65.0                    60   84.799861        74.987601  68.701950   \n",
       "1      71.0                    60   68.580158        79.510016  68.701950   \n",
       "2      71.0                    60   68.580158        79.510016  68.701950   \n",
       "3      66.0                    60   97.069451        73.699808  68.701950   \n",
       "4      36.0                    30   97.069451        79.510016  68.701950   \n",
       "...     ...                   ...         ...              ...        ...   \n",
       "16972  50.0                    20   25.177548        74.987601  82.238419   \n",
       "16973  71.0                    90   35.231121        84.140671  82.238419   \n",
       "16974  54.0                    60   84.799861        84.140671  82.238419   \n",
       "16975  47.0                    60   84.799861        74.987601  82.238419   \n",
       "16976  71.0                   240  120.894856        84.140671  82.238419   \n",
       "\n",
       "               I1      Doctor      Month    Weekday  Anesthesia  \n",
       "0       62.910761   64.647143  79.264845  82.362462   79.007678  \n",
       "1       29.501126   49.730159  81.234219  80.683935   93.552812  \n",
       "2       29.501126   49.730159  79.227901  80.683935   93.552812  \n",
       "3      128.531250   75.286885  78.038784  82.362462   93.552812  \n",
       "4       82.114754   84.685590  77.612903  81.861779   79.007678  \n",
       "...           ...         ...        ...        ...         ...  \n",
       "16972   34.984542   17.152401  76.679079  80.683935   36.332970  \n",
       "16973   89.062497   51.345679  78.038784  76.818586   93.552812  \n",
       "16974   34.984542   83.589057  81.234219  76.818586   36.332970  \n",
       "16975   34.984542   83.589057  80.393772  76.818586   36.332970  \n",
       "16976  265.428571  126.294118  80.984848  80.683935   93.552812  \n",
       "\n",
       "[16977 rows x 17 columns]"
      ]
     },
     "execution_count": 5,
     "metadata": {},
     "output_type": "execute_result"
    }
   ],
   "source": [
    "df_test_general = pd.read_csv('Data_test',header='infer')\n",
    "df_test_general\n"
   ]
  },
  {
   "cell_type": "code",
   "execution_count": 6,
   "metadata": {
    "colab": {
     "base_uri": "https://localhost:8080/"
    },
    "executionInfo": {
     "elapsed": 1347,
     "status": "ok",
     "timestamp": 1623150738852,
     "user": {
      "displayName": "Maria Teresa De Carvalho Dias Marcelino",
      "photoUrl": "",
      "userId": "09725677787817561318"
     },
     "user_tz": -60
    },
    "id": "t_BCNasFzs1a",
    "outputId": "2af652a1-c4c9-4b66-9d89-781c4fe60dbe"
   },
   "outputs": [
    {
     "data": {
      "text/html": [
       "<div>\n",
       "<style scoped>\n",
       "    .dataframe tbody tr th:only-of-type {\n",
       "        vertical-align: middle;\n",
       "    }\n",
       "\n",
       "    .dataframe tbody tr th {\n",
       "        vertical-align: top;\n",
       "    }\n",
       "\n",
       "    .dataframe thead th {\n",
       "        text-align: right;\n",
       "    }\n",
       "</style>\n",
       "<table border=\"1\" class=\"dataframe\">\n",
       "  <thead>\n",
       "    <tr style=\"text-align: right;\">\n",
       "      <th></th>\n",
       "      <th>Urgency</th>\n",
       "      <th>Hospitalization</th>\n",
       "      <th>Gender</th>\n",
       "      <th>Daily Surgery Number_perDoctor</th>\n",
       "      <th>Surgery Number Performed_perDoctor</th>\n",
       "      <th>Procedures_I</th>\n",
       "      <th>Real Room Duration</th>\n",
       "      <th>Age</th>\n",
       "      <th>CUF Planned Duration</th>\n",
       "      <th>Speciality</th>\n",
       "      <th>Part of the day</th>\n",
       "      <th>CUF_Unit</th>\n",
       "      <th>I1</th>\n",
       "      <th>Doctor</th>\n",
       "      <th>Month</th>\n",
       "      <th>Weekday</th>\n",
       "      <th>Anesthesia</th>\n",
       "    </tr>\n",
       "  </thead>\n",
       "  <tbody>\n",
       "    <tr>\n",
       "      <th>0</th>\n",
       "      <td>0</td>\n",
       "      <td>0</td>\n",
       "      <td>1</td>\n",
       "      <td>1.0</td>\n",
       "      <td>41.0</td>\n",
       "      <td>6.0</td>\n",
       "      <td>77.000000</td>\n",
       "      <td>37.000000</td>\n",
       "      <td>120.0</td>\n",
       "      <td>97.069451</td>\n",
       "      <td>74.987601</td>\n",
       "      <td>78.128355</td>\n",
       "      <td>93.099476</td>\n",
       "      <td>82.670732</td>\n",
       "      <td>81.234219</td>\n",
       "      <td>82.362462</td>\n",
       "      <td>93.552812</td>\n",
       "    </tr>\n",
       "    <tr>\n",
       "      <th>1</th>\n",
       "      <td>0</td>\n",
       "      <td>0</td>\n",
       "      <td>0</td>\n",
       "      <td>1.0</td>\n",
       "      <td>21.0</td>\n",
       "      <td>2.0</td>\n",
       "      <td>416.034799</td>\n",
       "      <td>40.520910</td>\n",
       "      <td>NaN</td>\n",
       "      <td>262.252736</td>\n",
       "      <td>73.324830</td>\n",
       "      <td>78.130504</td>\n",
       "      <td>287.028080</td>\n",
       "      <td>332.458894</td>\n",
       "      <td>77.102209</td>\n",
       "      <td>78.431549</td>\n",
       "      <td>93.553642</td>\n",
       "    </tr>\n",
       "    <tr>\n",
       "      <th>2</th>\n",
       "      <td>0</td>\n",
       "      <td>1</td>\n",
       "      <td>0</td>\n",
       "      <td>1.0</td>\n",
       "      <td>50.0</td>\n",
       "      <td>1.0</td>\n",
       "      <td>89.000000</td>\n",
       "      <td>51.000000</td>\n",
       "      <td>120.0</td>\n",
       "      <td>84.256971</td>\n",
       "      <td>74.987601</td>\n",
       "      <td>78.128355</td>\n",
       "      <td>79.983092</td>\n",
       "      <td>88.803030</td>\n",
       "      <td>81.234219</td>\n",
       "      <td>70.277298</td>\n",
       "      <td>93.552812</td>\n",
       "    </tr>\n",
       "    <tr>\n",
       "      <th>3</th>\n",
       "      <td>0</td>\n",
       "      <td>0</td>\n",
       "      <td>1</td>\n",
       "      <td>1.0</td>\n",
       "      <td>50.0</td>\n",
       "      <td>2.0</td>\n",
       "      <td>250.407118</td>\n",
       "      <td>49.218030</td>\n",
       "      <td>NaN</td>\n",
       "      <td>82.567073</td>\n",
       "      <td>73.103264</td>\n",
       "      <td>66.071896</td>\n",
       "      <td>149.565249</td>\n",
       "      <td>95.199062</td>\n",
       "      <td>77.572655</td>\n",
       "      <td>80.738678</td>\n",
       "      <td>93.552795</td>\n",
       "    </tr>\n",
       "    <tr>\n",
       "      <th>4</th>\n",
       "      <td>0</td>\n",
       "      <td>0</td>\n",
       "      <td>0</td>\n",
       "      <td>2.0</td>\n",
       "      <td>582.0</td>\n",
       "      <td>1.0</td>\n",
       "      <td>201.150325</td>\n",
       "      <td>48.518027</td>\n",
       "      <td>NaN</td>\n",
       "      <td>120.894741</td>\n",
       "      <td>79.509385</td>\n",
       "      <td>82.237459</td>\n",
       "      <td>215.999914</td>\n",
       "      <td>99.760261</td>\n",
       "      <td>80.619020</td>\n",
       "      <td>81.418207</td>\n",
       "      <td>93.553054</td>\n",
       "    </tr>\n",
       "    <tr>\n",
       "      <th>...</th>\n",
       "      <td>...</td>\n",
       "      <td>...</td>\n",
       "      <td>...</td>\n",
       "      <td>...</td>\n",
       "      <td>...</td>\n",
       "      <td>...</td>\n",
       "      <td>...</td>\n",
       "      <td>...</td>\n",
       "      <td>...</td>\n",
       "      <td>...</td>\n",
       "      <td>...</td>\n",
       "      <td>...</td>\n",
       "      <td>...</td>\n",
       "      <td>...</td>\n",
       "      <td>...</td>\n",
       "      <td>...</td>\n",
       "      <td>...</td>\n",
       "    </tr>\n",
       "    <tr>\n",
       "      <th>271345</th>\n",
       "      <td>0</td>\n",
       "      <td>0</td>\n",
       "      <td>1</td>\n",
       "      <td>1.0</td>\n",
       "      <td>257.0</td>\n",
       "      <td>1.0</td>\n",
       "      <td>251.807383</td>\n",
       "      <td>65.707146</td>\n",
       "      <td>NaN</td>\n",
       "      <td>82.921078</td>\n",
       "      <td>84.140462</td>\n",
       "      <td>86.889791</td>\n",
       "      <td>128.670750</td>\n",
       "      <td>114.863414</td>\n",
       "      <td>79.803042</td>\n",
       "      <td>84.132825</td>\n",
       "      <td>93.551394</td>\n",
       "    </tr>\n",
       "    <tr>\n",
       "      <th>271346</th>\n",
       "      <td>0</td>\n",
       "      <td>1</td>\n",
       "      <td>0</td>\n",
       "      <td>1.0</td>\n",
       "      <td>358.0</td>\n",
       "      <td>1.0</td>\n",
       "      <td>46.000000</td>\n",
       "      <td>78.000000</td>\n",
       "      <td>30.0</td>\n",
       "      <td>35.231121</td>\n",
       "      <td>84.140671</td>\n",
       "      <td>79.016582</td>\n",
       "      <td>29.376488</td>\n",
       "      <td>36.176944</td>\n",
       "      <td>77.612903</td>\n",
       "      <td>76.818586</td>\n",
       "      <td>93.552812</td>\n",
       "    </tr>\n",
       "    <tr>\n",
       "      <th>271347</th>\n",
       "      <td>0</td>\n",
       "      <td>0</td>\n",
       "      <td>0</td>\n",
       "      <td>1.0</td>\n",
       "      <td>159.0</td>\n",
       "      <td>2.0</td>\n",
       "      <td>141.657147</td>\n",
       "      <td>58.706775</td>\n",
       "      <td>NaN</td>\n",
       "      <td>83.723270</td>\n",
       "      <td>84.139940</td>\n",
       "      <td>88.023187</td>\n",
       "      <td>130.374364</td>\n",
       "      <td>65.218425</td>\n",
       "      <td>78.364937</td>\n",
       "      <td>81.646207</td>\n",
       "      <td>93.551412</td>\n",
       "    </tr>\n",
       "    <tr>\n",
       "      <th>271348</th>\n",
       "      <td>0</td>\n",
       "      <td>0</td>\n",
       "      <td>1</td>\n",
       "      <td>1.0</td>\n",
       "      <td>65.0</td>\n",
       "      <td>1.0</td>\n",
       "      <td>385.615126</td>\n",
       "      <td>44.288318</td>\n",
       "      <td>NaN</td>\n",
       "      <td>87.366332</td>\n",
       "      <td>80.822577</td>\n",
       "      <td>89.971731</td>\n",
       "      <td>182.786803</td>\n",
       "      <td>140.116212</td>\n",
       "      <td>79.279763</td>\n",
       "      <td>81.342475</td>\n",
       "      <td>93.551177</td>\n",
       "    </tr>\n",
       "    <tr>\n",
       "      <th>271349</th>\n",
       "      <td>0</td>\n",
       "      <td>0</td>\n",
       "      <td>1</td>\n",
       "      <td>2.0</td>\n",
       "      <td>15.0</td>\n",
       "      <td>2.0</td>\n",
       "      <td>105.000000</td>\n",
       "      <td>28.000000</td>\n",
       "      <td>NaN</td>\n",
       "      <td>97.069451</td>\n",
       "      <td>79.510016</td>\n",
       "      <td>78.128355</td>\n",
       "      <td>114.988926</td>\n",
       "      <td>132.152381</td>\n",
       "      <td>78.211860</td>\n",
       "      <td>80.683935</td>\n",
       "      <td>93.552812</td>\n",
       "    </tr>\n",
       "  </tbody>\n",
       "</table>\n",
       "<p>271350 rows × 17 columns</p>\n",
       "</div>"
      ],
      "text/plain": [
       "        Urgency  Hospitalization  Gender  Daily Surgery Number_perDoctor  \\\n",
       "0             0                0       1                             1.0   \n",
       "1             0                0       0                             1.0   \n",
       "2             0                1       0                             1.0   \n",
       "3             0                0       1                             1.0   \n",
       "4             0                0       0                             2.0   \n",
       "...         ...              ...     ...                             ...   \n",
       "271345        0                0       1                             1.0   \n",
       "271346        0                1       0                             1.0   \n",
       "271347        0                0       0                             1.0   \n",
       "271348        0                0       1                             1.0   \n",
       "271349        0                0       1                             2.0   \n",
       "\n",
       "        Surgery Number Performed_perDoctor  Procedures_I  Real Room Duration  \\\n",
       "0                                     41.0           6.0           77.000000   \n",
       "1                                     21.0           2.0          416.034799   \n",
       "2                                     50.0           1.0           89.000000   \n",
       "3                                     50.0           2.0          250.407118   \n",
       "4                                    582.0           1.0          201.150325   \n",
       "...                                    ...           ...                 ...   \n",
       "271345                               257.0           1.0          251.807383   \n",
       "271346                               358.0           1.0           46.000000   \n",
       "271347                               159.0           2.0          141.657147   \n",
       "271348                                65.0           1.0          385.615126   \n",
       "271349                                15.0           2.0          105.000000   \n",
       "\n",
       "              Age  CUF Planned Duration  Speciality  Part of the day  \\\n",
       "0       37.000000                 120.0   97.069451        74.987601   \n",
       "1       40.520910                   NaN  262.252736        73.324830   \n",
       "2       51.000000                 120.0   84.256971        74.987601   \n",
       "3       49.218030                   NaN   82.567073        73.103264   \n",
       "4       48.518027                   NaN  120.894741        79.509385   \n",
       "...           ...                   ...         ...              ...   \n",
       "271345  65.707146                   NaN   82.921078        84.140462   \n",
       "271346  78.000000                  30.0   35.231121        84.140671   \n",
       "271347  58.706775                   NaN   83.723270        84.139940   \n",
       "271348  44.288318                   NaN   87.366332        80.822577   \n",
       "271349  28.000000                   NaN   97.069451        79.510016   \n",
       "\n",
       "         CUF_Unit          I1      Doctor      Month    Weekday  Anesthesia  \n",
       "0       78.128355   93.099476   82.670732  81.234219  82.362462   93.552812  \n",
       "1       78.130504  287.028080  332.458894  77.102209  78.431549   93.553642  \n",
       "2       78.128355   79.983092   88.803030  81.234219  70.277298   93.552812  \n",
       "3       66.071896  149.565249   95.199062  77.572655  80.738678   93.552795  \n",
       "4       82.237459  215.999914   99.760261  80.619020  81.418207   93.553054  \n",
       "...           ...         ...         ...        ...        ...         ...  \n",
       "271345  86.889791  128.670750  114.863414  79.803042  84.132825   93.551394  \n",
       "271346  79.016582   29.376488   36.176944  77.612903  76.818586   93.552812  \n",
       "271347  88.023187  130.374364   65.218425  78.364937  81.646207   93.551412  \n",
       "271348  89.971731  182.786803  140.116212  79.279763  81.342475   93.551177  \n",
       "271349  78.128355  114.988926  132.152381  78.211860  80.683935   93.552812  \n",
       "\n",
       "[271350 rows x 17 columns]"
      ]
     },
     "execution_count": 6,
     "metadata": {},
     "output_type": "execute_result"
    }
   ],
   "source": [
    "df_train_general = pd.read_csv('Data_withsyntheticdata',header='infer')\n",
    "df_train_general"
   ]
  },
  {
   "cell_type": "markdown",
   "metadata": {},
   "source": [
    "----"
   ]
  },
  {
   "cell_type": "markdown",
   "metadata": {},
   "source": [
    "\n",
    "## 1. general-specific RuleFit  <a class=\"anchor\" id=\"1\"></a> "
   ]
  },
  {
   "cell_type": "markdown",
   "metadata": {},
   "source": [
    "### 1.1.  Split Data  <a class=\"anchor\" id=\"1.1\"></a> "
   ]
  },
  {
   "cell_type": "code",
   "execution_count": 7,
   "metadata": {},
   "outputs": [],
   "source": [
    "train_dataset_general= df_train_general\n",
    "test_dataset_general = df_test_general\n",
    "\n",
    "\n",
    "train_features_general = train_dataset_general.copy()\n",
    "test_features_general = test_dataset_general.copy()\n",
    "\n",
    "train_labels_general = train_features_general.pop('Real Room Duration')\n",
    "test_labels_general = test_features_general.pop('Real Room Duration')\n",
    "\n",
    "train_CUF_labels_general = train_features_general.pop('CUF Planned Duration')\n",
    "test_CUF_labels_general= test_features_general.pop('CUF Planned Duration')\n",
    "\n",
    "\n",
    "#Resolve issue \"Failed to convert a NumPy array to a Tensor (Unsupported object type int)\"\"\n",
    "generalcolumns=train_features_general.columns\n",
    "#Dataset\n",
    "train_dataset_general= np.asarray(train_dataset_general).astype(np.float32)\n",
    "test_dataset_general = np.asarray(test_dataset_general).astype(np.float32)\n",
    "\n",
    "#Features\n",
    "train_features_general= np.asarray(train_features_general).astype(np.float32)\n",
    "test_features_general = np.asarray(test_features_general).astype(np.float32)\n",
    "\n",
    "#labels\n",
    "train_labels_general = np.asarray(train_labels_general).astype(np.float32)\n",
    "test_labels_general = np.asarray(test_labels_general).astype(np.float32)\n",
    "\n",
    "\n",
    "#CUF\n",
    "train_CUF_labels_general = np.asarray(train_CUF_labels_general).astype(np.float32)\n",
    "test_CUF_labels_general = np.asarray(test_CUF_labels_general).astype(np.float32)\n"
   ]
  },
  {
   "cell_type": "markdown",
   "metadata": {},
   "source": [
    "### 1.2.  Parameters Tuning  <a class=\"anchor\" id=\"1.2\"></a> \n",
    "\n",
    "\n"
   ]
  },
  {
   "cell_type": "code",
   "execution_count": 8,
   "metadata": {},
   "outputs": [],
   "source": [
    "Tuning_models = {'Library_Script':['RuleFit_custom',\n",
    "                                  'RuleFit_withoutCV'], \n",
    "                 'Decision_Tree':[RandomForestRegressor,\n",
    "                                  GradientBoostingRegressor,\n",
    "                                  BaggingRegressor,\n",
    "                                  ExtraTreesRegressor],\n",
    "                 'Regularizers_0':['LassoCV','ElasticNetCV','Pyowl'],\n",
    "                 'Regularizers_1':['Lasso','ElasticNet','Pyowl'],\n",
    "                 'Alphas':np.logspace(-8, math.log(3,10), 1000,base=10), #between 10^-7 and 3\n",
    "                }\n",
    "\n",
    "Tuning_models.update({'Cs':1./Tuning_models['Alphas']})"
   ]
  },
  {
   "cell_type": "code",
   "execution_count": 9,
   "metadata": {},
   "outputs": [],
   "source": [
    "Best_Parameters_Decison_Tree_general= {}\n",
    "\n",
    "for i in Tuning_models['Decision_Tree']:\n",
    "    # The Normalization layer\n",
    "    Best_Parameters_Decison_Tree_general[i] = {} "
   ]
  },
  {
   "cell_type": "code",
   "execution_count": 10,
   "metadata": {},
   "outputs": [],
   "source": [
    "Parameters_RandomForestRegressor = {'n_estimators':[100,250,500,750,1000,1250,1500,1750],\n",
    "              'max_depth':[3,4]}\n",
    "\n",
    "Parameters_GradientBoostingRegressor = {'learning_rate':[0.15,0.1,0.05,0.01,0.005,0.001], \n",
    "                                        'n_estimators':[100,250,500,750,1000,1250,1500,1750],\n",
    "                                        'max_depth':[3,4]}\n",
    "\n",
    "Parameters_BaggingRegressor = {'n_estimators':[100,250,500,750,1000,1250,1500,1750],\n",
    "                               'base_estimator__max_depth':[3,4]}\n",
    "\n",
    "Parameters_ExtraTreesRegressor = {'n_estimators':[100,250,500,750,1000,1250,1500,1750],\n",
    "                                  'max_depth':[3,4]}\n",
    "\n",
    "Best_Parameters_Decison_Tree_general[Tuning_models['Decision_Tree'][0]].update({\"Search_Parameters\": Parameters_RandomForestRegressor})\n",
    "Best_Parameters_Decison_Tree_general[Tuning_models['Decision_Tree'][1]].update({\"Search_Parameters\": Parameters_GradientBoostingRegressor})\n",
    "Best_Parameters_Decison_Tree_general[Tuning_models['Decision_Tree'][2]].update({\"Search_Parameters\": Parameters_BaggingRegressor})\n",
    "Best_Parameters_Decison_Tree_general[Tuning_models['Decision_Tree'][3]].update({\"Search_Parameters\": Parameters_ExtraTreesRegressor})\n",
    "\n",
    "\n"
   ]
  },
  {
   "cell_type": "code",
   "execution_count": 24,
   "metadata": {},
   "outputs": [],
   "source": [
    "Model_GeneralSynthetic={} #creation of dictionaries for all 442 models \n",
    "\n",
    "for j in Tuning_models['Decision_Tree']:\n",
    "        \n",
    "    Model_GeneralSynthetic[j]={}\n"
   ]
  },
  {
   "cell_type": "markdown",
   "metadata": {},
   "source": [
    "* ### 1.2.1  Tuning Decision Trees  <a class=\"anchor\" id=\"1.2.1\"></a> \n"
   ]
  },
  {
   "cell_type": "code",
   "execution_count": 25,
   "metadata": {},
   "outputs": [
    {
     "name": "stdout",
     "output_type": "stream",
     "text": [
      "Fitting 5 folds for each of 16 candidates, totalling 80 fits\n"
     ]
    },
    {
     "ename": "KeyboardInterrupt",
     "evalue": "",
     "output_type": "error",
     "traceback": [
      "\u001b[1;31m---------------------------------------------------------------------------\u001b[0m",
      "\u001b[1;31mKeyboardInterrupt\u001b[0m                         Traceback (most recent call last)",
      "\u001b[1;32m<ipython-input-25-0233c45b7645>\u001b[0m in \u001b[0;36m<module>\u001b[1;34m\u001b[0m\n\u001b[0;32m     12\u001b[0m \u001b[1;33m\u001b[0m\u001b[0m\n\u001b[0;32m     13\u001b[0m \u001b[1;33m\u001b[0m\u001b[0m\n\u001b[1;32m---> 14\u001b[1;33m     \u001b[0mtuning\u001b[0m\u001b[1;33m.\u001b[0m\u001b[0mfit\u001b[0m\u001b[1;33m(\u001b[0m\u001b[0mtrain_features_general\u001b[0m\u001b[1;33m,\u001b[0m \u001b[0mtrain_labels_general\u001b[0m\u001b[1;33m)\u001b[0m\u001b[1;33m\u001b[0m\u001b[1;33m\u001b[0m\u001b[0m\n\u001b[0m\u001b[0;32m     15\u001b[0m     \u001b[0mBest_estimator\u001b[0m\u001b[1;33m=\u001b[0m\u001b[0mtuning\u001b[0m\u001b[1;33m.\u001b[0m\u001b[0mbest_estimator_\u001b[0m\u001b[1;33m\u001b[0m\u001b[1;33m\u001b[0m\u001b[0m\n\u001b[0;32m     16\u001b[0m     \u001b[0mBest_params\u001b[0m\u001b[1;33m=\u001b[0m\u001b[0mtuning\u001b[0m\u001b[1;33m.\u001b[0m\u001b[0mbest_params_\u001b[0m\u001b[1;33m\u001b[0m\u001b[1;33m\u001b[0m\u001b[0m\n",
      "\u001b[1;32m~\\anaconda3\\lib\\site-packages\\sklearn\\utils\\validation.py\u001b[0m in \u001b[0;36minner_f\u001b[1;34m(*args, **kwargs)\u001b[0m\n\u001b[0;32m     61\u001b[0m             \u001b[0mextra_args\u001b[0m \u001b[1;33m=\u001b[0m \u001b[0mlen\u001b[0m\u001b[1;33m(\u001b[0m\u001b[0margs\u001b[0m\u001b[1;33m)\u001b[0m \u001b[1;33m-\u001b[0m \u001b[0mlen\u001b[0m\u001b[1;33m(\u001b[0m\u001b[0mall_args\u001b[0m\u001b[1;33m)\u001b[0m\u001b[1;33m\u001b[0m\u001b[1;33m\u001b[0m\u001b[0m\n\u001b[0;32m     62\u001b[0m             \u001b[1;32mif\u001b[0m \u001b[0mextra_args\u001b[0m \u001b[1;33m<=\u001b[0m \u001b[1;36m0\u001b[0m\u001b[1;33m:\u001b[0m\u001b[1;33m\u001b[0m\u001b[1;33m\u001b[0m\u001b[0m\n\u001b[1;32m---> 63\u001b[1;33m                 \u001b[1;32mreturn\u001b[0m \u001b[0mf\u001b[0m\u001b[1;33m(\u001b[0m\u001b[1;33m*\u001b[0m\u001b[0margs\u001b[0m\u001b[1;33m,\u001b[0m \u001b[1;33m**\u001b[0m\u001b[0mkwargs\u001b[0m\u001b[1;33m)\u001b[0m\u001b[1;33m\u001b[0m\u001b[1;33m\u001b[0m\u001b[0m\n\u001b[0m\u001b[0;32m     64\u001b[0m \u001b[1;33m\u001b[0m\u001b[0m\n\u001b[0;32m     65\u001b[0m             \u001b[1;31m# extra_args > 0\u001b[0m\u001b[1;33m\u001b[0m\u001b[1;33m\u001b[0m\u001b[1;33m\u001b[0m\u001b[0m\n",
      "\u001b[1;32m~\\anaconda3\\lib\\site-packages\\sklearn\\model_selection\\_search.py\u001b[0m in \u001b[0;36mfit\u001b[1;34m(self, X, y, groups, **fit_params)\u001b[0m\n\u001b[0;32m    839\u001b[0m                 \u001b[1;32mreturn\u001b[0m \u001b[0mresults\u001b[0m\u001b[1;33m\u001b[0m\u001b[1;33m\u001b[0m\u001b[0m\n\u001b[0;32m    840\u001b[0m \u001b[1;33m\u001b[0m\u001b[0m\n\u001b[1;32m--> 841\u001b[1;33m             \u001b[0mself\u001b[0m\u001b[1;33m.\u001b[0m\u001b[0m_run_search\u001b[0m\u001b[1;33m(\u001b[0m\u001b[0mevaluate_candidates\u001b[0m\u001b[1;33m)\u001b[0m\u001b[1;33m\u001b[0m\u001b[1;33m\u001b[0m\u001b[0m\n\u001b[0m\u001b[0;32m    842\u001b[0m \u001b[1;33m\u001b[0m\u001b[0m\n\u001b[0;32m    843\u001b[0m             \u001b[1;31m# multimetric is determined here because in the case of a callable\u001b[0m\u001b[1;33m\u001b[0m\u001b[1;33m\u001b[0m\u001b[1;33m\u001b[0m\u001b[0m\n",
      "\u001b[1;32m~\\anaconda3\\lib\\site-packages\\sklearn\\model_selection\\_search.py\u001b[0m in \u001b[0;36m_run_search\u001b[1;34m(self, evaluate_candidates)\u001b[0m\n\u001b[0;32m   1286\u001b[0m     \u001b[1;32mdef\u001b[0m \u001b[0m_run_search\u001b[0m\u001b[1;33m(\u001b[0m\u001b[0mself\u001b[0m\u001b[1;33m,\u001b[0m \u001b[0mevaluate_candidates\u001b[0m\u001b[1;33m)\u001b[0m\u001b[1;33m:\u001b[0m\u001b[1;33m\u001b[0m\u001b[1;33m\u001b[0m\u001b[0m\n\u001b[0;32m   1287\u001b[0m         \u001b[1;34m\"\"\"Search all candidates in param_grid\"\"\"\u001b[0m\u001b[1;33m\u001b[0m\u001b[1;33m\u001b[0m\u001b[0m\n\u001b[1;32m-> 1288\u001b[1;33m         \u001b[0mevaluate_candidates\u001b[0m\u001b[1;33m(\u001b[0m\u001b[0mParameterGrid\u001b[0m\u001b[1;33m(\u001b[0m\u001b[0mself\u001b[0m\u001b[1;33m.\u001b[0m\u001b[0mparam_grid\u001b[0m\u001b[1;33m)\u001b[0m\u001b[1;33m)\u001b[0m\u001b[1;33m\u001b[0m\u001b[1;33m\u001b[0m\u001b[0m\n\u001b[0m\u001b[0;32m   1289\u001b[0m \u001b[1;33m\u001b[0m\u001b[0m\n\u001b[0;32m   1290\u001b[0m \u001b[1;33m\u001b[0m\u001b[0m\n",
      "\u001b[1;32m~\\anaconda3\\lib\\site-packages\\sklearn\\model_selection\\_search.py\u001b[0m in \u001b[0;36mevaluate_candidates\u001b[1;34m(candidate_params, cv, more_results)\u001b[0m\n\u001b[0;32m    793\u001b[0m                               n_splits, n_candidates, n_candidates * n_splits))\n\u001b[0;32m    794\u001b[0m \u001b[1;33m\u001b[0m\u001b[0m\n\u001b[1;32m--> 795\u001b[1;33m                 out = parallel(delayed(_fit_and_score)(clone(base_estimator),\n\u001b[0m\u001b[0;32m    796\u001b[0m                                                        \u001b[0mX\u001b[0m\u001b[1;33m,\u001b[0m \u001b[0my\u001b[0m\u001b[1;33m,\u001b[0m\u001b[1;33m\u001b[0m\u001b[1;33m\u001b[0m\u001b[0m\n\u001b[0;32m    797\u001b[0m                                                        \u001b[0mtrain\u001b[0m\u001b[1;33m=\u001b[0m\u001b[0mtrain\u001b[0m\u001b[1;33m,\u001b[0m \u001b[0mtest\u001b[0m\u001b[1;33m=\u001b[0m\u001b[0mtest\u001b[0m\u001b[1;33m,\u001b[0m\u001b[1;33m\u001b[0m\u001b[1;33m\u001b[0m\u001b[0m\n",
      "\u001b[1;32m~\\anaconda3\\lib\\site-packages\\joblib\\parallel.py\u001b[0m in \u001b[0;36m__call__\u001b[1;34m(self, iterable)\u001b[0m\n\u001b[0;32m   1052\u001b[0m \u001b[1;33m\u001b[0m\u001b[0m\n\u001b[0;32m   1053\u001b[0m             \u001b[1;32mwith\u001b[0m \u001b[0mself\u001b[0m\u001b[1;33m.\u001b[0m\u001b[0m_backend\u001b[0m\u001b[1;33m.\u001b[0m\u001b[0mretrieval_context\u001b[0m\u001b[1;33m(\u001b[0m\u001b[1;33m)\u001b[0m\u001b[1;33m:\u001b[0m\u001b[1;33m\u001b[0m\u001b[1;33m\u001b[0m\u001b[0m\n\u001b[1;32m-> 1054\u001b[1;33m                 \u001b[0mself\u001b[0m\u001b[1;33m.\u001b[0m\u001b[0mretrieve\u001b[0m\u001b[1;33m(\u001b[0m\u001b[1;33m)\u001b[0m\u001b[1;33m\u001b[0m\u001b[1;33m\u001b[0m\u001b[0m\n\u001b[0m\u001b[0;32m   1055\u001b[0m             \u001b[1;31m# Make sure that we get a last message telling us we are done\u001b[0m\u001b[1;33m\u001b[0m\u001b[1;33m\u001b[0m\u001b[1;33m\u001b[0m\u001b[0m\n\u001b[0;32m   1056\u001b[0m             \u001b[0melapsed_time\u001b[0m \u001b[1;33m=\u001b[0m \u001b[0mtime\u001b[0m\u001b[1;33m.\u001b[0m\u001b[0mtime\u001b[0m\u001b[1;33m(\u001b[0m\u001b[1;33m)\u001b[0m \u001b[1;33m-\u001b[0m \u001b[0mself\u001b[0m\u001b[1;33m.\u001b[0m\u001b[0m_start_time\u001b[0m\u001b[1;33m\u001b[0m\u001b[1;33m\u001b[0m\u001b[0m\n",
      "\u001b[1;32m~\\anaconda3\\lib\\site-packages\\joblib\\parallel.py\u001b[0m in \u001b[0;36mretrieve\u001b[1;34m(self)\u001b[0m\n\u001b[0;32m    931\u001b[0m             \u001b[1;32mtry\u001b[0m\u001b[1;33m:\u001b[0m\u001b[1;33m\u001b[0m\u001b[1;33m\u001b[0m\u001b[0m\n\u001b[0;32m    932\u001b[0m                 \u001b[1;32mif\u001b[0m \u001b[0mgetattr\u001b[0m\u001b[1;33m(\u001b[0m\u001b[0mself\u001b[0m\u001b[1;33m.\u001b[0m\u001b[0m_backend\u001b[0m\u001b[1;33m,\u001b[0m \u001b[1;34m'supports_timeout'\u001b[0m\u001b[1;33m,\u001b[0m \u001b[1;32mFalse\u001b[0m\u001b[1;33m)\u001b[0m\u001b[1;33m:\u001b[0m\u001b[1;33m\u001b[0m\u001b[1;33m\u001b[0m\u001b[0m\n\u001b[1;32m--> 933\u001b[1;33m                     \u001b[0mself\u001b[0m\u001b[1;33m.\u001b[0m\u001b[0m_output\u001b[0m\u001b[1;33m.\u001b[0m\u001b[0mextend\u001b[0m\u001b[1;33m(\u001b[0m\u001b[0mjob\u001b[0m\u001b[1;33m.\u001b[0m\u001b[0mget\u001b[0m\u001b[1;33m(\u001b[0m\u001b[0mtimeout\u001b[0m\u001b[1;33m=\u001b[0m\u001b[0mself\u001b[0m\u001b[1;33m.\u001b[0m\u001b[0mtimeout\u001b[0m\u001b[1;33m)\u001b[0m\u001b[1;33m)\u001b[0m\u001b[1;33m\u001b[0m\u001b[1;33m\u001b[0m\u001b[0m\n\u001b[0m\u001b[0;32m    934\u001b[0m                 \u001b[1;32melse\u001b[0m\u001b[1;33m:\u001b[0m\u001b[1;33m\u001b[0m\u001b[1;33m\u001b[0m\u001b[0m\n\u001b[0;32m    935\u001b[0m                     \u001b[0mself\u001b[0m\u001b[1;33m.\u001b[0m\u001b[0m_output\u001b[0m\u001b[1;33m.\u001b[0m\u001b[0mextend\u001b[0m\u001b[1;33m(\u001b[0m\u001b[0mjob\u001b[0m\u001b[1;33m.\u001b[0m\u001b[0mget\u001b[0m\u001b[1;33m(\u001b[0m\u001b[1;33m)\u001b[0m\u001b[1;33m)\u001b[0m\u001b[1;33m\u001b[0m\u001b[1;33m\u001b[0m\u001b[0m\n",
      "\u001b[1;32m~\\anaconda3\\lib\\site-packages\\joblib\\_parallel_backends.py\u001b[0m in \u001b[0;36mwrap_future_result\u001b[1;34m(future, timeout)\u001b[0m\n\u001b[0;32m    540\u001b[0m         AsyncResults.get from multiprocessing.\"\"\"\n\u001b[0;32m    541\u001b[0m         \u001b[1;32mtry\u001b[0m\u001b[1;33m:\u001b[0m\u001b[1;33m\u001b[0m\u001b[1;33m\u001b[0m\u001b[0m\n\u001b[1;32m--> 542\u001b[1;33m             \u001b[1;32mreturn\u001b[0m \u001b[0mfuture\u001b[0m\u001b[1;33m.\u001b[0m\u001b[0mresult\u001b[0m\u001b[1;33m(\u001b[0m\u001b[0mtimeout\u001b[0m\u001b[1;33m=\u001b[0m\u001b[0mtimeout\u001b[0m\u001b[1;33m)\u001b[0m\u001b[1;33m\u001b[0m\u001b[1;33m\u001b[0m\u001b[0m\n\u001b[0m\u001b[0;32m    543\u001b[0m         \u001b[1;32mexcept\u001b[0m \u001b[0mCfTimeoutError\u001b[0m \u001b[1;32mas\u001b[0m \u001b[0me\u001b[0m\u001b[1;33m:\u001b[0m\u001b[1;33m\u001b[0m\u001b[1;33m\u001b[0m\u001b[0m\n\u001b[0;32m    544\u001b[0m             \u001b[1;32mraise\u001b[0m \u001b[0mTimeoutError\u001b[0m \u001b[1;32mfrom\u001b[0m \u001b[0me\u001b[0m\u001b[1;33m\u001b[0m\u001b[1;33m\u001b[0m\u001b[0m\n",
      "\u001b[1;32m~\\anaconda3\\lib\\concurrent\\futures\\_base.py\u001b[0m in \u001b[0;36mresult\u001b[1;34m(self, timeout)\u001b[0m\n\u001b[0;32m    432\u001b[0m                 \u001b[1;32mreturn\u001b[0m \u001b[0mself\u001b[0m\u001b[1;33m.\u001b[0m\u001b[0m__get_result\u001b[0m\u001b[1;33m(\u001b[0m\u001b[1;33m)\u001b[0m\u001b[1;33m\u001b[0m\u001b[1;33m\u001b[0m\u001b[0m\n\u001b[0;32m    433\u001b[0m \u001b[1;33m\u001b[0m\u001b[0m\n\u001b[1;32m--> 434\u001b[1;33m             \u001b[0mself\u001b[0m\u001b[1;33m.\u001b[0m\u001b[0m_condition\u001b[0m\u001b[1;33m.\u001b[0m\u001b[0mwait\u001b[0m\u001b[1;33m(\u001b[0m\u001b[0mtimeout\u001b[0m\u001b[1;33m)\u001b[0m\u001b[1;33m\u001b[0m\u001b[1;33m\u001b[0m\u001b[0m\n\u001b[0m\u001b[0;32m    435\u001b[0m \u001b[1;33m\u001b[0m\u001b[0m\n\u001b[0;32m    436\u001b[0m             \u001b[1;32mif\u001b[0m \u001b[0mself\u001b[0m\u001b[1;33m.\u001b[0m\u001b[0m_state\u001b[0m \u001b[1;32min\u001b[0m \u001b[1;33m[\u001b[0m\u001b[0mCANCELLED\u001b[0m\u001b[1;33m,\u001b[0m \u001b[0mCANCELLED_AND_NOTIFIED\u001b[0m\u001b[1;33m]\u001b[0m\u001b[1;33m:\u001b[0m\u001b[1;33m\u001b[0m\u001b[1;33m\u001b[0m\u001b[0m\n",
      "\u001b[1;32m~\\anaconda3\\lib\\threading.py\u001b[0m in \u001b[0;36mwait\u001b[1;34m(self, timeout)\u001b[0m\n\u001b[0;32m    300\u001b[0m         \u001b[1;32mtry\u001b[0m\u001b[1;33m:\u001b[0m    \u001b[1;31m# restore state no matter what (e.g., KeyboardInterrupt)\u001b[0m\u001b[1;33m\u001b[0m\u001b[1;33m\u001b[0m\u001b[0m\n\u001b[0;32m    301\u001b[0m             \u001b[1;32mif\u001b[0m \u001b[0mtimeout\u001b[0m \u001b[1;32mis\u001b[0m \u001b[1;32mNone\u001b[0m\u001b[1;33m:\u001b[0m\u001b[1;33m\u001b[0m\u001b[1;33m\u001b[0m\u001b[0m\n\u001b[1;32m--> 302\u001b[1;33m                 \u001b[0mwaiter\u001b[0m\u001b[1;33m.\u001b[0m\u001b[0macquire\u001b[0m\u001b[1;33m(\u001b[0m\u001b[1;33m)\u001b[0m\u001b[1;33m\u001b[0m\u001b[1;33m\u001b[0m\u001b[0m\n\u001b[0m\u001b[0;32m    303\u001b[0m                 \u001b[0mgotit\u001b[0m \u001b[1;33m=\u001b[0m \u001b[1;32mTrue\u001b[0m\u001b[1;33m\u001b[0m\u001b[1;33m\u001b[0m\u001b[0m\n\u001b[0;32m    304\u001b[0m             \u001b[1;32melse\u001b[0m\u001b[1;33m:\u001b[0m\u001b[1;33m\u001b[0m\u001b[1;33m\u001b[0m\u001b[0m\n",
      "\u001b[1;31mKeyboardInterrupt\u001b[0m: "
     ]
    }
   ],
   "source": [
    "for i in range(len(Tuning_models['Decision_Tree'])):\n",
    "    if i!=2:\n",
    "        Decison_Tree=Tuning_models['Decision_Tree'][i](random_state=123)\n",
    "    else:\n",
    "        Decison_Tree=Tuning_models['Decision_Tree'][i](base_estimator=DecisionTreeRegressor(),random_state=123)\n",
    "\n",
    "    Parameters_Decision_Tree=Best_Parameters_Decison_Tree_general[Tuning_models['Decision_Tree'][i]][\"Search_Parameters\"]\n",
    "\n",
    "    tuning = GridSearchCV(estimator=Decison_Tree, \n",
    "                              param_grid = Parameters_Decision_Tree, \n",
    "                              scoring='neg_mean_absolute_error',n_jobs=-1, cv=5,verbose=1)\n",
    "\n",
    "\n",
    "    tuning.fit(train_features_general, train_labels_general)\n",
    "    Best_estimator=tuning.best_estimator_\n",
    "    Best_params=tuning.best_params_\n",
    "\n",
    "    print(Tuning_models['Decision_Tree'][i])\n",
    "\n",
    "    Model_GeneralSynthetic[Tuning_models['Decision_Tree'][i]].update({\"Best_estimator\": Best_estimator})\n",
    "    Model_GeneralSynthetic[Tuning_models['Decision_Tree'][i]].update({\"Best_params_dict\": Best_params})\n",
    "\n"
   ]
  },
  {
   "cell_type": "code",
   "execution_count": 24,
   "metadata": {},
   "outputs": [],
   "source": [
    "%store -r Model_GeneralSynthetic"
   ]
  },
  {
   "cell_type": "markdown",
   "metadata": {},
   "source": [
    "### 1.3.  Perform Rulefit for all DecisionTree and Regularizers  <a class=\"anchor\" id=\"1.3\"></a> \n"
   ]
  },
  {
   "cell_type": "code",
   "execution_count": 10,
   "metadata": {},
   "outputs": [],
   "source": [
    "Best_Parameters_Regularizers_general= {}\n",
    "\n",
    "for r in Tuning_models['Library_Script']:\n",
    "        # The Normalization layer\n",
    "        Best_Parameters_Regularizers_general[r] = {}\n",
    "\n",
    "        for l in Tuning_models['Decision_Tree']:\n",
    "        # The Normalization layer\n",
    "            Best_Parameters_Regularizers_general[r][l] = {}\n",
    "\n",
    "            for j in range(len(Tuning_models['Regularizers_0'])):\n",
    "\n",
    "                if r==Tuning_models['Library_Script'][0]:\n",
    "\n",
    "                    Best_Parameters_Regularizers_general[r][l][Tuning_models['Regularizers_0'][j]]={}\n",
    "\n",
    "                else:\n",
    "                    Best_Parameters_Regularizers_general[r][l][Tuning_models['Regularizers_1'][j]]={}\n"
   ]
  },
  {
   "cell_type": "code",
   "execution_count": 11,
   "metadata": {},
   "outputs": [],
   "source": [
    "\n",
    "def percCal(x,y):\n",
    "    return (x-y)*100/x"
   ]
  },
  {
   "cell_type": "code",
   "execution_count": null,
   "metadata": {},
   "outputs": [],
   "source": [
    "r=1\n",
    "\n",
    "for i in range(len(Tuning_models['Decision_Tree'])):\n",
    "\n",
    "    Parameters=Model_GeneralSynthetic[Tuning_models['Decision_Tree'][i]][\"Best_params_dict\"]\n",
    "\n",
    "\n",
    "    if i==0 or i==3:                                                                            \n",
    "        Decison_Tree=Tuning_models['Decision_Tree'][i](random_state=123,max_depth=Parameters[\"max_depth\"],n_estimators=Parameters[\"n_estimators\"])\n",
    "        print(Decison_Tree)\n",
    "\n",
    "    if i==1:                                                                            \n",
    "        Decison_Tree=Tuning_models['Decision_Tree'][i](random_state=123,learning_rate=Parameters[\"learning_rate\"],max_depth=Parameters[\"max_depth\"],n_estimators=Parameters[\"n_estimators\"])\n",
    "        print(Decison_Tree)\n",
    "\n",
    "    if i==2:\n",
    "        Decison_Tree=Tuning_models['Decision_Tree'][i](base_estimator=DecisionTreeRegressor(max_depth=Parameters[\"base_estimator__max_depth\"]),n_estimators=Parameters[\"n_estimators\"],random_state=123)\n",
    "\n",
    "        print(Decison_Tree)\n",
    "\n",
    "    for j in range(len(Tuning_models['Regularizers_0'])):\n",
    "\n",
    "\n",
    "        Decison_Tree_tune=copy.deepcopy(Decison_Tree)\n",
    "\n",
    "        if r==0:\n",
    "            regularizer=Tuning_models['Regularizers_0'][j]\n",
    "\n",
    "        else:\n",
    "            regularizer=Tuning_models['Regularizers_1'][j]\n",
    "\n",
    "        print(regularizer)\n",
    "\n",
    "        Cs=Tuning_models['Cs']\n",
    "\n",
    "        beta=0.1\n",
    "        alpha=0.001\n",
    "\n",
    "        if j==2:\n",
    "\n",
    "            len_reduce_rules=1000\n",
    "            max_tents=0\n",
    "            max_tents=0\n",
    "            minimum_rules=float('Inf')\n",
    "            while len_reduce_rules>100 and max_tents<=15:\n",
    "\n",
    "                Decison_Tree_tune=copy.deepcopy(Decison_Tree)\n",
    "\n",
    "                if r==0:\n",
    "\n",
    "                    rf = RuleFit_custom.RuleFit(tree_generator=Decison_Tree_tune, Cs=Cs, beta=beta, max_iter=10e10, regularization='Pyowl',n_jobs=-1)\n",
    "\n",
    "                else:\n",
    "                    rf = RuleFit_withoutCV.RuleFit(tree_generator=Decison_Tree_tune, Cs=Cs, beta=beta, max_iter=10e10, regularization='Pyowl',n_jobs=-1)\n",
    "\n",
    "\n",
    "                rf.fit(train_features_general, train_labels_general, feature_names=generalcolumns)\n",
    "\n",
    "                rules = rf.get_rules()\n",
    "\n",
    "                reduce_rules = rules[abs(rules.coef) !=0].sort_values(\"coef\", ascending=False)\n",
    "\n",
    "                if len(reduce_rules)< minimum_rules:\n",
    "                    minimum_rules=len(reduce_rules)\n",
    "                    max_tents=0\n",
    "\n",
    "                else:\n",
    "                    max_tents=max_tents+1\n",
    "\n",
    "\n",
    "                len_reduce_rules=len(reduce_rules)\n",
    "\n",
    "                print(len_reduce_rules)\n",
    "\n",
    "                rf_score = np.round(r2_score(rf.predict(test_features_general),test_labels_general),2)\n",
    "\n",
    "                predictions=rf.predict(test_features_general)\n",
    "\n",
    "                beta=beta+1\n",
    "        else:\n",
    "            len_reduce_rules=1000\n",
    "            max_rules=1000\n",
    "            while len_reduce_rules>100:\n",
    "\n",
    "                Decison_Tree_tune=copy.deepcopy(Decison_Tree)\n",
    "                print(max_rules)\n",
    "                if r==0:\n",
    "                    rf = RuleFit_custom.RuleFit(max_rules=max_rules,tree_generator=Decison_Tree_tune, alpha=alpha,Cs=Cs, max_iter=10e10, regularization=regularizer,n_jobs=-1)\n",
    "\n",
    "                else:    \n",
    "                    rf = RuleFit_withoutCV.RuleFit(tree_generator=Decison_Tree_tune,alpha=alpha, Cs=Cs, max_iter=10e10, regularization=regularizer,n_jobs=-1)\n",
    "\n",
    "\n",
    "                rf.fit(train_features_general, train_labels_general, feature_names=generalcolumns)\n",
    "\n",
    "                rules = rf.get_rules()\n",
    "\n",
    "                reduce_rules = rules[abs(rules.coef) !=0].sort_values(\"coef\", ascending=False)\n",
    "\n",
    "\n",
    "                len_reduce_rules=len(reduce_rules)\n",
    "\n",
    "                print(len_reduce_rules)\n",
    "\n",
    "                rf_score = np.round(r2_score(rf.predict(test_features_general),test_labels_general),2)\n",
    "\n",
    "                predictions=rf.predict(test_features_general)\n",
    "\n",
    "                if j==0:\n",
    "                    if len_reduce_rules>120:\n",
    "                        alpha+=0.05\n",
    "\n",
    "                    else:\n",
    "                        alpha+=0.005\n",
    "                        \n",
    "                if j==1:\n",
    "                    if len_reduce_rules>120:\n",
    "                        alpha+=1.2\n",
    "\n",
    "                    else:\n",
    "                        alpha+=0.35\n",
    "\n",
    "\n",
    "                if max_rules<=100:\n",
    "                    max_rules+=-10\n",
    "\n",
    "                else:\n",
    "                    max_rules+=-100\n",
    "\n",
    "\n",
    "\n",
    "        print(rf_score)\n",
    "\n",
    "        dataset_predicton = {\"Real Duration\": test_labels_general, \"Planned by Cuf\": test_CUF_labels_general, \"Labels from RuleFit\": predictions}\n",
    "        dataset_predicton=pd.DataFrame(dataset_predicton)\n",
    "\n",
    "        dataset_predicton['Error_RuleFit'] = percCal(dataset_predicton['Real Duration'], dataset_predicton['Labels from RuleFit'])\n",
    "        dataset_predicton['Error_CUF'] = percCal(dataset_predicton['Real Duration'], dataset_predicton['Planned by Cuf'])\n",
    "\n",
    "        CUF_overuse=dataset_predicton[dataset_predicton['Error_CUF']>10].shape[0]/dataset_predicton.shape[0]\n",
    "        RuleFit_overuse=dataset_predicton[dataset_predicton['Error_RuleFit']>10].shape[0]/dataset_predicton.shape[0]\n",
    "        #Underutilization\n",
    "        CUF_under=dataset_predicton[dataset_predicton['Error_CUF']<-10].shape[0]/dataset_predicton.shape[0]\n",
    "        RuleFit_under=dataset_predicton[dataset_predicton['Error_RuleFit']<-10].shape[0]/dataset_predicton.shape[0]\n",
    "            #Within\n",
    "        CUF_Within=dataset_predicton[dataset_predicton['Error_CUF'].abs()<=10].shape[0]/dataset_predicton.shape[0]\n",
    "        RuleFit_Within=dataset_predicton[dataset_predicton['Error_RuleFit'].abs()<=10].shape[0]/dataset_predicton.shape[0]\n",
    "\n",
    "        Best_Parameters_Regularizers_general[Tuning_models['Library_Script'][r]][Tuning_models['Decision_Tree'][i]][regularizer].update({\"Model\": rf})\n",
    "        Best_Parameters_Regularizers_general[Tuning_models['Library_Script'][r]][Tuning_models['Decision_Tree'][i]][regularizer].update({\"Rules\": rules})\n",
    "\n",
    "        Best_Parameters_Regularizers_general[Tuning_models['Library_Script'][r]][Tuning_models['Decision_Tree'][i]][regularizer].update({\"Rules_non0\": reduce_rules})\n",
    "\n",
    "        Best_Parameters_Regularizers_general[Tuning_models['Library_Script'][r]][Tuning_models['Decision_Tree'][i]][regularizer].update({\"Number Rules\": len(reduce_rules)})\n",
    "        Best_Parameters_Regularizers_general[Tuning_models['Library_Script'][r]][Tuning_models['Decision_Tree'][i]][regularizer].update({\"Score\": rf_score})\n",
    "        Best_Parameters_Regularizers_general[Tuning_models['Library_Script'][r]][Tuning_models['Decision_Tree'][i]][regularizer].update({\"Predictions\": predictions})\n",
    "        Best_Parameters_Regularizers_general[Tuning_models['Library_Script'][r]][Tuning_models['Decision_Tree'][i]][regularizer].update({\"Dataset_predicton\": dataset_predicton})\n",
    "\n",
    "        Best_Parameters_Regularizers_general[Tuning_models['Library_Script'][r]][Tuning_models['Decision_Tree'][i]][regularizer].update({\"Percentage\": [RuleFit_Within, RuleFit_under, RuleFit_overuse]})\n",
    "        Best_Parameters_Regularizers_general[Tuning_models['Library_Script'][r]][Tuning_models['Decision_Tree'][i]][regularizer].update({\"Percentage_CUF\": [CUF_Within, CUF_under, CUF_overuse]})\n",
    "\n"
   ]
  },
  {
   "cell_type": "code",
   "execution_count": 25,
   "metadata": {},
   "outputs": [],
   "source": [
    "%store -r Best_Parameters_Regularizers_general  "
   ]
  },
  {
   "cell_type": "code",
   "execution_count": 29,
   "metadata": {},
   "outputs": [
    {
     "data": {
      "text/plain": [
       "{sklearn.ensemble._forest.RandomForestRegressor: {'LassoCV': {'Model': RuleFit(Cs=array([1.00000000e+08, 9.80650814e+07, 9.61676019e+07, 9.43068371e+07,\n",
       "          9.24820765e+07, 9.06926236e+07, 8.89377952e+07, 8.72169212e+07,\n",
       "          8.55293448e+07, 8.38744216e+07, 8.22515198e+07, 8.06600198e+07,\n",
       "          7.90993141e+07, 7.75688068e+07, 7.60679135e+07, 7.45960613e+07,\n",
       "          7.31526882e+07, 7.17372432e+07, 7.03491860e+07, 6.89879865e+07,\n",
       "          6.76531251e+07, 6.63440922e+07, 6....\n",
       "          4.46851117e-01, 4.38204912e-01, 4.29726004e-01, 4.21411155e-01,\n",
       "          4.13257192e-01, 4.05261002e-01, 3.97419531e-01, 3.89729787e-01,\n",
       "          3.82188833e-01, 3.74793790e-01, 3.67541835e-01, 3.60430200e-01,\n",
       "          3.53456169e-01, 3.46617080e-01, 3.39910321e-01, 3.33333333e-01]),\n",
       "           beta=10, max_iter=1000, n_jobs=-1, regularization='LassoCV',\n",
       "           tree_generator=RandomForestRegressor(max_depth=4, max_leaf_nodes=8,\n",
       "                                                n_estimators=578,\n",
       "                                                random_state=577)),\n",
       "   'Rules':                                                    rule    type       coef  \\\n",
       "   1183  I1 > 1.9798105359077454 & I1 > 3.8302924633026...    rule  42.141215   \n",
       "   52    I1 > 0.3816271275281906 & I1 > 1.7656030058860...    rule  36.031055   \n",
       "   1333  I1 > 2.9821358919143677 & I1 > 1.9839802980422...    rule  26.472223   \n",
       "   6                                                    I1  linear  25.522658   \n",
       "   1181  I1 > 0.3816271275281906 & Doctor > 0.742920309...    rule  19.140715   \n",
       "   ...                                                 ...     ...        ...   \n",
       "   5                                            Speciality  linear -11.004627   \n",
       "   348   I1 > 0.3578822910785675 & Doctor > 0.748231589...    rule -11.443028   \n",
       "   166   I1 <= 4.612114906311035 & I1 > 1.9447799324989...    rule -14.306723   \n",
       "   407   I1 > 0.9583219885826111 & I1 <= 1.979810535907...    rule -15.690614   \n",
       "   401   I1 > 1.7819807529449463 & I1 > 3.4935793876647...    rule -18.397018   \n",
       "   \n",
       "          support  importance  \n",
       "   1183  0.000605    1.036280  \n",
       "   52    0.010056    3.594985  \n",
       "   1333  0.015774    3.298404  \n",
       "   6     1.000000   23.222647  \n",
       "   1181  0.042972    3.881615  \n",
       "   ...        ...         ...  \n",
       "   5     1.000000    9.809085  \n",
       "   348   0.041344    2.278139  \n",
       "   166   0.009778    1.407795  \n",
       "   407   0.097605    4.656662  \n",
       "   401   0.008107    1.649716  \n",
       "   \n",
       "   [223 rows x 5 columns],\n",
       "   'Number Rules': 223,\n",
       "   'Score': 0.43,\n",
       "   'Predictions': array([ 53.60141731,  60.08795735,  31.63239092, ...,  44.20845706,\n",
       "           92.55756381, 258.86441417]),\n",
       "   'Dataset_predicton':        Real Duration  Planned by Cuf  Labels from RuleFit  Error_RuleFit  \\\n",
       "   0               41.0            60.0            53.601417     -30.735164   \n",
       "   1               55.0            60.0            60.087957      -9.250832   \n",
       "   2               12.0            60.0            31.632391    -163.603258   \n",
       "   3               43.0            60.0            55.286420     -28.573070   \n",
       "   4               53.0            60.0           112.916996    -113.050936   \n",
       "   ...              ...             ...                  ...            ...   \n",
       "   33949           90.0            90.0            79.437561      11.736043   \n",
       "   33950           94.0            60.0            35.408208      62.331694   \n",
       "   33951           33.0            60.0            44.208457     -33.965021   \n",
       "   33952           83.0            90.0            92.557564     -11.515137   \n",
       "   33953          390.0           240.0           258.864414      33.624509   \n",
       "   \n",
       "           Error_CUF  \n",
       "   0      -46.341465  \n",
       "   1       -9.090909  \n",
       "   2     -400.000000  \n",
       "   3      -39.534885  \n",
       "   4      -13.207547  \n",
       "   ...           ...  \n",
       "   33949    0.000000  \n",
       "   33950   36.170212  \n",
       "   33951  -81.818184  \n",
       "   33952   -8.433735  \n",
       "   33953   38.461540  \n",
       "   \n",
       "   [33954 rows x 5 columns],\n",
       "   'Percentage': [0.21593921187488957,\n",
       "    0.46180126052895093,\n",
       "    0.3222595275961595]},\n",
       "  'ElasticNetCV': {'Model': RuleFit(Cs=array([1.00000000e+08, 9.80650814e+07, 9.61676019e+07, 9.43068371e+07,\n",
       "          9.24820765e+07, 9.06926236e+07, 8.89377952e+07, 8.72169212e+07,\n",
       "          8.55293448e+07, 8.38744216e+07, 8.22515198e+07, 8.06600198e+07,\n",
       "          7.90993141e+07, 7.75688068e+07, 7.60679135e+07, 7.45960613e+07,\n",
       "          7.31526882e+07, 7.17372432e+07, 7.03491860e+07, 6.89879865e+07,\n",
       "          6.76531251e+07, 6.63440922e+07, 6....\n",
       "          4.46851117e-01, 4.38204912e-01, 4.29726004e-01, 4.21411155e-01,\n",
       "          4.13257192e-01, 4.05261002e-01, 3.97419531e-01, 3.89729787e-01,\n",
       "          3.82188833e-01, 3.74793790e-01, 3.67541835e-01, 3.60430200e-01,\n",
       "          3.53456169e-01, 3.46617080e-01, 3.39910321e-01, 3.33333333e-01]),\n",
       "           beta=10, max_iter=1000, n_jobs=-1, regularization='ElasticNetCV',\n",
       "           tree_generator=RandomForestRegressor(max_depth=4, max_leaf_nodes=2,\n",
       "                                                n_estimators=555,\n",
       "                                                random_state=554)),\n",
       "   'Rules':                                                    rule    type       coef  \\\n",
       "   189   I1 > 0.3566874861717224 & I1 > 1.7656030058860...    rule  17.570638   \n",
       "   6                                                    I1  linear  14.188302   \n",
       "   1446  I1 > 0.4626436233520508 & Doctor <= 1.20839095...    rule  14.086051   \n",
       "   7                                                Doctor  linear  14.014870   \n",
       "   422   I1 > 0.437522292137146 & I1 <= 3.7941377162933...    rule  10.471833   \n",
       "   ...                                                 ...     ...        ...   \n",
       "   89    I1 > 0.4626436233520508 & Doctor > 1.208390951...    rule  -6.957316   \n",
       "   1359  I1 > -0.4056020975112915 & I1 <= 0.46264362335...    rule  -7.789162   \n",
       "   5                                            Speciality  linear -10.252938   \n",
       "   495   I1 > 0.437522292137146 & Doctor <= 2.038821697...    rule -10.758011   \n",
       "   270   I1 > 0.3566874861717224 & I1 > 1.7656030058860...    rule -16.782463   \n",
       "   \n",
       "          support  importance  \n",
       "   189   0.002960    0.954574  \n",
       "   6     1.000000   12.909703  \n",
       "   1446  0.058441    3.304237  \n",
       "   7     1.000000   12.913011  \n",
       "   422   0.009055    0.991932  \n",
       "   ...        ...         ...  \n",
       "   89    0.039283    1.351573  \n",
       "   1359  0.189546    3.052895  \n",
       "   5     1.000000    9.139060  \n",
       "   495   0.035494    1.990498  \n",
       "   270   0.006189    1.316145  \n",
       "   \n",
       "   [922 rows x 5 columns],\n",
       "   'Number Rules': 922,\n",
       "   'Score': 0.43,\n",
       "   'Predictions': array([ 53.43657011,  61.04846684,  31.87433382, ...,  43.10801782,\n",
       "           92.33604172, 264.61771206]),\n",
       "   'Dataset_predicton':        Real Duration  Planned by Cuf  Labels from RuleFit  Error_RuleFit  \\\n",
       "   0               41.0            60.0            53.436570     -30.333098   \n",
       "   1               55.0            60.0            61.048467     -10.997212   \n",
       "   2               12.0            60.0            31.874334    -165.619449   \n",
       "   3               43.0            60.0            53.774201     -25.056282   \n",
       "   4               53.0            60.0           112.806076    -112.841652   \n",
       "   ...              ...             ...                  ...            ...   \n",
       "   33949           90.0            90.0            78.077166      13.247594   \n",
       "   33950           94.0            60.0            33.928880      63.905447   \n",
       "   33951           33.0            60.0            43.108018     -30.630357   \n",
       "   33952           83.0            90.0            92.336042     -11.248243   \n",
       "   33953          390.0           240.0           264.617712      32.149305   \n",
       "   \n",
       "           Error_CUF  \n",
       "   0      -46.341465  \n",
       "   1       -9.090909  \n",
       "   2     -400.000000  \n",
       "   3      -39.534885  \n",
       "   4      -13.207547  \n",
       "   ...           ...  \n",
       "   33949    0.000000  \n",
       "   33950   36.170212  \n",
       "   33951  -81.818184  \n",
       "   33952   -8.433735  \n",
       "   33953   38.461540  \n",
       "   \n",
       "   [33954 rows x 5 columns],\n",
       "   'Percentage': [0.21797137303410496,\n",
       "    0.4605642928668198,\n",
       "    0.3214643340990752]},\n",
       "  'Pyowl': {'Model': RuleFit(Cs=array([1.00000000e+08, 9.80650814e+07, 9.61676019e+07, 9.43068371e+07,\n",
       "          9.24820765e+07, 9.06926236e+07, 8.89377952e+07, 8.72169212e+07,\n",
       "          8.55293448e+07, 8.38744216e+07, 8.22515198e+07, 8.06600198e+07,\n",
       "          7.90993141e+07, 7.75688068e+07, 7.60679135e+07, 7.45960613e+07,\n",
       "          7.31526882e+07, 7.17372432e+07, 7.03491860e+07, 6.89879865e+07,\n",
       "          6.76531251e+07, 6.63440922e+07, 6....\n",
       "          4.46851117e-01, 4.38204912e-01, 4.29726004e-01, 4.21411155e-01,\n",
       "          4.13257192e-01, 4.05261002e-01, 3.97419531e-01, 3.89729787e-01,\n",
       "          3.82188833e-01, 3.74793790e-01, 3.67541835e-01, 3.60430200e-01,\n",
       "          3.53456169e-01, 3.46617080e-01, 3.39910321e-01, 3.33333333e-01]),\n",
       "           beta=10, max_iter=1000, n_jobs=-1, regularization='Pyowl',\n",
       "           tree_generator=RandomForestRegressor(max_depth=4, max_leaf_nodes=3,\n",
       "                                                n_estimators=559,\n",
       "                                                random_state=558)),\n",
       "   'Rules':                                                    rule    type       coef  \\\n",
       "   7                                                Doctor  linear  15.199730   \n",
       "   6                                                    I1  linear   9.274145   \n",
       "   3                                          Procedures_I  linear   8.409577   \n",
       "   732                             I1 > 0.4626436233520508    rule   6.739046   \n",
       "   1000  Procedures_I > -0.09639568626880646 & Doctor >...    rule   6.719509   \n",
       "   ...                                                 ...     ...        ...   \n",
       "   1149  I1 <= 1.9156532287597656 & I1 > 0.441918522119...    rule  -1.392439   \n",
       "   265   I1 <= 1.9839802980422974 & I1 <= 1.06621992588...    rule  -1.710294   \n",
       "   627   I1 <= 1.9156532287597656 & Doctor <= 0.7632033...    rule  -1.737336   \n",
       "   1                                       Hospitalization  linear  -4.309723   \n",
       "   5                                            Speciality  linear  -8.857988   \n",
       "   \n",
       "          support  importance  \n",
       "   7     1.000000   14.004717  \n",
       "   6     1.000000    8.438392  \n",
       "   3     1.000000    7.540757  \n",
       "   732   0.248952    2.914005  \n",
       "   1000  0.059733    1.592470  \n",
       "   ...        ...         ...  \n",
       "   1149  0.104069    0.425181  \n",
       "   265   0.102458    0.518646  \n",
       "   627   0.105964    0.534738  \n",
       "   1     1.000000    4.309723  \n",
       "   5     1.000000    7.895657  \n",
       "   \n",
       "   [1482 rows x 5 columns],\n",
       "   'Number Rules': 1482,\n",
       "   'Score': 0.4,\n",
       "   'Predictions': array([ 55.27940631,  57.70895471,  30.49330656, ...,  43.52388513,\n",
       "           94.69168246, 266.39717022]),\n",
       "   'Dataset_predicton':        Real Duration  Planned by Cuf  Labels from RuleFit  Error_RuleFit  \\\n",
       "   0               41.0            60.0            55.279406     -34.827820   \n",
       "   1               55.0            60.0            57.708955      -4.925372   \n",
       "   2               12.0            60.0            30.493307    -154.110888   \n",
       "   3               43.0            60.0            55.457458     -28.970833   \n",
       "   4               53.0            60.0           114.901330    -116.794963   \n",
       "   ...              ...             ...                  ...            ...   \n",
       "   33949           90.0            90.0            71.395927      20.671193   \n",
       "   33950           94.0            60.0            34.777982      63.002147   \n",
       "   33951           33.0            60.0            43.523885     -31.890561   \n",
       "   33952           83.0            90.0            94.691682     -14.086364   \n",
       "   33953          390.0           240.0           266.397170      31.693033   \n",
       "   \n",
       "           Error_CUF  \n",
       "   0      -46.341465  \n",
       "   1       -9.090909  \n",
       "   2     -400.000000  \n",
       "   3      -39.534885  \n",
       "   4      -13.207547  \n",
       "   ...           ...  \n",
       "   33949    0.000000  \n",
       "   33950   36.170212  \n",
       "   33951  -81.818184  \n",
       "   33952   -8.433735  \n",
       "   33953   38.461540  \n",
       "   \n",
       "   [33954 rows x 5 columns],\n",
       "   'Percentage': [0.21537963126583023,\n",
       "    0.4649820345172881,\n",
       "    0.31963833421688165]}},\n",
       " sklearn.ensemble._gb.GradientBoostingRegressor: {'LassoCV': {},\n",
       "  'ElasticNetCV': {},\n",
       "  'Pyowl': {}},\n",
       " sklearn.ensemble._bagging.BaggingRegressor: {'LassoCV': {'Model': RuleFit(Cs=array([1.00000000e+08, 9.80650814e+07, 9.61676019e+07, 9.43068371e+07,\n",
       "          9.24820765e+07, 9.06926236e+07, 8.89377952e+07, 8.72169212e+07,\n",
       "          8.55293448e+07, 8.38744216e+07, 8.22515198e+07, 8.06600198e+07,\n",
       "          7.90993141e+07, 7.75688068e+07, 7.60679135e+07, 7.45960613e+07,\n",
       "          7.31526882e+07, 7.17372432e+07, 7.03491860e+07, 6.89879865e+07,\n",
       "          6.76531251e+07, 6.63440922e+07, 6....\n",
       "          4.13257192e-01, 4.05261002e-01, 3.97419531e-01, 3.89729787e-01,\n",
       "          3.82188833e-01, 3.74793790e-01, 3.67541835e-01, 3.60430200e-01,\n",
       "          3.53456169e-01, 3.46617080e-01, 3.39910321e-01, 3.33333333e-01]),\n",
       "           beta=10, max_iter=1000, n_jobs=-1, regularization='LassoCV',\n",
       "           tree_generator=BaggingRegressor(base_estimator=DecisionTreeRegressor(max_depth=4,\n",
       "                                                                                max_leaf_nodes=3),\n",
       "                                           n_estimators=568, random_state=567)),\n",
       "   'Rules':                                                    rule    type       coef  \\\n",
       "   1384  I1 > 1.7570932507514954 & I1 > 0.3440448939800...    rule  52.371438   \n",
       "   50    I1 > 1.7819807529449463 & I1 > 3.3710939884185...    rule  35.175737   \n",
       "   6                                                    I1  linear  27.011625   \n",
       "   912   Doctor > 1.2083909511566162 & I1 <= 1.73549401...    rule  16.680744   \n",
       "   1450  I1 > 1.7570932507514954 & I1 <= 4.612114906311...    rule  15.187355   \n",
       "   ...                                                 ...     ...        ...   \n",
       "   5                                            Speciality  linear -11.057576   \n",
       "   1378  I1 <= 4.414868116378784 & I1 > 0.4243376255035...    rule -12.660247   \n",
       "   59    I1 <= 1.9156532287597656 & I1 > 0.958321988582...    rule -14.672573   \n",
       "   296   Doctor > 1.2083909511566162 & I1 <= 1.76793462...    rule -16.069642   \n",
       "   158   I1 <= 1.8346204161643982 & I1 <= 0.98646345734...    rule -17.398716   \n",
       "   \n",
       "          support  importance  \n",
       "   1384  0.002575    2.653940  \n",
       "   50    0.010023    3.503892  \n",
       "   6     1.000000   24.577434  \n",
       "   912   0.040868    3.302531  \n",
       "   1450  0.018069    2.022967  \n",
       "   ...        ...         ...  \n",
       "   5     1.000000    9.856282  \n",
       "   1378  0.009014    1.196571  \n",
       "   59    0.097735    4.357106  \n",
       "   296   0.039911    3.145653  \n",
       "   158   0.041713    3.478556  \n",
       "   \n",
       "   [210 rows x 5 columns],\n",
       "   'Number Rules': 210,\n",
       "   'Score': 0.43,\n",
       "   'Predictions': array([ 52.81409569,  59.26642002,  31.3148032 , ...,  43.76026785,\n",
       "           92.7477854 , 256.40371586]),\n",
       "   'Dataset_predicton':        Real Duration  Planned by Cuf  Labels from RuleFit  Error_RuleFit  \\\n",
       "   0               41.0            60.0            52.814096     -28.814868   \n",
       "   1               55.0            60.0            59.266420      -7.757127   \n",
       "   2               12.0            60.0            31.314803    -160.956693   \n",
       "   3               43.0            60.0            54.737489     -27.296487   \n",
       "   4               53.0            60.0           113.252476    -113.683918   \n",
       "   ...              ...             ...                  ...            ...   \n",
       "   33949           90.0            90.0            77.494260      13.895266   \n",
       "   33950           94.0            60.0            35.254418      62.495300   \n",
       "   33951           33.0            60.0            43.760268     -32.606872   \n",
       "   33952           83.0            90.0            92.747785     -11.744320   \n",
       "   33953          390.0           240.0           256.403716      34.255457   \n",
       "   \n",
       "           Error_CUF  \n",
       "   0      -46.341465  \n",
       "   1       -9.090909  \n",
       "   2     -400.000000  \n",
       "   3      -39.534885  \n",
       "   4      -13.207547  \n",
       "   ...           ...  \n",
       "   33949    0.000000  \n",
       "   33950   36.170212  \n",
       "   33951  -81.818184  \n",
       "   33952   -8.433735  \n",
       "   33953   38.461540  \n",
       "   \n",
       "   [33954 rows x 5 columns],\n",
       "   'Percentage': [0.21449608293573658,\n",
       "    0.4632149378571008,\n",
       "    0.32228897920716265]},\n",
       "  'ElasticNetCV': {'Model': RuleFit(Cs=array([1.00000000e+08, 9.80650814e+07, 9.61676019e+07, 9.43068371e+07,\n",
       "          9.24820765e+07, 9.06926236e+07, 8.89377952e+07, 8.72169212e+07,\n",
       "          8.55293448e+07, 8.38744216e+07, 8.22515198e+07, 8.06600198e+07,\n",
       "          7.90993141e+07, 7.75688068e+07, 7.60679135e+07, 7.45960613e+07,\n",
       "          7.31526882e+07, 7.17372432e+07, 7.03491860e+07, 6.89879865e+07,\n",
       "          6.76531251e+07, 6.63440922e+07, 6....\n",
       "          4.13257192e-01, 4.05261002e-01, 3.97419531e-01, 3.89729787e-01,\n",
       "          3.82188833e-01, 3.74793790e-01, 3.67541835e-01, 3.60430200e-01,\n",
       "          3.53456169e-01, 3.46617080e-01, 3.39910321e-01, 3.33333333e-01]),\n",
       "           beta=10, max_iter=1000, n_jobs=-1, regularization='ElasticNetCV',\n",
       "           tree_generator=BaggingRegressor(base_estimator=DecisionTreeRegressor(max_depth=4,\n",
       "                                                                                max_leaf_nodes=4),\n",
       "                                           n_estimators=548, random_state=547)),\n",
       "   'Rules':                                                    rule    type       coef  \\\n",
       "   6                                                    I1  linear  17.380667   \n",
       "   7                                                Doctor  linear  13.612036   \n",
       "   693   I1 > 0.3768952935934067 & I1 > 2.8619093894958...    rule  13.322643   \n",
       "   1366  I1 > 1.9447799324989319 & I1 > 3.4210046529769...    rule  12.861747   \n",
       "   616   I1 > 5.5243752002716064 & I1 > 1.9156532287597...    rule  12.851164   \n",
       "   ...                                                 ...     ...        ...   \n",
       "   1195  I1 <= 5.5243752002716064 & I1 > 1.915653228759...    rule -10.251959   \n",
       "   5                                            Speciality  linear -10.343335   \n",
       "   984   I1 <= 2.8619093894958496 & I1 > 0.376895293593...    rule -10.673791   \n",
       "   888   I1 > 0.437522292137146 & Doctor > 1.2083909511...    rule -11.681412   \n",
       "   446   I1 > 1.9447799324989319 & I1 > 3.4210046529769...    rule -12.577110   \n",
       "   \n",
       "          support  importance  \n",
       "   6     1.000000   15.814383  \n",
       "   7     1.000000   12.541848  \n",
       "   693   0.002601    0.678611  \n",
       "   1366  0.000897    0.384932  \n",
       "   616   0.000804    0.364217  \n",
       "   ...        ...         ...  \n",
       "   1195  0.005219    0.738716  \n",
       "   5     1.000000    9.219636  \n",
       "   984   0.037573    2.029746  \n",
       "   888   0.040948    2.314904  \n",
       "   446   0.008744    1.170921  \n",
       "   \n",
       "   [1034 rows x 5 columns],\n",
       "   'Number Rules': 1034,\n",
       "   'Score': 0.44,\n",
       "   'Predictions': array([ 53.11707333,  61.24934455,  31.89444495, ...,  43.16703283,\n",
       "           92.77261378, 266.5119581 ]),\n",
       "   'Dataset_predicton':        Real Duration  Planned by Cuf  Labels from RuleFit  Error_RuleFit  \\\n",
       "   0               41.0            60.0            53.117073     -29.553837   \n",
       "   1               55.0            60.0            61.249345     -11.362445   \n",
       "   2               12.0            60.0            31.894445    -165.787041   \n",
       "   3               43.0            60.0            53.774328     -25.056576   \n",
       "   4               53.0            60.0           109.143319    -105.930791   \n",
       "   ...              ...             ...                  ...            ...   \n",
       "   33949           90.0            90.0            78.130765      13.188039   \n",
       "   33950           94.0            60.0            33.898667      63.937589   \n",
       "   33951           33.0            60.0            43.167033     -30.809190   \n",
       "   33952           83.0            90.0            92.772614     -11.774233   \n",
       "   33953          390.0           240.0           266.511958      31.663600   \n",
       "   \n",
       "           Error_CUF  \n",
       "   0      -46.341465  \n",
       "   1       -9.090909  \n",
       "   2     -400.000000  \n",
       "   3      -39.534885  \n",
       "   4      -13.207547  \n",
       "   ...           ...  \n",
       "   33949    0.000000  \n",
       "   33950   36.170212  \n",
       "   33951  -81.818184  \n",
       "   33952   -8.433735  \n",
       "   33953   38.461540  \n",
       "   \n",
       "   [33954 rows x 5 columns],\n",
       "   'Percentage': [0.21808917947811746,\n",
       "    0.46156564764092595,\n",
       "    0.3203451728809566]},\n",
       "  'Pyowl': {'Model': RuleFit(Cs=array([1.00000000e+08, 9.80650814e+07, 9.61676019e+07, 9.43068371e+07,\n",
       "          9.24820765e+07, 9.06926236e+07, 8.89377952e+07, 8.72169212e+07,\n",
       "          8.55293448e+07, 8.38744216e+07, 8.22515198e+07, 8.06600198e+07,\n",
       "          7.90993141e+07, 7.75688068e+07, 7.60679135e+07, 7.45960613e+07,\n",
       "          7.31526882e+07, 7.17372432e+07, 7.03491860e+07, 6.89879865e+07,\n",
       "          6.76531251e+07, 6.63440922e+07, 6....\n",
       "          4.13257192e-01, 4.05261002e-01, 3.97419531e-01, 3.89729787e-01,\n",
       "          3.82188833e-01, 3.74793790e-01, 3.67541835e-01, 3.60430200e-01,\n",
       "          3.53456169e-01, 3.46617080e-01, 3.39910321e-01, 3.33333333e-01]),\n",
       "           beta=10, max_iter=1000, n_jobs=-1, regularization='Pyowl',\n",
       "           tree_generator=BaggingRegressor(base_estimator=DecisionTreeRegressor(max_depth=4,\n",
       "                                                                                max_leaf_nodes=3),\n",
       "                                           n_estimators=555, random_state=554)),\n",
       "   'Rules':                                                    rule    type       coef  \\\n",
       "   7                                                Doctor  linear  15.496341   \n",
       "   1096  I1 > 1.7570932507514954 & I1 > 0.3440448939800...    rule  14.353907   \n",
       "   6                                                    I1  linear   8.715290   \n",
       "   3                                          Procedures_I  linear   8.388205   \n",
       "   257                             I1 > 0.2527572810649872    rule   6.078386   \n",
       "   ...                                                 ...     ...        ...   \n",
       "   108   I1 <= 0.9806917011737823 & Doctor <= 0.7429203...    rule  -1.269376   \n",
       "   2                                                Gender  linear  -1.272387   \n",
       "   883   I1 <= 1.9156532287597656 & I1 > 0.357882291078...    rule  -2.739085   \n",
       "   1                                       Hospitalization  linear  -4.365064   \n",
       "   5                                            Speciality  linear  -9.146836   \n",
       "   \n",
       "          support  importance  \n",
       "   7     1.000000   14.278008  \n",
       "   1096  0.020644    2.040951  \n",
       "   6     1.000000    7.929899  \n",
       "   3     1.000000    7.521593  \n",
       "   257   0.306928    2.803469  \n",
       "   ...        ...         ...  \n",
       "   108   0.095351    0.372814  \n",
       "   2     1.000000    1.272387  \n",
       "   883   0.139466    0.948907  \n",
       "   1     1.000000    4.365064  \n",
       "   5     1.000000    8.153124  \n",
       "   \n",
       "   [1443 rows x 5 columns],\n",
       "   'Number Rules': 1443,\n",
       "   'Score': 0.41,\n",
       "   'Predictions': array([ 55.74717531,  57.76928507,  30.65583362, ...,  43.48231228,\n",
       "           94.307999  , 265.69936057]),\n",
       "   'Dataset_predicton':        Real Duration  Planned by Cuf  Labels from RuleFit  Error_RuleFit  \\\n",
       "   0               41.0            60.0            55.747175     -35.968720   \n",
       "   1               55.0            60.0            57.769285      -5.035064   \n",
       "   2               12.0            60.0            30.655834    -155.465280   \n",
       "   3               43.0            60.0            55.917187     -30.039969   \n",
       "   4               53.0            60.0           113.623505    -114.383971   \n",
       "   ...              ...             ...                  ...            ...   \n",
       "   33949           90.0            90.0            69.547896      22.724560   \n",
       "   33950           94.0            60.0            34.730046      63.053142   \n",
       "   33951           33.0            60.0            43.482312     -31.764583   \n",
       "   33952           83.0            90.0            94.307999     -13.624095   \n",
       "   33953          390.0           240.0           265.699361      31.871959   \n",
       "   \n",
       "           Error_CUF  \n",
       "   0      -46.341465  \n",
       "   1       -9.090909  \n",
       "   2     -400.000000  \n",
       "   3      -39.534885  \n",
       "   4      -13.207547  \n",
       "   ...           ...  \n",
       "   33949    0.000000  \n",
       "   33950   36.170212  \n",
       "   33951  -81.818184  \n",
       "   33952   -8.433735  \n",
       "   33953   38.461540  \n",
       "   \n",
       "   [33954 rows x 5 columns],\n",
       "   'Percentage': [0.21543853448783648,\n",
       "    0.4645108087412381,\n",
       "    0.32005065677092537]}},\n",
       " sklearn.ensemble._forest.ExtraTreesRegressor: {'LassoCV': {'Model': RuleFit(Cs=array([1.00000000e+08, 9.80650814e+07, 9.61676019e+07, 9.43068371e+07,\n",
       "          9.24820765e+07, 9.06926236e+07, 8.89377952e+07, 8.72169212e+07,\n",
       "          8.55293448e+07, 8.38744216e+07, 8.22515198e+07, 8.06600198e+07,\n",
       "          7.90993141e+07, 7.75688068e+07, 7.60679135e+07, 7.45960613e+07,\n",
       "          7.31526882e+07, 7.17372432e+07, 7.03491860e+07, 6.89879865e+07,\n",
       "          6.76531251e+07, 6.63440922e+07, 6....\n",
       "          4.46851117e-01, 4.38204912e-01, 4.29726004e-01, 4.21411155e-01,\n",
       "          4.13257192e-01, 4.05261002e-01, 3.97419531e-01, 3.89729787e-01,\n",
       "          3.82188833e-01, 3.74793790e-01, 3.67541835e-01, 3.60430200e-01,\n",
       "          3.53456169e-01, 3.46617080e-01, 3.39910321e-01, 3.33333333e-01]),\n",
       "           beta=10, max_iter=1000, n_jobs=-1, regularization='LassoCV',\n",
       "           tree_generator=ExtraTreesRegressor(max_depth=4, max_leaf_nodes=3,\n",
       "                                              n_estimators=593, random_state=592)),\n",
       "   'Rules':                                                    rule  type       coef  \\\n",
       "   400   I1 > 5.341756588567092 & I1 > 0.17280382911486...  rule  81.976746   \n",
       "   1198  I1 > 0.3974078208490577 & Doctor > 4.025344581...  rule  59.403705   \n",
       "   1237  Hospitalization <= 0.5423725270602255 & Doctor...  rule  54.927767   \n",
       "   901   Speciality <= 6.1250257066756895 & Hospitaliza...  rule  50.623874   \n",
       "   1092  I1 <= 3.477884694325569 & Hospitalization <= -...  rule  44.386550   \n",
       "   ...                                                 ...   ...        ...   \n",
       "   178   I1 > 3.3503473648998146 & I1 > 0.4114425094026...  rule -29.603621   \n",
       "   432   I1 > 1.249946125485129 & I1 > -0.2595621120440...  rule -30.197800   \n",
       "   1224  Hospitalization <= 0.5958987049018158 & Doctor...  rule -35.567655   \n",
       "   1408  Procedures_I <= 2.0947994608172267 & Doctor > ...  rule -42.331867   \n",
       "   1486  Doctor > 2.477923901345126 & Doctor <= 3.74633...  rule -55.010652   \n",
       "   \n",
       "          support  importance  \n",
       "   400   0.000736    2.223593  \n",
       "   1198  0.004521    3.985092  \n",
       "   1237  0.009940    5.448967  \n",
       "   901   0.027147    8.226973  \n",
       "   1092  0.026499    7.129105  \n",
       "   ...        ...         ...  \n",
       "   178   0.002592    1.505141  \n",
       "   432   0.008534    2.777669  \n",
       "   1224  0.031918    6.252164  \n",
       "   1408  0.004403    2.802750  \n",
       "   1486  0.016810    7.072014  \n",
       "   \n",
       "   [801 rows x 5 columns],\n",
       "   'Number Rules': 801,\n",
       "   'Score': 0.5,\n",
       "   'Predictions': array([ 44.27877482,  56.66258473,  23.09076343, ...,  44.34981384,\n",
       "           94.95511188, 269.03772684]),\n",
       "   'Dataset_predicton':        Real Duration  Planned by Cuf  Labels from RuleFit  Error_RuleFit  \\\n",
       "   0               41.0            60.0            44.278775      -7.997012   \n",
       "   1               55.0            60.0            56.662585      -3.022881   \n",
       "   2               12.0            60.0            23.090763     -92.423029   \n",
       "   3               43.0            60.0            49.558587     -15.252528   \n",
       "   4               53.0            60.0           105.460564     -98.982197   \n",
       "   ...              ...             ...                  ...            ...   \n",
       "   33949           90.0            90.0            77.772765      13.585817   \n",
       "   33950           94.0            60.0            39.465189      58.015756   \n",
       "   33951           33.0            60.0            44.349814     -34.393375   \n",
       "   33952           83.0            90.0            94.955112     -14.403749   \n",
       "   33953          390.0           240.0           269.037727      31.015967   \n",
       "   \n",
       "           Error_CUF  \n",
       "   0      -46.341465  \n",
       "   1       -9.090909  \n",
       "   2     -400.000000  \n",
       "   3      -39.534885  \n",
       "   4      -13.207547  \n",
       "   ...           ...  \n",
       "   33949    0.000000  \n",
       "   33950   36.170212  \n",
       "   33951  -81.818184  \n",
       "   33952   -8.433735  \n",
       "   33953   38.461540  \n",
       "   \n",
       "   [33954 rows x 5 columns],\n",
       "   'Percentage': [0.2286328562172351,\n",
       "    0.4611827766978854,\n",
       "    0.31018436708487956]},\n",
       "  'ElasticNetCV': {'Model': RuleFit(Cs=array([1.00000000e+08, 9.80650814e+07, 9.61676019e+07, 9.43068371e+07,\n",
       "          9.24820765e+07, 9.06926236e+07, 8.89377952e+07, 8.72169212e+07,\n",
       "          8.55293448e+07, 8.38744216e+07, 8.22515198e+07, 8.06600198e+07,\n",
       "          7.90993141e+07, 7.75688068e+07, 7.60679135e+07, 7.45960613e+07,\n",
       "          7.31526882e+07, 7.17372432e+07, 7.03491860e+07, 6.89879865e+07,\n",
       "          6.76531251e+07, 6.63440922e+07, 6....\n",
       "          4.46851117e-01, 4.38204912e-01, 4.29726004e-01, 4.21411155e-01,\n",
       "          4.13257192e-01, 4.05261002e-01, 3.97419531e-01, 3.89729787e-01,\n",
       "          3.82188833e-01, 3.74793790e-01, 3.67541835e-01, 3.60430200e-01,\n",
       "          3.53456169e-01, 3.46617080e-01, 3.39910321e-01, 3.33333333e-01]),\n",
       "           beta=10, max_iter=1000, n_jobs=-1, regularization='ElasticNetCV',\n",
       "           tree_generator=ExtraTreesRegressor(max_depth=4, max_leaf_nodes=4,\n",
       "                                              n_estimators=574, random_state=573)),\n",
       "   'Rules':                                                    rule  type       coef  \\\n",
       "   1450  Hospitalization <= -0.6698041280198562 & I1 > ...  rule  36.679404   \n",
       "   941   Speciality <= 6.1250257066756895 & Hospitaliza...  rule  30.187218   \n",
       "   221   Hospitalization > -0.540611125906487 & I1 > 0....  rule  24.145274   \n",
       "   884   Hospitalization <= -0.6916482340918639 & I1 > ...  rule  23.923260   \n",
       "   585   Hospitalization <= -0.0505235185504912 & Docto...  rule  22.573172   \n",
       "   ...                                                 ...   ...        ...   \n",
       "   1637  Doctor > -0.3787057447981719 & Speciality <= 5...  rule -23.354733   \n",
       "   1045                         I1 <= -0.43280433836303966  rule -23.482844   \n",
       "   1065  Doctor > 1.3250935608376349 & Hospitalization ...  rule -26.062583   \n",
       "   762   Doctor > 2.477923901345126 & Hospitalization <...  rule -34.558955   \n",
       "   1989  Doctor > 1.0076622892264053 & I1 > 1.428722913...  rule -39.879647   \n",
       "   \n",
       "          support  importance  \n",
       "   1450  0.014439    4.375497  \n",
       "   941   0.027147    4.905777  \n",
       "   221   0.005618    1.804661  \n",
       "   884   0.001863    1.031574  \n",
       "   585   0.015285    2.769402  \n",
       "   ...        ...         ...  \n",
       "   1637  0.013032    2.648729  \n",
       "   1045  0.390977   11.458908  \n",
       "   1065  0.069837    6.642631  \n",
       "   762   0.021610    5.025105  \n",
       "   1989  0.001259    1.414166  \n",
       "   \n",
       "   [1930 rows x 5 columns],\n",
       "   'Number Rules': 1930,\n",
       "   'Score': 0.5,\n",
       "   'Predictions': array([ 46.22082514,  62.35744671,  27.21636653, ...,  40.96100662,\n",
       "           92.4023612 , 258.93298542]),\n",
       "   'Dataset_predicton':        Real Duration  Planned by Cuf  Labels from RuleFit  Error_RuleFit  \\\n",
       "   0               41.0            60.0            46.220825     -12.733720   \n",
       "   1               55.0            60.0            62.357447     -13.377176   \n",
       "   2               12.0            60.0            27.216367    -126.803054   \n",
       "   3               43.0            60.0            52.840244     -22.884289   \n",
       "   4               53.0            60.0           102.633682     -93.648457   \n",
       "   ...              ...             ...                  ...            ...   \n",
       "   33949           90.0            90.0            72.183615      19.795984   \n",
       "   33950           94.0            60.0            38.579039      58.958470   \n",
       "   33951           33.0            60.0            40.961007     -24.124262   \n",
       "   33952           83.0            90.0            92.402361     -11.328146   \n",
       "   33953          390.0           240.0           258.932985      33.606927   \n",
       "   \n",
       "           Error_CUF  \n",
       "   0      -46.341465  \n",
       "   1       -9.090909  \n",
       "   2     -400.000000  \n",
       "   3      -39.534885  \n",
       "   4      -13.207547  \n",
       "   ...           ...  \n",
       "   33949    0.000000  \n",
       "   33950   36.170212  \n",
       "   33951  -81.818184  \n",
       "   33952   -8.433735  \n",
       "   33953   38.461540  \n",
       "   \n",
       "   [33954 rows x 5 columns],\n",
       "   'Percentage': [0.22763150144312894,\n",
       "    0.4628320669140602,\n",
       "    0.30953643164281086]},\n",
       "  'Pyowl': {'Model': RuleFit(Cs=array([1.00000000e+08, 9.80650814e+07, 9.61676019e+07, 9.43068371e+07,\n",
       "          9.24820765e+07, 9.06926236e+07, 8.89377952e+07, 8.72169212e+07,\n",
       "          8.55293448e+07, 8.38744216e+07, 8.22515198e+07, 8.06600198e+07,\n",
       "          7.90993141e+07, 7.75688068e+07, 7.60679135e+07, 7.45960613e+07,\n",
       "          7.31526882e+07, 7.17372432e+07, 7.03491860e+07, 6.89879865e+07,\n",
       "          6.76531251e+07, 6.63440922e+07, 6....\n",
       "          4.46851117e-01, 4.38204912e-01, 4.29726004e-01, 4.21411155e-01,\n",
       "          4.13257192e-01, 4.05261002e-01, 3.97419531e-01, 3.89729787e-01,\n",
       "          3.82188833e-01, 3.74793790e-01, 3.67541835e-01, 3.60430200e-01,\n",
       "          3.53456169e-01, 3.46617080e-01, 3.39910321e-01, 3.33333333e-01]),\n",
       "           beta=10, max_iter=1000, n_jobs=-1, regularization='Pyowl',\n",
       "           tree_generator=ExtraTreesRegressor(max_depth=4, max_leaf_nodes=8,\n",
       "                                              n_estimators=564, random_state=563)),\n",
       "   'Rules':                                                    rule    type      coef  \\\n",
       "   58    Hospitalization <= 0.4316708728306271 & Anesth...    rule  5.783345   \n",
       "   1132  Speciality <= 3.1194732659152615 & Procedures_...    rule  5.772927   \n",
       "   800   Speciality <= 1.4994495269396704 & Hospitaliza...    rule  5.693917   \n",
       "   1511  Hospitalization <= 0.5969490410989964 & Specia...    rule  5.693917   \n",
       "   1802                           I1 > 0.18099816542042468    rule  5.518016   \n",
       "   ...                                                 ...     ...       ...   \n",
       "   441   Hospitalization <= 0.5436133638935308 & I1 <= ...    rule -1.784694   \n",
       "   593   Speciality > 0.2622112226803113 & Hospitalizat...    rule -2.383412   \n",
       "   5                                            Speciality  linear -2.551777   \n",
       "   1155  Hospitalization <= 0.47322517116347496 & Speci...    rule -3.054891   \n",
       "   172   Speciality > 0.3687863145782537 & Doctor <= 3....    rule -3.440780   \n",
       "   \n",
       "          support  importance  \n",
       "   58    0.493204    2.891406  \n",
       "   1132  0.230768    2.432274  \n",
       "   800   0.529393    2.842035  \n",
       "   1511  0.529393    2.842035  \n",
       "   1802  0.320124    2.574287  \n",
       "   ...        ...         ...  \n",
       "   441   0.363492    0.858446  \n",
       "   593   0.121429    0.778482  \n",
       "   5     1.000000    2.274552  \n",
       "   1155  0.050429    0.668494  \n",
       "   172   0.141346    1.198691  \n",
       "   \n",
       "   [1854 rows x 5 columns],\n",
       "   'Number Rules': 1854,\n",
       "   'Score': 0.42,\n",
       "   'Predictions': array([ 52.84759136,  57.21729809,  33.94356201, ...,  41.26256631,\n",
       "           92.83229112, 251.77423173]),\n",
       "   'Dataset_predicton':        Real Duration  Planned by Cuf  Labels from RuleFit  Error_RuleFit  \\\n",
       "   0               41.0            60.0            52.847591     -28.896564   \n",
       "   1               55.0            60.0            57.217298      -4.031451   \n",
       "   2               12.0            60.0            33.943562    -182.863017   \n",
       "   3               43.0            60.0            58.308961     -35.602235   \n",
       "   4               53.0            60.0           114.459589    -115.961489   \n",
       "   ...              ...             ...                  ...            ...   \n",
       "   33949           90.0            90.0            71.338688      20.734791   \n",
       "   33950           94.0            60.0            35.737195      61.981708   \n",
       "   33951           33.0            60.0            41.262566     -25.038080   \n",
       "   33952           83.0            90.0            92.832291     -11.846134   \n",
       "   33953          390.0           240.0           251.774232      35.442505   \n",
       "   \n",
       "           Error_CUF  \n",
       "   0      -46.341465  \n",
       "   1       -9.090909  \n",
       "   2     -400.000000  \n",
       "   3      -39.534885  \n",
       "   4      -13.207547  \n",
       "   ...           ...  \n",
       "   33949    0.000000  \n",
       "   33950   36.170212  \n",
       "   33951  -81.818184  \n",
       "   33952   -8.433735  \n",
       "   33953   38.461540  \n",
       "   \n",
       "   [33954 rows x 5 columns],\n",
       "   'Percentage': [0.21785356659009247,\n",
       "    0.4701066148318313,\n",
       "    0.3120398185780762]}}}"
      ]
     },
     "execution_count": 29,
     "metadata": {},
     "output_type": "execute_result"
    }
   ],
   "source": [
    "Best_Parameters_Regularizers_general"
   ]
  },
  {
   "cell_type": "code",
   "execution_count": 28,
   "metadata": {},
   "outputs": [
    {
     "ename": "KeyError",
     "evalue": "'RuleFit_withoutCV'",
     "output_type": "error",
     "traceback": [
      "\u001b[1;31m---------------------------------------------------------------------------\u001b[0m",
      "\u001b[1;31mKeyError\u001b[0m                                  Traceback (most recent call last)",
      "\u001b[1;32m<ipython-input-28-4b6896835c11>\u001b[0m in \u001b[0;36m<module>\u001b[1;34m\u001b[0m\n\u001b[0;32m     12\u001b[0m \u001b[1;33m\u001b[0m\u001b[0m\n\u001b[0;32m     13\u001b[0m         \u001b[1;32melse\u001b[0m\u001b[1;33m:\u001b[0m\u001b[1;33m\u001b[0m\u001b[1;33m\u001b[0m\u001b[0m\n\u001b[1;32m---> 14\u001b[1;33m             \u001b[0mPercentage\u001b[0m\u001b[1;33m=\u001b[0m\u001b[0mBest_Parameters_Regularizers_general\u001b[0m\u001b[1;33m[\u001b[0m\u001b[0mTuning_models\u001b[0m\u001b[1;33m[\u001b[0m\u001b[1;34m'Library_Script'\u001b[0m\u001b[1;33m]\u001b[0m\u001b[1;33m[\u001b[0m\u001b[0mr\u001b[0m\u001b[1;33m]\u001b[0m\u001b[1;33m]\u001b[0m\u001b[1;33m[\u001b[0m\u001b[0mTuning_models\u001b[0m\u001b[1;33m[\u001b[0m\u001b[1;34m'Decision_Tree'\u001b[0m\u001b[1;33m]\u001b[0m\u001b[1;33m[\u001b[0m\u001b[0mi\u001b[0m\u001b[1;33m]\u001b[0m\u001b[1;33m]\u001b[0m\u001b[1;33m[\u001b[0m\u001b[0mTuning_models\u001b[0m\u001b[1;33m[\u001b[0m\u001b[1;34m'Regularizers_1'\u001b[0m\u001b[1;33m]\u001b[0m\u001b[1;33m[\u001b[0m\u001b[0mj\u001b[0m\u001b[1;33m]\u001b[0m\u001b[1;33m]\u001b[0m\u001b[1;33m[\u001b[0m\u001b[1;34m'Percentage'\u001b[0m\u001b[1;33m]\u001b[0m\u001b[1;33m\u001b[0m\u001b[1;33m\u001b[0m\u001b[0m\n\u001b[0m\u001b[0;32m     15\u001b[0m \u001b[1;33m\u001b[0m\u001b[0m\n\u001b[0;32m     16\u001b[0m             \u001b[0mname\u001b[0m\u001b[1;33m=\u001b[0m\u001b[1;34m\"Model{}_{}_{}\"\u001b[0m\u001b[1;33m.\u001b[0m\u001b[0mformat\u001b[0m\u001b[1;33m(\u001b[0m\u001b[1;34m'WithoutCV'\u001b[0m\u001b[1;33m,\u001b[0m\u001b[0mTuning_models\u001b[0m\u001b[1;33m[\u001b[0m\u001b[1;34m'Decision_Tree'\u001b[0m\u001b[1;33m]\u001b[0m\u001b[1;33m[\u001b[0m\u001b[0mi\u001b[0m\u001b[1;33m]\u001b[0m\u001b[1;33m,\u001b[0m\u001b[0mTuning_models\u001b[0m\u001b[1;33m[\u001b[0m\u001b[1;34m'Regularizers_1'\u001b[0m\u001b[1;33m]\u001b[0m\u001b[1;33m[\u001b[0m\u001b[0mj\u001b[0m\u001b[1;33m]\u001b[0m\u001b[1;33m)\u001b[0m\u001b[1;33m\u001b[0m\u001b[1;33m\u001b[0m\u001b[0m\n",
      "\u001b[1;31mKeyError\u001b[0m: 'RuleFit_withoutCV'"
     ]
    }
   ],
   "source": [
    "keep=[]\n",
    "\n",
    "r=1\n",
    "for i in range(len(Tuning_models['Decision_Tree'])):\n",
    "\n",
    "    for j in range(len(Tuning_models['Regularizers_0'])):\n",
    "        if r==0:\n",
    "            Percentage=Best_Parameters_Regularizers_general[Tuning_models['Library_Script'][r]][Tuning_models['Decision_Tree'][i]][Tuning_models['Regularizers_0'][j]]['Percentage']\n",
    "\n",
    "            name=\"Model{}_{}_{}\".format('WithCV',Tuning_models['Decision_Tree'][i],Tuning_models['Regularizers_0'][j])\n",
    "            keep=keep+[[name, Percentage[0], Percentage[2],Percentage[1]]]\n",
    "\n",
    "        else:\n",
    "            Percentage=Best_Parameters_Regularizers_general[Tuning_models['Library_Script'][r]][Tuning_models['Decision_Tree'][i]][Tuning_models['Regularizers_1'][j]]['Percentage']\n",
    "\n",
    "            name=\"Model{}_{}_{}\".format('WithoutCV',Tuning_models['Decision_Tree'][i],Tuning_models['Regularizers_1'][j])\n",
    "            keep=keep+[[name, Percentage[0], Percentage[2],Percentage[1]]]\n",
    "\n"
   ]
  },
  {
   "cell_type": "code",
   "execution_count": null,
   "metadata": {},
   "outputs": [],
   "source": [
    "\n",
    "Score=[]\n",
    "\n",
    "r=1\n",
    "\n",
    "for i in range(len(Tuning_models['Decision_Tree'])):\n",
    "\n",
    "    for j in range(len(Tuning_models['Regularizers_0'])):\n",
    "\n",
    "        if r==0:\n",
    "            Score_model=Best_Parameters_Regularizers_general[Tuning_models['Library_Script'][r]][Tuning_models['Decision_Tree'][i]][Tuning_models['Regularizers_0'][j]]['Score']\n",
    "\n",
    "            rules=Best_Parameters_Regularizers_general[Tuning_models['Library_Script'][r]][Tuning_models['Decision_Tree'][i]][Tuning_models['Regularizers_0'][j]]['Number Rules']\n",
    "\n",
    "            name=\"Model_{}_{}_{}\".format('WithCV',Tuning_models['Decision_Tree'][i],Tuning_models['Regularizers_0'][j])\n",
    "            Score=Score+[[name,Score_model,rules]]\n",
    "\n",
    "        else:\n",
    "            Score_model=Best_Parameters_Regularizers_general[Tuning_models['Library_Script'][r]][Tuning_models['Decision_Tree'][i]][Tuning_models['Regularizers_1'][j]]['Score']\n",
    "\n",
    "            rules=Best_Parameters_Regularizers_general[Tuning_models['Library_Script'][r]][Tuning_models['Decision_Tree'][i]][Tuning_models['Regularizers_1'][j]]['Number Rules']\n",
    "\n",
    "            name=\"Model_{}_{}_{}\".format('WithoutCV',Tuning_models['Decision_Tree'][i],Tuning_models['Regularizers_1'][j])\n",
    "            Score=Score+[[name,Score_model,rules]]\n",
    "        \n",
    "table2 = [['Model', 'Score', 'Number of Rules']]\n",
    "\n",
    "for i in range(len(Score)):\n",
    "    table2=table2+[Score[i]]\n",
    "print(tabulate(table2))"
   ]
  },
  {
   "cell_type": "code",
   "execution_count": null,
   "metadata": {},
   "outputs": [],
   "source": [
    "\n",
    "            \n",
    "table2 = [['Model', 'Within', 'Overutilization','Underutilization'], \n",
    "          ['CUF Model', CUF_Within, CUF_overuse,CUF_under]]\n",
    "\n",
    "for i in range(len(keep)):\n",
    "    \n",
    "    table2=table2+[keep[i]]\n",
    "print(tabulate(table2))"
   ]
  },
  {
   "cell_type": "markdown",
   "metadata": {},
   "source": [
    "### 1.4.  Choose Best Rulefit Model  <a class=\"anchor\" id=\"1.4\"></a> \n"
   ]
  },
  {
   "cell_type": "code",
   "execution_count": 11,
   "metadata": {},
   "outputs": [],
   "source": [
    "\n",
    "Script=1\n",
    "tree=1\n",
    "regularizer=0"
   ]
  },
  {
   "cell_type": "code",
   "execution_count": 12,
   "metadata": {},
   "outputs": [
    {
     "ename": "KeyError",
     "evalue": "'RuleFit_withoutCV'",
     "output_type": "error",
     "traceback": [
      "\u001b[1;31m---------------------------------------------------------------------------\u001b[0m",
      "\u001b[1;31mKeyError\u001b[0m                                  Traceback (most recent call last)",
      "\u001b[1;32m<ipython-input-12-49a15ee9fd14>\u001b[0m in \u001b[0;36m<module>\u001b[1;34m\u001b[0m\n\u001b[1;32m----> 1\u001b[1;33m \u001b[0mBest_model_general\u001b[0m\u001b[1;33m=\u001b[0m\u001b[0mBest_Parameters_Regularizers_general\u001b[0m\u001b[1;33m[\u001b[0m\u001b[0mTuning_models\u001b[0m\u001b[1;33m[\u001b[0m\u001b[1;34m'Library_Script'\u001b[0m\u001b[1;33m]\u001b[0m\u001b[1;33m[\u001b[0m\u001b[0mScript\u001b[0m\u001b[1;33m]\u001b[0m\u001b[1;33m]\u001b[0m\u001b[1;33m[\u001b[0m\u001b[0mTuning_models\u001b[0m\u001b[1;33m[\u001b[0m\u001b[1;34m'Decision_Tree'\u001b[0m\u001b[1;33m]\u001b[0m\u001b[1;33m[\u001b[0m\u001b[0mtree\u001b[0m\u001b[1;33m]\u001b[0m\u001b[1;33m]\u001b[0m\u001b[1;33m[\u001b[0m\u001b[0mTuning_models\u001b[0m\u001b[1;33m[\u001b[0m\u001b[1;34m'Regularizers_1'\u001b[0m\u001b[1;33m]\u001b[0m\u001b[1;33m[\u001b[0m\u001b[0mregularizer\u001b[0m\u001b[1;33m]\u001b[0m\u001b[1;33m]\u001b[0m\u001b[1;33m[\u001b[0m\u001b[1;34m\"Model\"\u001b[0m\u001b[1;33m]\u001b[0m\u001b[1;33m\u001b[0m\u001b[1;33m\u001b[0m\u001b[0m\n\u001b[0m",
      "\u001b[1;31mKeyError\u001b[0m: 'RuleFit_withoutCV'"
     ]
    }
   ],
   "source": [
    "Best_model_general=Best_Parameters_Regularizers_general[Tuning_models['Library_Script'][Script]][Tuning_models['Decision_Tree'][tree]][Tuning_models['Regularizers_1'][regularizer]][\"Model\"]"
   ]
  },
  {
   "cell_type": "code",
   "execution_count": null,
   "metadata": {},
   "outputs": [],
   "source": [
    "# Record r2 score from RuleFit model\n",
    "rf_score  = Best_Parameters_Regularizers_general[Tuning_models['Library_Script'][Script]][Tuning_models['Decision_Tree'][tree]][Tuning_models['Regularizers_1'][regularizer]][\"Score\"]\n",
    "rf_score\n",
    "\n"
   ]
  },
  {
   "cell_type": "code",
   "execution_count": 28,
   "metadata": {},
   "outputs": [],
   "source": [
    "predictions=Best_model_general.predict(test_features_general)\n"
   ]
  },
  {
   "cell_type": "code",
   "execution_count": 29,
   "metadata": {},
   "outputs": [
    {
     "data": {
      "image/png": "[encoded data removed]",
      "text/plain": [
       "<Figure size 432x288 with 1 Axes>"
      ]
     },
     "metadata": {
      "needs_background": "light"
     },
     "output_type": "display_data"
    }
   ],
   "source": [
    "a = plt.axes(aspect='equal')\n",
    "plt.scatter(test_labels_general, predictions)\n",
    "plt.xlabel('True Values [Time]')\n",
    "plt.ylabel('Predictions [Time]')\n",
    "lims = [0, 600]\n",
    "plt.xlim(lims)\n",
    "plt.ylim(lims)\n",
    "_ = plt.plot(lims, lims)"
   ]
  },
  {
   "cell_type": "code",
   "execution_count": 30,
   "metadata": {},
   "outputs": [
    {
     "data": {
      "image/png": "[encoded data removed]",
      "text/plain": [
       "<Figure size 432x288 with 1 Axes>"
      ]
     },
     "metadata": {
      "needs_background": "light"
     },
     "output_type": "display_data"
    }
   ],
   "source": [
    "error = predictions - test_labels_general\n",
    "plt.hist(error, bins=25)\n",
    "plt.xlabel('Prediction Error')\n",
    "_ = plt.ylabel('Count')"
   ]
  },
  {
   "cell_type": "code",
   "execution_count": 31,
   "metadata": {},
   "outputs": [
    {
     "data": {
      "text/html": [
       "<div>\n",
       "<style scoped>\n",
       "    .dataframe tbody tr th:only-of-type {\n",
       "        vertical-align: middle;\n",
       "    }\n",
       "\n",
       "    .dataframe tbody tr th {\n",
       "        vertical-align: top;\n",
       "    }\n",
       "\n",
       "    .dataframe thead th {\n",
       "        text-align: right;\n",
       "    }\n",
       "</style>\n",
       "<table border=\"1\" class=\"dataframe\">\n",
       "  <thead>\n",
       "    <tr style=\"text-align: right;\">\n",
       "      <th></th>\n",
       "      <th>Real Duration</th>\n",
       "      <th>Planned by Cuf</th>\n",
       "      <th>Labels from RuleFit</th>\n",
       "    </tr>\n",
       "  </thead>\n",
       "  <tbody>\n",
       "    <tr>\n",
       "      <th>0</th>\n",
       "      <td>40.0</td>\n",
       "      <td>60.0</td>\n",
       "      <td>46.159933</td>\n",
       "    </tr>\n",
       "    <tr>\n",
       "      <th>1</th>\n",
       "      <td>39.0</td>\n",
       "      <td>30.0</td>\n",
       "      <td>33.954977</td>\n",
       "    </tr>\n",
       "    <tr>\n",
       "      <th>2</th>\n",
       "      <td>43.0</td>\n",
       "      <td>60.0</td>\n",
       "      <td>52.796792</td>\n",
       "    </tr>\n",
       "    <tr>\n",
       "      <th>3</th>\n",
       "      <td>47.0</td>\n",
       "      <td>60.0</td>\n",
       "      <td>41.773352</td>\n",
       "    </tr>\n",
       "    <tr>\n",
       "      <th>4</th>\n",
       "      <td>43.0</td>\n",
       "      <td>60.0</td>\n",
       "      <td>41.773352</td>\n",
       "    </tr>\n",
       "    <tr>\n",
       "      <th>...</th>\n",
       "      <td>...</td>\n",
       "      <td>...</td>\n",
       "      <td>...</td>\n",
       "    </tr>\n",
       "    <tr>\n",
       "      <th>2438</th>\n",
       "      <td>127.0</td>\n",
       "      <td>210.0</td>\n",
       "      <td>162.531821</td>\n",
       "    </tr>\n",
       "    <tr>\n",
       "      <th>2439</th>\n",
       "      <td>47.0</td>\n",
       "      <td>60.0</td>\n",
       "      <td>33.531573</td>\n",
       "    </tr>\n",
       "    <tr>\n",
       "      <th>2440</th>\n",
       "      <td>44.0</td>\n",
       "      <td>90.0</td>\n",
       "      <td>80.609293</td>\n",
       "    </tr>\n",
       "    <tr>\n",
       "      <th>2441</th>\n",
       "      <td>76.0</td>\n",
       "      <td>60.0</td>\n",
       "      <td>106.389339</td>\n",
       "    </tr>\n",
       "    <tr>\n",
       "      <th>2442</th>\n",
       "      <td>133.0</td>\n",
       "      <td>150.0</td>\n",
       "      <td>125.686631</td>\n",
       "    </tr>\n",
       "  </tbody>\n",
       "</table>\n",
       "<p>2443 rows × 3 columns</p>\n",
       "</div>"
      ],
      "text/plain": [
       "      Real Duration  Planned by Cuf  Labels from RuleFit\n",
       "0              40.0            60.0            46.159933\n",
       "1              39.0            30.0            33.954977\n",
       "2              43.0            60.0            52.796792\n",
       "3              47.0            60.0            41.773352\n",
       "4              43.0            60.0            41.773352\n",
       "...             ...             ...                  ...\n",
       "2438          127.0           210.0           162.531821\n",
       "2439           47.0            60.0            33.531573\n",
       "2440           44.0            90.0            80.609293\n",
       "2441           76.0            60.0           106.389339\n",
       "2442          133.0           150.0           125.686631\n",
       "\n",
       "[2443 rows x 3 columns]"
      ]
     },
     "execution_count": 31,
     "metadata": {},
     "output_type": "execute_result"
    }
   ],
   "source": [
    "dataset_predicton = {\"Real Duration\": test_labels_general, \"Planned by Cuf\": test_CUF_labels_general, \"Labels from RuleFit\": predictions}\n",
    "dataset_predicton=pd.DataFrame(dataset_predicton)\n",
    "dataset_predicton\n",
    "\n"
   ]
  },
  {
   "cell_type": "code",
   "execution_count": 32,
   "metadata": {},
   "outputs": [
    {
     "data": {
      "text/plain": [
       "<matplotlib.legend.Legend at 0x202ccb81310>"
      ]
     },
     "execution_count": 32,
     "metadata": {},
     "output_type": "execute_result"
    },
    {
     "data": {
      "image/png": "[encoded data removed]",
      "text/plain": [
       "<Figure size 432x288 with 1 Axes>"
      ]
     },
     "metadata": {
      "needs_background": "light"
     },
     "output_type": "display_data"
    }
   ],
   "source": [
    "\n",
    "def percCal(x,y):\n",
    "    return (x-y)*100/x\n",
    "\n",
    "dataset_predicton['Error_RuleFit'] = percCal(dataset_predicton['Real Duration'], dataset_predicton['Labels from RuleFit'])\n",
    "dataset_predicton['Error_CUF'] = percCal(dataset_predicton['Real Duration'], dataset_predicton['Planned by Cuf'])\n",
    "\n",
    "\n",
    "dataset_predicton['Error_CUF'].plot(kind='density')\n",
    "dataset_predicton['Error_RuleFit'].plot(kind='density')\n",
    "plt.xlim([-400, 400])\n",
    "plt.title('General RuleFit vs CUF prediction')\n",
    "orange_patch = matplotlib.patches.Patch(color='orange', label='RuleFit')\n",
    "blue_patch = matplotlib.patches.Patch(color='blue', label='CUF')\n",
    "plt.legend(handles=[orange_patch,blue_patch])"
   ]
  },
  {
   "cell_type": "code",
   "execution_count": 18,
   "metadata": {},
   "outputs": [],
   "source": [
    "\n",
    "def percCal(x,y):\n",
    "    return (x-y)*100/x"
   ]
  },
  {
   "cell_type": "code",
   "execution_count": 33,
   "metadata": {},
   "outputs": [
    {
     "name": "stdout",
     "output_type": "stream",
     "text": [
      "-------------  -------------------  -------------------  -------------------\n",
      "Model          Within               Overutilization      Underutilization\n",
      "CUF Model      0.20221039705280394  0.3168235775685632   0.4809660253786328\n",
      "RuleFit Model  0.26606631191158414  0.29758493655341794  0.43634875153499797\n",
      "-------------  -------------------  -------------------  -------------------\n"
     ]
    }
   ],
   "source": [
    "#Overutilization \n",
    "CUF_overuse=dataset_predicton[dataset_predicton['Error_CUF']>10].shape[0]/dataset_predicton.shape[0]\n",
    "RuleFit_overuse=dataset_predicton[dataset_predicton['Error_RuleFit']>10].shape[0]/dataset_predicton.shape[0]\n",
    "#Underutilization\n",
    "CUF_under=dataset_predicton[dataset_predicton['Error_CUF']<-10].shape[0]/dataset_predicton.shape[0]\n",
    "RuleFit_under=dataset_predicton[dataset_predicton['Error_RuleFit']<-10].shape[0]/dataset_predicton.shape[0]\n",
    "#Within\n",
    "CUF_Within=dataset_predicton[dataset_predicton['Error_CUF'].abs()<=10].shape[0]/dataset_predicton.shape[0]\n",
    "RuleFit_Within=dataset_predicton[dataset_predicton['Error_RuleFit'].abs()<=10].shape[0]/dataset_predicton.shape[0]\n",
    "\n",
    "table2 = [['Model', 'Within', 'Overutilization','Underutilization'], ['CUF Model', CUF_Within, CUF_overuse,CUF_under], ['RuleFit Model', RuleFit_Within, RuleFit_overuse,RuleFit_under]]\n",
    "print(tabulate(table2))"
   ]
  },
  {
   "cell_type": "markdown",
   "metadata": {},
   "source": [
    "-----"
   ]
  },
  {
   "cell_type": "markdown",
   "metadata": {},
   "source": [
    "# Design Rashomon Curve"
   ]
  },
  {
   "cell_type": "code",
   "execution_count": 11,
   "metadata": {},
   "outputs": [],
   "source": [
    "number_of_rules=10"
   ]
  },
  {
   "cell_type": "code",
   "execution_count": 14,
   "metadata": {},
   "outputs": [],
   "source": [
    "\n",
    "\n",
    "Rashomon_curve_general= {}\n",
    "\n",
    "for j in range(0,2):\n",
    "        # The Normalization layer\n",
    "    Rashomon_curve_general[j] = {}\n",
    "\n",
    "    for r in range(number_of_rules):\n",
    "            # The Normalization layer\n",
    "        Rashomon_curve_general[j][r] = {}\n"
   ]
  },
  {
   "cell_type": "code",
   "execution_count": 31,
   "metadata": {},
   "outputs": [
    {
     "name": "stdout",
     "output_type": "stream",
     "text": [
      "0\n",
      "GradientBoostingRegressor(learning_rate=0.15, max_depth=4, n_estimators=1750,\n",
      "                          random_state=123)\n",
      "Lasso\n",
      "0\n"
     ]
    },
    {
     "name": "stderr",
     "output_type": "stream",
     "text": [
      "Objective did not converge. You might want to increase the number of iterations. Duality gap: 62604608.446887285, tolerance: 48825.00740116336\n"
     ]
    },
    {
     "name": "stdout",
     "output_type": "stream",
     "text": [
      "1223\n"
     ]
    },
    {
     "name": "stderr",
     "output_type": "stream",
     "text": [
      "Objective did not converge. You might want to increase the number of iterations. Duality gap: 443467.33616894484, tolerance: 48825.00740116336\n"
     ]
    },
    {
     "name": "stdout",
     "output_type": "stream",
     "text": [
      "275\n",
      "156\n",
      "137\n",
      "153\n",
      "127\n",
      "124\n",
      "100\n",
      "[]\n",
      "1\n",
      "103\n",
      "101\n",
      "81\n",
      "[]\n",
      "2\n",
      "92\n",
      "83\n",
      "79\n",
      "[]\n",
      "3\n",
      "73\n",
      "69\n",
      "[]\n",
      "4\n",
      "79\n",
      "71\n",
      "65\n",
      "65\n",
      "67\n",
      "63\n",
      "56\n",
      "[]\n",
      "5\n",
      "59\n",
      "59\n",
      "57\n",
      "52\n",
      "52\n",
      "52\n",
      "48\n",
      "[]\n",
      "6\n",
      "49\n",
      "50\n",
      "44\n",
      "49\n",
      "42\n",
      "37\n",
      "[]\n",
      "7\n",
      "43\n",
      "39\n",
      "45\n",
      "39\n",
      "42\n",
      "37\n",
      "30\n",
      "[]\n",
      "8\n",
      "35\n",
      "38\n",
      "32\n",
      "38\n",
      "29\n",
      "40\n",
      "38\n",
      "33\n",
      "27\n",
      "29\n",
      "30\n",
      "32\n",
      "26\n",
      "28\n",
      "31\n",
      "32\n",
      "25\n",
      "22\n",
      "23\n",
      "25\n",
      "19\n",
      "[]\n",
      "9\n",
      "25\n",
      "25\n",
      "24\n",
      "26\n",
      "21\n",
      "21\n",
      "21\n",
      "25\n",
      "19\n",
      "28\n",
      "18\n",
      "21\n",
      "20\n",
      "16\n",
      "19\n",
      "18\n",
      "19\n",
      "24\n",
      "21\n",
      "19\n",
      "20\n",
      "15\n",
      "16\n",
      "18\n",
      "17\n",
      "19\n",
      "16\n",
      "18\n",
      "15\n",
      "16\n",
      "13\n",
      "18\n",
      "17\n",
      "14\n",
      "17\n",
      "17\n",
      "17\n",
      "17\n",
      "17\n",
      "15\n",
      "19\n",
      "14\n",
      "17\n",
      "15\n",
      "14\n",
      "16\n",
      "16\n",
      "15\n",
      "14\n",
      "17\n",
      "17\n",
      "15\n",
      "14\n",
      "12\n",
      "14\n",
      "9\n",
      "[]\n"
     ]
    }
   ],
   "source": [
    "alphas=[]\n",
    "\n",
    "for j in range(0,2):\n",
    "    print(j)\n",
    "    if j==0:\n",
    "        train_dataset_general= Genenal_Dataset['TrainSet']\n",
    "        test_dataset_general= Genenal_Dataset['TestSet']\n",
    "        train_dataset_general_categorical=Genenal_Dataset['TrainSet'][Genenal_Dataset['TrainSet']['Real Room Duration']>100]\n",
    "        test_dataset_general_categorical=Genenal_Dataset['TestSet'][Genenal_Dataset['TestSet']['Real Room Duration']>100]\n",
    "        \n",
    "        \n",
    "    if j==1:\n",
    "        train_dataset_general= df_train_general\n",
    "        test_dataset_general= df_test_general\n",
    "        train_dataset_general_categorical= df_train_general[df_train_general['Real Room Duration']>100]\n",
    "        test_dataset_general_categorical= df_test_general[df_test_general['Real Room Duration']>100]\n",
    "        \n",
    "    \n",
    "        \n",
    "    r=1\n",
    "    \n",
    "    Parameters=Model_GeneralSynthetic[Tuning_models['Decision_Tree'][1]][\"Best_params_dict\"]\n",
    "                                                                            \n",
    "    Decison_Tree=Tuning_models['Decision_Tree'][1](random_state=123,learning_rate=Parameters[\"learning_rate\"],max_depth=Parameters[\"max_depth\"],n_estimators=Parameters[\"n_estimators\"])\n",
    "    print(Decison_Tree)\n",
    "\n",
    "\n",
    "\n",
    "    regularizer=Tuning_models['Regularizers_1'][0]\n",
    "\n",
    "\n",
    "\n",
    "    print(regularizer)\n",
    "\n",
    "    Cs=Tuning_models['Cs']\n",
    "\n",
    "    beta=0.1\n",
    "    alpha=0.0001\n",
    "    \n",
    "\n",
    "    train_features_general = train_dataset_general.copy()\n",
    "\n",
    "    train_labels_general = train_features_general.pop('Real Room Duration')\n",
    "\n",
    "    train_CUF_labels_general = train_features_general.pop('CUF Planned Duration')\n",
    "    \n",
    "    test_features_general = test_dataset_general.copy()\n",
    "\n",
    "    test_labels_general = test_features_general.pop('Real Room Duration')\n",
    "\n",
    "    test_CUF_labels_general = test_features_general.pop('CUF Planned Duration')\n",
    "    #-----\n",
    "    \n",
    "    \n",
    "\n",
    "    train_features_general_categorical = train_dataset_general_categorical.copy()\n",
    "\n",
    "    train_labels_general_categorical = train_features_general_categorical.pop('Real Room Duration')\n",
    "\n",
    "    train_CUF_labels_general_categorical = train_features_general_categorical.pop('CUF Planned Duration')\n",
    "    \n",
    "    test_features_general_categorical = test_dataset_general_categorical.copy()\n",
    "\n",
    "    test_labels_general_categorical = test_features_general_categorical.pop('Real Room Duration')\n",
    "\n",
    "    test_CUF_labels_general_categorical = test_features_general_categorical.pop('CUF Planned Duration')\n",
    "\n",
    "\n",
    "\n",
    "\n",
    "    #Dataset\n",
    "    train_dataset_general= np.asarray(train_dataset_general).astype(np.float32)\n",
    "\n",
    "    #Features\n",
    "    train_features_general= np.asarray(train_features_general).astype(np.float32)\n",
    "\n",
    "    #labels\n",
    "    train_labels_general= np.asarray(train_labels_general).astype(np.float32)\n",
    "    \n",
    "    #Dataset\n",
    "    train_dataset_general_categorical= np.asarray(train_dataset_general_categorical).astype(np.float32)\n",
    "\n",
    "    #Features\n",
    "    train_features_general_categorical= np.asarray(train_features_general_categorical).astype(np.float32)\n",
    "\n",
    "    #labels\n",
    "    train_labels_general_categorical= np.asarray(train_labels_general_categorical).astype(np.float32)\n",
    "    \n",
    "    \n",
    "    ##---\n",
    "    \n",
    "    #Dataset\n",
    "    test_dataset_general= np.asarray(test_dataset_general).astype(np.float32)\n",
    "\n",
    "    #Features\n",
    "    test_features_general= np.asarray(test_features_general).astype(np.float32)\n",
    "\n",
    "    #labels\n",
    "    test_labels_general= np.asarray(test_labels_general).astype(np.float32)\n",
    "    \n",
    "    #Dataset\n",
    "    test_dataset_general_categorical= np.asarray(test_dataset_general_categorical).astype(np.float32)\n",
    "\n",
    "    #Features\n",
    "    test_features_general_categorical= np.asarray(test_features_general_categorical).astype(np.float32)\n",
    "\n",
    "    #labels\n",
    "    test_labels_general_categorical= np.asarray(test_labels_general_categorical).astype(np.float32)\n",
    "    \n",
    "\n",
    "    t=0\n",
    "    for rules_n in range(number_of_rules):\n",
    "        print(rules_n)\n",
    "\n",
    "        max_rules=(10-rules_n)*10\n",
    "\n",
    "        len_reduce_rules=1000\n",
    "\n",
    "        while len_reduce_rules>max_rules:\n",
    "\n",
    "            Decison_Tree_tune=copy.deepcopy(Decison_Tree)\n",
    "\n",
    "            rf = RuleFit_withoutCV.RuleFit(tree_generator=Decison_Tree_tune,alpha=alpha, Cs=Cs, max_iter=10e10, regularization=regularizer,n_jobs=-1)\n",
    "\n",
    "\n",
    "\n",
    "            rf.fit(train_features_general, train_labels_general, feature_names=generalcolumns)\n",
    "\n",
    "            rules = rf.get_rules()\n",
    "\n",
    "            reduce_rules = rules[abs(rules.coef) !=0].sort_values(\"coef\", ascending=False)\n",
    "\n",
    "\n",
    "            len_reduce_rules=len(reduce_rules)\n",
    "\n",
    "            print(len_reduce_rules)\n",
    "\n",
    "            rf_score_train = mean_squared_error(rf.predict(train_features_general),train_labels_general,squared=False)\n",
    "\n",
    "          \n",
    "\n",
    "            rf_score = mean_squared_error(rf.predict(test_features_general),test_labels_general,squared=False)\n",
    "\n",
    "            \n",
    "            predictions=rf.predict(test_features_general)\n",
    "\n",
    "            if len_reduce_rules>200:\n",
    "                alpha+=0.03\n",
    "\n",
    "                \n",
    "            if len_reduce_rules>max_rules+20:\n",
    "                alpha+=0.02\n",
    "\n",
    "            else:\n",
    "                alpha+=0.015\n",
    "                \n",
    "        \n",
    "            \n",
    "        print(alphas)\n",
    "\n",
    "\n",
    "        dataset_predicton = {\"Real Duration\": test_labels_general, \"Planned by Cuf\": test_CUF_labels_general, \"Labels from RuleFit\": predictions}\n",
    "        dataset_predicton=pd.DataFrame(dataset_predicton)\n",
    "\n",
    "        dataset_predicton['Error_RuleFit'] = percCal(dataset_predicton['Real Duration'], dataset_predicton['Labels from RuleFit'])\n",
    "        dataset_predicton['Error_CUF'] = percCal(dataset_predicton['Real Duration'], dataset_predicton['Planned by Cuf'])\n",
    "\n",
    "        CUF_overuse=dataset_predicton[dataset_predicton['Error_CUF']>10].shape[0]/dataset_predicton.shape[0]\n",
    "        RuleFit_overuse=dataset_predicton[dataset_predicton['Error_RuleFit']>10].shape[0]/dataset_predicton.shape[0]\n",
    "        #Underutilization\n",
    "        CUF_under=dataset_predicton[dataset_predicton['Error_CUF']<-10].shape[0]/dataset_predicton.shape[0]\n",
    "        RuleFit_under=dataset_predicton[dataset_predicton['Error_RuleFit']<-10].shape[0]/dataset_predicton.shape[0]\n",
    "            #Within\n",
    "        CUF_Within=dataset_predicton[dataset_predicton['Error_CUF'].abs()<=10].shape[0]/dataset_predicton.shape[0]\n",
    "        RuleFit_Within=dataset_predicton[dataset_predicton['Error_RuleFit'].abs()<=10].shape[0]/dataset_predicton.shape[0]\n",
    "\n",
    "        Rashomon_curve_general[j][rules_n].update({\"Model\": rf})\n",
    "        Rashomon_curve_general[j][rules_n].update({\"Rules\": rules})\n",
    "\n",
    "        Rashomon_curve_general[j][rules_n].update({\"Rules_non0\": reduce_rules})\n",
    "\n",
    "        Rashomon_curve_general[j][rules_n].update({\"Number Rules\": len(reduce_rules)})\n",
    "        Rashomon_curve_general[j][rules_n].update({\"TestScore\": rf_score})\n",
    "        Rashomon_curve_general[j][rules_n].update({\"TrainScore\": rf_score_train})\n",
    "        Rashomon_curve_general[j][rules_n].update({\"Predictions\": predictions})\n",
    "        Rashomon_curve_general[j][rules_n].update({\"Dataset_predicton\": dataset_predicton})\n",
    "\n",
    "        Rashomon_curve_general[j][rules_n].update({\"Percentage\": [RuleFit_Within, RuleFit_under, RuleFit_overuse]})\n",
    "        Rashomon_curve_general[j][rules_n].update({\"Percentage_CUF\": [CUF_Within, CUF_under, CUF_overuse]})\n",
    "        \n",
    "        predictions_train=rf.predict(train_features_general)\n",
    "        \n",
    "        rf_score_test =mean_squared_error(rf.predict(test_features_general),test_labels_general,squared=False)\n",
    "        \n",
    "        rf_score_train = mean_squared_error(rf.predict(train_features_general),train_labels_general,squared=False)\n",
    "        \n",
    "        \n",
    "       \n",
    "        \n",
    "        rf_score_test_categorical = mean_squared_error(rf.predict(test_features_general_categorical),test_labels_general_categorical,squared=False)\n",
    "        \n",
    "        rf_score_train_categorical = mean_squared_error(rf.predict(train_features_general_categorical),train_labels_general_categorical,squared=False)\n",
    "        \n",
    "\n",
    "        dataset_predicton = {\"Real Duration\": train_labels_general, \"Planned by Cuf\": train_CUF_labels_general, \"Labels from RuleFit\": predictions_train}\n",
    "        dataset_predicton=pd.DataFrame(dataset_predicton)\n",
    "\n",
    "        dataset_predicton['Error_RuleFit'] = percCal(dataset_predicton['Real Duration'], dataset_predicton['Labels from RuleFit'])\n",
    "        dataset_predicton['Error_CUF'] = percCal(dataset_predicton['Real Duration'], dataset_predicton['Planned by Cuf'])\n",
    "\n",
    "        CUF_overuse=dataset_predicton[dataset_predicton['Error_CUF']>10].shape[0]/dataset_predicton.shape[0]\n",
    "        RuleFit_overuse=dataset_predicton[dataset_predicton['Error_RuleFit']>10].shape[0]/dataset_predicton.shape[0]\n",
    "        #Underutilization\n",
    "        CUF_under=dataset_predicton[dataset_predicton['Error_CUF']<-10].shape[0]/dataset_predicton.shape[0]\n",
    "        RuleFit_under=dataset_predicton[dataset_predicton['Error_RuleFit']<-10].shape[0]/dataset_predicton.shape[0]\n",
    "            #Within\n",
    "        CUF_Within=dataset_predicton[dataset_predicton['Error_CUF'].abs()<=10].shape[0]/dataset_predicton.shape[0]\n",
    "        RuleFit_Within=dataset_predicton[dataset_predicton['Error_RuleFit'].abs()<=10].shape[0]/dataset_predicton.shape[0]\n",
    "\n",
    "        Rashomon_curve_general[j][rules_n].update({\"Score R2 Train\": rf_score_train})\n",
    "        Rashomon_curve_general[j][rules_n].update({\"Score R2 Test\": rf_score_test})\n",
    "        Rashomon_curve_general[j][rules_n].update({\"Score R2 Train Categorical\": rf_score_train_categorical})\n",
    "        Rashomon_curve_general[j][rules_n].update({\"Score R2 Test Categorical\": rf_score_test_categorical})\n",
    "        \n",
    "        Rashomon_curve_general[j][rules_n].update({\"Percentage_Train\": [RuleFit_Within, RuleFit_under, RuleFit_overuse]})\n",
    "        \n",
    "        #------\n",
    "        \n",
    "        predictions_test_categorical=rf.predict(test_features_general_categorical)\n",
    "        \n",
    "        dataset_predicton = {\"Real Duration\": test_labels_general_categorical, \"Planned by Cuf\": test_CUF_labels_general_categorical, \"Labels from RuleFit\": predictions_test_categorical}\n",
    "        dataset_predicton=pd.DataFrame(dataset_predicton)\n",
    "\n",
    "        dataset_predicton['Error_RuleFit'] = percCal(dataset_predicton['Real Duration'], dataset_predicton['Labels from RuleFit'])\n",
    "        dataset_predicton['Error_CUF'] = percCal(dataset_predicton['Real Duration'], dataset_predicton['Planned by Cuf'])\n",
    "\n",
    "        CUF_overuse=dataset_predicton[dataset_predicton['Error_CUF']>10].shape[0]/dataset_predicton.shape[0]\n",
    "        RuleFit_overuse=dataset_predicton[dataset_predicton['Error_RuleFit']>10].shape[0]/dataset_predicton.shape[0]\n",
    "        #Underutilization\n",
    "        CUF_under=dataset_predicton[dataset_predicton['Error_CUF']<-10].shape[0]/dataset_predicton.shape[0]\n",
    "        RuleFit_under=dataset_predicton[dataset_predicton['Error_RuleFit']<-10].shape[0]/dataset_predicton.shape[0]\n",
    "            #Within\n",
    "        CUF_Within=dataset_predicton[dataset_predicton['Error_CUF'].abs()<=10].shape[0]/dataset_predicton.shape[0]\n",
    "        RuleFit_Within=dataset_predicton[dataset_predicton['Error_RuleFit'].abs()<=10].shape[0]/dataset_predicton.shape[0]\n",
    "        \n",
    "        Rashomon_curve_general[j][rules_n].update({\"Percentage Test Categorical\": [RuleFit_Within, RuleFit_under, RuleFit_overuse]})\n",
    "        \n",
    "        \n",
    "        #------\n",
    "        \n",
    "        predictions_train_categorical=rf.predict(train_features_general_categorical)\n",
    "        \n",
    "        dataset_predicton = {\"Real Duration\": train_labels_general_categorical, \"Planned by Cuf\": train_CUF_labels_general_categorical, \"Labels from RuleFit\": predictions_train_categorical}\n",
    "        dataset_predicton=pd.DataFrame(dataset_predicton)\n",
    "\n",
    "        dataset_predicton['Error_RuleFit'] = percCal(dataset_predicton['Real Duration'], dataset_predicton['Labels from RuleFit'])\n",
    "        dataset_predicton['Error_CUF'] = percCal(dataset_predicton['Real Duration'], dataset_predicton['Planned by Cuf'])\n",
    "\n",
    "        CUF_overuse=dataset_predicton[dataset_predicton['Error_CUF']>10].shape[0]/dataset_predicton.shape[0]\n",
    "        RuleFit_overuse=dataset_predicton[dataset_predicton['Error_RuleFit']>10].shape[0]/dataset_predicton.shape[0]\n",
    "        #Underutilization\n",
    "        CUF_under=dataset_predicton[dataset_predicton['Error_CUF']<-10].shape[0]/dataset_predicton.shape[0]\n",
    "        RuleFit_under=dataset_predicton[dataset_predicton['Error_RuleFit']<-10].shape[0]/dataset_predicton.shape[0]\n",
    "            #Within\n",
    "        CUF_Within=dataset_predicton[dataset_predicton['Error_CUF'].abs()<=10].shape[0]/dataset_predicton.shape[0]\n",
    "        RuleFit_Within=dataset_predicton[dataset_predicton['Error_RuleFit'].abs()<=10].shape[0]/dataset_predicton.shape[0]\n",
    "        \n",
    "        Rashomon_curve_general[j][rules_n].update({\"Percentage Train Categorical\": [RuleFit_Within, RuleFit_under, RuleFit_overuse]})\n",
    "        \n"
   ]
  },
  {
   "cell_type": "code",
   "execution_count": 29,
   "metadata": {},
   "outputs": [],
   "source": [
    "\n",
    "def percCal(x,y):\n",
    "    return (x-y)*100/x\n"
   ]
  },
  {
   "cell_type": "code",
   "execution_count": 33,
   "metadata": {},
   "outputs": [],
   "source": [
    "%store -r Rashomon_curve_general"
   ]
  },
  {
   "cell_type": "code",
   "execution_count": 35,
   "metadata": {},
   "outputs": [
    {
     "name": "stdout",
     "output_type": "stream",
     "text": [
      "RuleFit_Imbalanced_100.sav\n",
      "RuleFit_Imbalanced_90.sav\n",
      "RuleFit_Imbalanced_80.sav\n",
      "RuleFit_Imbalanced_70.sav\n",
      "RuleFit_Imbalanced_60.sav\n",
      "RuleFit_Imbalanced_50.sav\n",
      "RuleFit_Imbalanced_40.sav\n",
      "RuleFit_Imbalanced_30.sav\n",
      "RuleFit_Imbalanced_20.sav\n",
      "RuleFit_Imbalanced_10.sav\n"
     ]
    }
   ],
   "source": [
    "# save the model to disk\n",
    "Curve=0\n",
    "\n",
    "rules=[100,90,80,70,60,50,40,30,20,10]\n",
    "\n",
    "\n",
    "for i in range(len(rules)):\n",
    "    \n",
    "    Best_model=Rashomon_curve_general[Curve][i]['Model']\n",
    "    \n",
    "    filename=\"RuleFit_Imbalanced_{}.sav\".format(rules[i])\n",
    "    print(filename)\n",
    "    pickle.dump(Best_model, open(filename, 'wb'))"
   ]
  },
  {
   "cell_type": "code",
   "execution_count": 36,
   "metadata": {},
   "outputs": [
    {
     "name": "stdout",
     "output_type": "stream",
     "text": [
      "RuleFit_WithoutImbalanced_100.sav\n",
      "RuleFit_WithoutImbalanced_90.sav\n",
      "RuleFit_WithoutImbalanced_80.sav\n",
      "RuleFit_WithoutImbalanced_70.sav\n",
      "RuleFit_WithoutImbalanced_60.sav\n",
      "RuleFit_WithoutImbalanced_50.sav\n",
      "RuleFit_WithoutImbalanced_40.sav\n",
      "RuleFit_WithoutImbalanced_30.sav\n",
      "RuleFit_WithoutImbalanced_20.sav\n",
      "RuleFit_WithoutImbalanced_10.sav\n"
     ]
    }
   ],
   "source": [
    "# save the model to disk\n",
    "Curve=1\n",
    "\n",
    "rules=[100,90,80,70,60,50,40,30,20,10]\n",
    "\n",
    "\n",
    "for i in range(len(rules)):\n",
    "    \n",
    "    Best_model=Rashomon_curve_general[Curve][i]['Model']\n",
    "    \n",
    "    filename=\"RuleFit_WithoutImbalanced_{}.sav\".format(rules[i])\n",
    "    print(filename)\n",
    "    pickle.dump(Best_model, open(filename, 'wb'))"
   ]
  },
  {
   "cell_type": "markdown",
   "metadata": {},
   "source": [
    "----"
   ]
  },
  {
   "cell_type": "code",
   "execution_count": 33,
   "metadata": {},
   "outputs": [],
   "source": [
    "curve=0\n",
    "\n",
    " "
   ]
  },
  {
   "cell_type": "code",
   "execution_count": 34,
   "metadata": {},
   "outputs": [],
   "source": [
    "Score_test=[]\n",
    "Score_train=[]\n",
    "Number_of_rules=[]\n",
    "Within_Test=[]\n",
    "Within_Train=[]\n",
    "Diference_error=[]\n",
    "\n",
    "for rules_n in range(number_of_rules):\n",
    "\n",
    "    Score_train_intercalar=abs(Rashomon_curve_general[curve][rules_n]['Score R2 Train Categorical'])\n",
    "    Score_test_intercalar=abs(Rashomon_curve_general[curve][rules_n]['Score R2 Test Categorical'])\n",
    "    Number_of_rules_intercalar=Rashomon_curve_general[curve][rules_n]['Number Rules']\n",
    "    Within_intercalar_test=Rashomon_curve_general[curve][rules_n]['Percentage Test Categorical'][0]\n",
    "    Within_intercalar_train=Rashomon_curve_general[curve][rules_n]['Percentage Train Categorical'][0]\n",
    "     \n",
    "\n",
    "    Score_test+=[Score_test_intercalar]\n",
    "    Score_train+=[Score_train_intercalar]\n",
    "    Diference_error+=[abs(Score_test_intercalar-Score_train_intercalar)]\n",
    "    Number_of_rules+=[Number_of_rules_intercalar]\n",
    "    Within_Test+=[Within_intercalar_test]\n",
    "    Within_Train+=[Within_intercalar_train]"
   ]
  },
  {
   "cell_type": "code",
   "execution_count": 35,
   "metadata": {},
   "outputs": [
    {
     "data": {
      "image/png": "[encoded data removed]",
      "text/plain": [
       "<Figure size 432x288 with 1 Axes>"
      ]
     },
     "metadata": {
      "needs_background": "light"
     },
     "output_type": "display_data"
    },
    {
     "data": {
      "text/plain": [
       "<Figure size 720x720 with 0 Axes>"
      ]
     },
     "metadata": {},
     "output_type": "display_data"
    }
   ],
   "source": [
    "colors = iter(plt.cm.rainbow(np.linspace(0, 1, len(Score_train))))\n",
    "\n",
    "\n",
    "plt.scatter(Within_Train, Number_of_rules)\n",
    "for i in range(len(Number_of_rules)):\n",
    "    \n",
    "    plt.arrow(x=Within_Train[i],y=Number_of_rules[i],dx=Within_Test[i],dy=0,color=next(colors))\n",
    "\n",
    "\n",
    "plt.xlabel('Within Percentage')\n",
    "plt.ylabel('Rules')\n",
    "plt.figure(figsize=(10,10))\n",
    "plt.show()"
   ]
  },
  {
   "cell_type": "code",
   "execution_count": 36,
   "metadata": {},
   "outputs": [
    {
     "data": {
      "text/plain": [
       "<matplotlib.collections.PathCollection at 0x2a94003f760>"
      ]
     },
     "execution_count": 36,
     "metadata": {},
     "output_type": "execute_result"
    },
    {
     "data": {
      "image/png": "[encoded data removed]",
      "text/plain": [
       "<Figure size 864x864 with 2 Axes>"
      ]
     },
     "metadata": {
      "needs_background": "light"
     },
     "output_type": "display_data"
    }
   ],
   "source": [
    "fig = plt.figure(figsize=(12, 12))\n",
    "ax1 = fig.add_subplot(2,2,1)\n",
    "\n",
    "colors = iter(plt.cm.rainbow(np.linspace(0, 1, len(Score_train))))\n",
    "\n",
    "\n",
    "ax1.scatter(Within_Train, Number_of_rules)\n",
    "\n",
    "ax2 = fig.add_subplot(2,2,2)\n",
    "ax2.scatter(Within_Test, Number_of_rules)"
   ]
  },
  {
   "cell_type": "code",
   "execution_count": 37,
   "metadata": {},
   "outputs": [
    {
     "data": {
      "text/plain": [
       "<matplotlib.legend.Legend at 0x2a9401abfd0>"
      ]
     },
     "execution_count": 37,
     "metadata": {},
     "output_type": "execute_result"
    },
    {
     "data": {
      "image/png": "[encoded data removed]",
      "text/plain": [
       "<Figure size 432x288 with 1 Axes>"
      ]
     },
     "metadata": {
      "needs_background": "light"
     },
     "output_type": "display_data"
    }
   ],
   "source": [
    "import numpy as np\n",
    "import matplotlib.pyplot as plt\n",
    "\n",
    "Rev_Score_train=Score_train[::-1]\n",
    "Rev_Score_test=Score_test[::-1]\n",
    "\n",
    "X = np.arange(5,105,10)\n",
    "fig = plt.figure()\n",
    "ax = fig.add_axes([0,0,1,1])\n",
    "ax.bar(X + 0.00, Rev_Score_train, color = 'lightgrey', width =3)\n",
    "ax.bar(X +3,Rev_Score_test , color = 'darkturquoise', width =3)\n",
    "plt.ylabel('RMSE')   \n",
    "plt.xlabel('Number of Rules')\n",
    "plt.xticks(X)  \n",
    "ax.legend(['RMSE Train','RMSE Test'])"
   ]
  },
  {
   "cell_type": "code",
   "execution_count": 12,
   "metadata": {},
   "outputs": [
    {
     "data": {
      "image/png": "[encoded data removed]",
      "text/plain": [
       "<Figure size 432x288 with 1 Axes>"
      ]
     },
     "metadata": {
      "needs_background": "light"
     },
     "output_type": "display_data"
    },
    {
     "data": {
      "text/plain": [
       "<Figure size 720x720 with 0 Axes>"
      ]
     },
     "metadata": {},
     "output_type": "display_data"
    }
   ],
   "source": [
    "colors = iter(plt.cm.rainbow(np.linspace(0, 1, len(Score_train))))\n",
    "\n",
    "plt.xlabel('RMSE Error')\n",
    "plt.ylabel('Rules')\n",
    "\n",
    "plt.scatter(Score_train, Number_of_rules)\n",
    "for i in range(len(Number_of_rules)):\n",
    "    \n",
    "    plt.arrow(x=Score_train[i],y=Number_of_rules[i],dx=Diference_error[i],dy=0,color=next(colors))\n",
    "\n",
    "    \n",
    "plt.figure(figsize=(10,10))\n",
    "plt.show()"
   ]
  },
  {
   "cell_type": "code",
   "execution_count": 13,
   "metadata": {},
   "outputs": [
    {
     "data": {
      "text/plain": [
       "<matplotlib.collections.PathCollection at 0x1fe033db310>"
      ]
     },
     "execution_count": 13,
     "metadata": {},
     "output_type": "execute_result"
    },
    {
     "data": {
      "image/png": "[encoded data removed]",
      "text/plain": [
       "<Figure size 864x864 with 2 Axes>"
      ]
     },
     "metadata": {
      "needs_background": "light"
     },
     "output_type": "display_data"
    }
   ],
   "source": [
    "fig = plt.figure(figsize=(12, 12))\n",
    "ax1 = fig.add_subplot(2,2,1)\n",
    "\n",
    "colors = iter(plt.cm.rainbow(np.linspace(0, 1, len(Score_train))))\n",
    "\n",
    "\n",
    "ax1.scatter(Score_train, Number_of_rules)\n",
    "\n",
    "ax2 = fig.add_subplot(2,2,2)\n",
    "ax2.scatter(Score_test, Number_of_rules)"
   ]
  },
  {
   "cell_type": "code",
   "execution_count": 16,
   "metadata": {},
   "outputs": [],
   "source": [
    "curve=1\n",
    "\n",
    "Score_test=[]\n",
    "Score_train=[]\n",
    "Number_of_rules=[]\n",
    "Within_Test=[]\n",
    "Within_Train=[]\n",
    "Diference_error=[]\n",
    "\n",
    "for rules_n in range(number_of_rules):\n",
    "\n",
    "    Score_train_intercalar=abs(Rashomon_curve_general[curve][rules_n]['Score R2 Train Categorical'])\n",
    "    Score_test_intercalar=abs(Rashomon_curve_general[curve][rules_n]['Score R2 Test Categorical'])\n",
    "    Number_of_rules_intercalar=Rashomon_curve_general[curve][rules_n]['Number Rules']\n",
    "    Within_intercalar_test=Rashomon_curve_general[curve][rules_n]['Percentage Test Categorical'][0]\n",
    "    Within_intercalar_train=Rashomon_curve_general[curve][rules_n]['Percentage Train Categorical'][0]\n",
    "     \n",
    "\n",
    "    Score_test+=[Score_test_intercalar]\n",
    "    Score_train+=[Score_train_intercalar]\n",
    "    Diference_error+=[abs(Score_test_intercalar-Score_train_intercalar)]\n",
    "    Number_of_rules+=[Number_of_rules_intercalar]\n",
    "    Within_Test+=[Within_intercalar_test]\n",
    "    Within_Train+=[Within_intercalar_train]"
   ]
  },
  {
   "cell_type": "code",
   "execution_count": 17,
   "metadata": {
    "scrolled": true
   },
   "outputs": [
    {
     "data": {
      "image/png": "[encoded data removed]",
      "text/plain": [
       "<Figure size 432x288 with 1 Axes>"
      ]
     },
     "metadata": {
      "needs_background": "light"
     },
     "output_type": "display_data"
    },
    {
     "data": {
      "text/plain": [
       "<Figure size 720x720 with 0 Axes>"
      ]
     },
     "metadata": {},
     "output_type": "display_data"
    }
   ],
   "source": [
    "colors = iter(plt.cm.rainbow(np.linspace(0, 1, len(Score_train))))\n",
    "\n",
    "\n",
    "plt.scatter(Within_Train, Number_of_rules)\n",
    "for i in range(len(Number_of_rules)):\n",
    "    \n",
    "    plt.arrow(x=Within_Train[i],y=Number_of_rules[i],dx=Within_Test[i],dy=0,color=next(colors))\n",
    "\n",
    "\n",
    "plt.xlabel('Within Percentage')\n",
    "plt.ylabel('Rules')\n",
    "plt.figure(figsize=(10,10))\n",
    "plt.show()"
   ]
  },
  {
   "cell_type": "code",
   "execution_count": 18,
   "metadata": {},
   "outputs": [
    {
     "data": {
      "image/png": "[encoded data removed]",
      "text/plain": [
       "<Figure size 432x288 with 1 Axes>"
      ]
     },
     "metadata": {
      "needs_background": "light"
     },
     "output_type": "display_data"
    },
    {
     "data": {
      "text/plain": [
       "<Figure size 720x720 with 0 Axes>"
      ]
     },
     "metadata": {},
     "output_type": "display_data"
    }
   ],
   "source": [
    "colors = iter(plt.cm.rainbow(np.linspace(0, 1, len(Score_train))))\n",
    "\n",
    "plt.xlabel('RMSE Error')\n",
    "plt.ylabel('Rules')\n",
    "\n",
    "plt.scatter(Score_train, Number_of_rules)\n",
    "for i in range(len(Number_of_rules)):\n",
    "    \n",
    "    plt.arrow(x=Score_train[i],y=Number_of_rules[i],dx=Diference_error[i],dy=0,color=next(colors))\n",
    "\n",
    "    \n",
    "plt.figure(figsize=(10,10))\n",
    "plt.show()"
   ]
  },
  {
   "cell_type": "code",
   "execution_count": 19,
   "metadata": {},
   "outputs": [
    {
     "data": {
      "text/plain": [
       "<matplotlib.legend.Legend at 0x1fe0347fd60>"
      ]
     },
     "execution_count": 19,
     "metadata": {},
     "output_type": "execute_result"
    },
    {
     "data": {
      "image/png": "[encoded data removed]",
      "text/plain": [
       "<Figure size 432x288 with 1 Axes>"
      ]
     },
     "metadata": {
      "needs_background": "light"
     },
     "output_type": "display_data"
    }
   ],
   "source": [
    "import numpy as np\n",
    "import matplotlib.pyplot as plt\n",
    "\n",
    "Rev_Score_train=Score_train[::-1]\n",
    "Rev_Score_test=Score_test[::-1]\n",
    "\n",
    "X = np.arange(5,105,10)\n",
    "fig = plt.figure()\n",
    "ax = fig.add_axes([0,0,1,1])\n",
    "ax.bar(X + 0.00, Rev_Score_train, color = 'lightgrey', width =3)\n",
    "ax.bar(X +3,Rev_Score_test , color = 'darkturquoise', width =3)\n",
    "plt.ylabel('RMSE')   \n",
    "plt.xlabel('Number of Rules')\n",
    "plt.xticks(X)  \n",
    "ax.legend(['RMSE Train','RMSE Test'])"
   ]
  },
  {
   "cell_type": "markdown",
   "metadata": {},
   "source": [
    "* ## 5 seems the optimal value in Rashomon elbow"
   ]
  },
  {
   "cell_type": "code",
   "execution_count": 13,
   "metadata": {},
   "outputs": [],
   "source": [
    "curve=1\n",
    "value=2"
   ]
  },
  {
   "cell_type": "code",
   "execution_count": 14,
   "metadata": {},
   "outputs": [],
   "source": [
    "Best_model=Rashomon_curve_general[curve][value]['Model']"
   ]
  },
  {
   "cell_type": "code",
   "execution_count": 15,
   "metadata": {},
   "outputs": [
    {
     "data": {
      "text/plain": [
       "79"
      ]
     },
     "execution_count": 15,
     "metadata": {},
     "output_type": "execute_result"
    }
   ],
   "source": [
    "len(Rashomon_curve_general[curve][value]['Rules_non0'])"
   ]
  },
  {
   "cell_type": "code",
   "execution_count": 16,
   "metadata": {},
   "outputs": [],
   "source": [
    "dataset_predicton=Rashomon_curve_general[curve][value]['Dataset_predicton']"
   ]
  },
  {
   "cell_type": "code",
   "execution_count": 17,
   "metadata": {},
   "outputs": [
    {
     "data": {
      "text/plain": [
       "37.347992422059086"
      ]
     },
     "execution_count": 17,
     "metadata": {},
     "output_type": "execute_result"
    }
   ],
   "source": [
    "mean_squared_error(dataset_predicton['Labels from RuleFit'],dataset_predicton['Real Duration'],squared=False)"
   ]
  },
  {
   "cell_type": "code",
   "execution_count": 18,
   "metadata": {},
   "outputs": [
    {
     "data": {
      "text/plain": [
       "46.59143288911107"
      ]
     },
     "execution_count": 18,
     "metadata": {},
     "output_type": "execute_result"
    }
   ],
   "source": [
    "mean_squared_error(dataset_predicton['Planned by Cuf'],dataset_predicton['Real Duration'],squared=False)"
   ]
  },
  {
   "cell_type": "code",
   "execution_count": 19,
   "metadata": {},
   "outputs": [
    {
     "data": {
      "image/png": "[encoded data removed]",
      "text/plain": [
       "<Figure size 432x288 with 1 Axes>"
      ]
     },
     "metadata": {
      "needs_background": "light"
     },
     "output_type": "display_data"
    }
   ],
   "source": [
    "a = plt.axes(aspect='equal')\n",
    "plt.scatter(dataset_predicton['Real Duration'], dataset_predicton['Labels from RuleFit'])\n",
    "plt.xlabel('True Values [Time]')\n",
    "plt.ylabel('Predictions [Time]')\n",
    "lims = [0, 400]\n",
    "plt.xlim(lims)\n",
    "plt.ylim(lims)\n",
    "_ = plt.plot(lims, lims)"
   ]
  },
  {
   "cell_type": "code",
   "execution_count": 20,
   "metadata": {},
   "outputs": [
    {
     "data": {
      "image/png": "[encoded data removed]",
      "text/plain": [
       "<Figure size 432x288 with 1 Axes>"
      ]
     },
     "metadata": {
      "needs_background": "light"
     },
     "output_type": "display_data"
    }
   ],
   "source": [
    "error = dataset_predicton['Labels from RuleFit'] - dataset_predicton['Real Duration']\n",
    "plt.hist(error, bins=25)\n",
    "plt.xlabel('Prediction Error')\n",
    "_ = plt.ylabel('Count')"
   ]
  },
  {
   "cell_type": "code",
   "execution_count": 21,
   "metadata": {},
   "outputs": [
    {
     "data": {
      "text/plain": [
       "<matplotlib.legend.Legend at 0x26e1100d5b0>"
      ]
     },
     "execution_count": 21,
     "metadata": {},
     "output_type": "execute_result"
    },
    {
     "data": {
      "image/png": "[encoded data removed]",
      "text/plain": [
       "<Figure size 432x288 with 1 Axes>"
      ]
     },
     "metadata": {
      "needs_background": "light"
     },
     "output_type": "display_data"
    }
   ],
   "source": [
    "\n",
    "def percCal(x,y):\n",
    "    return (x-y)*100/x\n",
    "\n",
    "\n",
    "def percCal2(x,y):\n",
    "    return abs(x-y)\n",
    "\n",
    "\n",
    "dataset_predicton['Error_RuleFit'] = percCal(dataset_predicton['Real Duration'], dataset_predicton['Labels from RuleFit'])\n",
    "dataset_predicton['Error_CUF'] = percCal(dataset_predicton['Real Duration'], dataset_predicton['Planned by Cuf'])\n",
    "dataset_predicton['Minutes_RuleFit'] = percCal2(dataset_predicton['Real Duration'], dataset_predicton['Labels from RuleFit'])\n",
    "dataset_predicton['Minutes_CUF'] = percCal2(dataset_predicton['Real Duration'], dataset_predicton['Planned by Cuf'])\n",
    "\n",
    "\n",
    "\n",
    "dataset_predicton['Error_CUF'].plot(kind='density')\n",
    "dataset_predicton['Error_RuleFit'].plot(kind='density')\n",
    "plt.xlim([-400, 400])\n",
    "plt.title('General RuleFit vs CUF prediction')\n",
    "orange_patch = matplotlib.patches.Patch(color='orange', label='RuleFit')\n",
    "blue_patch = matplotlib.patches.Patch(color='blue', label='CUF')\n",
    "plt.legend(handles=[orange_patch,blue_patch])"
   ]
  },
  {
   "cell_type": "code",
   "execution_count": 22,
   "metadata": {},
   "outputs": [
    {
     "data": {
      "text/plain": [
       "27.757200918890263"
      ]
     },
     "execution_count": 22,
     "metadata": {},
     "output_type": "execute_result"
    }
   ],
   "source": [
    "dataset_predicton['Minutes_CUF'].sum()/16977 "
   ]
  },
  {
   "cell_type": "code",
   "execution_count": 23,
   "metadata": {},
   "outputs": [
    {
     "data": {
      "text/plain": [
       "25.153936795941863"
      ]
     },
     "execution_count": 23,
     "metadata": {},
     "output_type": "execute_result"
    }
   ],
   "source": [
    "dataset_predicton['Minutes_RuleFit'].sum()/16977"
   ]
  },
  {
   "cell_type": "code",
   "execution_count": 24,
   "metadata": {},
   "outputs": [
    {
     "name": "stdout",
     "output_type": "stream",
     "text": [
      "-------------  -------------------  -------------------  ------------------\n",
      "Model          Within               Overutilization      Underutilization\n",
      "CUF Model      0.1920245037403546   0.28626965895034456  0.5217058373093009\n",
      "RuleFit Model  0.19891618071508513  0.25216469340872943  0.5489191258761854\n",
      "-------------  -------------------  -------------------  ------------------\n"
     ]
    }
   ],
   "source": [
    "#Overutilization \n",
    "CUF_overuse=dataset_predicton[dataset_predicton['Error_CUF']>10].shape[0]/dataset_predicton.shape[0]\n",
    "RuleFit_overuse=dataset_predicton[dataset_predicton['Error_RuleFit']>10].shape[0]/dataset_predicton.shape[0]\n",
    "#Underutilization\n",
    "CUF_under=dataset_predicton[dataset_predicton['Error_CUF']<-10].shape[0]/dataset_predicton.shape[0]\n",
    "RuleFit_under=dataset_predicton[dataset_predicton['Error_RuleFit']<-10].shape[0]/dataset_predicton.shape[0]\n",
    "#Within\n",
    "CUF_Within=dataset_predicton[dataset_predicton['Error_CUF'].abs()<=10].shape[0]/dataset_predicton.shape[0]\n",
    "RuleFit_Within=dataset_predicton[dataset_predicton['Error_RuleFit'].abs()<=10].shape[0]/dataset_predicton.shape[0]\n",
    "\n",
    "table2 = [['Model', 'Within', 'Overutilization','Underutilization'], ['CUF Model', CUF_Within, CUF_overuse,CUF_under], ['RuleFit Model', RuleFit_Within, RuleFit_overuse,RuleFit_under]]\n",
    "print(tabulate(table2))"
   ]
  },
  {
   "cell_type": "code",
   "execution_count": 25,
   "metadata": {},
   "outputs": [],
   "source": [
    "dataset_predicton['Labels from RuleFit'].to_csv('Labels_RuleFit_speciality_notimbalance',index=False)"
   ]
  },
  {
   "cell_type": "code",
   "execution_count": 26,
   "metadata": {},
   "outputs": [
    {
     "data": {
      "text/plain": [
       "37.0"
      ]
     },
     "execution_count": 26,
     "metadata": {},
     "output_type": "execute_result"
    }
   ],
   "source": [
    "np.round(mean_squared_error(dataset_predicton['Labels from RuleFit'],dataset_predicton['Real Duration'],squared=False))\n",
    "       "
   ]
  },
  {
   "cell_type": "code",
   "execution_count": 27,
   "metadata": {},
   "outputs": [
    {
     "data": {
      "text/plain": [
       "47.0"
      ]
     },
     "execution_count": 27,
     "metadata": {},
     "output_type": "execute_result"
    }
   ],
   "source": [
    "np.round(mean_squared_error(dataset_predicton['Planned by Cuf'],dataset_predicton['Real Duration'],squared=False))\n"
   ]
  },
  {
   "cell_type": "markdown",
   "metadata": {},
   "source": [
    "* Generalization Set"
   ]
  },
  {
   "cell_type": "code",
   "execution_count": 28,
   "metadata": {},
   "outputs": [],
   "source": [
    "generalization_dataset_general=Genenal_Dataset['GeneralizationSet_After_Encoding']\n",
    "\n",
    "generalization_features_general = generalization_dataset_general.copy()\n",
    "generalization_labels_general = generalization_features_general.pop('Real Room Duration')\n",
    "generalization_CUF_labels_general = generalization_features_general.pop('CUF Planned Duration')\n",
    "\n",
    "generalization_dataset_general= np.asarray(generalization_dataset_general).astype(np.float32)\n",
    "\n",
    "    #Features\n",
    "generalization_features_general= np.asarray(generalization_features_general).astype(np.float32)\n",
    "\n",
    "#labels\n",
    "generalization_labels_general= np.asarray(generalization_labels_general).astype(np.float32)"
   ]
  },
  {
   "cell_type": "code",
   "execution_count": 29,
   "metadata": {},
   "outputs": [
    {
     "data": {
      "text/html": [
       "<div>\n",
       "<style scoped>\n",
       "    .dataframe tbody tr th:only-of-type {\n",
       "        vertical-align: middle;\n",
       "    }\n",
       "\n",
       "    .dataframe tbody tr th {\n",
       "        vertical-align: top;\n",
       "    }\n",
       "\n",
       "    .dataframe thead th {\n",
       "        text-align: right;\n",
       "    }\n",
       "</style>\n",
       "<table border=\"1\" class=\"dataframe\">\n",
       "  <thead>\n",
       "    <tr style=\"text-align: right;\">\n",
       "      <th></th>\n",
       "      <th>Real Duration</th>\n",
       "      <th>Planned by Cuf</th>\n",
       "      <th>Labels from RuleFit</th>\n",
       "    </tr>\n",
       "  </thead>\n",
       "  <tbody>\n",
       "    <tr>\n",
       "      <th>12851</th>\n",
       "      <td>55.0</td>\n",
       "      <td>60</td>\n",
       "      <td>63.800718</td>\n",
       "    </tr>\n",
       "    <tr>\n",
       "      <th>1693</th>\n",
       "      <td>11.0</td>\n",
       "      <td>60</td>\n",
       "      <td>30.119253</td>\n",
       "    </tr>\n",
       "    <tr>\n",
       "      <th>45971</th>\n",
       "      <td>19.0</td>\n",
       "      <td>30</td>\n",
       "      <td>24.316411</td>\n",
       "    </tr>\n",
       "    <tr>\n",
       "      <th>115148</th>\n",
       "      <td>21.0</td>\n",
       "      <td>45</td>\n",
       "      <td>23.858327</td>\n",
       "    </tr>\n",
       "    <tr>\n",
       "      <th>90790</th>\n",
       "      <td>86.0</td>\n",
       "      <td>90</td>\n",
       "      <td>65.567639</td>\n",
       "    </tr>\n",
       "    <tr>\n",
       "      <th>...</th>\n",
       "      <td>...</td>\n",
       "      <td>...</td>\n",
       "      <td>...</td>\n",
       "    </tr>\n",
       "    <tr>\n",
       "      <th>86160</th>\n",
       "      <td>20.0</td>\n",
       "      <td>30</td>\n",
       "      <td>43.222014</td>\n",
       "    </tr>\n",
       "    <tr>\n",
       "      <th>11998</th>\n",
       "      <td>39.0</td>\n",
       "      <td>120</td>\n",
       "      <td>46.401124</td>\n",
       "    </tr>\n",
       "    <tr>\n",
       "      <th>161399</th>\n",
       "      <td>12.0</td>\n",
       "      <td>60</td>\n",
       "      <td>37.917473</td>\n",
       "    </tr>\n",
       "    <tr>\n",
       "      <th>99179</th>\n",
       "      <td>156.0</td>\n",
       "      <td>120</td>\n",
       "      <td>201.326475</td>\n",
       "    </tr>\n",
       "    <tr>\n",
       "      <th>138914</th>\n",
       "      <td>86.0</td>\n",
       "      <td>60</td>\n",
       "      <td>90.707269</td>\n",
       "    </tr>\n",
       "  </tbody>\n",
       "</table>\n",
       "<p>16977 rows × 3 columns</p>\n",
       "</div>"
      ],
      "text/plain": [
       "        Real Duration  Planned by Cuf  Labels from RuleFit\n",
       "12851            55.0              60            63.800718\n",
       "1693             11.0              60            30.119253\n",
       "45971            19.0              30            24.316411\n",
       "115148           21.0              45            23.858327\n",
       "90790            86.0              90            65.567639\n",
       "...               ...             ...                  ...\n",
       "86160            20.0              30            43.222014\n",
       "11998            39.0             120            46.401124\n",
       "161399           12.0              60            37.917473\n",
       "99179           156.0             120           201.326475\n",
       "138914           86.0              60            90.707269\n",
       "\n",
       "[16977 rows x 3 columns]"
      ]
     },
     "execution_count": 29,
     "metadata": {},
     "output_type": "execute_result"
    }
   ],
   "source": [
    "labels_generalization=Best_model.predict(generalization_features_general)\n",
    "dataset_predicton_generalization = {\"Real Duration\": generalization_labels_general, \"Planned by Cuf\": generalization_CUF_labels_general, \"Labels from RuleFit\": labels_generalization}\n",
    "    \n",
    "dataset_predicton_generalization=pd.DataFrame(dataset_predicton_generalization)\n",
    "dataset_predicton_generalization"
   ]
  },
  {
   "cell_type": "code",
   "execution_count": 30,
   "metadata": {},
   "outputs": [],
   "source": [
    "dataset=dataset_predicton_generalization[dataset_predicton_generalization['Real Duration']>100]"
   ]
  },
  {
   "cell_type": "code",
   "execution_count": 31,
   "metadata": {},
   "outputs": [
    {
     "data": {
      "text/plain": [
       "57.168439142737014"
      ]
     },
     "execution_count": 31,
     "metadata": {},
     "output_type": "execute_result"
    }
   ],
   "source": [
    "mean_squared_error(dataset['Labels from RuleFit'],dataset['Real Duration'],squared=False)"
   ]
  },
  {
   "cell_type": "code",
   "execution_count": 32,
   "metadata": {},
   "outputs": [
    {
     "name": "stderr",
     "output_type": "stream",
     "text": [
      "Arrays of bytes/strings is being converted to decimal numbers if dtype='numeric'. This behavior is deprecated in 0.24 and will be removed in 1.1 (renaming of 0.26). Please convert your data to numeric values explicitly instead.\n"
     ]
    },
    {
     "data": {
      "text/plain": [
       "61.67411473682803"
      ]
     },
     "execution_count": 32,
     "metadata": {},
     "output_type": "execute_result"
    }
   ],
   "source": [
    "mean_squared_error(dataset['Planned by Cuf'],dataset['Real Duration'],squared=False)"
   ]
  },
  {
   "cell_type": "code",
   "execution_count": 66,
   "metadata": {},
   "outputs": [
    {
     "data": {
      "text/plain": [
       "<matplotlib.legend.Legend at 0x1fe0480c2b0>"
      ]
     },
     "execution_count": 66,
     "metadata": {},
     "output_type": "execute_result"
    },
    {
     "data": {
      "image/png": "[encoded data removed]",
      "text/plain": [
       "<Figure size 432x288 with 1 Axes>"
      ]
     },
     "metadata": {
      "needs_background": "light"
     },
     "output_type": "display_data"
    }
   ],
   "source": [
    "\n",
    "def percCal(x,y):\n",
    "    return (x-y)*100/x\n",
    "\n",
    "def percCal2(x,y):\n",
    "    return abs(x-y)\n",
    "\n",
    "\n",
    "dataset_predicton_generalization['Error_RuleFit'] = percCal(dataset_predicton_generalization['Real Duration'], dataset_predicton_generalization['Labels from RuleFit'])\n",
    "dataset_predicton_generalization['Error_CUF'] = percCal(dataset_predicton_generalization['Real Duration'], dataset_predicton_generalization['Planned by Cuf'])\n",
    "dataset_predicton_generalization['Minutes_RuleFit'] = percCal2(dataset_predicton_generalization['Real Duration'], dataset_predicton_generalization['Labels from RuleFit'])\n",
    "dataset_predicton_generalization['Minutes_CUF'] = percCal2(dataset_predicton_generalization['Real Duration'], dataset_predicton_generalization['Planned by Cuf'])\n",
    "\n",
    "\n",
    "dataset_predicton_generalization['Error_CUF'].plot(kind='density')\n",
    "dataset_predicton_generalization['Error_RuleFit'].plot(kind='density')\n",
    "plt.xlim([-400, 400])\n",
    "plt.title('General RuleFit vs CUF prediction')\n",
    "orange_patch = matplotlib.patches.Patch(color='orange', label='RuleFit')\n",
    "blue_patch = matplotlib.patches.Patch(color='blue', label='CUF')\n",
    "plt.legend(handles=[orange_patch,blue_patch])"
   ]
  },
  {
   "cell_type": "code",
   "execution_count": 67,
   "metadata": {},
   "outputs": [
    {
     "name": "stdout",
     "output_type": "stream",
     "text": [
      "-------------  -------------------  ------------------  ------------------\n",
      "Model          Within               Overutilization     Underutilization\n",
      "CUF Model      0.19773811627496024  0.2879189491665194  0.5143429345585203\n",
      "RuleFit Model  0.19314366495847324  0.2544030158449667  0.55245331919656\n",
      "-------------  -------------------  ------------------  ------------------\n"
     ]
    }
   ],
   "source": [
    "#Overutilization \n",
    "CUF_overuse=dataset_predicton_generalization[dataset_predicton_generalization['Error_CUF']>10].shape[0]/dataset_predicton_generalization.shape[0]\n",
    "RuleFit_overuse=dataset_predicton_generalization[dataset_predicton_generalization['Error_RuleFit']>10].shape[0]/dataset_predicton_generalization.shape[0]\n",
    "#Underutilization\n",
    "CUF_under=dataset_predicton_generalization[dataset_predicton_generalization['Error_CUF']<-10].shape[0]/dataset_predicton_generalization.shape[0]\n",
    "RuleFit_under=dataset_predicton_generalization[dataset_predicton_generalization['Error_RuleFit']<-10].shape[0]/dataset_predicton_generalization.shape[0]\n",
    "#Within\n",
    "CUF_Within=dataset_predicton_generalization[dataset_predicton_generalization['Error_CUF'].abs()<=10].shape[0]/dataset_predicton_generalization.shape[0]\n",
    "RuleFit_Within=dataset_predicton_generalization[dataset_predicton_generalization['Error_RuleFit'].abs()<=10].shape[0]/dataset_predicton_generalization.shape[0]\n",
    "\n",
    "table2 = [['Model', 'Within', 'Overutilization','Underutilization'], ['CUF Model', CUF_Within, CUF_overuse,CUF_under], ['RuleFit Model', RuleFit_Within, RuleFit_overuse,RuleFit_under]]\n",
    "print(tabulate(table2))"
   ]
  },
  {
   "cell_type": "code",
   "execution_count": 68,
   "metadata": {},
   "outputs": [
    {
     "data": {
      "text/plain": [
       "26.87235671791247"
      ]
     },
     "execution_count": 68,
     "metadata": {},
     "output_type": "execute_result"
    }
   ],
   "source": [
    "dataset_predicton_generalization['Minutes_CUF'].sum()/16977"
   ]
  },
  {
   "cell_type": "code",
   "execution_count": 69,
   "metadata": {},
   "outputs": [
    {
     "data": {
      "text/plain": [
       "25.12227074579028"
      ]
     },
     "execution_count": 69,
     "metadata": {},
     "output_type": "execute_result"
    }
   ],
   "source": [
    "dataset_predicton_generalization['Minutes_RuleFit'].sum()/16977"
   ]
  },
  {
   "cell_type": "code",
   "execution_count": 72,
   "metadata": {},
   "outputs": [
    {
     "data": {
      "text/plain": [
       "26.686692050003458"
      ]
     },
     "execution_count": 72,
     "metadata": {},
     "output_type": "execute_result"
    }
   ],
   "source": [
    "dataset_predicton_generalization[dataset_predicton_generalization['Error_RuleFit']<-10]['Minutes_RuleFit'].sum()/dataset_predicton_generalization[dataset_predicton_generalization['Error_RuleFit']<-10].shape[0]"
   ]
  },
  {
   "cell_type": "code",
   "execution_count": 73,
   "metadata": {},
   "outputs": [
    {
     "data": {
      "text/plain": [
       "29.140174072377462"
      ]
     },
     "execution_count": 73,
     "metadata": {},
     "output_type": "execute_result"
    }
   ],
   "source": [
    "dataset_predicton_generalization[dataset_predicton_generalization['Error_CUF']<-10]['Minutes_CUF'].sum()/dataset_predicton_generalization[dataset_predicton_generalization['Error_CUF']<-10].shape[0]"
   ]
  },
  {
   "cell_type": "code",
   "execution_count": 74,
   "metadata": {},
   "outputs": [
    {
     "data": {
      "text/plain": [
       "37.43321664490592"
      ]
     },
     "execution_count": 74,
     "metadata": {},
     "output_type": "execute_result"
    }
   ],
   "source": [
    "dataset_predicton_generalization[dataset_predicton_generalization['Error_RuleFit']>10]['Minutes_RuleFit'].sum()/dataset_predicton_generalization[dataset_predicton_generalization['Error_RuleFit']>10].shape[0]"
   ]
  },
  {
   "cell_type": "code",
   "execution_count": 75,
   "metadata": {},
   "outputs": [
    {
     "data": {
      "text/plain": [
       "38.32262684124386"
      ]
     },
     "execution_count": 75,
     "metadata": {},
     "output_type": "execute_result"
    }
   ],
   "source": [
    "dataset_predicton_generalization[dataset_predicton_generalization['Error_CUF']>10]['Minutes_CUF'].sum()/dataset_predicton_generalization[dataset_predicton_generalization['Error_CUF']>10].shape[0]"
   ]
  },
  {
   "cell_type": "code",
   "execution_count": 60,
   "metadata": {},
   "outputs": [
    {
     "data": {
      "text/plain": [
       "37.0"
      ]
     },
     "execution_count": 60,
     "metadata": {},
     "output_type": "execute_result"
    }
   ],
   "source": [
    "np.round(mean_squared_error(labels_generalization,generalization_labels_general,squared=False))\n",
    "        \n",
    "        "
   ]
  },
  {
   "cell_type": "code",
   "execution_count": 61,
   "metadata": {},
   "outputs": [
    {
     "name": "stderr",
     "output_type": "stream",
     "text": [
      "Arrays of bytes/strings is being converted to decimal numbers if dtype='numeric'. This behavior is deprecated in 0.24 and will be removed in 1.1 (renaming of 0.26). Please convert your data to numeric values explicitly instead.\n"
     ]
    },
    {
     "data": {
      "text/plain": [
       "43.0"
      ]
     },
     "execution_count": 61,
     "metadata": {},
     "output_type": "execute_result"
    }
   ],
   "source": [
    "np.round(mean_squared_error(generalization_CUF_labels_general,generalization_labels_general,squared=False))\n"
   ]
  },
  {
   "cell_type": "markdown",
   "metadata": {},
   "source": [
    "* Imbalance"
   ]
  },
  {
   "cell_type": "code",
   "execution_count": 20,
   "metadata": {},
   "outputs": [],
   "source": [
    "curve=0\n",
    "value=3"
   ]
  },
  {
   "cell_type": "code",
   "execution_count": 21,
   "metadata": {},
   "outputs": [
    {
     "data": {
      "text/plain": [
       "67"
      ]
     },
     "execution_count": 21,
     "metadata": {},
     "output_type": "execute_result"
    }
   ],
   "source": [
    "len(Rashomon_curve_general[curve][value]['Rules_non0'])"
   ]
  },
  {
   "cell_type": "code",
   "execution_count": 61,
   "metadata": {},
   "outputs": [],
   "source": [
    "Best_model=Rashomon_curve_general[curve][value]['Model']\n"
   ]
  },
  {
   "cell_type": "code",
   "execution_count": 62,
   "metadata": {},
   "outputs": [
    {
     "data": {
      "text/html": [
       "<div>\n",
       "<style scoped>\n",
       "    .dataframe tbody tr th:only-of-type {\n",
       "        vertical-align: middle;\n",
       "    }\n",
       "\n",
       "    .dataframe tbody tr th {\n",
       "        vertical-align: top;\n",
       "    }\n",
       "\n",
       "    .dataframe thead th {\n",
       "        text-align: right;\n",
       "    }\n",
       "</style>\n",
       "<table border=\"1\" class=\"dataframe\">\n",
       "  <thead>\n",
       "    <tr style=\"text-align: right;\">\n",
       "      <th></th>\n",
       "      <th>Real Duration</th>\n",
       "      <th>Planned by Cuf</th>\n",
       "      <th>Labels from RuleFit</th>\n",
       "      <th>Error_RuleFit</th>\n",
       "      <th>Error_CUF</th>\n",
       "    </tr>\n",
       "  </thead>\n",
       "  <tbody>\n",
       "    <tr>\n",
       "      <th>0</th>\n",
       "      <td>41.0</td>\n",
       "      <td>60</td>\n",
       "      <td>43.599646</td>\n",
       "      <td>-6.340599</td>\n",
       "      <td>-46.341463</td>\n",
       "    </tr>\n",
       "    <tr>\n",
       "      <th>3</th>\n",
       "      <td>55.0</td>\n",
       "      <td>60</td>\n",
       "      <td>50.215911</td>\n",
       "      <td>8.698344</td>\n",
       "      <td>-9.090909</td>\n",
       "    </tr>\n",
       "    <tr>\n",
       "      <th>4</th>\n",
       "      <td>12.0</td>\n",
       "      <td>60</td>\n",
       "      <td>33.711367</td>\n",
       "      <td>-180.928058</td>\n",
       "      <td>-400.0</td>\n",
       "    </tr>\n",
       "    <tr>\n",
       "      <th>30</th>\n",
       "      <td>53.0</td>\n",
       "      <td>60</td>\n",
       "      <td>105.581556</td>\n",
       "      <td>-99.210484</td>\n",
       "      <td>-13.207547</td>\n",
       "    </tr>\n",
       "    <tr>\n",
       "      <th>34</th>\n",
       "      <td>55.0</td>\n",
       "      <td>30</td>\n",
       "      <td>59.852519</td>\n",
       "      <td>-8.822762</td>\n",
       "      <td>45.454545</td>\n",
       "    </tr>\n",
       "    <tr>\n",
       "      <th>...</th>\n",
       "      <td>...</td>\n",
       "      <td>...</td>\n",
       "      <td>...</td>\n",
       "      <td>...</td>\n",
       "      <td>...</td>\n",
       "    </tr>\n",
       "    <tr>\n",
       "      <th>169753</th>\n",
       "      <td>19.0</td>\n",
       "      <td>20</td>\n",
       "      <td>24.602777</td>\n",
       "      <td>-29.488298</td>\n",
       "      <td>-5.263158</td>\n",
       "    </tr>\n",
       "    <tr>\n",
       "      <th>169755</th>\n",
       "      <td>90.0</td>\n",
       "      <td>90</td>\n",
       "      <td>77.851826</td>\n",
       "      <td>13.497971</td>\n",
       "      <td>0.0</td>\n",
       "    </tr>\n",
       "    <tr>\n",
       "      <th>169760</th>\n",
       "      <td>94.0</td>\n",
       "      <td>60</td>\n",
       "      <td>28.094434</td>\n",
       "      <td>70.112305</td>\n",
       "      <td>36.170213</td>\n",
       "    </tr>\n",
       "    <tr>\n",
       "      <th>169763</th>\n",
       "      <td>33.0</td>\n",
       "      <td>60</td>\n",
       "      <td>33.064070</td>\n",
       "      <td>-0.194150</td>\n",
       "      <td>-81.818182</td>\n",
       "    </tr>\n",
       "    <tr>\n",
       "      <th>169770</th>\n",
       "      <td>390.0</td>\n",
       "      <td>240</td>\n",
       "      <td>232.829482</td>\n",
       "      <td>40.300133</td>\n",
       "      <td>38.461538</td>\n",
       "    </tr>\n",
       "  </tbody>\n",
       "</table>\n",
       "<p>16977 rows × 5 columns</p>\n",
       "</div>"
      ],
      "text/plain": [
       "        Real Duration  Planned by Cuf  Labels from RuleFit  Error_RuleFit  \\\n",
       "0                41.0              60            43.599646      -6.340599   \n",
       "3                55.0              60            50.215911       8.698344   \n",
       "4                12.0              60            33.711367    -180.928058   \n",
       "30               53.0              60           105.581556     -99.210484   \n",
       "34               55.0              30            59.852519      -8.822762   \n",
       "...               ...             ...                  ...            ...   \n",
       "169753           19.0              20            24.602777     -29.488298   \n",
       "169755           90.0              90            77.851826      13.497971   \n",
       "169760           94.0              60            28.094434      70.112305   \n",
       "169763           33.0              60            33.064070      -0.194150   \n",
       "169770          390.0             240           232.829482      40.300133   \n",
       "\n",
       "        Error_CUF  \n",
       "0      -46.341463  \n",
       "3       -9.090909  \n",
       "4          -400.0  \n",
       "30     -13.207547  \n",
       "34      45.454545  \n",
       "...           ...  \n",
       "169753  -5.263158  \n",
       "169755        0.0  \n",
       "169760  36.170213  \n",
       "169763 -81.818182  \n",
       "169770  38.461538  \n",
       "\n",
       "[16977 rows x 5 columns]"
      ]
     },
     "execution_count": 62,
     "metadata": {},
     "output_type": "execute_result"
    }
   ],
   "source": [
    "dataset_predicton=Rashomon_curve_general[curve][value]['Dataset_predicton']\n",
    "dataset_predicton"
   ]
  },
  {
   "cell_type": "code",
   "execution_count": 63,
   "metadata": {},
   "outputs": [],
   "source": [
    "dataset_predicton['Labels from RuleFit'].to_csv('Labels_RuleFit_speciality_imbalance',index=False)\n",
    "\n"
   ]
  },
  {
   "cell_type": "code",
   "execution_count": null,
   "metadata": {},
   "outputs": [],
   "source": []
  }
 ],
 "metadata": {
  "accelerator": "GPU",
  "colab": {
   "authorship_tag": "ABX9TyNYey+gTE2lnQN6F2DitrqX",
   "collapsed_sections": [],
   "name": "RuleFit.ipynb",
   "provenance": []
  },
  "kernelspec": {
   "display_name": "Python 3",
   "language": "python",
   "name": "python3"
  },
  "language_info": {
   "codemirror_mode": {
    "name": "ipython",
    "version": 3
   },
   "file_extension": ".py",
   "mimetype": "text/x-python",
   "name": "python",
   "nbconvert_exporter": "python",
   "pygments_lexer": "ipython3",
   "version": "3.8.8"
  }
 },
 "nbformat": 4,
 "nbformat_minor": 1
}
