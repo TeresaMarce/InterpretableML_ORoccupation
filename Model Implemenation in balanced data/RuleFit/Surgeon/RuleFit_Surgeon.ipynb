{
 "cells": [
  {
   "cell_type": "markdown",
   "metadata": {},
   "source": [
    "# Rule Fit applied to CUF\n",
    "\n",
    "#### Made by:\n",
    "* Teresa Marcelino (teresamarcelino98@gmail.com)\n",
    "\n",
    "\n",
    "-------\n",
    "\n",
    "\n"
   ]
  },
  {
   "cell_type": "code",
   "execution_count": 39,
   "metadata": {},
   "outputs": [],
   "source": [
    "%store -r Surgeon_model_96440008\n",
    "%store -r Best_Parameters_Regularizers_Surgeon_96440008\n",
    "%store -r Rashomon_curve\n",
    "\n",
    "%store -r Surgeons_Dataset"
   ]
  },
  {
   "cell_type": "markdown",
   "metadata": {},
   "source": [
    "----"
   ]
  },
  {
   "cell_type": "markdown",
   "metadata": {
    "id": "5YX6LDDr5u0A"
   },
   "source": [
    "\n",
    "\n",
    "## 1. Load Data and Libraries  <a class=\"anchor\" id=\"1\"></a> \n"
   ]
  },
  {
   "cell_type": "code",
   "execution_count": 41,
   "metadata": {
    "executionInfo": {
     "elapsed": 313,
     "status": "ok",
     "timestamp": 1623152190991,
     "user": {
      "displayName": "Maria Teresa De Carvalho Dias Marcelino",
      "photoUrl": "",
      "userId": "09725677787817561318"
     },
     "user_tz": -60
    },
    "id": "EhykeetsyVnv"
   },
   "outputs": [],
   "source": [
    "import numpy as np # linear algebra\n",
    "import pandas as pd # data processing, CSV file I/O (e.g. pd.read_csv)\n",
    "import seaborn as sns\n",
    "import shap\n",
    "import matplotlib.pyplot as plt\n",
    "#from rulefit import RuleFit\n",
    "\n",
    "import sklearn\n",
    "\n",
    "from sklearn.linear_model import LinearRegression, Ridge\n",
    "from sklearn.ensemble import GradientBoostingRegressor, RandomForestRegressor, AdaBoostRegressor, BaggingRegressor, ExtraTreesRegressor\n",
    "from sklearn.tree import DecisionTreeRegressor\n",
    "#Encoder\n",
    "from category_encoders import TargetEncoder\n",
    "from sklearn.preprocessing import StandardScaler\n",
    "\n",
    "from sklearn.metrics import *\n",
    "import matplotlib\n",
    "import copy\n",
    "from datetime import datetime\n",
    "\n",
    "from sklearn.linear_model import LassoCV\n",
    "from sklearn.model_selection import GridSearchCV\n",
    "from sklearn.linear_model import Lasso\n",
    "from sklearn.model_selection import cross_val_score\n",
    "\n",
    "from tabulate import tabulate\n",
    "import pickle\n",
    "import math"
   ]
  },
  {
   "cell_type": "code",
   "execution_count": 42,
   "metadata": {},
   "outputs": [],
   "source": [
    "from sklearn.metrics import mean_squared_error"
   ]
  },
  {
   "cell_type": "code",
   "execution_count": 43,
   "metadata": {},
   "outputs": [],
   "source": [
    "import RuleFit_withoutCV as RuleFit_withoutCV\n",
    "\n",
    "import RuleFit_customized as RuleFit_custom\n",
    "from rulefit import RuleFit \n",
    "import pyowl\n",
    "from pyowl import OwlRegressor"
   ]
  },
  {
   "cell_type": "code",
   "execution_count": 44,
   "metadata": {},
   "outputs": [
    {
     "data": {
      "text/html": [
       "<div>\n",
       "<style scoped>\n",
       "    .dataframe tbody tr th:only-of-type {\n",
       "        vertical-align: middle;\n",
       "    }\n",
       "\n",
       "    .dataframe tbody tr th {\n",
       "        vertical-align: top;\n",
       "    }\n",
       "\n",
       "    .dataframe thead th {\n",
       "        text-align: right;\n",
       "    }\n",
       "</style>\n",
       "<table border=\"1\" class=\"dataframe\">\n",
       "  <thead>\n",
       "    <tr style=\"text-align: right;\">\n",
       "      <th></th>\n",
       "      <th>Urgency</th>\n",
       "      <th>Hospitalization</th>\n",
       "      <th>Gender</th>\n",
       "      <th>Daily Surgery Number_perDoctor</th>\n",
       "      <th>Surgery Number Performed_perDoctor</th>\n",
       "      <th>Procedures_I</th>\n",
       "      <th>Real Room Duration</th>\n",
       "      <th>Age</th>\n",
       "      <th>CUF Planned Duration</th>\n",
       "      <th>I1</th>\n",
       "      <th>Part of the day</th>\n",
       "      <th>Speciality</th>\n",
       "      <th>CUF_Unit</th>\n",
       "      <th>Month</th>\n",
       "      <th>Weekday</th>\n",
       "      <th>Anesthesia</th>\n",
       "    </tr>\n",
       "  </thead>\n",
       "  <tbody>\n",
       "    <tr>\n",
       "      <th>0</th>\n",
       "      <td>0</td>\n",
       "      <td>1</td>\n",
       "      <td>0</td>\n",
       "      <td>1</td>\n",
       "      <td>150</td>\n",
       "      <td>1</td>\n",
       "      <td>16</td>\n",
       "      <td>74.0</td>\n",
       "      <td>20</td>\n",
       "      <td>22.274376</td>\n",
       "      <td>28.212867</td>\n",
       "      <td>28.922468</td>\n",
       "      <td>28.931225</td>\n",
       "      <td>28.601695</td>\n",
       "      <td>28.526646</td>\n",
       "      <td>22.730851</td>\n",
       "    </tr>\n",
       "    <tr>\n",
       "      <th>1</th>\n",
       "      <td>0</td>\n",
       "      <td>1</td>\n",
       "      <td>1</td>\n",
       "      <td>5</td>\n",
       "      <td>266</td>\n",
       "      <td>1</td>\n",
       "      <td>12</td>\n",
       "      <td>53.0</td>\n",
       "      <td>20</td>\n",
       "      <td>22.274376</td>\n",
       "      <td>28.212867</td>\n",
       "      <td>28.922468</td>\n",
       "      <td>28.931225</td>\n",
       "      <td>31.794393</td>\n",
       "      <td>29.081590</td>\n",
       "      <td>22.730851</td>\n",
       "    </tr>\n",
       "    <tr>\n",
       "      <th>2</th>\n",
       "      <td>0</td>\n",
       "      <td>1</td>\n",
       "      <td>1</td>\n",
       "      <td>2</td>\n",
       "      <td>269</td>\n",
       "      <td>1</td>\n",
       "      <td>39</td>\n",
       "      <td>53.0</td>\n",
       "      <td>20</td>\n",
       "      <td>22.274376</td>\n",
       "      <td>28.212867</td>\n",
       "      <td>28.922468</td>\n",
       "      <td>28.931225</td>\n",
       "      <td>28.581395</td>\n",
       "      <td>28.526646</td>\n",
       "      <td>49.927586</td>\n",
       "    </tr>\n",
       "    <tr>\n",
       "      <th>3</th>\n",
       "      <td>0</td>\n",
       "      <td>1</td>\n",
       "      <td>0</td>\n",
       "      <td>2</td>\n",
       "      <td>102</td>\n",
       "      <td>1</td>\n",
       "      <td>20</td>\n",
       "      <td>65.0</td>\n",
       "      <td>20</td>\n",
       "      <td>23.431818</td>\n",
       "      <td>28.212867</td>\n",
       "      <td>28.922468</td>\n",
       "      <td>28.931225</td>\n",
       "      <td>25.790476</td>\n",
       "      <td>29.081590</td>\n",
       "      <td>22.730851</td>\n",
       "    </tr>\n",
       "    <tr>\n",
       "      <th>4</th>\n",
       "      <td>0</td>\n",
       "      <td>1</td>\n",
       "      <td>1</td>\n",
       "      <td>4</td>\n",
       "      <td>63</td>\n",
       "      <td>1</td>\n",
       "      <td>20</td>\n",
       "      <td>22.0</td>\n",
       "      <td>20</td>\n",
       "      <td>24.076953</td>\n",
       "      <td>28.212867</td>\n",
       "      <td>28.922468</td>\n",
       "      <td>28.931225</td>\n",
       "      <td>28.039216</td>\n",
       "      <td>28.663239</td>\n",
       "      <td>22.730851</td>\n",
       "    </tr>\n",
       "    <tr>\n",
       "      <th>...</th>\n",
       "      <td>...</td>\n",
       "      <td>...</td>\n",
       "      <td>...</td>\n",
       "      <td>...</td>\n",
       "      <td>...</td>\n",
       "      <td>...</td>\n",
       "      <td>...</td>\n",
       "      <td>...</td>\n",
       "      <td>...</td>\n",
       "      <td>...</td>\n",
       "      <td>...</td>\n",
       "      <td>...</td>\n",
       "      <td>...</td>\n",
       "      <td>...</td>\n",
       "      <td>...</td>\n",
       "      <td>...</td>\n",
       "    </tr>\n",
       "    <tr>\n",
       "      <th>153</th>\n",
       "      <td>0</td>\n",
       "      <td>1</td>\n",
       "      <td>0</td>\n",
       "      <td>2</td>\n",
       "      <td>1577</td>\n",
       "      <td>1</td>\n",
       "      <td>25</td>\n",
       "      <td>38.0</td>\n",
       "      <td>30</td>\n",
       "      <td>23.431818</td>\n",
       "      <td>27.390625</td>\n",
       "      <td>28.922468</td>\n",
       "      <td>28.931225</td>\n",
       "      <td>26.371429</td>\n",
       "      <td>28.663239</td>\n",
       "      <td>22.730851</td>\n",
       "    </tr>\n",
       "    <tr>\n",
       "      <th>154</th>\n",
       "      <td>0</td>\n",
       "      <td>1</td>\n",
       "      <td>0</td>\n",
       "      <td>5</td>\n",
       "      <td>1589</td>\n",
       "      <td>1</td>\n",
       "      <td>19</td>\n",
       "      <td>41.0</td>\n",
       "      <td>30</td>\n",
       "      <td>24.076953</td>\n",
       "      <td>42.573529</td>\n",
       "      <td>28.922468</td>\n",
       "      <td>28.931225</td>\n",
       "      <td>28.136842</td>\n",
       "      <td>29.081590</td>\n",
       "      <td>49.927586</td>\n",
       "    </tr>\n",
       "    <tr>\n",
       "      <th>155</th>\n",
       "      <td>0</td>\n",
       "      <td>1</td>\n",
       "      <td>1</td>\n",
       "      <td>3</td>\n",
       "      <td>1302</td>\n",
       "      <td>1</td>\n",
       "      <td>17</td>\n",
       "      <td>71.0</td>\n",
       "      <td>20</td>\n",
       "      <td>22.274376</td>\n",
       "      <td>28.212867</td>\n",
       "      <td>28.922468</td>\n",
       "      <td>28.931225</td>\n",
       "      <td>29.500000</td>\n",
       "      <td>29.081590</td>\n",
       "      <td>22.730851</td>\n",
       "    </tr>\n",
       "    <tr>\n",
       "      <th>156</th>\n",
       "      <td>0</td>\n",
       "      <td>1</td>\n",
       "      <td>1</td>\n",
       "      <td>2</td>\n",
       "      <td>1547</td>\n",
       "      <td>1</td>\n",
       "      <td>14</td>\n",
       "      <td>55.0</td>\n",
       "      <td>30</td>\n",
       "      <td>24.229623</td>\n",
       "      <td>27.390625</td>\n",
       "      <td>28.922468</td>\n",
       "      <td>28.931225</td>\n",
       "      <td>27.347826</td>\n",
       "      <td>29.081590</td>\n",
       "      <td>21.485714</td>\n",
       "    </tr>\n",
       "    <tr>\n",
       "      <th>157</th>\n",
       "      <td>0</td>\n",
       "      <td>1</td>\n",
       "      <td>0</td>\n",
       "      <td>4</td>\n",
       "      <td>1303</td>\n",
       "      <td>1</td>\n",
       "      <td>30</td>\n",
       "      <td>69.0</td>\n",
       "      <td>20</td>\n",
       "      <td>22.274376</td>\n",
       "      <td>28.212867</td>\n",
       "      <td>28.922468</td>\n",
       "      <td>28.931225</td>\n",
       "      <td>29.500000</td>\n",
       "      <td>29.081590</td>\n",
       "      <td>22.730851</td>\n",
       "    </tr>\n",
       "  </tbody>\n",
       "</table>\n",
       "<p>158 rows × 16 columns</p>\n",
       "</div>"
      ],
      "text/plain": [
       "     Urgency  Hospitalization  Gender  Daily Surgery Number_perDoctor  \\\n",
       "0          0                1       0                               1   \n",
       "1          0                1       1                               5   \n",
       "2          0                1       1                               2   \n",
       "3          0                1       0                               2   \n",
       "4          0                1       1                               4   \n",
       "..       ...              ...     ...                             ...   \n",
       "153        0                1       0                               2   \n",
       "154        0                1       0                               5   \n",
       "155        0                1       1                               3   \n",
       "156        0                1       1                               2   \n",
       "157        0                1       0                               4   \n",
       "\n",
       "     Surgery Number Performed_perDoctor  Procedures_I  Real Room Duration  \\\n",
       "0                                   150             1                  16   \n",
       "1                                   266             1                  12   \n",
       "2                                   269             1                  39   \n",
       "3                                   102             1                  20   \n",
       "4                                    63             1                  20   \n",
       "..                                  ...           ...                 ...   \n",
       "153                                1577             1                  25   \n",
       "154                                1589             1                  19   \n",
       "155                                1302             1                  17   \n",
       "156                                1547             1                  14   \n",
       "157                                1303             1                  30   \n",
       "\n",
       "      Age  CUF Planned Duration         I1  Part of the day  Speciality  \\\n",
       "0    74.0                    20  22.274376        28.212867   28.922468   \n",
       "1    53.0                    20  22.274376        28.212867   28.922468   \n",
       "2    53.0                    20  22.274376        28.212867   28.922468   \n",
       "3    65.0                    20  23.431818        28.212867   28.922468   \n",
       "4    22.0                    20  24.076953        28.212867   28.922468   \n",
       "..    ...                   ...        ...              ...         ...   \n",
       "153  38.0                    30  23.431818        27.390625   28.922468   \n",
       "154  41.0                    30  24.076953        42.573529   28.922468   \n",
       "155  71.0                    20  22.274376        28.212867   28.922468   \n",
       "156  55.0                    30  24.229623        27.390625   28.922468   \n",
       "157  69.0                    20  22.274376        28.212867   28.922468   \n",
       "\n",
       "      CUF_Unit      Month    Weekday  Anesthesia  \n",
       "0    28.931225  28.601695  28.526646   22.730851  \n",
       "1    28.931225  31.794393  29.081590   22.730851  \n",
       "2    28.931225  28.581395  28.526646   49.927586  \n",
       "3    28.931225  25.790476  29.081590   22.730851  \n",
       "4    28.931225  28.039216  28.663239   22.730851  \n",
       "..         ...        ...        ...         ...  \n",
       "153  28.931225  26.371429  28.663239   22.730851  \n",
       "154  28.931225  28.136842  29.081590   49.927586  \n",
       "155  28.931225  29.500000  29.081590   22.730851  \n",
       "156  28.931225  27.347826  29.081590   21.485714  \n",
       "157  28.931225  29.500000  29.081590   22.730851  \n",
       "\n",
       "[158 rows x 16 columns]"
      ]
     },
     "execution_count": 44,
     "metadata": {},
     "output_type": "execute_result"
    }
   ],
   "source": [
    "df_test_surgeon = pd.read_csv('Data_test_surgeon',header='infer')\n",
    "df_test_surgeon\n"
   ]
  },
  {
   "cell_type": "code",
   "execution_count": 45,
   "metadata": {
    "colab": {
     "base_uri": "https://localhost:8080/"
    },
    "executionInfo": {
     "elapsed": 1347,
     "status": "ok",
     "timestamp": 1623150738852,
     "user": {
      "displayName": "Maria Teresa De Carvalho Dias Marcelino",
      "photoUrl": "",
      "userId": "09725677787817561318"
     },
     "user_tz": -60
    },
    "id": "t_BCNasFzs1a",
    "outputId": "2af652a1-c4c9-4b66-9d89-781c4fe60dbe"
   },
   "outputs": [
    {
     "data": {
      "text/html": [
       "<div>\n",
       "<style scoped>\n",
       "    .dataframe tbody tr th:only-of-type {\n",
       "        vertical-align: middle;\n",
       "    }\n",
       "\n",
       "    .dataframe tbody tr th {\n",
       "        vertical-align: top;\n",
       "    }\n",
       "\n",
       "    .dataframe thead th {\n",
       "        text-align: right;\n",
       "    }\n",
       "</style>\n",
       "<table border=\"1\" class=\"dataframe\">\n",
       "  <thead>\n",
       "    <tr style=\"text-align: right;\">\n",
       "      <th></th>\n",
       "      <th>Urgency</th>\n",
       "      <th>Hospitalization</th>\n",
       "      <th>Gender</th>\n",
       "      <th>Daily Surgery Number_perDoctor</th>\n",
       "      <th>Surgery Number Performed_perDoctor</th>\n",
       "      <th>Procedures_I</th>\n",
       "      <th>Real Room Duration</th>\n",
       "      <th>Age</th>\n",
       "      <th>CUF Planned Duration</th>\n",
       "      <th>I1</th>\n",
       "      <th>Part of the day</th>\n",
       "      <th>Speciality</th>\n",
       "      <th>CUF_Unit</th>\n",
       "      <th>Month</th>\n",
       "      <th>Weekday</th>\n",
       "      <th>Anesthesia</th>\n",
       "    </tr>\n",
       "  </thead>\n",
       "  <tbody>\n",
       "    <tr>\n",
       "      <th>0</th>\n",
       "      <td>0</td>\n",
       "      <td>1</td>\n",
       "      <td>0</td>\n",
       "      <td>6.0</td>\n",
       "      <td>190.0</td>\n",
       "      <td>1.0</td>\n",
       "      <td>45.000000</td>\n",
       "      <td>73.000000</td>\n",
       "      <td>NaN</td>\n",
       "      <td>52.334804</td>\n",
       "      <td>28.212867</td>\n",
       "      <td>28.922468</td>\n",
       "      <td>28.931225</td>\n",
       "      <td>28.601695</td>\n",
       "      <td>29.081590</td>\n",
       "      <td>49.927586</td>\n",
       "    </tr>\n",
       "    <tr>\n",
       "      <th>1</th>\n",
       "      <td>0</td>\n",
       "      <td>1</td>\n",
       "      <td>0</td>\n",
       "      <td>2.0</td>\n",
       "      <td>920.0</td>\n",
       "      <td>2.0</td>\n",
       "      <td>20.000000</td>\n",
       "      <td>68.000000</td>\n",
       "      <td>20.0</td>\n",
       "      <td>22.274376</td>\n",
       "      <td>28.212867</td>\n",
       "      <td>28.922468</td>\n",
       "      <td>28.931225</td>\n",
       "      <td>25.790476</td>\n",
       "      <td>28.526646</td>\n",
       "      <td>22.730851</td>\n",
       "    </tr>\n",
       "    <tr>\n",
       "      <th>2</th>\n",
       "      <td>0</td>\n",
       "      <td>1</td>\n",
       "      <td>0</td>\n",
       "      <td>3.0</td>\n",
       "      <td>192.0</td>\n",
       "      <td>1.0</td>\n",
       "      <td>36.832935</td>\n",
       "      <td>71.046403</td>\n",
       "      <td>NaN</td>\n",
       "      <td>53.762436</td>\n",
       "      <td>28.212510</td>\n",
       "      <td>28.922685</td>\n",
       "      <td>28.930151</td>\n",
       "      <td>31.281645</td>\n",
       "      <td>28.848036</td>\n",
       "      <td>41.516894</td>\n",
       "    </tr>\n",
       "    <tr>\n",
       "      <th>3</th>\n",
       "      <td>0</td>\n",
       "      <td>1</td>\n",
       "      <td>0</td>\n",
       "      <td>4.0</td>\n",
       "      <td>600.0</td>\n",
       "      <td>1.0</td>\n",
       "      <td>20.000000</td>\n",
       "      <td>80.000000</td>\n",
       "      <td>30.0</td>\n",
       "      <td>22.274376</td>\n",
       "      <td>27.390625</td>\n",
       "      <td>28.922468</td>\n",
       "      <td>28.931225</td>\n",
       "      <td>28.601695</td>\n",
       "      <td>26.365854</td>\n",
       "      <td>22.730851</td>\n",
       "    </tr>\n",
       "    <tr>\n",
       "      <th>4</th>\n",
       "      <td>0</td>\n",
       "      <td>1</td>\n",
       "      <td>1</td>\n",
       "      <td>4.0</td>\n",
       "      <td>446.0</td>\n",
       "      <td>1.0</td>\n",
       "      <td>23.000000</td>\n",
       "      <td>56.000000</td>\n",
       "      <td>60.0</td>\n",
       "      <td>22.274376</td>\n",
       "      <td>28.212867</td>\n",
       "      <td>28.922468</td>\n",
       "      <td>28.931225</td>\n",
       "      <td>28.136842</td>\n",
       "      <td>28.663239</td>\n",
       "      <td>22.730851</td>\n",
       "    </tr>\n",
       "    <tr>\n",
       "      <th>...</th>\n",
       "      <td>...</td>\n",
       "      <td>...</td>\n",
       "      <td>...</td>\n",
       "      <td>...</td>\n",
       "      <td>...</td>\n",
       "      <td>...</td>\n",
       "      <td>...</td>\n",
       "      <td>...</td>\n",
       "      <td>...</td>\n",
       "      <td>...</td>\n",
       "      <td>...</td>\n",
       "      <td>...</td>\n",
       "      <td>...</td>\n",
       "      <td>...</td>\n",
       "      <td>...</td>\n",
       "      <td>...</td>\n",
       "    </tr>\n",
       "    <tr>\n",
       "      <th>2456</th>\n",
       "      <td>0</td>\n",
       "      <td>1</td>\n",
       "      <td>0</td>\n",
       "      <td>3.0</td>\n",
       "      <td>455.0</td>\n",
       "      <td>1.0</td>\n",
       "      <td>55.663351</td>\n",
       "      <td>82.065232</td>\n",
       "      <td>NaN</td>\n",
       "      <td>70.357113</td>\n",
       "      <td>28.212969</td>\n",
       "      <td>28.921439</td>\n",
       "      <td>28.931835</td>\n",
       "      <td>29.499133</td>\n",
       "      <td>28.775653</td>\n",
       "      <td>49.928664</td>\n",
       "    </tr>\n",
       "    <tr>\n",
       "      <th>2457</th>\n",
       "      <td>0</td>\n",
       "      <td>1</td>\n",
       "      <td>1</td>\n",
       "      <td>7.0</td>\n",
       "      <td>711.0</td>\n",
       "      <td>1.0</td>\n",
       "      <td>51.229983</td>\n",
       "      <td>59.679937</td>\n",
       "      <td>NaN</td>\n",
       "      <td>53.742975</td>\n",
       "      <td>28.213870</td>\n",
       "      <td>28.921902</td>\n",
       "      <td>28.931201</td>\n",
       "      <td>31.823513</td>\n",
       "      <td>28.903062</td>\n",
       "      <td>49.929983</td>\n",
       "    </tr>\n",
       "    <tr>\n",
       "      <th>2458</th>\n",
       "      <td>0</td>\n",
       "      <td>1</td>\n",
       "      <td>1</td>\n",
       "      <td>3.0</td>\n",
       "      <td>1218.0</td>\n",
       "      <td>1.0</td>\n",
       "      <td>20.000000</td>\n",
       "      <td>66.000000</td>\n",
       "      <td>30.0</td>\n",
       "      <td>22.274376</td>\n",
       "      <td>28.212867</td>\n",
       "      <td>28.922468</td>\n",
       "      <td>28.931225</td>\n",
       "      <td>27.347826</td>\n",
       "      <td>28.526646</td>\n",
       "      <td>22.730851</td>\n",
       "    </tr>\n",
       "    <tr>\n",
       "      <th>2459</th>\n",
       "      <td>0</td>\n",
       "      <td>1</td>\n",
       "      <td>1</td>\n",
       "      <td>4.0</td>\n",
       "      <td>369.0</td>\n",
       "      <td>1.0</td>\n",
       "      <td>28.000000</td>\n",
       "      <td>69.000000</td>\n",
       "      <td>20.0</td>\n",
       "      <td>53.745098</td>\n",
       "      <td>28.212867</td>\n",
       "      <td>28.922468</td>\n",
       "      <td>28.931225</td>\n",
       "      <td>27.347826</td>\n",
       "      <td>28.663239</td>\n",
       "      <td>49.927586</td>\n",
       "    </tr>\n",
       "    <tr>\n",
       "      <th>2460</th>\n",
       "      <td>0</td>\n",
       "      <td>1</td>\n",
       "      <td>1</td>\n",
       "      <td>4.0</td>\n",
       "      <td>136.0</td>\n",
       "      <td>1.0</td>\n",
       "      <td>33.963667</td>\n",
       "      <td>66.903502</td>\n",
       "      <td>NaN</td>\n",
       "      <td>22.275344</td>\n",
       "      <td>28.211397</td>\n",
       "      <td>28.923093</td>\n",
       "      <td>28.931261</td>\n",
       "      <td>26.305119</td>\n",
       "      <td>28.641047</td>\n",
       "      <td>21.326406</td>\n",
       "    </tr>\n",
       "  </tbody>\n",
       "</table>\n",
       "<p>2461 rows × 16 columns</p>\n",
       "</div>"
      ],
      "text/plain": [
       "      Urgency  Hospitalization  Gender  Daily Surgery Number_perDoctor  \\\n",
       "0           0                1       0                             6.0   \n",
       "1           0                1       0                             2.0   \n",
       "2           0                1       0                             3.0   \n",
       "3           0                1       0                             4.0   \n",
       "4           0                1       1                             4.0   \n",
       "...       ...              ...     ...                             ...   \n",
       "2456        0                1       0                             3.0   \n",
       "2457        0                1       1                             7.0   \n",
       "2458        0                1       1                             3.0   \n",
       "2459        0                1       1                             4.0   \n",
       "2460        0                1       1                             4.0   \n",
       "\n",
       "      Surgery Number Performed_perDoctor  Procedures_I  Real Room Duration  \\\n",
       "0                                  190.0           1.0           45.000000   \n",
       "1                                  920.0           2.0           20.000000   \n",
       "2                                  192.0           1.0           36.832935   \n",
       "3                                  600.0           1.0           20.000000   \n",
       "4                                  446.0           1.0           23.000000   \n",
       "...                                  ...           ...                 ...   \n",
       "2456                               455.0           1.0           55.663351   \n",
       "2457                               711.0           1.0           51.229983   \n",
       "2458                              1218.0           1.0           20.000000   \n",
       "2459                               369.0           1.0           28.000000   \n",
       "2460                               136.0           1.0           33.963667   \n",
       "\n",
       "            Age  CUF Planned Duration         I1  Part of the day  Speciality  \\\n",
       "0     73.000000                   NaN  52.334804        28.212867   28.922468   \n",
       "1     68.000000                  20.0  22.274376        28.212867   28.922468   \n",
       "2     71.046403                   NaN  53.762436        28.212510   28.922685   \n",
       "3     80.000000                  30.0  22.274376        27.390625   28.922468   \n",
       "4     56.000000                  60.0  22.274376        28.212867   28.922468   \n",
       "...         ...                   ...        ...              ...         ...   \n",
       "2456  82.065232                   NaN  70.357113        28.212969   28.921439   \n",
       "2457  59.679937                   NaN  53.742975        28.213870   28.921902   \n",
       "2458  66.000000                  30.0  22.274376        28.212867   28.922468   \n",
       "2459  69.000000                  20.0  53.745098        28.212867   28.922468   \n",
       "2460  66.903502                   NaN  22.275344        28.211397   28.923093   \n",
       "\n",
       "       CUF_Unit      Month    Weekday  Anesthesia  \n",
       "0     28.931225  28.601695  29.081590   49.927586  \n",
       "1     28.931225  25.790476  28.526646   22.730851  \n",
       "2     28.930151  31.281645  28.848036   41.516894  \n",
       "3     28.931225  28.601695  26.365854   22.730851  \n",
       "4     28.931225  28.136842  28.663239   22.730851  \n",
       "...         ...        ...        ...         ...  \n",
       "2456  28.931835  29.499133  28.775653   49.928664  \n",
       "2457  28.931201  31.823513  28.903062   49.929983  \n",
       "2458  28.931225  27.347826  28.526646   22.730851  \n",
       "2459  28.931225  27.347826  28.663239   49.927586  \n",
       "2460  28.931261  26.305119  28.641047   21.326406  \n",
       "\n",
       "[2461 rows x 16 columns]"
      ]
     },
     "execution_count": 45,
     "metadata": {},
     "output_type": "execute_result"
    }
   ],
   "source": [
    "df_train_surgeon = pd.read_csv('Data_withsyntheticdata_surgeon',header='infer')\n",
    "df_train_surgeon"
   ]
  },
  {
   "cell_type": "markdown",
   "metadata": {},
   "source": [
    "----"
   ]
  },
  {
   "cell_type": "markdown",
   "metadata": {},
   "source": [
    "\n",
    "## 1. Surgeon-specific RuleFit  <a class=\"anchor\" id=\"1\"></a> "
   ]
  },
  {
   "cell_type": "markdown",
   "metadata": {},
   "source": [
    "### 1.1.  Split Data  <a class=\"anchor\" id=\"1.1\"></a> "
   ]
  },
  {
   "cell_type": "code",
   "execution_count": 46,
   "metadata": {},
   "outputs": [],
   "source": [
    "train_dataset_surgeons= df_train_surgeon\n",
    "test_dataset_surgeons = df_test_surgeon\n",
    "\n",
    "\n",
    "train_features_surgeons = train_dataset_surgeons.copy()\n",
    "test_features_surgeons = test_dataset_surgeons.copy()\n",
    "\n",
    "train_labels_surgeons = train_features_surgeons.pop('Real Room Duration')\n",
    "test_labels_surgeons = test_features_surgeons.pop('Real Room Duration')\n",
    "\n",
    "train_CUF_labels_surgeons = train_features_surgeons.pop('CUF Planned Duration')\n",
    "test_CUF_labels_surgeons= test_features_surgeons.pop('CUF Planned Duration')\n",
    "\n",
    "\n",
    "#Resolve issue \"Failed to convert a NumPy array to a Tensor (Unsupported object type int)\"\"\n",
    "surgeoncolumns=train_features_surgeons.columns\n",
    "#Dataset\n",
    "train_dataset_surgeons= np.asarray(train_dataset_surgeons).astype(np.float32)\n",
    "test_dataset_surgeons = np.asarray(test_dataset_surgeons).astype(np.float32)\n",
    "\n",
    "#Features\n",
    "train_features_surgeons= np.asarray(train_features_surgeons).astype(np.float32)\n",
    "test_features_surgeons = np.asarray(test_features_surgeons).astype(np.float32)\n",
    "\n",
    "#labels\n",
    "train_labels_surgeons = np.asarray(train_labels_surgeons).astype(np.float32)\n",
    "test_labels_surgeons = np.asarray(test_labels_surgeons).astype(np.float32)\n",
    "\n",
    "\n",
    "#CUF\n",
    "train_CUF_labels_surgeons = np.asarray(train_CUF_labels_surgeons).astype(np.float32)\n",
    "test_CUF_labels_surgeons = np.asarray(test_CUF_labels_surgeons).astype(np.float32)\n"
   ]
  },
  {
   "cell_type": "code",
   "execution_count": 47,
   "metadata": {},
   "outputs": [],
   "source": [
    "Datasets_surgeon_96440008=Surgeons_Dataset['96440008']"
   ]
  },
  {
   "cell_type": "markdown",
   "metadata": {},
   "source": [
    "### 1.2.  Parameters Tuning  <a class=\"anchor\" id=\"1.2\"></a> \n",
    "\n",
    "\n"
   ]
  },
  {
   "cell_type": "code",
   "execution_count": 48,
   "metadata": {},
   "outputs": [],
   "source": [
    "Tuning_models = {'Library_Script':['RuleFit_custom',\n",
    "                                  'RuleFit_withoutCV'], \n",
    "                 'Decision_Tree':[RandomForestRegressor,\n",
    "                                  GradientBoostingRegressor,\n",
    "                                  BaggingRegressor,\n",
    "                                  ExtraTreesRegressor],\n",
    "                 'Regularizers_0':['LassoCV','ElasticNetCV','Pyowl'],\n",
    "                 'Regularizers_1':['Lasso','ElasticNet','Pyowl'],\n",
    "                 'Alphas':np.logspace(-8, math.log(3,10), 1000,base=10), #between 10^-7 and 3\n",
    "                }\n",
    "\n",
    "Tuning_models.update({'Cs':1./Tuning_models['Alphas']})"
   ]
  },
  {
   "cell_type": "code",
   "execution_count": 49,
   "metadata": {},
   "outputs": [],
   "source": [
    "Best_Parameters_Decison_Tree_Surgeons= {}\n",
    "\n",
    "for i in Tuning_models['Decision_Tree']:\n",
    "    # The Normalization layer\n",
    "    Best_Parameters_Decison_Tree_Surgeons[i] = {}"
   ]
  },
  {
   "cell_type": "code",
   "execution_count": 50,
   "metadata": {},
   "outputs": [],
   "source": [
    "Parameters_RandomForestRegressor = {'n_estimators':[100,250,500,750,1000,1250,1500,1750],\n",
    "              'max_depth':[3,4]}\n",
    "\n",
    "Parameters_GradientBoostingRegressor = {'learning_rate':[0.15,0.1,0.05,0.01,0.005,0.001], \n",
    "                                        'n_estimators':[100,250,500,750,1000,1250,1500,1750],\n",
    "                                        'max_depth':[3,4]}\n",
    "\n",
    "Parameters_BaggingRegressor = {'n_estimators':[100,250,500,750,1000,1250,1500,1750],\n",
    "                               'base_estimator__max_depth':[3,4]}\n",
    "\n",
    "Parameters_ExtraTreesRegressor = {'n_estimators':[100,250,500,750,1000,1250,1500,1750],\n",
    "                                  'max_depth':[3,4]}\n",
    "\n",
    "Best_Parameters_Decison_Tree_Surgeons[Tuning_models['Decision_Tree'][0]].update({\"Search_Parameters\": Parameters_RandomForestRegressor})\n",
    "Best_Parameters_Decison_Tree_Surgeons[Tuning_models['Decision_Tree'][1]].update({\"Search_Parameters\": Parameters_GradientBoostingRegressor})\n",
    "Best_Parameters_Decison_Tree_Surgeons[Tuning_models['Decision_Tree'][2]].update({\"Search_Parameters\": Parameters_BaggingRegressor})\n",
    "Best_Parameters_Decison_Tree_Surgeons[Tuning_models['Decision_Tree'][3]].update({\"Search_Parameters\": Parameters_ExtraTreesRegressor})\n",
    "\n",
    "\n"
   ]
  },
  {
   "cell_type": "code",
   "execution_count": 132,
   "metadata": {},
   "outputs": [],
   "source": [
    "Surgeon_model_96440008={} #creation of dictionaries for all 442 models \n",
    "\n",
    "for j in Tuning_models['Decision_Tree']:\n",
    "        \n",
    "    Surgeon_model_96440008[j]={}\n"
   ]
  },
  {
   "cell_type": "markdown",
   "metadata": {},
   "source": [
    "* ### 1.2.1  Tuning Decision Trees  <a class=\"anchor\" id=\"1.2.1\"></a> \n"
   ]
  },
  {
   "cell_type": "code",
   "execution_count": 133,
   "metadata": {},
   "outputs": [
    {
     "name": "stdout",
     "output_type": "stream",
     "text": [
      "Fitting 5 folds for each of 16 candidates, totalling 80 fits\n",
      "<class 'sklearn.ensemble._forest.RandomForestRegressor'>\n",
      "Fitting 5 folds for each of 96 candidates, totalling 480 fits\n",
      "<class 'sklearn.ensemble._gb.GradientBoostingRegressor'>\n",
      "Fitting 5 folds for each of 16 candidates, totalling 80 fits\n",
      "<class 'sklearn.ensemble._bagging.BaggingRegressor'>\n",
      "Fitting 5 folds for each of 16 candidates, totalling 80 fits\n",
      "<class 'sklearn.ensemble._forest.ExtraTreesRegressor'>\n"
     ]
    }
   ],
   "source": [
    "for i in range(len(Tuning_models['Decision_Tree'])):\n",
    "    if i!=2:\n",
    "        Decison_Tree=Tuning_models['Decision_Tree'][i](random_state=123)\n",
    "    else:\n",
    "        Decison_Tree=Tuning_models['Decision_Tree'][i](base_estimator=DecisionTreeRegressor(),random_state=123)\n",
    "\n",
    "    Parameters_Decision_Tree=Best_Parameters_Decison_Tree_Surgeons[Tuning_models['Decision_Tree'][i]][\"Search_Parameters\"]\n",
    "\n",
    "    tuning = GridSearchCV(estimator=Decison_Tree, \n",
    "                              param_grid = Parameters_Decision_Tree, \n",
    "                              scoring='neg_mean_absolute_error',n_jobs=-1, cv=5,verbose=1)\n",
    "\n",
    "\n",
    "    tuning.fit(train_features_surgeons, train_labels_surgeons)\n",
    "    Best_estimator=tuning.best_estimator_\n",
    "    Best_params=tuning.best_params_\n",
    "\n",
    "    print(Tuning_models['Decision_Tree'][i])\n",
    "\n",
    "    Surgeon_model_96440008[Tuning_models['Decision_Tree'][i]].update({\"Best_estimator\": Best_estimator})\n",
    "    Surgeon_model_96440008[Tuning_models['Decision_Tree'][i]].update({\"Best_params_dict\": Best_params})\n",
    "\n"
   ]
  },
  {
   "cell_type": "code",
   "execution_count": 134,
   "metadata": {},
   "outputs": [
    {
     "name": "stdout",
     "output_type": "stream",
     "text": [
      "Stored 'Surgeon_model_96440008' (dict)\n"
     ]
    }
   ],
   "source": [
    "%store Surgeon_model_96440008"
   ]
  },
  {
   "cell_type": "markdown",
   "metadata": {},
   "source": [
    "### 1.3.  Perform Rulefit for all DecisionTree and Regularizers  <a class=\"anchor\" id=\"1.3\"></a> \n"
   ]
  },
  {
   "cell_type": "code",
   "execution_count": 135,
   "metadata": {},
   "outputs": [],
   "source": [
    "Best_Parameters_Regularizers_Surgeon= {}\n",
    "\n",
    "for r in Tuning_models['Library_Script']:\n",
    "        # The Normalization layer\n",
    "        Best_Parameters_Regularizers_Surgeon[r] = {}\n",
    "\n",
    "        for l in Tuning_models['Decision_Tree']:\n",
    "        # The Normalization layer\n",
    "            Best_Parameters_Regularizers_Surgeon[r][l] = {}\n",
    "\n",
    "            for j in range(len(Tuning_models['Regularizers_0'])):\n",
    "\n",
    "                if r==Tuning_models['Library_Script'][0]:\n",
    "\n",
    "                    Best_Parameters_Regularizers_Surgeon[r][l][Tuning_models['Regularizers_0'][j]]={}\n",
    "\n",
    "                else:\n",
    "                    Best_Parameters_Regularizers_Surgeon[r][l][Tuning_models['Regularizers_1'][j]]={}\n"
   ]
  },
  {
   "cell_type": "code",
   "execution_count": 136,
   "metadata": {},
   "outputs": [
    {
     "name": "stdout",
     "output_type": "stream",
     "text": [
      "GradientBoostingRegressor(max_depth=4, random_state=123)\n"
     ]
    },
    {
     "data": {
      "text/plain": [
       "1414"
      ]
     },
     "execution_count": 136,
     "metadata": {},
     "output_type": "execute_result"
    }
   ],
   "source": [
    "Parameters=Surgeon_model_96440008[Tuning_models['Decision_Tree'][1]][\"Best_params_dict\"]\n",
    "Decison_Tree=Tuning_models['Decision_Tree'][1](random_state=123,learning_rate=Parameters[\"learning_rate\"],max_depth=Parameters[\"max_depth\"],n_estimators=Parameters[\"n_estimators\"])\n",
    "print(Decison_Tree)\n",
    "beta=10000\n",
    "alpha=0.1\n",
    "Decison_Tree_tune=copy.deepcopy(Decison_Tree)\n",
    "rf = RuleFit_withoutCV.RuleFit(tree_generator=Decison_Tree_tune, alpha=alpha,beta=beta, max_iter=10e10, regularization='Pyowl',n_jobs=-1)\n",
    "rf.fit(train_features_surgeons, train_labels_surgeons, feature_names=surgeoncolumns)\n",
    "\n",
    "rules = rf.get_rules()\n",
    "\n",
    "reduce_rules = rules[abs(rules.coef) !=0].sort_values(\"coef\", ascending=False)\n",
    "len(reduce_rules)"
   ]
  },
  {
   "cell_type": "code",
   "execution_count": 137,
   "metadata": {},
   "outputs": [
    {
     "data": {
      "text/plain": [
       "18.0"
      ]
     },
     "execution_count": 137,
     "metadata": {},
     "output_type": "execute_result"
    }
   ],
   "source": [
    "rf_score = np.round(mean_squared_error(rf.predict(test_features_surgeons),test_labels_surgeons,squared=False))\n",
    "rf_score"
   ]
  },
  {
   "cell_type": "code",
   "execution_count": 138,
   "metadata": {},
   "outputs": [],
   "source": [
    "\n",
    "def percCal(x,y):\n",
    "    return (x-y)*100/x"
   ]
  },
  {
   "cell_type": "code",
   "execution_count": 139,
   "metadata": {},
   "outputs": [
    {
     "name": "stdout",
     "output_type": "stream",
     "text": [
      "RandomForestRegressor(max_depth=4, random_state=123)\n",
      "Lasso\n",
      "1000\n"
     ]
    },
    {
     "name": "stderr",
     "output_type": "stream",
     "text": [
      "Objective did not converge. You might want to increase the number of iterations. Duality gap: 124858.30707420134, tolerance: 110.66890997069427\n"
     ]
    },
    {
     "name": "stdout",
     "output_type": "stream",
     "text": [
      "943\n",
      "900\n"
     ]
    },
    {
     "name": "stderr",
     "output_type": "stream",
     "text": [
      "Objective did not converge. You might want to increase the number of iterations. Duality gap: 15064.006854972045, tolerance: 110.66890997069427\n"
     ]
    },
    {
     "name": "stdout",
     "output_type": "stream",
     "text": [
      "173\n",
      "800\n"
     ]
    },
    {
     "name": "stderr",
     "output_type": "stream",
     "text": [
      "Objective did not converge. You might want to increase the number of iterations. Duality gap: 6096.999152770382, tolerance: 110.66890997069427\n"
     ]
    },
    {
     "name": "stdout",
     "output_type": "stream",
     "text": [
      "149\n",
      "700\n"
     ]
    },
    {
     "name": "stderr",
     "output_type": "stream",
     "text": [
      "Objective did not converge. You might want to increase the number of iterations. Duality gap: 1187.9260136923986, tolerance: 110.66890997069427\n"
     ]
    },
    {
     "name": "stdout",
     "output_type": "stream",
     "text": [
      "136\n",
      "600\n"
     ]
    },
    {
     "name": "stderr",
     "output_type": "stream",
     "text": [
      "Objective did not converge. You might want to increase the number of iterations. Duality gap: 3051.537830641202, tolerance: 110.66890997069427\n"
     ]
    },
    {
     "name": "stdout",
     "output_type": "stream",
     "text": [
      "116\n",
      "500\n"
     ]
    },
    {
     "name": "stderr",
     "output_type": "stream",
     "text": [
      "Objective did not converge. You might want to increase the number of iterations. Duality gap: 421.88770118303364, tolerance: 110.66890997069427\n"
     ]
    },
    {
     "name": "stdout",
     "output_type": "stream",
     "text": [
      "98\n",
      "400\n"
     ]
    },
    {
     "name": "stderr",
     "output_type": "stream",
     "text": [
      "Objective did not converge. You might want to increase the number of iterations. Duality gap: 400.93085505941417, tolerance: 110.66890997069427\n"
     ]
    },
    {
     "name": "stdout",
     "output_type": "stream",
     "text": [
      "86\n",
      "300\n",
      "76\n",
      "200\n",
      "77\n",
      "100\n"
     ]
    },
    {
     "name": "stderr",
     "output_type": "stream",
     "text": [
      "Objective did not converge. You might want to increase the number of iterations. Duality gap: 285.95852367026964, tolerance: 110.66890997069427\n"
     ]
    },
    {
     "name": "stdout",
     "output_type": "stream",
     "text": [
      "74\n",
      "90\n"
     ]
    },
    {
     "name": "stderr",
     "output_type": "stream",
     "text": [
      "Objective did not converge. You might want to increase the number of iterations. Duality gap: 339.4686665410991, tolerance: 110.66890997069427\n"
     ]
    },
    {
     "name": "stdout",
     "output_type": "stream",
     "text": [
      "76\n",
      "80\n",
      "76\n",
      "70\n",
      "79\n",
      "60\n",
      "68\n",
      "50\n",
      "61\n",
      "40\n",
      "48\n",
      "12.0\n",
      "ElasticNet\n",
      "1000\n"
     ]
    },
    {
     "name": "stderr",
     "output_type": "stream",
     "text": [
      "Objective did not converge. You might want to increase the number of iterations. Duality gap: 139246.4016258742, tolerance: 110.66890997069427\n"
     ]
    },
    {
     "name": "stdout",
     "output_type": "stream",
     "text": [
      "1059\n",
      "900\n"
     ]
    },
    {
     "name": "stderr",
     "output_type": "stream",
     "text": [
      "Objective did not converge. You might want to increase the number of iterations. Duality gap: 1767.7239759985823, tolerance: 110.66890997069427\n"
     ]
    },
    {
     "name": "stdout",
     "output_type": "stream",
     "text": [
      "451\n",
      "800\n"
     ]
    },
    {
     "name": "stderr",
     "output_type": "stream",
     "text": [
      "Objective did not converge. You might want to increase the number of iterations. Duality gap: 392.8681266796193, tolerance: 110.66890997069427\n"
     ]
    },
    {
     "name": "stdout",
     "output_type": "stream",
     "text": [
      "448\n",
      "700\n",
      "414\n",
      "600\n",
      "419\n",
      "500\n",
      "429\n",
      "400\n",
      "416\n",
      "300\n",
      "428\n",
      "200\n",
      "418\n",
      "100\n",
      "414\n",
      "90\n",
      "416\n",
      "80\n",
      "405\n",
      "70\n",
      "302\n",
      "60\n",
      "331\n",
      "50\n",
      "327\n",
      "40\n",
      "270\n",
      "30\n",
      "227\n",
      "20\n",
      "142\n",
      "10\n",
      "118\n",
      "0\n",
      "114\n",
      "-10\n",
      "52\n",
      "-20\n",
      "27\n",
      "19.0\n",
      "Pyowl\n",
      "1176\n",
      "1136\n",
      "1125\n",
      "1081\n",
      "1108\n",
      "1153\n",
      "1144\n",
      "1140\n",
      "1089\n",
      "1086\n",
      "1143\n",
      "1126\n",
      "1171\n",
      "1114\n",
      "1171\n",
      "1141\n",
      "1081\n",
      "1093\n",
      "1166\n",
      "1185\n",
      "19.0\n",
      "GradientBoostingRegressor(max_depth=4, random_state=123)\n",
      "Lasso\n",
      "1000\n"
     ]
    },
    {
     "name": "stderr",
     "output_type": "stream",
     "text": [
      "Objective did not converge. You might want to increase the number of iterations. Duality gap: 54754.32998642035, tolerance: 110.66890997069427\n"
     ]
    },
    {
     "name": "stdout",
     "output_type": "stream",
     "text": [
      "1065\n",
      "900\n"
     ]
    },
    {
     "name": "stderr",
     "output_type": "stream",
     "text": [
      "Objective did not converge. You might want to increase the number of iterations. Duality gap: 21524.262408155133, tolerance: 110.66890997069427\n"
     ]
    },
    {
     "name": "stdout",
     "output_type": "stream",
     "text": [
      "519\n",
      "800\n"
     ]
    },
    {
     "name": "stderr",
     "output_type": "stream",
     "text": [
      "Objective did not converge. You might want to increase the number of iterations. Duality gap: 3480.9894020067877, tolerance: 110.66890997069427\n"
     ]
    },
    {
     "name": "stdout",
     "output_type": "stream",
     "text": [
      "420\n",
      "700\n"
     ]
    },
    {
     "name": "stderr",
     "output_type": "stream",
     "text": [
      "Objective did not converge. You might want to increase the number of iterations. Duality gap: 4225.988233704586, tolerance: 110.66890997069427\n"
     ]
    },
    {
     "name": "stdout",
     "output_type": "stream",
     "text": [
      "361\n",
      "600\n"
     ]
    },
    {
     "name": "stderr",
     "output_type": "stream",
     "text": [
      "Objective did not converge. You might want to increase the number of iterations. Duality gap: 4199.892308078182, tolerance: 110.66890997069427\n"
     ]
    },
    {
     "name": "stdout",
     "output_type": "stream",
     "text": [
      "320\n",
      "500\n"
     ]
    },
    {
     "name": "stderr",
     "output_type": "stream",
     "text": [
      "Objective did not converge. You might want to increase the number of iterations. Duality gap: 3212.773937353719, tolerance: 110.66890997069427\n"
     ]
    },
    {
     "name": "stdout",
     "output_type": "stream",
     "text": [
      "306\n",
      "400\n"
     ]
    },
    {
     "name": "stderr",
     "output_type": "stream",
     "text": [
      "Objective did not converge. You might want to increase the number of iterations. Duality gap: 5869.7355339946225, tolerance: 110.66890997069427\n"
     ]
    },
    {
     "name": "stdout",
     "output_type": "stream",
     "text": [
      "268\n",
      "300\n"
     ]
    },
    {
     "name": "stderr",
     "output_type": "stream",
     "text": [
      "Objective did not converge. You might want to increase the number of iterations. Duality gap: 212.61430509728962, tolerance: 110.66890997069427\n"
     ]
    },
    {
     "name": "stdout",
     "output_type": "stream",
     "text": [
      "244\n",
      "200\n",
      "216\n",
      "100\n",
      "213\n",
      "90\n",
      "194\n",
      "80\n",
      "190\n",
      "70\n",
      "174\n",
      "60\n",
      "161\n",
      "50\n",
      "147\n",
      "40\n",
      "153\n",
      "30\n",
      "135\n",
      "20\n"
     ]
    },
    {
     "name": "stderr",
     "output_type": "stream",
     "text": [
      "Objective did not converge. You might want to increase the number of iterations. Duality gap: 126.95135888509685, tolerance: 110.66890997069427\n"
     ]
    },
    {
     "name": "stdout",
     "output_type": "stream",
     "text": [
      "132\n",
      "10\n",
      "129\n",
      "0\n",
      "125\n",
      "-10\n",
      "118\n",
      "-20\n",
      "117\n",
      "-30\n",
      "105\n",
      "-40\n",
      "97\n",
      "-50\n",
      "103\n",
      "-60\n",
      "90\n",
      "-70\n",
      "86\n",
      "-80\n",
      "83\n",
      "-90\n",
      "89\n",
      "-100\n",
      "81\n",
      "-110\n",
      "79\n",
      "-120\n",
      "74\n",
      "-130\n",
      "73\n",
      "-140\n",
      "83\n",
      "-150\n",
      "60\n",
      "-160\n",
      "66\n",
      "-170\n",
      "60\n",
      "-180\n",
      "63\n",
      "-190\n",
      "57\n",
      "-200\n",
      "63\n",
      "-210\n",
      "61\n",
      "-220\n",
      "65\n",
      "-230\n",
      "55\n",
      "-240\n",
      "59\n",
      "-250\n",
      "54\n",
      "-260\n",
      "51\n",
      "-270\n",
      "57\n",
      "-280\n",
      "53\n",
      "-290\n",
      "57\n",
      "-300\n",
      "56\n",
      "-310\n",
      "61\n",
      "-320\n",
      "48\n",
      "10.0\n",
      "ElasticNet\n",
      "1000\n"
     ]
    },
    {
     "name": "stderr",
     "output_type": "stream",
     "text": [
      "Objective did not converge. You might want to increase the number of iterations. Duality gap: 57983.68167924228, tolerance: 110.66890997069427\n"
     ]
    },
    {
     "name": "stdout",
     "output_type": "stream",
     "text": [
      "1356\n",
      "900\n",
      "92\n",
      "800\n",
      "81\n",
      "700\n",
      "70\n",
      "600\n",
      "71\n",
      "500\n",
      "68\n",
      "400\n",
      "63\n",
      "300\n",
      "49\n",
      "14.0\n",
      "Pyowl\n",
      "1339\n",
      "1348\n",
      "1323\n",
      "1360\n",
      "1362\n",
      "1333\n",
      "1395\n",
      "1357\n",
      "1347\n",
      "1381\n",
      "1357\n",
      "1356\n",
      "1402\n",
      "1329\n",
      "1378\n",
      "1377\n",
      "1333\n",
      "1322\n",
      "1402\n",
      "1376\n",
      "1372\n",
      "1405\n",
      "1347\n",
      "1335\n",
      "1401\n",
      "1366\n",
      "1331\n",
      "1338\n",
      "1345\n",
      "1359\n",
      "1350\n",
      "1349\n",
      "1356\n",
      "1316\n",
      "1362\n",
      "1404\n",
      "1394\n",
      "1404\n",
      "1360\n",
      "1268\n",
      "1315\n",
      "1388\n",
      "1369\n",
      "1347\n",
      "1358\n",
      "1348\n",
      "1425\n",
      "1297\n",
      "1330\n",
      "1324\n",
      "1309\n",
      "1356\n",
      "1330\n",
      "1343\n",
      "1366\n",
      "1345\n",
      "14.0\n",
      "BaggingRegressor(base_estimator=DecisionTreeRegressor(max_depth=4),\n",
      "                 n_estimators=250, random_state=123)\n",
      "Lasso\n",
      "1000\n"
     ]
    },
    {
     "name": "stderr",
     "output_type": "stream",
     "text": [
      "Objective did not converge. You might want to increase the number of iterations. Duality gap: 137873.91912929818, tolerance: 110.66890997069427\n"
     ]
    },
    {
     "name": "stdout",
     "output_type": "stream",
     "text": [
      "998\n",
      "900\n"
     ]
    },
    {
     "name": "stderr",
     "output_type": "stream",
     "text": [
      "Objective did not converge. You might want to increase the number of iterations. Duality gap: 8080.211706260452, tolerance: 110.66890997069427\n"
     ]
    },
    {
     "name": "stdout",
     "output_type": "stream",
     "text": [
      "184\n",
      "800\n"
     ]
    },
    {
     "name": "stderr",
     "output_type": "stream",
     "text": [
      "Objective did not converge. You might want to increase the number of iterations. Duality gap: 4071.377023572393, tolerance: 110.66890997069427\n"
     ]
    },
    {
     "name": "stdout",
     "output_type": "stream",
     "text": [
      "152\n",
      "700\n"
     ]
    },
    {
     "name": "stderr",
     "output_type": "stream",
     "text": [
      "Objective did not converge. You might want to increase the number of iterations. Duality gap: 2651.029115023208, tolerance: 110.66890997069427\n"
     ]
    },
    {
     "name": "stdout",
     "output_type": "stream",
     "text": [
      "126\n",
      "600\n"
     ]
    },
    {
     "name": "stderr",
     "output_type": "stream",
     "text": [
      "Objective did not converge. You might want to increase the number of iterations. Duality gap: 2057.8470905487193, tolerance: 110.66890997069427\n"
     ]
    },
    {
     "name": "stdout",
     "output_type": "stream",
     "text": [
      "115\n",
      "500\n"
     ]
    },
    {
     "name": "stderr",
     "output_type": "stream",
     "text": [
      "Objective did not converge. You might want to increase the number of iterations. Duality gap: 681.6059517897666, tolerance: 110.66890997069427\n"
     ]
    },
    {
     "name": "stdout",
     "output_type": "stream",
     "text": [
      "94\n",
      "400\n"
     ]
    },
    {
     "name": "stderr",
     "output_type": "stream",
     "text": [
      "Objective did not converge. You might want to increase the number of iterations. Duality gap: 484.9787975247018, tolerance: 110.66890997069427\n"
     ]
    },
    {
     "name": "stdout",
     "output_type": "stream",
     "text": [
      "91\n",
      "300\n"
     ]
    },
    {
     "name": "stderr",
     "output_type": "stream",
     "text": [
      "Objective did not converge. You might want to increase the number of iterations. Duality gap: 330.9185835959506, tolerance: 110.66890997069427\n"
     ]
    },
    {
     "name": "stdout",
     "output_type": "stream",
     "text": [
      "78\n",
      "200\n"
     ]
    },
    {
     "name": "stderr",
     "output_type": "stream",
     "text": [
      "Objective did not converge. You might want to increase the number of iterations. Duality gap: 418.8156608706922, tolerance: 110.66890997069427\n"
     ]
    },
    {
     "name": "stdout",
     "output_type": "stream",
     "text": [
      "86\n",
      "100\n"
     ]
    },
    {
     "name": "stderr",
     "output_type": "stream",
     "text": [
      "Objective did not converge. You might want to increase the number of iterations. Duality gap: 133.59090598346666, tolerance: 110.66890997069427\n"
     ]
    },
    {
     "name": "stdout",
     "output_type": "stream",
     "text": [
      "73\n",
      "90\n",
      "64\n",
      "80\n"
     ]
    },
    {
     "name": "stderr",
     "output_type": "stream",
     "text": [
      "Objective did not converge. You might want to increase the number of iterations. Duality gap: 807.7900557509856, tolerance: 110.66890997069427\n"
     ]
    },
    {
     "name": "stdout",
     "output_type": "stream",
     "text": [
      "73\n",
      "70\n",
      "85\n",
      "60\n"
     ]
    },
    {
     "name": "stderr",
     "output_type": "stream",
     "text": [
      "Objective did not converge. You might want to increase the number of iterations. Duality gap: 421.913486002828, tolerance: 110.66890997069427\n"
     ]
    },
    {
     "name": "stdout",
     "output_type": "stream",
     "text": [
      "57\n",
      "50\n",
      "65\n",
      "40\n"
     ]
    },
    {
     "name": "stderr",
     "output_type": "stream",
     "text": [
      "Objective did not converge. You might want to increase the number of iterations. Duality gap: 347.54535584466066, tolerance: 110.66890997069427\n"
     ]
    },
    {
     "name": "stdout",
     "output_type": "stream",
     "text": [
      "80\n",
      "30\n",
      "46\n",
      "12.0\n",
      "ElasticNet\n",
      "1000\n"
     ]
    },
    {
     "name": "stderr",
     "output_type": "stream",
     "text": [
      "Objective did not converge. You might want to increase the number of iterations. Duality gap: 150168.62929986062, tolerance: 110.66890997069427\n"
     ]
    },
    {
     "name": "stdout",
     "output_type": "stream",
     "text": [
      "1063\n",
      "900\n"
     ]
    },
    {
     "name": "stderr",
     "output_type": "stream",
     "text": [
      "Objective did not converge. You might want to increase the number of iterations. Duality gap: 1928.8563529429375, tolerance: 110.66890997069427\n"
     ]
    },
    {
     "name": "stdout",
     "output_type": "stream",
     "text": [
      "456\n",
      "800\n"
     ]
    },
    {
     "name": "stderr",
     "output_type": "stream",
     "text": [
      "Objective did not converge. You might want to increase the number of iterations. Duality gap: 426.5718601307599, tolerance: 110.66890997069427\n"
     ]
    },
    {
     "name": "stdout",
     "output_type": "stream",
     "text": [
      "438\n",
      "700\n",
      "400\n",
      "600\n",
      "418\n",
      "500\n",
      "421\n",
      "400\n",
      "437\n",
      "300\n",
      "433\n",
      "200\n",
      "425\n",
      "100\n",
      "421\n",
      "90\n",
      "428\n",
      "80\n",
      "413\n",
      "70\n",
      "330\n",
      "60\n",
      "312\n",
      "50\n",
      "308\n",
      "40\n",
      "273\n",
      "30\n",
      "236\n",
      "20\n",
      "180\n",
      "10\n",
      "125\n",
      "0\n",
      "113\n",
      "-10\n",
      "62\n",
      "-20\n",
      "0\n",
      "19.0\n",
      "Pyowl\n",
      "1128\n",
      "1168\n",
      "1144\n",
      "1082\n",
      "1193\n",
      "1145\n",
      "1164\n",
      "1092\n",
      "1088\n",
      "1142\n",
      "1107\n",
      "1049\n",
      "1133\n",
      "1125\n",
      "1089\n",
      "1117\n",
      "1133\n",
      "1108\n",
      "1112\n",
      "1093\n",
      "1110\n",
      "1079\n",
      "1084\n",
      "1124\n",
      "1104\n",
      "1132\n",
      "1165\n",
      "1094\n",
      "19.0\n",
      "ExtraTreesRegressor(max_depth=4, n_estimators=500, random_state=123)\n",
      "Lasso\n",
      "1000\n"
     ]
    },
    {
     "name": "stderr",
     "output_type": "stream",
     "text": [
      "Objective did not converge. You might want to increase the number of iterations. Duality gap: 125811.06913182471, tolerance: 110.66890997069427\n"
     ]
    },
    {
     "name": "stdout",
     "output_type": "stream",
     "text": [
      "1845\n",
      "900\n"
     ]
    },
    {
     "name": "stderr",
     "output_type": "stream",
     "text": [
      "Objective did not converge. You might want to increase the number of iterations. Duality gap: 24969.316090062843, tolerance: 110.66890997069427\n"
     ]
    },
    {
     "name": "stdout",
     "output_type": "stream",
     "text": [
      "409\n",
      "800\n"
     ]
    },
    {
     "name": "stderr",
     "output_type": "stream",
     "text": [
      "Objective did not converge. You might want to increase the number of iterations. Duality gap: 24062.49956032334, tolerance: 110.66890997069427\n"
     ]
    },
    {
     "name": "stdout",
     "output_type": "stream",
     "text": [
      "270\n",
      "700\n"
     ]
    },
    {
     "name": "stderr",
     "output_type": "stream",
     "text": [
      "Objective did not converge. You might want to increase the number of iterations. Duality gap: 10937.082604771189, tolerance: 110.66890997069427\n"
     ]
    },
    {
     "name": "stdout",
     "output_type": "stream",
     "text": [
      "216\n",
      "600\n"
     ]
    },
    {
     "name": "stderr",
     "output_type": "stream",
     "text": [
      "Objective did not converge. You might want to increase the number of iterations. Duality gap: 8885.162499681988, tolerance: 110.66890997069427\n"
     ]
    },
    {
     "name": "stdout",
     "output_type": "stream",
     "text": [
      "190\n",
      "500\n"
     ]
    },
    {
     "name": "stderr",
     "output_type": "stream",
     "text": [
      "Objective did not converge. You might want to increase the number of iterations. Duality gap: 6816.821084787545, tolerance: 110.66890997069427\n"
     ]
    },
    {
     "name": "stdout",
     "output_type": "stream",
     "text": [
      "154\n",
      "400\n"
     ]
    },
    {
     "name": "stderr",
     "output_type": "stream",
     "text": [
      "Objective did not converge. You might want to increase the number of iterations. Duality gap: 7720.128812204814, tolerance: 110.66890997069427\n"
     ]
    },
    {
     "name": "stdout",
     "output_type": "stream",
     "text": [
      "145\n",
      "300\n"
     ]
    },
    {
     "name": "stderr",
     "output_type": "stream",
     "text": [
      "Objective did not converge. You might want to increase the number of iterations. Duality gap: 1168.1760225736653, tolerance: 110.66890997069427\n"
     ]
    },
    {
     "name": "stdout",
     "output_type": "stream",
     "text": [
      "125\n",
      "200\n"
     ]
    },
    {
     "name": "stderr",
     "output_type": "stream",
     "text": [
      "Objective did not converge. You might want to increase the number of iterations. Duality gap: 3127.527356085833, tolerance: 110.66890997069427\n"
     ]
    },
    {
     "name": "stdout",
     "output_type": "stream",
     "text": [
      "118\n",
      "100\n"
     ]
    },
    {
     "name": "stderr",
     "output_type": "stream",
     "text": [
      "Objective did not converge. You might want to increase the number of iterations. Duality gap: 1178.491839374532, tolerance: 110.66890997069427\n"
     ]
    },
    {
     "name": "stdout",
     "output_type": "stream",
     "text": [
      "105\n",
      "90\n"
     ]
    },
    {
     "name": "stderr",
     "output_type": "stream",
     "text": [
      "Objective did not converge. You might want to increase the number of iterations. Duality gap: 259.6581744765281, tolerance: 110.66890997069427\n"
     ]
    },
    {
     "name": "stdout",
     "output_type": "stream",
     "text": [
      "110\n",
      "80\n"
     ]
    },
    {
     "name": "stderr",
     "output_type": "stream",
     "text": [
      "Objective did not converge. You might want to increase the number of iterations. Duality gap: 138.264574121451, tolerance: 110.66890997069427\n"
     ]
    },
    {
     "name": "stdout",
     "output_type": "stream",
     "text": [
      "104\n",
      "70\n"
     ]
    },
    {
     "name": "stderr",
     "output_type": "stream",
     "text": [
      "Objective did not converge. You might want to increase the number of iterations. Duality gap: 600.6400433658273, tolerance: 110.66890997069427\n"
     ]
    },
    {
     "name": "stdout",
     "output_type": "stream",
     "text": [
      "82\n",
      "60\n"
     ]
    },
    {
     "name": "stderr",
     "output_type": "stream",
     "text": [
      "Objective did not converge. You might want to increase the number of iterations. Duality gap: 158.22863608272746, tolerance: 110.66890997069427\n"
     ]
    },
    {
     "name": "stdout",
     "output_type": "stream",
     "text": [
      "75\n",
      "50\n",
      "75\n",
      "40\n",
      "70\n",
      "30\n",
      "64\n",
      "20\n",
      "74\n",
      "10\n"
     ]
    },
    {
     "name": "stderr",
     "output_type": "stream",
     "text": [
      "Objective did not converge. You might want to increase the number of iterations. Duality gap: 129.4438939684769, tolerance: 110.66890997069427\n"
     ]
    },
    {
     "name": "stdout",
     "output_type": "stream",
     "text": [
      "61\n",
      "0\n",
      "59\n",
      "-10\n",
      "69\n",
      "-20\n",
      "52\n",
      "-30\n",
      "71\n",
      "-40\n",
      "61\n",
      "-50\n",
      "57\n",
      "-60\n",
      "58\n",
      "-70\n",
      "55\n",
      "-80\n",
      "51\n",
      "-90\n",
      "51\n",
      "-100\n",
      "54\n",
      "-110\n",
      "55\n",
      "-120\n",
      "56\n",
      "-130\n",
      "56\n",
      "-140\n",
      "55\n",
      "-150\n",
      "56\n",
      "-160\n",
      "50\n",
      "11.0\n",
      "ElasticNet\n",
      "1000\n"
     ]
    },
    {
     "name": "stderr",
     "output_type": "stream",
     "text": [
      "Objective did not converge. You might want to increase the number of iterations. Duality gap: 132337.7987821721, tolerance: 110.66890997069427\n"
     ]
    },
    {
     "name": "stdout",
     "output_type": "stream",
     "text": [
      "1975\n",
      "900\n"
     ]
    },
    {
     "name": "stderr",
     "output_type": "stream",
     "text": [
      "Objective did not converge. You might want to increase the number of iterations. Duality gap: 267.9825390223996, tolerance: 110.66890997069427\n"
     ]
    },
    {
     "name": "stdout",
     "output_type": "stream",
     "text": [
      "321\n",
      "800\n"
     ]
    },
    {
     "name": "stderr",
     "output_type": "stream",
     "text": [
      "Objective did not converge. You might want to increase the number of iterations. Duality gap: 139.047904128558, tolerance: 110.66890997069427\n"
     ]
    },
    {
     "name": "stdout",
     "output_type": "stream",
     "text": [
      "408\n",
      "700\n",
      "446\n",
      "600\n",
      "455\n",
      "500\n",
      "469\n",
      "400\n",
      "478\n",
      "300\n",
      "486\n",
      "200\n",
      "486\n",
      "100\n",
      "474\n",
      "90\n",
      "483\n",
      "80\n",
      "446\n",
      "70\n",
      "416\n",
      "60\n",
      "404\n",
      "50\n",
      "384\n",
      "40\n",
      "338\n",
      "30\n",
      "291\n",
      "20\n",
      "229\n",
      "10\n",
      "199\n",
      "0\n",
      "145\n",
      "-10\n",
      "59\n",
      "-20\n",
      "23\n",
      "19.0\n",
      "Pyowl\n",
      "2014\n",
      "2019\n",
      "2013\n",
      "2016\n",
      "2013\n",
      "2014\n",
      "2015\n",
      "2010\n",
      "2014\n",
      "2014\n",
      "2010\n",
      "2016\n",
      "2014\n",
      "2010\n",
      "2012\n",
      "2015\n",
      "2012\n",
      "2013\n",
      "2013\n",
      "2014\n",
      "2017\n",
      "2015\n",
      "2008\n",
      "2014\n",
      "2014\n",
      "2013\n",
      "2014\n",
      "2016\n",
      "2016\n",
      "2010\n",
      "2017\n",
      "2011\n",
      "2015\n",
      "2014\n",
      "2020\n",
      "2013\n",
      "2014\n",
      "2014\n",
      "2015\n",
      "19.0\n"
     ]
    }
   ],
   "source": [
    "r=1\n",
    "\n",
    "for i in range(len(Tuning_models['Decision_Tree'])):\n",
    "\n",
    "    Parameters=Surgeon_model_96440008[Tuning_models['Decision_Tree'][i]][\"Best_params_dict\"]\n",
    "\n",
    "\n",
    "    if i==0 or i==3:                                                                            \n",
    "        Decison_Tree=Tuning_models['Decision_Tree'][i](random_state=123,max_depth=Parameters[\"max_depth\"],n_estimators=Parameters[\"n_estimators\"])\n",
    "        print(Decison_Tree)\n",
    "\n",
    "    if i==1:                                                                            \n",
    "        Decison_Tree=Tuning_models['Decision_Tree'][i](random_state=123,learning_rate=Parameters[\"learning_rate\"],max_depth=Parameters[\"max_depth\"],n_estimators=Parameters[\"n_estimators\"])\n",
    "        print(Decison_Tree)\n",
    "\n",
    "    if i==2:\n",
    "        Decison_Tree=Tuning_models['Decision_Tree'][i](base_estimator=DecisionTreeRegressor(max_depth=Parameters[\"base_estimator__max_depth\"]),n_estimators=Parameters[\"n_estimators\"],random_state=123)\n",
    "\n",
    "        print(Decison_Tree)\n",
    "\n",
    "    for j in range(len(Tuning_models['Regularizers_0'])):\n",
    "\n",
    "\n",
    "        Decison_Tree_tune=copy.deepcopy(Decison_Tree)\n",
    "\n",
    "        if r==0:\n",
    "            regularizer=Tuning_models['Regularizers_0'][j]\n",
    "\n",
    "        else:\n",
    "            regularizer=Tuning_models['Regularizers_1'][j]\n",
    "\n",
    "        print(regularizer)\n",
    "\n",
    "        Cs=Tuning_models['Cs']\n",
    "\n",
    "        beta=0.1\n",
    "        alpha=0.0001\n",
    "\n",
    "        if j==2:\n",
    "\n",
    "            len_reduce_rules=1000\n",
    "            max_tents=0\n",
    "            max_tents=0\n",
    "            minimum_rules=float('Inf')\n",
    "            while len_reduce_rules>50 and max_tents<=15:\n",
    "\n",
    "                Decison_Tree_tune=copy.deepcopy(Decison_Tree)\n",
    "\n",
    "                if r==0:\n",
    "\n",
    "                    rf = RuleFit_custom.RuleFit(tree_generator=Decison_Tree_tune, Cs=Cs, beta=beta, max_iter=10e10, regularization='Pyowl',n_jobs=-1)\n",
    "\n",
    "                else:\n",
    "                    rf = RuleFit_withoutCV.RuleFit(tree_generator=Decison_Tree_tune, Cs=Cs, beta=beta, max_iter=10e10, regularization='Pyowl',n_jobs=-1)\n",
    "\n",
    "\n",
    "                rf.fit(train_features_surgeons, train_labels_surgeons, feature_names=surgeoncolumns)\n",
    "\n",
    "                rules = rf.get_rules()\n",
    "\n",
    "                reduce_rules = rules[abs(rules.coef) !=0].sort_values(\"coef\", ascending=False)\n",
    "\n",
    "                if len(reduce_rules)< minimum_rules:\n",
    "                    minimum_rules=len(reduce_rules)\n",
    "                    max_tents=0\n",
    "\n",
    "                else:\n",
    "                    max_tents=max_tents+1\n",
    "\n",
    "\n",
    "                len_reduce_rules=len(reduce_rules)\n",
    "\n",
    "                print(len_reduce_rules)\n",
    "\n",
    "                rf_score = np.round(r2_score(rf.predict(test_features_surgeons),test_labels_surgeons),2)\n",
    "\n",
    "                predictions=rf.predict(test_features_surgeons)\n",
    "\n",
    "                beta=beta+1\n",
    "        else:\n",
    "            len_reduce_rules=1000\n",
    "            max_rules=1000\n",
    "            while len_reduce_rules>50:\n",
    "\n",
    "                Decison_Tree_tune=copy.deepcopy(Decison_Tree)\n",
    "                print(max_rules)\n",
    "                if r==0:\n",
    "                    rf = RuleFit_custom.RuleFit(max_rules=max_rules,tree_generator=Decison_Tree_tune, alpha=alpha,Cs=Cs, max_iter=10e10, regularization=regularizer,n_jobs=-1)\n",
    "\n",
    "                else:    \n",
    "                    rf = RuleFit_withoutCV.RuleFit(tree_generator=Decison_Tree_tune,alpha=alpha, Cs=Cs, max_iter=10e10, regularization=regularizer,n_jobs=-1)\n",
    "\n",
    "\n",
    "                rf.fit(train_features_surgeons, train_labels_surgeons, feature_names=surgeoncolumns)\n",
    "\n",
    "                rules = rf.get_rules()\n",
    "\n",
    "                reduce_rules = rules[abs(rules.coef) !=0].sort_values(\"coef\", ascending=False)\n",
    "\n",
    "\n",
    "                len_reduce_rules=len(reduce_rules)\n",
    "\n",
    "                print(len_reduce_rules)\n",
    "                \n",
    "                rf_score_mse = np.round(mean_squared_error(rf.predict(test_features_surgeons),test_labels_surgeons))\n",
    "\n",
    "                \n",
    "                rf_score_rmse = np.round(mean_squared_error(rf.predict(test_features_surgeons),test_labels_surgeons,squared=False))\n",
    "\n",
    "                predictions=rf.predict(test_features_surgeons)\n",
    "\n",
    "                if j==0:\n",
    "                    if len_reduce_rules>60:\n",
    "                        alpha+=0.005\n",
    "\n",
    "                    else:\n",
    "                        alpha+=0.0005\n",
    "                        \n",
    "                if j==1:\n",
    "                    if len_reduce_rules>60:\n",
    "                        alpha+=0.7\n",
    "\n",
    "                    else:\n",
    "                        alpha+=0.15\n",
    "\n",
    "\n",
    "                if max_rules<=100:\n",
    "                    max_rules+=-10\n",
    "\n",
    "                else:\n",
    "                    max_rules+=-100\n",
    "\n",
    "\n",
    "\n",
    "        print(rf_score_rmse)\n",
    "\n",
    "        dataset_predicton = {\"Real Duration\": test_labels_surgeons, \"Planned by Cuf\": test_CUF_labels_surgeons, \"Labels from RuleFit\": predictions}\n",
    "        dataset_predicton=pd.DataFrame(dataset_predicton)\n",
    "\n",
    "        dataset_predicton['Error_RuleFit'] = percCal(dataset_predicton['Real Duration'], dataset_predicton['Labels from RuleFit'])\n",
    "        dataset_predicton['Error_CUF'] = percCal(dataset_predicton['Real Duration'], dataset_predicton['Planned by Cuf'])\n",
    "\n",
    "        CUF_overuse=dataset_predicton[dataset_predicton['Error_CUF']>10].shape[0]/dataset_predicton.shape[0]\n",
    "        RuleFit_overuse=dataset_predicton[dataset_predicton['Error_RuleFit']>10].shape[0]/dataset_predicton.shape[0]\n",
    "        #Underutilization\n",
    "        CUF_under=dataset_predicton[dataset_predicton['Error_CUF']<-10].shape[0]/dataset_predicton.shape[0]\n",
    "        RuleFit_under=dataset_predicton[dataset_predicton['Error_RuleFit']<-10].shape[0]/dataset_predicton.shape[0]\n",
    "            #Within\n",
    "        CUF_Within=dataset_predicton[dataset_predicton['Error_CUF'].abs()<=10].shape[0]/dataset_predicton.shape[0]\n",
    "        RuleFit_Within=dataset_predicton[dataset_predicton['Error_RuleFit'].abs()<=10].shape[0]/dataset_predicton.shape[0]\n",
    "\n",
    "        Best_Parameters_Regularizers_Surgeon[Tuning_models['Library_Script'][r]][Tuning_models['Decision_Tree'][i]][regularizer].update({\"Model\": rf})\n",
    "        Best_Parameters_Regularizers_Surgeon[Tuning_models['Library_Script'][r]][Tuning_models['Decision_Tree'][i]][regularizer].update({\"Rules\": rules})\n",
    "\n",
    "        Best_Parameters_Regularizers_Surgeon[Tuning_models['Library_Script'][r]][Tuning_models['Decision_Tree'][i]][regularizer].update({\"Rules_non0\": reduce_rules})\n",
    "\n",
    "        Best_Parameters_Regularizers_Surgeon[Tuning_models['Library_Script'][r]][Tuning_models['Decision_Tree'][i]][regularizer].update({\"Number Rules\": len(reduce_rules)})\n",
    "        Best_Parameters_Regularizers_Surgeon[Tuning_models['Library_Script'][r]][Tuning_models['Decision_Tree'][i]][regularizer].update({\"Score MSE\": rf_score_mse})\n",
    "        Best_Parameters_Regularizers_Surgeon[Tuning_models['Library_Script'][r]][Tuning_models['Decision_Tree'][i]][regularizer].update({\"Score RMSE\": rf_score_rmse})\n",
    "        Best_Parameters_Regularizers_Surgeon[Tuning_models['Library_Script'][r]][Tuning_models['Decision_Tree'][i]][regularizer].update({\"Predictions\": predictions})\n",
    "        Best_Parameters_Regularizers_Surgeon[Tuning_models['Library_Script'][r]][Tuning_models['Decision_Tree'][i]][regularizer].update({\"Dataset_predicton\": dataset_predicton})\n",
    "\n",
    "        Best_Parameters_Regularizers_Surgeon[Tuning_models['Library_Script'][r]][Tuning_models['Decision_Tree'][i]][regularizer].update({\"Percentage\": [RuleFit_Within, RuleFit_under, RuleFit_overuse]})\n",
    "        Best_Parameters_Regularizers_Surgeon[Tuning_models['Library_Script'][r]][Tuning_models['Decision_Tree'][i]][regularizer].update({\"Percentage_CUF\": [CUF_Within, CUF_under, CUF_overuse]})\n",
    "\n"
   ]
  },
  {
   "cell_type": "code",
   "execution_count": 140,
   "metadata": {},
   "outputs": [],
   "source": [
    "Best_Parameters_Regularizers_Surgeon_96440008=Best_Parameters_Regularizers_Surgeon"
   ]
  },
  {
   "cell_type": "code",
   "execution_count": 141,
   "metadata": {},
   "outputs": [
    {
     "name": "stdout",
     "output_type": "stream",
     "text": [
      "Stored 'Best_Parameters_Regularizers_Surgeon_96440008' (dict)\n"
     ]
    }
   ],
   "source": [
    "%store Best_Parameters_Regularizers_Surgeon_96440008"
   ]
  },
  {
   "cell_type": "code",
   "execution_count": 142,
   "metadata": {},
   "outputs": [],
   "source": [
    "keep=[]\n",
    "\n",
    "r=1\n",
    "for i in range(len(Tuning_models['Decision_Tree'])):\n",
    "\n",
    "    for j in range(len(Tuning_models['Regularizers_0'])):\n",
    "        if r==0:\n",
    "            Percentage=Best_Parameters_Regularizers_Surgeon_96440008[Tuning_models['Library_Script'][r]][Tuning_models['Decision_Tree'][i]][Tuning_models['Regularizers_0'][j]]['Percentage']\n",
    "\n",
    "            name=\"Model{}_{}_{}\".format('WithCV',Tuning_models['Decision_Tree'][i],Tuning_models['Regularizers_0'][j])\n",
    "            keep=keep+[[name, Percentage[0], Percentage[2],Percentage[1]]]\n",
    "\n",
    "        else:\n",
    "            Percentage=Best_Parameters_Regularizers_Surgeon_96440008[Tuning_models['Library_Script'][r]][Tuning_models['Decision_Tree'][i]][Tuning_models['Regularizers_1'][j]]['Percentage']\n",
    "\n",
    "            name=\"Model{}_{}_{}\".format('WithoutCV',Tuning_models['Decision_Tree'][i],Tuning_models['Regularizers_1'][j])\n",
    "            keep=keep+[[name, Percentage[0], Percentage[2],Percentage[1]]]\n",
    "\n"
   ]
  },
  {
   "cell_type": "code",
   "execution_count": 143,
   "metadata": {},
   "outputs": [
    {
     "name": "stdout",
     "output_type": "stream",
     "text": [
      "-----------------------------------------------------------------------------------  -----  ---------------\n",
      "Model                                                                                Score  Number of Rules\n",
      "Model_WithoutCV_<class 'sklearn.ensemble._forest.RandomForestRegressor'>_Lasso       12.0   48\n",
      "Model_WithoutCV_<class 'sklearn.ensemble._forest.RandomForestRegressor'>_ElasticNet  19.0   27\n",
      "Model_WithoutCV_<class 'sklearn.ensemble._forest.RandomForestRegressor'>_Pyowl       19.0   1185\n",
      "Model_WithoutCV_<class 'sklearn.ensemble._gb.GradientBoostingRegressor'>_Lasso       10.0   48\n",
      "Model_WithoutCV_<class 'sklearn.ensemble._gb.GradientBoostingRegressor'>_ElasticNet  14.0   49\n",
      "Model_WithoutCV_<class 'sklearn.ensemble._gb.GradientBoostingRegressor'>_Pyowl       14.0   1345\n",
      "Model_WithoutCV_<class 'sklearn.ensemble._bagging.BaggingRegressor'>_Lasso           12.0   46\n",
      "Model_WithoutCV_<class 'sklearn.ensemble._bagging.BaggingRegressor'>_ElasticNet      19.0   0\n",
      "Model_WithoutCV_<class 'sklearn.ensemble._bagging.BaggingRegressor'>_Pyowl           19.0   1094\n",
      "Model_WithoutCV_<class 'sklearn.ensemble._forest.ExtraTreesRegressor'>_Lasso         11.0   50\n",
      "Model_WithoutCV_<class 'sklearn.ensemble._forest.ExtraTreesRegressor'>_ElasticNet    19.0   23\n",
      "Model_WithoutCV_<class 'sklearn.ensemble._forest.ExtraTreesRegressor'>_Pyowl         19.0   2015\n",
      "-----------------------------------------------------------------------------------  -----  ---------------\n"
     ]
    }
   ],
   "source": [
    "\n",
    "Score=[]\n",
    "\n",
    "r=1\n",
    "\n",
    "for i in range(len(Tuning_models['Decision_Tree'])):\n",
    "\n",
    "    for j in range(len(Tuning_models['Regularizers_0'])):\n",
    "\n",
    "        if r==0:\n",
    "            Score_model=Best_Parameters_Regularizers_Surgeon_96440008[Tuning_models['Library_Script'][r]][Tuning_models['Decision_Tree'][i]][Tuning_models['Regularizers_0'][j]]['Score RMSE']\n",
    "\n",
    "            rules=Best_Parameters_Regularizers_Surgeon_96440008[Tuning_models['Library_Script'][r]][Tuning_models['Decision_Tree'][i]][Tuning_models['Regularizers_0'][j]]['Number Rules']\n",
    "\n",
    "            name=\"Model_{}_{}_{}\".format('WithCV',Tuning_models['Decision_Tree'][i],Tuning_models['Regularizers_0'][j])\n",
    "            Score=Score+[[name,Score_model,rules]]\n",
    "\n",
    "        else:\n",
    "            Score_model=Best_Parameters_Regularizers_Surgeon_96440008[Tuning_models['Library_Script'][r]][Tuning_models['Decision_Tree'][i]][Tuning_models['Regularizers_1'][j]]['Score RMSE']\n",
    "\n",
    "            rules=Best_Parameters_Regularizers_Surgeon_96440008[Tuning_models['Library_Script'][r]][Tuning_models['Decision_Tree'][i]][Tuning_models['Regularizers_1'][j]]['Number Rules']\n",
    "\n",
    "            name=\"Model_{}_{}_{}\".format('WithoutCV',Tuning_models['Decision_Tree'][i],Tuning_models['Regularizers_1'][j])\n",
    "            Score=Score+[[name,Score_model,rules]]\n",
    "        \n",
    "table2 = [['Model', 'Score', 'Number of Rules']]\n",
    "\n",
    "for i in range(len(Score)):\n",
    "    table2=table2+[Score[i]]\n",
    "print(tabulate(table2))"
   ]
  },
  {
   "cell_type": "code",
   "execution_count": 144,
   "metadata": {},
   "outputs": [
    {
     "name": "stdout",
     "output_type": "stream",
     "text": [
      "----------------------------------------------------------------------------------  -------------------  -------------------  ------------------\n",
      "Model                                                                               Within               Overutilization      Underutilization\n",
      "CUF Model                                                                           0.13924050632911392  0.27848101265822783  0.5822784810126582\n",
      "ModelWithoutCV_<class 'sklearn.ensemble._forest.RandomForestRegressor'>_Lasso       0.25949367088607594  0.2088607594936709   0.5316455696202531\n",
      "ModelWithoutCV_<class 'sklearn.ensemble._forest.RandomForestRegressor'>_ElasticNet  0.0759493670886076   0.12658227848101267  0.7974683544303798\n",
      "ModelWithoutCV_<class 'sklearn.ensemble._forest.RandomForestRegressor'>_Pyowl       0.10126582278481013  0.13291139240506328  0.7658227848101266\n",
      "ModelWithoutCV_<class 'sklearn.ensemble._gb.GradientBoostingRegressor'>_Lasso       0.25316455696202533  0.189873417721519    0.5569620253164557\n",
      "ModelWithoutCV_<class 'sklearn.ensemble._gb.GradientBoostingRegressor'>_ElasticNet  0.10126582278481013  0.11392405063291139  0.7848101265822784\n",
      "ModelWithoutCV_<class 'sklearn.ensemble._gb.GradientBoostingRegressor'>_Pyowl       0.08227848101265822  0.12658227848101267  0.7911392405063291\n",
      "ModelWithoutCV_<class 'sklearn.ensemble._bagging.BaggingRegressor'>_Lasso           0.22784810126582278  0.21518987341772153  0.5569620253164557\n",
      "ModelWithoutCV_<class 'sklearn.ensemble._bagging.BaggingRegressor'>_ElasticNet      0.0759493670886076   0.12658227848101267  0.7974683544303798\n",
      "ModelWithoutCV_<class 'sklearn.ensemble._bagging.BaggingRegressor'>_Pyowl           0.10759493670886076  0.13291139240506328  0.759493670886076\n",
      "ModelWithoutCV_<class 'sklearn.ensemble._forest.ExtraTreesRegressor'>_Lasso         0.2911392405063291   0.189873417721519    0.5189873417721519\n",
      "ModelWithoutCV_<class 'sklearn.ensemble._forest.ExtraTreesRegressor'>_ElasticNet    0.0759493670886076   0.12658227848101267  0.7974683544303798\n",
      "ModelWithoutCV_<class 'sklearn.ensemble._forest.ExtraTreesRegressor'>_Pyowl         0.1962025316455696   0.14556962025316456  0.6582278481012658\n",
      "----------------------------------------------------------------------------------  -------------------  -------------------  ------------------\n"
     ]
    }
   ],
   "source": [
    "\n",
    "            \n",
    "table2 = [['Model', 'Within', 'Overutilization','Underutilization'], \n",
    "          ['CUF Model', CUF_Within, CUF_overuse,CUF_under]]\n",
    "\n",
    "for i in range(len(keep)):\n",
    "    \n",
    "    table2=table2+[keep[i]]\n",
    "print(tabulate(table2))"
   ]
  },
  {
   "cell_type": "markdown",
   "metadata": {},
   "source": [
    "### 1.4.  Choose Best Rulefit Model  <a class=\"anchor\" id=\"1.4\"></a> \n"
   ]
  },
  {
   "cell_type": "code",
   "execution_count": 145,
   "metadata": {},
   "outputs": [],
   "source": [
    "\n",
    "Script=1\n",
    "tree=1\n",
    "regularizer=0"
   ]
  },
  {
   "cell_type": "code",
   "execution_count": 146,
   "metadata": {},
   "outputs": [],
   "source": [
    "Best_model_surgeon=Best_Parameters_Regularizers_Surgeon_96440008[Tuning_models['Library_Script'][Script]][Tuning_models['Decision_Tree'][tree]][Tuning_models['Regularizers_1'][regularizer]][\"Model\"]"
   ]
  },
  {
   "cell_type": "code",
   "execution_count": 147,
   "metadata": {},
   "outputs": [
    {
     "data": {
      "text/plain": [
       "10.0"
      ]
     },
     "execution_count": 147,
     "metadata": {},
     "output_type": "execute_result"
    }
   ],
   "source": [
    "# Record r2 score from RuleFit model\n",
    "rf_score  = Best_Parameters_Regularizers_Surgeon_96440008[Tuning_models['Library_Script'][Script]][Tuning_models['Decision_Tree'][tree]][Tuning_models['Regularizers_1'][regularizer]][\"Score RMSE\"]\n",
    "rf_score\n",
    "\n"
   ]
  },
  {
   "cell_type": "code",
   "execution_count": 148,
   "metadata": {},
   "outputs": [],
   "source": [
    "predictions=Best_model_surgeon.predict(test_features_surgeons)\n"
   ]
  },
  {
   "cell_type": "code",
   "execution_count": 149,
   "metadata": {},
   "outputs": [
    {
     "data": {
      "image/png": "[encoded data removed]",
      "text/plain": [
       "<Figure size 432x288 with 1 Axes>"
      ]
     },
     "metadata": {
      "needs_background": "light"
     },
     "output_type": "display_data"
    }
   ],
   "source": [
    "a = plt.axes(aspect='equal')\n",
    "plt.scatter(test_labels_surgeons, predictions)\n",
    "plt.xlabel('True Values [Time]')\n",
    "plt.ylabel('Predictions [Time]')\n",
    "lims = [0, 300]\n",
    "plt.xlim(lims)\n",
    "plt.ylim(lims)\n",
    "_ = plt.plot(lims, lims)"
   ]
  },
  {
   "cell_type": "code",
   "execution_count": 150,
   "metadata": {},
   "outputs": [
    {
     "data": {
      "image/png": "[encoded data removed]",
      "text/plain": [
       "<Figure size 432x288 with 1 Axes>"
      ]
     },
     "metadata": {
      "needs_background": "light"
     },
     "output_type": "display_data"
    }
   ],
   "source": [
    "error = predictions - test_labels_surgeons\n",
    "plt.hist(error, bins=25)\n",
    "plt.xlabel('Prediction Error')\n",
    "_ = plt.ylabel('Count')"
   ]
  },
  {
   "cell_type": "code",
   "execution_count": 151,
   "metadata": {},
   "outputs": [
    {
     "data": {
      "text/html": [
       "<div>\n",
       "<style scoped>\n",
       "    .dataframe tbody tr th:only-of-type {\n",
       "        vertical-align: middle;\n",
       "    }\n",
       "\n",
       "    .dataframe tbody tr th {\n",
       "        vertical-align: top;\n",
       "    }\n",
       "\n",
       "    .dataframe thead th {\n",
       "        text-align: right;\n",
       "    }\n",
       "</style>\n",
       "<table border=\"1\" class=\"dataframe\">\n",
       "  <thead>\n",
       "    <tr style=\"text-align: right;\">\n",
       "      <th></th>\n",
       "      <th>Real Duration</th>\n",
       "      <th>Planned by Cuf</th>\n",
       "      <th>Labels from RuleFit</th>\n",
       "    </tr>\n",
       "  </thead>\n",
       "  <tbody>\n",
       "    <tr>\n",
       "      <th>0</th>\n",
       "      <td>16.0</td>\n",
       "      <td>20.0</td>\n",
       "      <td>21.623774</td>\n",
       "    </tr>\n",
       "    <tr>\n",
       "      <th>1</th>\n",
       "      <td>12.0</td>\n",
       "      <td>20.0</td>\n",
       "      <td>21.635446</td>\n",
       "    </tr>\n",
       "    <tr>\n",
       "      <th>2</th>\n",
       "      <td>39.0</td>\n",
       "      <td>20.0</td>\n",
       "      <td>29.156738</td>\n",
       "    </tr>\n",
       "    <tr>\n",
       "      <th>3</th>\n",
       "      <td>20.0</td>\n",
       "      <td>20.0</td>\n",
       "      <td>23.166788</td>\n",
       "    </tr>\n",
       "    <tr>\n",
       "      <th>4</th>\n",
       "      <td>20.0</td>\n",
       "      <td>20.0</td>\n",
       "      <td>22.253088</td>\n",
       "    </tr>\n",
       "    <tr>\n",
       "      <th>...</th>\n",
       "      <td>...</td>\n",
       "      <td>...</td>\n",
       "      <td>...</td>\n",
       "    </tr>\n",
       "    <tr>\n",
       "      <th>153</th>\n",
       "      <td>25.0</td>\n",
       "      <td>30.0</td>\n",
       "      <td>23.166788</td>\n",
       "    </tr>\n",
       "    <tr>\n",
       "      <th>154</th>\n",
       "      <td>19.0</td>\n",
       "      <td>30.0</td>\n",
       "      <td>38.683749</td>\n",
       "    </tr>\n",
       "    <tr>\n",
       "      <th>155</th>\n",
       "      <td>17.0</td>\n",
       "      <td>20.0</td>\n",
       "      <td>20.852036</td>\n",
       "    </tr>\n",
       "    <tr>\n",
       "      <th>156</th>\n",
       "      <td>14.0</td>\n",
       "      <td>30.0</td>\n",
       "      <td>23.354248</td>\n",
       "    </tr>\n",
       "    <tr>\n",
       "      <th>157</th>\n",
       "      <td>30.0</td>\n",
       "      <td>20.0</td>\n",
       "      <td>21.243741</td>\n",
       "    </tr>\n",
       "  </tbody>\n",
       "</table>\n",
       "<p>158 rows × 3 columns</p>\n",
       "</div>"
      ],
      "text/plain": [
       "     Real Duration  Planned by Cuf  Labels from RuleFit\n",
       "0             16.0            20.0            21.623774\n",
       "1             12.0            20.0            21.635446\n",
       "2             39.0            20.0            29.156738\n",
       "3             20.0            20.0            23.166788\n",
       "4             20.0            20.0            22.253088\n",
       "..             ...             ...                  ...\n",
       "153           25.0            30.0            23.166788\n",
       "154           19.0            30.0            38.683749\n",
       "155           17.0            20.0            20.852036\n",
       "156           14.0            30.0            23.354248\n",
       "157           30.0            20.0            21.243741\n",
       "\n",
       "[158 rows x 3 columns]"
      ]
     },
     "execution_count": 151,
     "metadata": {},
     "output_type": "execute_result"
    }
   ],
   "source": [
    "dataset_predicton = {\"Real Duration\": test_labels_surgeons, \"Planned by Cuf\": test_CUF_labels_surgeons, \"Labels from RuleFit\": predictions}\n",
    "dataset_predicton=pd.DataFrame(dataset_predicton)\n",
    "dataset_predicton\n",
    "\n"
   ]
  },
  {
   "cell_type": "code",
   "execution_count": 152,
   "metadata": {},
   "outputs": [
    {
     "data": {
      "text/plain": [
       "<matplotlib.legend.Legend at 0x17592990bb0>"
      ]
     },
     "execution_count": 152,
     "metadata": {},
     "output_type": "execute_result"
    },
    {
     "data": {
      "image/png": "[encoded data removed]",
      "text/plain": [
       "<Figure size 432x288 with 1 Axes>"
      ]
     },
     "metadata": {
      "needs_background": "light"
     },
     "output_type": "display_data"
    }
   ],
   "source": [
    "\n",
    "def percCal(x,y):\n",
    "    return (x-y)*100/x\n",
    "\n",
    "dataset_predicton['Error_RuleFit'] = percCal(dataset_predicton['Real Duration'], dataset_predicton['Labels from RuleFit'])\n",
    "dataset_predicton['Error_CUF'] = percCal(dataset_predicton['Real Duration'], dataset_predicton['Planned by Cuf'])\n",
    "\n",
    "\n",
    "dataset_predicton['Error_CUF'].plot(kind='density')\n",
    "dataset_predicton['Error_RuleFit'].plot(kind='density')\n",
    "plt.xlim([-400, 400])\n",
    "plt.title('General RuleFit vs CUF prediction')\n",
    "orange_patch = matplotlib.patches.Patch(color='orange', label='RuleFit')\n",
    "blue_patch = matplotlib.patches.Patch(color='blue', label='CUF')\n",
    "plt.legend(handles=[orange_patch,blue_patch])"
   ]
  },
  {
   "cell_type": "code",
   "execution_count": 153,
   "metadata": {},
   "outputs": [
    {
     "name": "stdout",
     "output_type": "stream",
     "text": [
      "-------------  -------------------  -------------------  ------------------\n",
      "Model          Within               Overutilization      Underutilization\n",
      "CUF Model      0.13924050632911392  0.27848101265822783  0.5822784810126582\n",
      "RuleFit Model  0.25316455696202533  0.189873417721519    0.5569620253164557\n",
      "-------------  -------------------  -------------------  ------------------\n"
     ]
    }
   ],
   "source": [
    "#Overutilization \n",
    "CUF_overuse=dataset_predicton[dataset_predicton['Error_CUF']>10].shape[0]/dataset_predicton.shape[0]\n",
    "RuleFit_overuse=dataset_predicton[dataset_predicton['Error_RuleFit']>10].shape[0]/dataset_predicton.shape[0]\n",
    "#Underutilization\n",
    "CUF_under=dataset_predicton[dataset_predicton['Error_CUF']<-10].shape[0]/dataset_predicton.shape[0]\n",
    "RuleFit_under=dataset_predicton[dataset_predicton['Error_RuleFit']<-10].shape[0]/dataset_predicton.shape[0]\n",
    "#Within\n",
    "CUF_Within=dataset_predicton[dataset_predicton['Error_CUF'].abs()<=10].shape[0]/dataset_predicton.shape[0]\n",
    "RuleFit_Within=dataset_predicton[dataset_predicton['Error_RuleFit'].abs()<=10].shape[0]/dataset_predicton.shape[0]\n",
    "\n",
    "table2 = [['Model', 'Within', 'Overutilization','Underutilization'], ['CUF Model', CUF_Within, CUF_overuse,CUF_under], ['RuleFit Model', RuleFit_Within, RuleFit_overuse,RuleFit_under]]\n",
    "print(tabulate(table2))"
   ]
  },
  {
   "cell_type": "markdown",
   "metadata": {},
   "source": [
    "----"
   ]
  },
  {
   "cell_type": "markdown",
   "metadata": {},
   "source": [
    "# Design Rashomon Curve"
   ]
  },
  {
   "cell_type": "code",
   "execution_count": 51,
   "metadata": {},
   "outputs": [],
   "source": [
    "number_of_rules=10"
   ]
  },
  {
   "cell_type": "code",
   "execution_count": 210,
   "metadata": {},
   "outputs": [],
   "source": [
    "Rashomon_curve= {}\n",
    "\n",
    "for j in range(0,2):\n",
    "        # The Normalization layer\n",
    "    Rashomon_curve[j] = {}\n",
    "\n",
    "    for r in range(number_of_rules):\n",
    "            # The Normalization layer\n",
    "        Rashomon_curve[j][r] = {}"
   ]
  },
  {
   "cell_type": "code",
   "execution_count": 244,
   "metadata": {},
   "outputs": [
    {
     "name": "stdout",
     "output_type": "stream",
     "text": [
      "1\n",
      "BaggingRegressor(base_estimator=DecisionTreeRegressor(max_depth=4),\n",
      "                 n_estimators=250, random_state=123)\n",
      "Lasso\n"
     ]
    },
    {
     "name": "stderr",
     "output_type": "stream",
     "text": [
      "Objective did not converge. You might want to increase the number of iterations. Duality gap: 126662.81437849192, tolerance: 110.66890997069427\n"
     ]
    },
    {
     "name": "stdout",
     "output_type": "stream",
     "text": [
      "971\n"
     ]
    },
    {
     "name": "stderr",
     "output_type": "stream",
     "text": [
      "Objective did not converge. You might want to increase the number of iterations. Duality gap: 5041.471682259813, tolerance: 110.66890997069427\n"
     ]
    },
    {
     "name": "stdout",
     "output_type": "stream",
     "text": [
      "123\n"
     ]
    },
    {
     "name": "stderr",
     "output_type": "stream",
     "text": [
      "Objective did not converge. You might want to increase the number of iterations. Duality gap: 2117.211552958295, tolerance: 110.66890997069427\n"
     ]
    },
    {
     "name": "stdout",
     "output_type": "stream",
     "text": [
      "113\n"
     ]
    },
    {
     "name": "stderr",
     "output_type": "stream",
     "text": [
      "Objective did not converge. You might want to increase the number of iterations. Duality gap: 543.236731686804, tolerance: 110.66890997069427\n"
     ]
    },
    {
     "name": "stdout",
     "output_type": "stream",
     "text": [
      "96\n",
      "[]\n"
     ]
    },
    {
     "name": "stderr",
     "output_type": "stream",
     "text": [
      "Objective did not converge. You might want to increase the number of iterations. Duality gap: 2711.170129266102, tolerance: 110.66890997069427\n"
     ]
    },
    {
     "name": "stdout",
     "output_type": "stream",
     "text": [
      "117\n"
     ]
    },
    {
     "name": "stderr",
     "output_type": "stream",
     "text": [
      "Objective did not converge. You might want to increase the number of iterations. Duality gap: 770.0078702052706, tolerance: 110.66890997069427\n"
     ]
    },
    {
     "name": "stdout",
     "output_type": "stream",
     "text": [
      "100\n"
     ]
    },
    {
     "name": "stderr",
     "output_type": "stream",
     "text": [
      "Objective did not converge. You might want to increase the number of iterations. Duality gap: 282.2311729611247, tolerance: 110.66890997069427\n"
     ]
    },
    {
     "name": "stdout",
     "output_type": "stream",
     "text": [
      "110\n"
     ]
    },
    {
     "name": "stderr",
     "output_type": "stream",
     "text": [
      "Objective did not converge. You might want to increase the number of iterations. Duality gap: 166.5195344800013, tolerance: 110.66890997069427\n"
     ]
    },
    {
     "name": "stdout",
     "output_type": "stream",
     "text": [
      "86\n",
      "[]\n"
     ]
    },
    {
     "name": "stderr",
     "output_type": "stream",
     "text": [
      "Objective did not converge. You might want to increase the number of iterations. Duality gap: 126.90031434525736, tolerance: 110.66890997069427\n"
     ]
    },
    {
     "name": "stdout",
     "output_type": "stream",
     "text": [
      "97\n"
     ]
    },
    {
     "name": "stderr",
     "output_type": "stream",
     "text": [
      "Objective did not converge. You might want to increase the number of iterations. Duality gap: 138.211111381941, tolerance: 110.66890997069427\n"
     ]
    },
    {
     "name": "stdout",
     "output_type": "stream",
     "text": [
      "89\n",
      "76\n",
      "[]\n"
     ]
    },
    {
     "name": "stderr",
     "output_type": "stream",
     "text": [
      "Objective did not converge. You might want to increase the number of iterations. Duality gap: 252.8304779160535, tolerance: 110.66890997069427\n"
     ]
    },
    {
     "name": "stdout",
     "output_type": "stream",
     "text": [
      "65\n",
      "[]\n"
     ]
    },
    {
     "name": "stderr",
     "output_type": "stream",
     "text": [
      "Objective did not converge. You might want to increase the number of iterations. Duality gap: 392.53154945612187, tolerance: 110.66890997069427\n"
     ]
    },
    {
     "name": "stdout",
     "output_type": "stream",
     "text": [
      "69\n",
      "83\n",
      "66\n"
     ]
    },
    {
     "name": "stderr",
     "output_type": "stream",
     "text": [
      "Objective did not converge. You might want to increase the number of iterations. Duality gap: 249.97576784016564, tolerance: 110.66890997069427\n"
     ]
    },
    {
     "name": "stdout",
     "output_type": "stream",
     "text": [
      "72\n",
      "53\n",
      "[]\n"
     ]
    },
    {
     "name": "stderr",
     "output_type": "stream",
     "text": [
      "Objective did not converge. You might want to increase the number of iterations. Duality gap: 223.82210222393041, tolerance: 110.66890997069427\n"
     ]
    },
    {
     "name": "stdout",
     "output_type": "stream",
     "text": [
      "77\n"
     ]
    },
    {
     "name": "stderr",
     "output_type": "stream",
     "text": [
      "Objective did not converge. You might want to increase the number of iterations. Duality gap: 110.7914120000205, tolerance: 110.66890997069427\n"
     ]
    },
    {
     "name": "stdout",
     "output_type": "stream",
     "text": [
      "62\n"
     ]
    },
    {
     "name": "stderr",
     "output_type": "stream",
     "text": [
      "Objective did not converge. You might want to increase the number of iterations. Duality gap: 170.14098052709596, tolerance: 110.66890997069427\n"
     ]
    },
    {
     "name": "stdout",
     "output_type": "stream",
     "text": [
      "68\n"
     ]
    },
    {
     "name": "stderr",
     "output_type": "stream",
     "text": [
      "Objective did not converge. You might want to increase the number of iterations. Duality gap: 159.429309955216, tolerance: 110.66890997069427\n"
     ]
    },
    {
     "name": "stdout",
     "output_type": "stream",
     "text": [
      "86\n"
     ]
    },
    {
     "name": "stderr",
     "output_type": "stream",
     "text": [
      "Objective did not converge. You might want to increase the number of iterations. Duality gap: 186.87752166611608, tolerance: 110.66890997069427\n"
     ]
    },
    {
     "name": "stdout",
     "output_type": "stream",
     "text": [
      "71\n",
      "66\n",
      "59\n",
      "58\n"
     ]
    },
    {
     "name": "stderr",
     "output_type": "stream",
     "text": [
      "Objective did not converge. You might want to increase the number of iterations. Duality gap: 164.74818382586818, tolerance: 110.66890997069427\n"
     ]
    },
    {
     "name": "stdout",
     "output_type": "stream",
     "text": [
      "68\n",
      "54\n",
      "71\n",
      "56\n"
     ]
    },
    {
     "name": "stderr",
     "output_type": "stream",
     "text": [
      "Objective did not converge. You might want to increase the number of iterations. Duality gap: 124.02129815414082, tolerance: 110.66890997069427\n"
     ]
    },
    {
     "name": "stdout",
     "output_type": "stream",
     "text": [
      "56\n"
     ]
    },
    {
     "name": "stderr",
     "output_type": "stream",
     "text": [
      "Objective did not converge. You might want to increase the number of iterations. Duality gap: 149.0297856121906, tolerance: 110.66890997069427\n"
     ]
    },
    {
     "name": "stdout",
     "output_type": "stream",
     "text": [
      "62\n",
      "48\n",
      "[]\n",
      "47\n",
      "61\n",
      "51\n",
      "63\n",
      "52\n"
     ]
    },
    {
     "name": "stderr",
     "output_type": "stream",
     "text": [
      "Objective did not converge. You might want to increase the number of iterations. Duality gap: 280.06080579024274, tolerance: 110.66890997069427\n"
     ]
    },
    {
     "name": "stdout",
     "output_type": "stream",
     "text": [
      "63\n",
      "46\n",
      "47\n",
      "54\n",
      "55\n"
     ]
    },
    {
     "name": "stderr",
     "output_type": "stream",
     "text": [
      "Objective did not converge. You might want to increase the number of iterations. Duality gap: 120.94246597826714, tolerance: 110.66890997069427\n"
     ]
    },
    {
     "name": "stdout",
     "output_type": "stream",
     "text": [
      "44\n",
      "50\n",
      "48\n",
      "49\n",
      "48\n",
      "42\n",
      "41\n",
      "36\n",
      "[]\n",
      "50\n",
      "38\n",
      "35\n",
      "29\n",
      "[]\n",
      "45\n",
      "51\n",
      "38\n",
      "60\n",
      "41\n",
      "44\n",
      "43\n",
      "31\n",
      "44\n",
      "38\n",
      "30\n",
      "44\n",
      "34\n",
      "34\n",
      "35\n",
      "36\n",
      "36\n",
      "33\n",
      "41\n",
      "24\n",
      "37\n",
      "37\n",
      "40\n",
      "51\n",
      "36\n",
      "51\n",
      "40\n",
      "50\n",
      "39\n",
      "35\n",
      "29\n",
      "27\n",
      "41\n",
      "35\n",
      "44\n",
      "35\n",
      "23\n",
      "39\n",
      "37\n",
      "45\n",
      "32\n",
      "26\n",
      "34\n",
      "51\n",
      "24\n",
      "32\n",
      "25\n",
      "32\n",
      "29\n",
      "22\n",
      "26\n",
      "22\n",
      "28\n",
      "26\n",
      "24\n",
      "42\n",
      "40\n",
      "30\n",
      "28\n",
      "32\n",
      "25\n"
     ]
    },
    {
     "name": "stderr",
     "output_type": "stream",
     "text": [
      "Objective did not converge. You might want to increase the number of iterations. Duality gap: 131.53289047331782, tolerance: 110.66890997069427\n"
     ]
    },
    {
     "name": "stdout",
     "output_type": "stream",
     "text": [
      "38\n",
      "27\n",
      "40\n",
      "31\n",
      "28\n",
      "32\n",
      "24\n",
      "33\n",
      "38\n",
      "20\n",
      "[]\n",
      "33\n",
      "25\n",
      "37\n",
      "22\n",
      "31\n",
      "31\n",
      "38\n",
      "28\n",
      "25\n",
      "26\n",
      "35\n",
      "28\n",
      "33\n",
      "31\n",
      "21\n",
      "31\n",
      "46\n",
      "24\n",
      "24\n",
      "38\n",
      "32\n",
      "27\n",
      "36\n",
      "37\n",
      "26\n",
      "21\n",
      "37\n",
      "34\n",
      "23\n",
      "22\n",
      "26\n",
      "24\n",
      "24\n",
      "32\n",
      "31\n",
      "34\n",
      "35\n",
      "21\n",
      "24\n",
      "32\n",
      "28\n",
      "20\n",
      "24\n",
      "22\n",
      "23\n",
      "33\n",
      "30\n",
      "23\n",
      "18\n",
      "16\n",
      "21\n",
      "20\n",
      "17\n",
      "19\n",
      "28\n",
      "41\n",
      "21\n",
      "21\n",
      "19\n",
      "40\n",
      "21\n",
      "14\n",
      "34\n",
      "35\n",
      "32\n",
      "24\n",
      "32\n",
      "15\n",
      "23\n",
      "30\n",
      "42\n",
      "31\n",
      "21\n",
      "21\n",
      "33\n",
      "17\n",
      "18\n",
      "20\n",
      "19\n",
      "30\n",
      "19\n",
      "16\n",
      "18\n",
      "17\n",
      "17\n",
      "27\n",
      "14\n",
      "22\n",
      "22\n",
      "21\n",
      "22\n",
      "22\n",
      "19\n",
      "23\n",
      "16\n",
      "28\n",
      "39\n",
      "23\n",
      "16\n",
      "26\n",
      "24\n",
      "30\n",
      "19\n",
      "34\n",
      "13\n",
      "20\n",
      "18\n",
      "19\n",
      "17\n",
      "27\n",
      "18\n",
      "23\n",
      "26\n",
      "26\n",
      "25\n",
      "15\n",
      "25\n",
      "19\n",
      "40\n",
      "37\n",
      "21\n",
      "17\n",
      "40\n",
      "22\n",
      "19\n",
      "33\n",
      "35\n",
      "29\n",
      "24\n",
      "25\n",
      "20\n",
      "18\n",
      "21\n",
      "20\n",
      "19\n",
      "38\n",
      "20\n",
      "13\n",
      "28\n",
      "18\n",
      "11\n",
      "28\n",
      "42\n",
      "12\n",
      "27\n",
      "20\n",
      "13\n",
      "23\n",
      "29\n",
      "15\n",
      "22\n",
      "14\n",
      "38\n",
      "23\n",
      "15\n",
      "31\n",
      "20\n",
      "25\n",
      "24\n",
      "15\n",
      "14\n",
      "16\n",
      "40\n",
      "39\n",
      "31\n",
      "24\n",
      "15\n",
      "37\n",
      "20\n",
      "32\n",
      "12\n",
      "16\n",
      "21\n",
      "21\n",
      "17\n",
      "19\n",
      "23\n",
      "17\n",
      "15\n",
      "9\n",
      "[]\n"
     ]
    }
   ],
   "source": [
    "alphas=[]\n",
    "\n",
    "for j in range(0,2):\n",
    "    print(j)\n",
    "    if j==0:\n",
    "        train_dataset_surgeons= Datasets_surgeon_96440008['TrainSet']\n",
    "        test_dataset_surgeons= Datasets_surgeon_96440008['TestSet']\n",
    "        train_dataset_surgeons_categorical=Datasets_surgeon_96440008['TrainSet'][Datasets_surgeon_96440008['TrainSet']['Real Room Duration']>28]\n",
    "        test_dataset_surgeons_categorical=Datasets_surgeon_96440008['TestSet'][Datasets_surgeon_96440008['TestSet']['Real Room Duration']>28]\n",
    "        \n",
    "        \n",
    "    if j==1:\n",
    "        train_dataset_surgeons= df_train_surgeon\n",
    "        test_dataset_surgeons= df_test_surgeon\n",
    "        train_dataset_surgeons_categorical= df_train_surgeon[df_train_surgeon['Real Room Duration']>28]\n",
    "        test_dataset_surgeons_categorical= df_test_surgeon[df_test_surgeon['Real Room Duration']>28]\n",
    "        \n",
    "    \n",
    "        \n",
    "    r=1\n",
    "\n",
    "    Parameters=Surgeon_model_96440008[Tuning_models['Decision_Tree'][2]][\"Best_params_dict\"]\n",
    "\n",
    "    Decison_Tree=Tuning_models['Decision_Tree'][2](base_estimator=DecisionTreeRegressor(max_depth=Parameters[\"base_estimator__max_depth\"]),n_estimators=Parameters[\"n_estimators\"],random_state=123)\n",
    "    print(Decison_Tree)\n",
    "\n",
    "    regularizer=Tuning_models['Regularizers_1'][0]\n",
    "\n",
    "    print(regularizer)\n",
    "\n",
    "    Cs=Tuning_models['Cs']\n",
    "\n",
    "    beta=0.1\n",
    "    alpha=0.0001\n",
    "    \n",
    "\n",
    "    train_features_surgeons = train_dataset_surgeons.copy()\n",
    "\n",
    "    train_labels_surgeons = train_features_surgeons.pop('Real Room Duration')\n",
    "\n",
    "    train_CUF_labels_surgeons = train_features_surgeons.pop('CUF Planned Duration')\n",
    "    \n",
    "    test_features_surgeons = test_dataset_surgeons.copy()\n",
    "\n",
    "    test_labels_surgeons = test_features_surgeons.pop('Real Room Duration')\n",
    "\n",
    "    test_CUF_labels_surgeons = test_features_surgeons.pop('CUF Planned Duration')\n",
    "    #-----\n",
    "    \n",
    "    \n",
    "\n",
    "    train_features_surgeons_categorical = train_dataset_surgeons_categorical.copy()\n",
    "\n",
    "    train_labels_surgeons_categorical = train_features_surgeons_categorical.pop('Real Room Duration')\n",
    "\n",
    "    train_CUF_labels_surgeons_categorical = train_features_surgeons_categorical.pop('CUF Planned Duration')\n",
    "    \n",
    "    test_features_surgeons_categorical = test_dataset_surgeons_categorical.copy()\n",
    "\n",
    "    test_labels_surgeons_categorical = test_features_surgeons_categorical.pop('Real Room Duration')\n",
    "\n",
    "    test_CUF_labels_surgeons_categorical = test_features_surgeons_categorical.pop('CUF Planned Duration')\n",
    "\n",
    "\n",
    "\n",
    "\n",
    "    #Dataset\n",
    "    train_dataset_surgeons= np.asarray(train_dataset_surgeons).astype(np.float32)\n",
    "\n",
    "    #Features\n",
    "    train_features_surgeons= np.asarray(train_features_surgeons).astype(np.float32)\n",
    "\n",
    "    #labels\n",
    "    train_labels_surgeons= np.asarray(train_labels_surgeons).astype(np.float32)\n",
    "    \n",
    "    #Dataset\n",
    "    train_dataset_surgeons_categorical= np.asarray(train_dataset_surgeons_categorical).astype(np.float32)\n",
    "\n",
    "    #Features\n",
    "    train_features_surgeons_categorical= np.asarray(train_features_surgeons_categorical).astype(np.float32)\n",
    "\n",
    "    #labels\n",
    "    train_labels_surgeons_categorical= np.asarray(train_labels_surgeons_categorical).astype(np.float32)\n",
    "    \n",
    "    \n",
    "    ##---\n",
    "    \n",
    "    #Dataset\n",
    "    test_dataset_surgeons= np.asarray(test_dataset_surgeons).astype(np.float32)\n",
    "\n",
    "    #Features\n",
    "    test_features_surgeons= np.asarray(test_features_surgeons).astype(np.float32)\n",
    "\n",
    "    #labels\n",
    "    test_labels_surgeons= np.asarray(test_labels_surgeons).astype(np.float32)\n",
    "    \n",
    "    #Dataset\n",
    "    test_dataset_surgeons_categorical= np.asarray(test_dataset_surgeons_categorical).astype(np.float32)\n",
    "\n",
    "    #Features\n",
    "    test_features_surgeons_categorical= np.asarray(test_features_surgeons_categorical).astype(np.float32)\n",
    "\n",
    "    #labels\n",
    "    test_labels_surgeons_categorical= np.asarray(test_labels_surgeons_categorical).astype(np.float32)\n",
    "    \n",
    "\n",
    "    t=0\n",
    "    for rules_n in range(number_of_rules):\n",
    "        \n",
    "\n",
    "        max_rules=(10-rules_n)*10\n",
    "\n",
    "        len_reduce_rules=1000\n",
    "\n",
    "        while len_reduce_rules>max_rules:\n",
    "\n",
    "            Decison_Tree_tune=copy.deepcopy(Decison_Tree)\n",
    "\n",
    "            rf = RuleFit_withoutCV.RuleFit(tree_generator=Decison_Tree_tune,alpha=alpha, Cs=Cs, max_iter=10e10, regularization=regularizer,n_jobs=-1)\n",
    "\n",
    "\n",
    "            rf.fit(train_features_surgeons, train_labels_surgeons, feature_names=surgeoncolumns)\n",
    "\n",
    "            rules = rf.get_rules()\n",
    "\n",
    "            reduce_rules = rules[abs(rules.coef) !=0].sort_values(\"coef\", ascending=False)\n",
    "\n",
    "\n",
    "            len_reduce_rules=len(reduce_rules)\n",
    "\n",
    "            print(len_reduce_rules)\n",
    "\n",
    "            rf_score_train = np.round(mean_squared_error(rf.predict(train_features_surgeons),train_labels_surgeons,squared=False))\n",
    "\n",
    "          \n",
    "\n",
    "            rf_score = np.round(mean_squared_error(rf.predict(test_features_surgeons),test_labels_surgeons,squared=False))\n",
    "\n",
    "            \n",
    "            predictions=rf.predict(test_features_surgeons)\n",
    "\n",
    "            .\n",
    "                \n",
    "        \n",
    "            \n",
    "        print(alphas)\n",
    "\n",
    "\n",
    "        dataset_predicton = {\"Real Duration\": test_labels_surgeons, \"Planned by Cuf\": test_CUF_labels_surgeons, \"Labels from RuleFit\": predictions}\n",
    "        dataset_predicton=pd.DataFrame(dataset_predicton)\n",
    "\n",
    "        dataset_predicton['Error_RuleFit'] = percCal(dataset_predicton['Real Duration'], dataset_predicton['Labels from RuleFit'])\n",
    "        dataset_predicton['Error_CUF'] = percCal(dataset_predicton['Real Duration'], dataset_predicton['Planned by Cuf'])\n",
    "\n",
    "        CUF_overuse=dataset_predicton[dataset_predicton['Error_CUF']>10].shape[0]/dataset_predicton.shape[0]\n",
    "        RuleFit_overuse=dataset_predicton[dataset_predicton['Error_RuleFit']>10].shape[0]/dataset_predicton.shape[0]\n",
    "        #Underutilization\n",
    "        CUF_under=dataset_predicton[dataset_predicton['Error_CUF']<-10].shape[0]/dataset_predicton.shape[0]\n",
    "        RuleFit_under=dataset_predicton[dataset_predicton['Error_RuleFit']<-10].shape[0]/dataset_predicton.shape[0]\n",
    "            #Within\n",
    "        CUF_Within=dataset_predicton[dataset_predicton['Error_CUF'].abs()<=10].shape[0]/dataset_predicton.shape[0]\n",
    "        RuleFit_Within=dataset_predicton[dataset_predicton['Error_RuleFit'].abs()<=10].shape[0]/dataset_predicton.shape[0]\n",
    "\n",
    "        Rashomon_curve[j][rules_n].update({\"Model\": rf})\n",
    "        Rashomon_curve[j][rules_n].update({\"Rules\": rules})\n",
    "\n",
    "        Rashomon_curve[j][rules_n].update({\"Rules_non0\": reduce_rules})\n",
    "\n",
    "        Rashomon_curve[j][rules_n].update({\"Number Rules\": len(reduce_rules)})\n",
    "        Rashomon_curve[j][rules_n].update({\"TestScore\": rf_score})\n",
    "        Rashomon_curve[j][rules_n].update({\"TrainScore\": rf_score_train})\n",
    "        Rashomon_curve[j][rules_n].update({\"Predictions\": predictions})\n",
    "        Rashomon_curve[j][rules_n].update({\"Dataset_predicton\": dataset_predicton})\n",
    "\n",
    "        Rashomon_curve[j][rules_n].update({\"Percentage\": [RuleFit_Within, RuleFit_under, RuleFit_overuse]})\n",
    "        Rashomon_curve[j][rules_n].update({\"Percentage_CUF\": [CUF_Within, CUF_under, CUF_overuse]})\n",
    "        \n",
    "        predictions_train=rf.predict(train_features_surgeons)\n",
    "        \n",
    "        rf_score_test =np.round(mean_squared_error(rf.predict(test_features_surgeons),test_labels_surgeons,squared=False))\n",
    "        \n",
    "        rf_score_train = np.round(mean_squared_error(rf.predict(train_features_surgeons),train_labels_surgeons,squared=False))\n",
    "        \n",
    "        \n",
    "       \n",
    "        \n",
    "        rf_score_test_categorical = np.round(mean_squared_error(rf.predict(test_features_surgeons_categorical),test_labels_surgeons_categorical,squared=False))\n",
    "        \n",
    "        rf_score_train_categorical = np.round(mean_squared_error(rf.predict(train_features_surgeons_categorical),train_labels_surgeons_categorical,squared=False))\n",
    "        \n",
    "\n",
    "        dataset_predicton = {\"Real Duration\": train_labels_surgeons, \"Planned by Cuf\": train_CUF_labels_surgeons, \"Labels from RuleFit\": predictions_train}\n",
    "        dataset_predicton=pd.DataFrame(dataset_predicton)\n",
    "\n",
    "        dataset_predicton['Error_RuleFit'] = percCal(dataset_predicton['Real Duration'], dataset_predicton['Labels from RuleFit'])\n",
    "        dataset_predicton['Error_CUF'] = percCal(dataset_predicton['Real Duration'], dataset_predicton['Planned by Cuf'])\n",
    "\n",
    "        CUF_overuse=dataset_predicton[dataset_predicton['Error_CUF']>10].shape[0]/dataset_predicton.shape[0]\n",
    "        RuleFit_overuse=dataset_predicton[dataset_predicton['Error_RuleFit']>10].shape[0]/dataset_predicton.shape[0]\n",
    "        #Underutilization\n",
    "        CUF_under=dataset_predicton[dataset_predicton['Error_CUF']<-10].shape[0]/dataset_predicton.shape[0]\n",
    "        RuleFit_under=dataset_predicton[dataset_predicton['Error_RuleFit']<-10].shape[0]/dataset_predicton.shape[0]\n",
    "            #Within\n",
    "        CUF_Within=dataset_predicton[dataset_predicton['Error_CUF'].abs()<=10].shape[0]/dataset_predicton.shape[0]\n",
    "        RuleFit_Within=dataset_predicton[dataset_predicton['Error_RuleFit'].abs()<=10].shape[0]/dataset_predicton.shape[0]\n",
    "\n",
    "        Rashomon_curve[j][rules_n].update({\"Score R2 Train\": rf_score_train})\n",
    "        Rashomon_curve[j][rules_n].update({\"Score R2 Test\": rf_score_test})\n",
    "        Rashomon_curve[j][rules_n].update({\"Score R2 Train Categorical\": rf_score_train_categorical})\n",
    "        Rashomon_curve[j][rules_n].update({\"Score R2 Test Categorical\": rf_score_test_categorical})\n",
    "        \n",
    "        Rashomon_curve[j][rules_n].update({\"Percentage_Train\": [RuleFit_Within, RuleFit_under, RuleFit_overuse]})\n",
    "        \n",
    "        #------\n",
    "        \n",
    "        predictions_test_categorical=rf.predict(test_features_surgeons_categorical)\n",
    "        \n",
    "        dataset_predicton = {\"Real Duration\": test_labels_surgeons_categorical, \"Planned by Cuf\": test_CUF_labels_surgeons_categorical, \"Labels from RuleFit\": predictions_test_categorical}\n",
    "        dataset_predicton=pd.DataFrame(dataset_predicton)\n",
    "\n",
    "        dataset_predicton['Error_RuleFit'] = percCal(dataset_predicton['Real Duration'], dataset_predicton['Labels from RuleFit'])\n",
    "        dataset_predicton['Error_CUF'] = percCal(dataset_predicton['Real Duration'], dataset_predicton['Planned by Cuf'])\n",
    "\n",
    "        CUF_overuse=dataset_predicton[dataset_predicton['Error_CUF']>10].shape[0]/dataset_predicton.shape[0]\n",
    "        RuleFit_overuse=dataset_predicton[dataset_predicton['Error_RuleFit']>10].shape[0]/dataset_predicton.shape[0]\n",
    "        #Underutilization\n",
    "        CUF_under=dataset_predicton[dataset_predicton['Error_CUF']<-10].shape[0]/dataset_predicton.shape[0]\n",
    "        RuleFit_under=dataset_predicton[dataset_predicton['Error_RuleFit']<-10].shape[0]/dataset_predicton.shape[0]\n",
    "            #Within\n",
    "        CUF_Within=dataset_predicton[dataset_predicton['Error_CUF'].abs()<=10].shape[0]/dataset_predicton.shape[0]\n",
    "        RuleFit_Within=dataset_predicton[dataset_predicton['Error_RuleFit'].abs()<=10].shape[0]/dataset_predicton.shape[0]\n",
    "        \n",
    "        Rashomon_curve[j][rules_n].update({\"Percentage Test Categorical\": [RuleFit_Within, RuleFit_under, RuleFit_overuse]})\n",
    "        \n",
    "        \n",
    "        #------\n",
    "        \n",
    "        predictions_train_categorical=rf.predict(train_features_surgeons_categorical)\n",
    "        \n",
    "        dataset_predicton = {\"Real Duration\": train_labels_surgeons_categorical, \"Planned by Cuf\": train_CUF_labels_surgeons_categorical, \"Labels from RuleFit\": predictions_train_categorical}\n",
    "        dataset_predicton=pd.DataFrame(dataset_predicton)\n",
    "\n",
    "        dataset_predicton['Error_RuleFit'] = percCal(dataset_predicton['Real Duration'], dataset_predicton['Labels from RuleFit'])\n",
    "        dataset_predicton['Error_CUF'] = percCal(dataset_predicton['Real Duration'], dataset_predicton['Planned by Cuf'])\n",
    "\n",
    "        CUF_overuse=dataset_predicton[dataset_predicton['Error_CUF']>10].shape[0]/dataset_predicton.shape[0]\n",
    "        RuleFit_overuse=dataset_predicton[dataset_predicton['Error_RuleFit']>10].shape[0]/dataset_predicton.shape[0]\n",
    "        #Underutilization\n",
    "        CUF_under=dataset_predicton[dataset_predicton['Error_CUF']<-10].shape[0]/dataset_predicton.shape[0]\n",
    "        RuleFit_under=dataset_predicton[dataset_predicton['Error_RuleFit']<-10].shape[0]/dataset_predicton.shape[0]\n",
    "            #Within\n",
    "        CUF_Within=dataset_predicton[dataset_predicton['Error_CUF'].abs()<=10].shape[0]/dataset_predicton.shape[0]\n",
    "        RuleFit_Within=dataset_predicton[dataset_predicton['Error_RuleFit'].abs()<=10].shape[0]/dataset_predicton.shape[0]\n",
    "        \n",
    "        Rashomon_curve[j][rules_n].update({\"Percentage Train Categorical\": [RuleFit_Within, RuleFit_under, RuleFit_overuse]})\n",
    "        \n"
   ]
  },
  {
   "cell_type": "code",
   "execution_count": 85,
   "metadata": {},
   "outputs": [
    {
     "name": "stdout",
     "output_type": "stream",
     "text": [
      "RuleFit_WithoutImbalanced_100.sav\n",
      "RuleFit_WithoutImbalanced_90.sav\n",
      "RuleFit_WithoutImbalanced_80.sav\n",
      "RuleFit_WithoutImbalanced_70.sav\n",
      "RuleFit_WithoutImbalanced_60.sav\n",
      "RuleFit_WithoutImbalanced_50.sav\n",
      "RuleFit_WithoutImbalanced_40.sav\n",
      "RuleFit_WithoutImbalanced_30.sav\n",
      "RuleFit_WithoutImbalanced_20.sav\n",
      "RuleFit_WithoutImbalanced_10.sav\n"
     ]
    }
   ],
   "source": [
    "# save the model to disk\n",
    "Curve=1\n",
    "\n",
    "rules=[100,90,80,70,60,50,40,30,20,10]\n",
    "\n",
    "\n",
    "for i in range(len(rules)):\n",
    "    \n",
    "    Best_model=Rashomon_curve[Curve][i]['Model']\n",
    "    \n",
    "    filename=\"RuleFit_WithoutImbalanced_{}.sav\".format(rules[i])\n",
    "    print(filename)\n",
    "    pickle.dump(Best_model, open(filename, 'wb'))"
   ]
  },
  {
   "cell_type": "code",
   "execution_count": 86,
   "metadata": {},
   "outputs": [
    {
     "name": "stdout",
     "output_type": "stream",
     "text": [
      "RuleFit_Imbalanced_100.sav\n",
      "RuleFit_Imbalanced_90.sav\n",
      "RuleFit_Imbalanced_80.sav\n",
      "RuleFit_Imbalanced_70.sav\n",
      "RuleFit_Imbalanced_60.sav\n",
      "RuleFit_Imbalanced_50.sav\n",
      "RuleFit_Imbalanced_40.sav\n",
      "RuleFit_Imbalanced_30.sav\n",
      "RuleFit_Imbalanced_20.sav\n",
      "RuleFit_Imbalanced_10.sav\n"
     ]
    }
   ],
   "source": [
    "# save the model to disk\n",
    "Curve=0\n",
    "\n",
    "rules=[100,90,80,70,60,50,40,30,20,10]\n",
    "\n",
    "\n",
    "for i in range(len(rules)):\n",
    "    \n",
    "    Best_model=Rashomon_curve[Curve][i]['Model']\n",
    "    \n",
    "    filename=\"RuleFit_Imbalanced_{}.sav\".format(rules[i])\n",
    "    print(filename)\n",
    "    pickle.dump(Best_model, open(filename, 'wb'))"
   ]
  },
  {
   "cell_type": "code",
   "execution_count": 53,
   "metadata": {},
   "outputs": [],
   "source": [
    "%store -r Rashomon_curve"
   ]
  },
  {
   "cell_type": "markdown",
   "metadata": {},
   "source": [
    "----"
   ]
  },
  {
   "cell_type": "code",
   "execution_count": 54,
   "metadata": {},
   "outputs": [],
   "source": [
    "\n",
    "loss_train=[]\n",
    "loss_test=[]\n",
    "\n",
    "Total_losses_train=[]\n",
    "Total_losses_test=[]\n",
    "\n",
    "Total_within_test=[]\n",
    "Total_within_train=[]\n",
    "Total_Diference=[]\n",
    "\n",
    "Total_losses_r2_train=[]\n",
    "Total_losses_r2_test=[]\n",
    "\n",
    "for rules_n in range(number_of_rules):\n",
    "\n",
    "    values_rmse_test=[]\n",
    "    values_rmse_train=[]\n",
    "    within_test=[]\n",
    "    within_train=[]\n",
    "    \n",
    "    r2_test=[]\n",
    "    r2_train=[]\n",
    "    \n",
    "    diference=[]\n",
    "    for j in range(0,2):\n",
    "        \n",
    "        \n",
    "        \n",
    "        values_rmse_test+=[Rashomon_curve[j][rules_n]['TestScore']]\n",
    "        values_rmse_train+=[Rashomon_curve[j][rules_n]['TrainScore']]\n",
    "        diference+=[abs(Rashomon_curve[j][rules_n]['TestScore']-Rashomon_curve[j][rules_n]['TrainScore'])]\n",
    "        \n",
    "        \n",
    "        r2_train+=[Rashomon_curve[j][rules_n]['Score R2 Train Categorical']]\n",
    "        r2_test+=[Rashomon_curve[j][rules_n]['Score R2 Test Categorical']]\n",
    "        \n",
    "        within_train+=[Rashomon_curve[j][rules_n]['Percentage Train Categorical'][0]]\n",
    "        within_test+=[Rashomon_curve[j][rules_n]['Percentage Test Categorical'][0]]\n",
    "        \n",
    "        \n",
    "    \n",
    "    \n",
    "    Total_losses_train+=[values_rmse_train]\n",
    "    Total_losses_test+=[values_rmse_test]\n",
    "                  \n",
    "    Total_losses_r2_train+=[r2_train]\n",
    "    Total_losses_r2_test+=[r2_test]\n",
    "    \n",
    "    \n",
    "    \n",
    "    Total_within_train+=[within_train]\n",
    "    Total_within_test+=[within_test]\n",
    "    \n",
    "\n"
   ]
  },
  {
   "cell_type": "code",
   "execution_count": 55,
   "metadata": {},
   "outputs": [
    {
     "data": {
      "text/plain": [
       "<matplotlib.legend.Legend at 0x25f2d759130>"
      ]
     },
     "execution_count": 55,
     "metadata": {},
     "output_type": "execute_result"
    },
    {
     "data": {
      "image/png": "[encoded data removed]",
      "text/plain": [
       "<Figure size 432x288 with 1 Axes>"
      ]
     },
     "metadata": {
      "needs_background": "light"
     },
     "output_type": "display_data"
    }
   ],
   "source": [
    "value=1\n",
    "\n",
    "import numpy as np\n",
    "import matplotlib.pyplot as plt\n",
    "\n",
    "X = np.arange(2)\n",
    "fig = plt.figure()\n",
    "ax = fig.add_axes([0,0,1,1])\n",
    "ax.bar(X + 0.00, Total_within_train[value], color = 'b', width = 0.25)\n",
    "ax.bar(X + 0.25,Total_within_test[value] , color = 'g', width = 0.25)\n",
    "ax.legend(['Train','Test'])"
   ]
  },
  {
   "cell_type": "code",
   "execution_count": 56,
   "metadata": {},
   "outputs": [
    {
     "ename": "IndexError",
     "evalue": "list index out of range",
     "output_type": "error",
     "traceback": [
      "\u001b[1;31m---------------------------------------------------------------------------\u001b[0m",
      "\u001b[1;31mIndexError\u001b[0m                                Traceback (most recent call last)",
      "\u001b[1;32m<ipython-input-56-c4ee8b705f6d>\u001b[0m in \u001b[0;36m<module>\u001b[1;34m\u001b[0m\n\u001b[0;32m      9\u001b[0m \u001b[0max\u001b[0m\u001b[1;33m.\u001b[0m\u001b[0mbar\u001b[0m\u001b[1;33m(\u001b[0m\u001b[0mX\u001b[0m \u001b[1;33m+\u001b[0m \u001b[1;36m0.00\u001b[0m\u001b[1;33m,\u001b[0m \u001b[0mTotal_losses_train\u001b[0m\u001b[1;33m[\u001b[0m\u001b[0mvalue\u001b[0m\u001b[1;33m]\u001b[0m\u001b[1;33m,\u001b[0m \u001b[0mcolor\u001b[0m \u001b[1;33m=\u001b[0m \u001b[1;34m'b'\u001b[0m\u001b[1;33m,\u001b[0m \u001b[0mwidth\u001b[0m \u001b[1;33m=\u001b[0m \u001b[1;36m0.25\u001b[0m\u001b[1;33m)\u001b[0m\u001b[1;33m\u001b[0m\u001b[1;33m\u001b[0m\u001b[0m\n\u001b[0;32m     10\u001b[0m \u001b[0max\u001b[0m\u001b[1;33m.\u001b[0m\u001b[0mbar\u001b[0m\u001b[1;33m(\u001b[0m\u001b[0mX\u001b[0m \u001b[1;33m+\u001b[0m \u001b[1;36m0.25\u001b[0m\u001b[1;33m,\u001b[0m\u001b[0mTotal_losses_test\u001b[0m\u001b[1;33m[\u001b[0m\u001b[0mvalue\u001b[0m\u001b[1;33m]\u001b[0m \u001b[1;33m,\u001b[0m \u001b[0mcolor\u001b[0m \u001b[1;33m=\u001b[0m \u001b[1;34m'g'\u001b[0m\u001b[1;33m,\u001b[0m \u001b[0mwidth\u001b[0m \u001b[1;33m=\u001b[0m \u001b[1;36m0.25\u001b[0m\u001b[1;33m)\u001b[0m\u001b[1;33m\u001b[0m\u001b[1;33m\u001b[0m\u001b[0m\n\u001b[1;32m---> 11\u001b[1;33m \u001b[0max\u001b[0m\u001b[1;33m.\u001b[0m\u001b[0mbar\u001b[0m\u001b[1;33m(\u001b[0m\u001b[0mX\u001b[0m \u001b[1;33m+\u001b[0m \u001b[1;36m0.50\u001b[0m\u001b[1;33m,\u001b[0m \u001b[0mTotal_Diference\u001b[0m\u001b[1;33m[\u001b[0m\u001b[0mvalue\u001b[0m\u001b[1;33m]\u001b[0m\u001b[1;33m,\u001b[0m \u001b[0mcolor\u001b[0m \u001b[1;33m=\u001b[0m \u001b[1;34m'r'\u001b[0m\u001b[1;33m,\u001b[0m \u001b[0mwidth\u001b[0m \u001b[1;33m=\u001b[0m \u001b[1;36m0.25\u001b[0m\u001b[1;33m)\u001b[0m\u001b[1;33m\u001b[0m\u001b[1;33m\u001b[0m\u001b[0m\n\u001b[0m\u001b[0;32m     12\u001b[0m \u001b[0max\u001b[0m\u001b[1;33m.\u001b[0m\u001b[0mlegend\u001b[0m\u001b[1;33m(\u001b[0m\u001b[1;33m[\u001b[0m\u001b[1;34m'RMSE Train'\u001b[0m\u001b[1;33m,\u001b[0m\u001b[1;34m'RMSE Test'\u001b[0m\u001b[1;33m,\u001b[0m\u001b[1;34m'Loss Diference'\u001b[0m\u001b[1;33m]\u001b[0m\u001b[1;33m)\u001b[0m\u001b[1;33m\u001b[0m\u001b[1;33m\u001b[0m\u001b[0m\n",
      "\u001b[1;31mIndexError\u001b[0m: list index out of range"
     ]
    },
    {
     "data": {
      "image/png": "[encoded data removed]",
      "text/plain": [
       "<Figure size 432x288 with 1 Axes>"
      ]
     },
     "metadata": {
      "needs_background": "light"
     },
     "output_type": "display_data"
    }
   ],
   "source": [
    "value=1\n",
    "\n",
    "import numpy as np\n",
    "import matplotlib.pyplot as plt\n",
    "\n",
    "X = np.arange(2)\n",
    "fig = plt.figure()\n",
    "ax = fig.add_axes([0,0,1,1])\n",
    "ax.bar(X + 0.00, Total_losses_train[value], color = 'b', width = 0.25)\n",
    "ax.bar(X + 0.25,Total_losses_test[value] , color = 'g', width = 0.25)\n",
    "ax.bar(X + 0.50, Total_Diference[value], color = 'r', width = 0.25)\n",
    "ax.legend(['RMSE Train','RMSE Test','Loss Diference'])"
   ]
  },
  {
   "cell_type": "code",
   "execution_count": 57,
   "metadata": {},
   "outputs": [
    {
     "data": {
      "text/plain": [
       "<matplotlib.legend.Legend at 0x25f2d7ebd60>"
      ]
     },
     "execution_count": 57,
     "metadata": {},
     "output_type": "execute_result"
    },
    {
     "data": {
      "image/png": "[encoded data removed]",
      "text/plain": [
       "<Figure size 432x288 with 1 Axes>"
      ]
     },
     "metadata": {
      "needs_background": "light"
     },
     "output_type": "display_data"
    }
   ],
   "source": [
    "value=8\n",
    "\n",
    "import numpy as np\n",
    "import matplotlib.pyplot as plt\n",
    "\n",
    "X = np.arange(2)\n",
    "fig = plt.figure()\n",
    "ax = fig.add_axes([0,0,1,1])\n",
    "ax.bar(X + 0.00, Total_losses_train[value], color = 'b', width = 0.25)\n",
    "ax.bar(X + 0.25,Total_losses_test[value] , color = 'g', width = 0.25)\n",
    "ax.legend(['RMSE Train','RMSE Test'])"
   ]
  },
  {
   "cell_type": "markdown",
   "metadata": {},
   "source": [
    "----"
   ]
  },
  {
   "cell_type": "code",
   "execution_count": 58,
   "metadata": {},
   "outputs": [],
   "source": [
    "curve=0"
   ]
  },
  {
   "cell_type": "code",
   "execution_count": 59,
   "metadata": {},
   "outputs": [],
   "source": [
    "Score_test=[]\n",
    "Score_train=[]\n",
    "Number_of_rules=[]\n",
    "Within_Test=[]\n",
    "Within_Train=[]\n",
    "\n",
    "for rules_n in range(number_of_rules):\n",
    "\n",
    "    Score_train_intercalar=abs(Rashomon_curve[curve][rules_n]['Score R2 Train Categorical'])\n",
    "    Score_test_intercalar=abs(Rashomon_curve[curve][rules_n]['Score R2 Test Categorical'])\n",
    "    Number_of_rules_intercalar=Rashomon_curve[curve][rules_n]['Number Rules']\n",
    "    Within_intercalar_test=Rashomon_curve[curve][rules_n]['Percentage Test Categorical'][0]\n",
    "    Within_intercalar_train=Rashomon_curve[curve][rules_n]['Percentage Train Categorical'][0]\n",
    "     \n",
    "\n",
    "    Score_test+=[Score_test_intercalar]\n",
    "    Score_train+=[Score_train_intercalar]\n",
    "    Number_of_rules+=[Number_of_rules_intercalar]\n",
    "    Within_Test+=[Within_intercalar_test]\n",
    "    Within_Train+=[Within_intercalar_train]"
   ]
  },
  {
   "cell_type": "code",
   "execution_count": 60,
   "metadata": {},
   "outputs": [
    {
     "data": {
      "image/png": "[encoded data removed]",
      "text/plain": [
       "<Figure size 432x288 with 1 Axes>"
      ]
     },
     "metadata": {
      "needs_background": "light"
     },
     "output_type": "display_data"
    },
    {
     "data": {
      "text/plain": [
       "<Figure size 720x720 with 0 Axes>"
      ]
     },
     "metadata": {},
     "output_type": "display_data"
    }
   ],
   "source": [
    "colors = iter(plt.cm.rainbow(np.linspace(0, 1, len(Score_train))))\n",
    "\n",
    "\n",
    "plt.scatter(Within_Train, Number_of_rules)\n",
    "for i in range(len(Number_of_rules)):\n",
    "    \n",
    "    plt.arrow(x=Within_Train[i],y=Number_of_rules[i],dx=Within_Test[i],dy=0,color=next(colors))\n",
    "\n",
    "\n",
    "plt.xlabel('Within Percentage')\n",
    "plt.ylabel('Rules')\n",
    "plt.figure(figsize=(10,10))\n",
    "plt.show()"
   ]
  },
  {
   "cell_type": "code",
   "execution_count": 61,
   "metadata": {},
   "outputs": [
    {
     "data": {
      "image/png": "[encoded data removed]",
      "text/plain": [
       "<Figure size 432x288 with 1 Axes>"
      ]
     },
     "metadata": {
      "needs_background": "light"
     },
     "output_type": "display_data"
    },
    {
     "data": {
      "text/plain": [
       "<Figure size 720x720 with 0 Axes>"
      ]
     },
     "metadata": {},
     "output_type": "display_data"
    }
   ],
   "source": [
    "colors = iter(plt.cm.rainbow(np.linspace(0, 1, len(Score_train))))\n",
    "\n",
    "plt.xlabel('RMSE Error')\n",
    "plt.ylabel('Rules')\n",
    "\n",
    "plt.scatter(Score_train, Number_of_rules)\n",
    "for i in range(len(Number_of_rules)):\n",
    "    \n",
    "    plt.arrow(x=Score_train[i],y=Number_of_rules[i],dx=Score_test[i],dy=0,color=next(colors))\n",
    "\n",
    "    \n",
    "plt.figure(figsize=(10,10))\n",
    "plt.show()"
   ]
  },
  {
   "cell_type": "code",
   "execution_count": 62,
   "metadata": {},
   "outputs": [
    {
     "data": {
      "text/plain": [
       "<matplotlib.legend.Legend at 0x25f2d83c5e0>"
      ]
     },
     "execution_count": 62,
     "metadata": {},
     "output_type": "execute_result"
    },
    {
     "data": {
      "image/png": "[encoded data removed]",
      "text/plain": [
       "<Figure size 432x288 with 1 Axes>"
      ]
     },
     "metadata": {
      "needs_background": "light"
     },
     "output_type": "display_data"
    }
   ],
   "source": [
    "import numpy as np\n",
    "import matplotlib.pyplot as plt\n",
    "\n",
    "Rev_Score_train=Score_train[::-1]\n",
    "Rev_Score_test=Score_test[::-1]\n",
    "\n",
    "X = np.arange(5,105,10)\n",
    "fig = plt.figure()\n",
    "ax = fig.add_axes([0,0,1,1])\n",
    "ax.bar(X + 0.00, Rev_Score_train, color = 'lightgrey', width =3)\n",
    "ax.bar(X +3,Rev_Score_test , color = 'darkturquoise', width =3)\n",
    "plt.ylabel('RMSE')   \n",
    "plt.xlabel('Number of Rules')\n",
    "plt.xticks(X)  \n",
    "ax.legend(['RMSE Train','RMSE Test'])"
   ]
  },
  {
   "cell_type": "code",
   "execution_count": 63,
   "metadata": {},
   "outputs": [],
   "source": [
    "curve=1\n",
    "\n",
    "Score_test=[]\n",
    "Score_train=[]\n",
    "Number_of_rules=[]\n",
    "Within_Test=[]\n",
    "Within_Train=[]\n",
    "\n",
    "for rules_n in range(number_of_rules):\n",
    "\n",
    "    Score_train_intercalar=abs(Rashomon_curve[curve][rules_n]['Score R2 Train Categorical'])\n",
    "    Score_test_intercalar=abs(Rashomon_curve[curve][rules_n]['Score R2 Test Categorical'])\n",
    "    Number_of_rules_intercalar=Rashomon_curve[curve][rules_n]['Number Rules']\n",
    "    Within_intercalar_test=Rashomon_curve[curve][rules_n]['Percentage Test Categorical'][0]\n",
    "    Within_intercalar_train=Rashomon_curve[curve][rules_n]['Percentage Train Categorical'][0]\n",
    "     \n",
    "     \n",
    "\n",
    "    Score_test+=[Score_test_intercalar]\n",
    "    Score_train+=[Score_train_intercalar]\n",
    "    Number_of_rules+=[Number_of_rules_intercalar]\n",
    "    Within_Test+=[Within_intercalar_test]\n",
    "    Within_Train+=[Within_intercalar_train]\n",
    "    "
   ]
  },
  {
   "cell_type": "code",
   "execution_count": 64,
   "metadata": {},
   "outputs": [
    {
     "data": {
      "image/png": "[encoded data removed]",
      "text/plain": [
       "<Figure size 432x288 with 1 Axes>"
      ]
     },
     "metadata": {
      "needs_background": "light"
     },
     "output_type": "display_data"
    },
    {
     "data": {
      "text/plain": [
       "<Figure size 720x720 with 0 Axes>"
      ]
     },
     "metadata": {},
     "output_type": "display_data"
    }
   ],
   "source": [
    "colors = iter(plt.cm.rainbow(np.linspace(0, 1, len(Score_train))))\n",
    "\n",
    "\n",
    "plt.scatter(Within_Train, Number_of_rules)\n",
    "for i in range(len(Number_of_rules)):\n",
    "    \n",
    "    plt.arrow(x=Within_Train[i],y=Number_of_rules[i],dx=Within_Test[i],dy=0,color=next(colors))\n",
    "\n",
    "\n",
    "plt.xlabel('Within Percentage')\n",
    "plt.ylabel('Rules')\n",
    "plt.figure(figsize=(10,10))\n",
    "plt.show()"
   ]
  },
  {
   "cell_type": "code",
   "execution_count": 65,
   "metadata": {},
   "outputs": [
    {
     "data": {
      "image/png": "[encoded data removed]",
      "text/plain": [
       "<Figure size 432x288 with 1 Axes>"
      ]
     },
     "metadata": {
      "needs_background": "light"
     },
     "output_type": "display_data"
    },
    {
     "data": {
      "text/plain": [
       "<Figure size 720x720 with 0 Axes>"
      ]
     },
     "metadata": {},
     "output_type": "display_data"
    }
   ],
   "source": [
    "colors = iter(plt.cm.rainbow(np.linspace(0, 1, len(Score_train))))\n",
    "\n",
    "plt.xlabel('RMSE Error')\n",
    "plt.ylabel('Rules')\n",
    "\n",
    "plt.scatter(Score_train, Number_of_rules)\n",
    "for i in range(len(Number_of_rules)):\n",
    "    \n",
    "    plt.arrow(x=Score_train[i],y=Number_of_rules[i],dx=Score_test[i],dy=0,color=next(colors))\n",
    "\n",
    "    \n",
    "plt.figure(figsize=(10,10))\n",
    "plt.show()"
   ]
  },
  {
   "cell_type": "code",
   "execution_count": 66,
   "metadata": {},
   "outputs": [
    {
     "data": {
      "text/plain": [
       "[19.0, 18.0, 19.0, 19.0, 20.0, 18.0, 17.0, 17.0, 17.0, 17.0]"
      ]
     },
     "execution_count": 66,
     "metadata": {},
     "output_type": "execute_result"
    }
   ],
   "source": [
    "Score_test"
   ]
  },
  {
   "cell_type": "code",
   "execution_count": 67,
   "metadata": {},
   "outputs": [
    {
     "data": {
      "text/plain": [
       "<matplotlib.legend.Legend at 0x25f2d8cd520>"
      ]
     },
     "execution_count": 67,
     "metadata": {},
     "output_type": "execute_result"
    },
    {
     "data": {
      "image/png": "[encoded data removed]",
      "text/plain": [
       "<Figure size 432x288 with 1 Axes>"
      ]
     },
     "metadata": {
      "needs_background": "light"
     },
     "output_type": "display_data"
    }
   ],
   "source": [
    "import numpy as np\n",
    "import matplotlib.pyplot as plt\n",
    "\n",
    "Rev_Score_train=Score_train[::-1]\n",
    "Rev_Score_test=Score_test[::-1]\n",
    "\n",
    "X = np.arange(5,105,10)\n",
    "fig = plt.figure()\n",
    "ax = fig.add_axes([0,0,1,1])\n",
    "ax.bar(X + 0.00, Rev_Score_train, color = 'lightgrey', width =3)\n",
    "ax.bar(X +3,Rev_Score_test , color = 'darkturquoise', width =3)\n",
    "plt.ylabel('RMSE')   \n",
    "plt.xlabel('Number of Rules')\n",
    "plt.xticks(X)  \n",
    "ax.legend(['RMSE Train','RMSE Test'])"
   ]
  },
  {
   "cell_type": "markdown",
   "metadata": {},
   "source": [
    "* ## 5 seems the optimal value in Rashomon elbow"
   ]
  },
  {
   "cell_type": "code",
   "execution_count": 68,
   "metadata": {},
   "outputs": [],
   "source": [
    "Curve=1\n",
    "point=8"
   ]
  },
  {
   "cell_type": "code",
   "execution_count": 69,
   "metadata": {},
   "outputs": [],
   "source": [
    "Best_model=Rashomon_curve[Curve][point]['Model']"
   ]
  },
  {
   "cell_type": "code",
   "execution_count": 70,
   "metadata": {},
   "outputs": [
    {
     "data": {
      "text/plain": [
       "20"
      ]
     },
     "execution_count": 70,
     "metadata": {},
     "output_type": "execute_result"
    }
   ],
   "source": [
    "Rashomon_curve[Curve][point]['Number Rules']"
   ]
  },
  {
   "cell_type": "code",
   "execution_count": 71,
   "metadata": {},
   "outputs": [],
   "source": [
    "Best_model=Rashomon_curve[Curve][point]['Model']"
   ]
  },
  {
   "cell_type": "code",
   "execution_count": 72,
   "metadata": {},
   "outputs": [
    {
     "data": {
      "text/html": [
       "<div>\n",
       "<style scoped>\n",
       "    .dataframe tbody tr th:only-of-type {\n",
       "        vertical-align: middle;\n",
       "    }\n",
       "\n",
       "    .dataframe tbody tr th {\n",
       "        vertical-align: top;\n",
       "    }\n",
       "\n",
       "    .dataframe thead th {\n",
       "        text-align: right;\n",
       "    }\n",
       "</style>\n",
       "<table border=\"1\" class=\"dataframe\">\n",
       "  <thead>\n",
       "    <tr style=\"text-align: right;\">\n",
       "      <th></th>\n",
       "      <th>rule</th>\n",
       "      <th>type</th>\n",
       "      <th>coef</th>\n",
       "      <th>support</th>\n",
       "      <th>importance</th>\n",
       "    </tr>\n",
       "  </thead>\n",
       "  <tbody>\n",
       "    <tr>\n",
       "      <th>526</th>\n",
       "      <td>Anesthesia &lt;= 49.930179595947266 &amp; Anesthesia ...</td>\n",
       "      <td>rule</td>\n",
       "      <td>1.112259e+01</td>\n",
       "      <td>0.292936</td>\n",
       "      <td>5.061994e+00</td>\n",
       "    </tr>\n",
       "    <tr>\n",
       "      <th>275</th>\n",
       "      <td>Anesthesia &gt; 49.75395202636719 &amp; Anesthesia &lt;=...</td>\n",
       "      <td>rule</td>\n",
       "      <td>2.456789e+00</td>\n",
       "      <td>0.077670</td>\n",
       "      <td>6.575632e-01</td>\n",
       "    </tr>\n",
       "    <tr>\n",
       "      <th>121</th>\n",
       "      <td>I1 &gt; 40.046932220458984 &amp; Anesthesia &gt; 22.7315...</td>\n",
       "      <td>rule</td>\n",
       "      <td>2.443913e+00</td>\n",
       "      <td>0.330764</td>\n",
       "      <td>1.149833e+00</td>\n",
       "    </tr>\n",
       "    <tr>\n",
       "      <th>273</th>\n",
       "      <td>I1 &gt; 31.59053325653076</td>\n",
       "      <td>rule</td>\n",
       "      <td>1.545919e+00</td>\n",
       "      <td>0.389210</td>\n",
       "      <td>7.537455e-01</td>\n",
       "    </tr>\n",
       "    <tr>\n",
       "      <th>429</th>\n",
       "      <td>Hospitalization &gt; 0.5 &amp; I1 &gt; 38.75601959228515...</td>\n",
       "      <td>rule</td>\n",
       "      <td>9.423382e-01</td>\n",
       "      <td>0.163799</td>\n",
       "      <td>3.487525e-01</td>\n",
       "    </tr>\n",
       "    <tr>\n",
       "      <th>36</th>\n",
       "      <td>Age &lt;= 63.007076263427734 &amp; I1 &gt; 40.2878665924...</td>\n",
       "      <td>rule</td>\n",
       "      <td>6.519298e-01</td>\n",
       "      <td>0.123803</td>\n",
       "      <td>2.147178e-01</td>\n",
       "    </tr>\n",
       "    <tr>\n",
       "      <th>378</th>\n",
       "      <td>I1 &gt; 41.77385711669922</td>\n",
       "      <td>rule</td>\n",
       "      <td>6.074381e-01</td>\n",
       "      <td>0.347684</td>\n",
       "      <td>2.892834e-01</td>\n",
       "    </tr>\n",
       "    <tr>\n",
       "      <th>50</th>\n",
       "      <td>I1 &gt; 26.53037738800049 &amp; Anesthesia &gt; 49.75395...</td>\n",
       "      <td>rule</td>\n",
       "      <td>5.136388e-01</td>\n",
       "      <td>0.320900</td>\n",
       "      <td>2.397782e-01</td>\n",
       "    </tr>\n",
       "    <tr>\n",
       "      <th>477</th>\n",
       "      <td>I1 &gt; 31.778352737426758 &amp; Anesthesia &gt; 47.2325...</td>\n",
       "      <td>rule</td>\n",
       "      <td>1.688873e-01</td>\n",
       "      <td>0.074705</td>\n",
       "      <td>4.440300e-02</td>\n",
       "    </tr>\n",
       "    <tr>\n",
       "      <th>518</th>\n",
       "      <td>I1 &lt;= 31.648269653320312</td>\n",
       "      <td>rule</td>\n",
       "      <td>-5.854195e-16</td>\n",
       "      <td>0.616732</td>\n",
       "      <td>2.846209e-16</td>\n",
       "    </tr>\n",
       "    <tr>\n",
       "      <th>802</th>\n",
       "      <td>I1 &lt;= 40.046932220458984 &amp; CUF_Unit &lt;= 28.9312...</td>\n",
       "      <td>rule</td>\n",
       "      <td>-1.136197e-01</td>\n",
       "      <td>0.114377</td>\n",
       "      <td>3.616159e-02</td>\n",
       "    </tr>\n",
       "    <tr>\n",
       "      <th>760</th>\n",
       "      <td>I1 &lt;= 29.678953170776367 &amp; CUF_Unit &lt;= 28.9312...</td>\n",
       "      <td>rule</td>\n",
       "      <td>-1.721130e-01</td>\n",
       "      <td>0.513133</td>\n",
       "      <td>8.602682e-02</td>\n",
       "    </tr>\n",
       "    <tr>\n",
       "      <th>499</th>\n",
       "      <td>I1 &lt;= 31.586865425109863</td>\n",
       "      <td>rule</td>\n",
       "      <td>-2.570630e-01</td>\n",
       "      <td>0.614396</td>\n",
       "      <td>1.251223e-01</td>\n",
       "    </tr>\n",
       "    <tr>\n",
       "      <th>374</th>\n",
       "      <td>I1 &lt;= 29.63442897796631 &amp; Anesthesia &lt;= 22.730...</td>\n",
       "      <td>rule</td>\n",
       "      <td>-3.558680e-01</td>\n",
       "      <td>0.467700</td>\n",
       "      <td>1.775624e-01</td>\n",
       "    </tr>\n",
       "    <tr>\n",
       "      <th>2</th>\n",
       "      <td>Gender</td>\n",
       "      <td>linear</td>\n",
       "      <td>-6.304996e-01</td>\n",
       "      <td>1.000000</td>\n",
       "      <td>3.148298e-01</td>\n",
       "    </tr>\n",
       "    <tr>\n",
       "      <th>1</th>\n",
       "      <td>Hospitalization</td>\n",
       "      <td>linear</td>\n",
       "      <td>-7.793778e-01</td>\n",
       "      <td>1.000000</td>\n",
       "      <td>2.366989e-01</td>\n",
       "    </tr>\n",
       "    <tr>\n",
       "      <th>670</th>\n",
       "      <td>I1 &gt; 38.75201225280762 &amp; Part of the day &lt;= 34...</td>\n",
       "      <td>rule</td>\n",
       "      <td>-1.259574e+00</td>\n",
       "      <td>0.160129</td>\n",
       "      <td>4.619177e-01</td>\n",
       "    </tr>\n",
       "    <tr>\n",
       "      <th>450</th>\n",
       "      <td>I1 &lt;= 34.33245086669922 &amp; Anesthesia &lt;= 22.730...</td>\n",
       "      <td>rule</td>\n",
       "      <td>-3.584372e+00</td>\n",
       "      <td>0.479513</td>\n",
       "      <td>1.790681e+00</td>\n",
       "    </tr>\n",
       "    <tr>\n",
       "      <th>836</th>\n",
       "      <td>I1 &lt;= 26.53037738800049</td>\n",
       "      <td>rule</td>\n",
       "      <td>-5.310035e+00</td>\n",
       "      <td>0.575563</td>\n",
       "      <td>2.624524e+00</td>\n",
       "    </tr>\n",
       "    <tr>\n",
       "      <th>988</th>\n",
       "      <td>Speciality &gt; 28.92246723175049 &amp; Speciality &lt;=...</td>\n",
       "      <td>rule</td>\n",
       "      <td>-9.031414e+00</td>\n",
       "      <td>0.419041</td>\n",
       "      <td>4.456119e+00</td>\n",
       "    </tr>\n",
       "  </tbody>\n",
       "</table>\n",
       "</div>"
      ],
      "text/plain": [
       "                                                  rule    type          coef  \\\n",
       "526  Anesthesia <= 49.930179595947266 & Anesthesia ...    rule  1.112259e+01   \n",
       "275  Anesthesia > 49.75395202636719 & Anesthesia <=...    rule  2.456789e+00   \n",
       "121  I1 > 40.046932220458984 & Anesthesia > 22.7315...    rule  2.443913e+00   \n",
       "273                             I1 > 31.59053325653076    rule  1.545919e+00   \n",
       "429  Hospitalization > 0.5 & I1 > 38.75601959228515...    rule  9.423382e-01   \n",
       "36   Age <= 63.007076263427734 & I1 > 40.2878665924...    rule  6.519298e-01   \n",
       "378                             I1 > 41.77385711669922    rule  6.074381e-01   \n",
       "50   I1 > 26.53037738800049 & Anesthesia > 49.75395...    rule  5.136388e-01   \n",
       "477  I1 > 31.778352737426758 & Anesthesia > 47.2325...    rule  1.688873e-01   \n",
       "518                           I1 <= 31.648269653320312    rule -5.854195e-16   \n",
       "802  I1 <= 40.046932220458984 & CUF_Unit <= 28.9312...    rule -1.136197e-01   \n",
       "760  I1 <= 29.678953170776367 & CUF_Unit <= 28.9312...    rule -1.721130e-01   \n",
       "499                           I1 <= 31.586865425109863    rule -2.570630e-01   \n",
       "374  I1 <= 29.63442897796631 & Anesthesia <= 22.730...    rule -3.558680e-01   \n",
       "2                                               Gender  linear -6.304996e-01   \n",
       "1                                      Hospitalization  linear -7.793778e-01   \n",
       "670  I1 > 38.75201225280762 & Part of the day <= 34...    rule -1.259574e+00   \n",
       "450  I1 <= 34.33245086669922 & Anesthesia <= 22.730...    rule -3.584372e+00   \n",
       "836                            I1 <= 26.53037738800049    rule -5.310035e+00   \n",
       "988  Speciality > 28.92246723175049 & Speciality <=...    rule -9.031414e+00   \n",
       "\n",
       "      support    importance  \n",
       "526  0.292936  5.061994e+00  \n",
       "275  0.077670  6.575632e-01  \n",
       "121  0.330764  1.149833e+00  \n",
       "273  0.389210  7.537455e-01  \n",
       "429  0.163799  3.487525e-01  \n",
       "36   0.123803  2.147178e-01  \n",
       "378  0.347684  2.892834e-01  \n",
       "50   0.320900  2.397782e-01  \n",
       "477  0.074705  4.440300e-02  \n",
       "518  0.616732  2.846209e-16  \n",
       "802  0.114377  3.616159e-02  \n",
       "760  0.513133  8.602682e-02  \n",
       "499  0.614396  1.251223e-01  \n",
       "374  0.467700  1.775624e-01  \n",
       "2    1.000000  3.148298e-01  \n",
       "1    1.000000  2.366989e-01  \n",
       "670  0.160129  4.619177e-01  \n",
       "450  0.479513  1.790681e+00  \n",
       "836  0.575563  2.624524e+00  \n",
       "988  0.419041  4.456119e+00  "
      ]
     },
     "execution_count": 72,
     "metadata": {},
     "output_type": "execute_result"
    }
   ],
   "source": [
    "Rashomon_curve[Curve][point]['Rules_non0']"
   ]
  },
  {
   "cell_type": "code",
   "execution_count": 73,
   "metadata": {},
   "outputs": [],
   "source": [
    "dataset_predicton=Rashomon_curve[Curve][point]['Dataset_predicton']"
   ]
  },
  {
   "cell_type": "code",
   "execution_count": 74,
   "metadata": {},
   "outputs": [
    {
     "data": {
      "text/html": [
       "<div>\n",
       "<style scoped>\n",
       "    .dataframe tbody tr th:only-of-type {\n",
       "        vertical-align: middle;\n",
       "    }\n",
       "\n",
       "    .dataframe tbody tr th {\n",
       "        vertical-align: top;\n",
       "    }\n",
       "\n",
       "    .dataframe thead th {\n",
       "        text-align: right;\n",
       "    }\n",
       "</style>\n",
       "<table border=\"1\" class=\"dataframe\">\n",
       "  <thead>\n",
       "    <tr style=\"text-align: right;\">\n",
       "      <th></th>\n",
       "      <th>Real Duration</th>\n",
       "      <th>Planned by Cuf</th>\n",
       "      <th>Labels from RuleFit</th>\n",
       "      <th>Error_RuleFit</th>\n",
       "      <th>Error_CUF</th>\n",
       "    </tr>\n",
       "  </thead>\n",
       "  <tbody>\n",
       "    <tr>\n",
       "      <th>2</th>\n",
       "      <td>39.0</td>\n",
       "      <td>20</td>\n",
       "      <td>26.727085</td>\n",
       "      <td>31.469012</td>\n",
       "      <td>48.717949</td>\n",
       "    </tr>\n",
       "    <tr>\n",
       "      <th>8</th>\n",
       "      <td>44.0</td>\n",
       "      <td>20</td>\n",
       "      <td>57.237188</td>\n",
       "      <td>-30.084518</td>\n",
       "      <td>54.545455</td>\n",
       "    </tr>\n",
       "    <tr>\n",
       "      <th>13</th>\n",
       "      <td>38.0</td>\n",
       "      <td>20</td>\n",
       "      <td>32.550760</td>\n",
       "      <td>14.340106</td>\n",
       "      <td>47.368421</td>\n",
       "    </tr>\n",
       "    <tr>\n",
       "      <th>16</th>\n",
       "      <td>30.0</td>\n",
       "      <td>20</td>\n",
       "      <td>23.417345</td>\n",
       "      <td>21.942183</td>\n",
       "      <td>33.333333</td>\n",
       "    </tr>\n",
       "    <tr>\n",
       "      <th>21</th>\n",
       "      <td>39.0</td>\n",
       "      <td>20</td>\n",
       "      <td>57.215758</td>\n",
       "      <td>-46.707071</td>\n",
       "      <td>48.717949</td>\n",
       "    </tr>\n",
       "    <tr>\n",
       "      <th>24</th>\n",
       "      <td>35.0</td>\n",
       "      <td>20</td>\n",
       "      <td>27.357585</td>\n",
       "      <td>21.835471</td>\n",
       "      <td>42.857143</td>\n",
       "    </tr>\n",
       "    <tr>\n",
       "      <th>27</th>\n",
       "      <td>35.0</td>\n",
       "      <td>20</td>\n",
       "      <td>57.215758</td>\n",
       "      <td>-63.473593</td>\n",
       "      <td>42.857143</td>\n",
       "    </tr>\n",
       "    <tr>\n",
       "      <th>39</th>\n",
       "      <td>55.0</td>\n",
       "      <td>20</td>\n",
       "      <td>22.786845</td>\n",
       "      <td>58.569372</td>\n",
       "      <td>63.636364</td>\n",
       "    </tr>\n",
       "    <tr>\n",
       "      <th>50</th>\n",
       "      <td>35.0</td>\n",
       "      <td>20</td>\n",
       "      <td>26.727085</td>\n",
       "      <td>23.636899</td>\n",
       "      <td>42.857143</td>\n",
       "    </tr>\n",
       "    <tr>\n",
       "      <th>51</th>\n",
       "      <td>35.0</td>\n",
       "      <td>30</td>\n",
       "      <td>44.077952</td>\n",
       "      <td>-25.937006</td>\n",
       "      <td>14.285714</td>\n",
       "    </tr>\n",
       "    <tr>\n",
       "      <th>62</th>\n",
       "      <td>73.0</td>\n",
       "      <td>30</td>\n",
       "      <td>61.880386</td>\n",
       "      <td>15.232348</td>\n",
       "      <td>58.904110</td>\n",
       "    </tr>\n",
       "    <tr>\n",
       "      <th>66</th>\n",
       "      <td>31.0</td>\n",
       "      <td>30</td>\n",
       "      <td>58.810026</td>\n",
       "      <td>-89.709760</td>\n",
       "      <td>3.225806</td>\n",
       "    </tr>\n",
       "    <tr>\n",
       "      <th>69</th>\n",
       "      <td>35.0</td>\n",
       "      <td>20</td>\n",
       "      <td>27.357585</td>\n",
       "      <td>21.835471</td>\n",
       "      <td>42.857143</td>\n",
       "    </tr>\n",
       "    <tr>\n",
       "      <th>71</th>\n",
       "      <td>65.0</td>\n",
       "      <td>30</td>\n",
       "      <td>57.215758</td>\n",
       "      <td>11.975757</td>\n",
       "      <td>53.846154</td>\n",
       "    </tr>\n",
       "    <tr>\n",
       "      <th>74</th>\n",
       "      <td>50.0</td>\n",
       "      <td>30</td>\n",
       "      <td>22.786845</td>\n",
       "      <td>54.426309</td>\n",
       "      <td>40.000000</td>\n",
       "    </tr>\n",
       "    <tr>\n",
       "      <th>75</th>\n",
       "      <td>39.0</td>\n",
       "      <td>30</td>\n",
       "      <td>22.786845</td>\n",
       "      <td>41.572191</td>\n",
       "      <td>23.076923</td>\n",
       "    </tr>\n",
       "    <tr>\n",
       "      <th>78</th>\n",
       "      <td>55.0</td>\n",
       "      <td>20</td>\n",
       "      <td>32.550760</td>\n",
       "      <td>40.816800</td>\n",
       "      <td>63.636364</td>\n",
       "    </tr>\n",
       "    <tr>\n",
       "      <th>80</th>\n",
       "      <td>62.0</td>\n",
       "      <td>30</td>\n",
       "      <td>22.786845</td>\n",
       "      <td>63.247023</td>\n",
       "      <td>51.612903</td>\n",
       "    </tr>\n",
       "    <tr>\n",
       "      <th>81</th>\n",
       "      <td>35.0</td>\n",
       "      <td>30</td>\n",
       "      <td>23.417345</td>\n",
       "      <td>33.093300</td>\n",
       "      <td>14.285714</td>\n",
       "    </tr>\n",
       "    <tr>\n",
       "      <th>92</th>\n",
       "      <td>100.0</td>\n",
       "      <td>20</td>\n",
       "      <td>62.532316</td>\n",
       "      <td>37.467684</td>\n",
       "      <td>80.000000</td>\n",
       "    </tr>\n",
       "    <tr>\n",
       "      <th>105</th>\n",
       "      <td>80.0</td>\n",
       "      <td>30</td>\n",
       "      <td>61.901816</td>\n",
       "      <td>22.622730</td>\n",
       "      <td>62.500000</td>\n",
       "    </tr>\n",
       "    <tr>\n",
       "      <th>106</th>\n",
       "      <td>45.0</td>\n",
       "      <td>20</td>\n",
       "      <td>43.447452</td>\n",
       "      <td>3.450106</td>\n",
       "      <td>55.555556</td>\n",
       "    </tr>\n",
       "    <tr>\n",
       "      <th>109</th>\n",
       "      <td>51.0</td>\n",
       "      <td>30</td>\n",
       "      <td>58.158096</td>\n",
       "      <td>-14.035482</td>\n",
       "      <td>41.176471</td>\n",
       "    </tr>\n",
       "    <tr>\n",
       "      <th>110</th>\n",
       "      <td>38.0</td>\n",
       "      <td>20</td>\n",
       "      <td>22.786845</td>\n",
       "      <td>40.034617</td>\n",
       "      <td>47.368421</td>\n",
       "    </tr>\n",
       "    <tr>\n",
       "      <th>111</th>\n",
       "      <td>31.0</td>\n",
       "      <td>30</td>\n",
       "      <td>28.096881</td>\n",
       "      <td>9.364900</td>\n",
       "      <td>3.225806</td>\n",
       "    </tr>\n",
       "    <tr>\n",
       "      <th>112</th>\n",
       "      <td>60.0</td>\n",
       "      <td>20</td>\n",
       "      <td>61.880386</td>\n",
       "      <td>-3.133977</td>\n",
       "      <td>66.666667</td>\n",
       "    </tr>\n",
       "    <tr>\n",
       "      <th>113</th>\n",
       "      <td>65.0</td>\n",
       "      <td>30</td>\n",
       "      <td>61.249886</td>\n",
       "      <td>5.769405</td>\n",
       "      <td>53.846154</td>\n",
       "    </tr>\n",
       "    <tr>\n",
       "      <th>122</th>\n",
       "      <td>34.0</td>\n",
       "      <td>50</td>\n",
       "      <td>22.786845</td>\n",
       "      <td>32.979866</td>\n",
       "      <td>-47.058824</td>\n",
       "    </tr>\n",
       "    <tr>\n",
       "      <th>124</th>\n",
       "      <td>55.0</td>\n",
       "      <td>60</td>\n",
       "      <td>59.417670</td>\n",
       "      <td>-8.032127</td>\n",
       "      <td>-9.090909</td>\n",
       "    </tr>\n",
       "    <tr>\n",
       "      <th>126</th>\n",
       "      <td>55.0</td>\n",
       "      <td>60</td>\n",
       "      <td>59.439100</td>\n",
       "      <td>-8.071091</td>\n",
       "      <td>-9.090909</td>\n",
       "    </tr>\n",
       "    <tr>\n",
       "      <th>132</th>\n",
       "      <td>40.0</td>\n",
       "      <td>60</td>\n",
       "      <td>59.417670</td>\n",
       "      <td>-48.544175</td>\n",
       "      <td>-50.000000</td>\n",
       "    </tr>\n",
       "    <tr>\n",
       "      <th>136</th>\n",
       "      <td>52.0</td>\n",
       "      <td>50</td>\n",
       "      <td>57.527596</td>\n",
       "      <td>-10.629993</td>\n",
       "      <td>3.846154</td>\n",
       "    </tr>\n",
       "    <tr>\n",
       "      <th>137</th>\n",
       "      <td>50.0</td>\n",
       "      <td>30</td>\n",
       "      <td>57.527596</td>\n",
       "      <td>-15.055193</td>\n",
       "      <td>40.000000</td>\n",
       "    </tr>\n",
       "    <tr>\n",
       "      <th>138</th>\n",
       "      <td>55.0</td>\n",
       "      <td>50</td>\n",
       "      <td>58.787170</td>\n",
       "      <td>-6.885764</td>\n",
       "      <td>9.090909</td>\n",
       "    </tr>\n",
       "    <tr>\n",
       "      <th>141</th>\n",
       "      <td>45.0</td>\n",
       "      <td>60</td>\n",
       "      <td>58.787170</td>\n",
       "      <td>-30.638156</td>\n",
       "      <td>-33.333333</td>\n",
       "    </tr>\n",
       "    <tr>\n",
       "      <th>142</th>\n",
       "      <td>91.0</td>\n",
       "      <td>20</td>\n",
       "      <td>58.810026</td>\n",
       "      <td>35.373598</td>\n",
       "      <td>78.021978</td>\n",
       "    </tr>\n",
       "    <tr>\n",
       "      <th>150</th>\n",
       "      <td>29.0</td>\n",
       "      <td>30</td>\n",
       "      <td>28.727381</td>\n",
       "      <td>0.940067</td>\n",
       "      <td>-3.448276</td>\n",
       "    </tr>\n",
       "    <tr>\n",
       "      <th>157</th>\n",
       "      <td>30.0</td>\n",
       "      <td>20</td>\n",
       "      <td>23.417345</td>\n",
       "      <td>21.942183</td>\n",
       "      <td>33.333333</td>\n",
       "    </tr>\n",
       "  </tbody>\n",
       "</table>\n",
       "</div>"
      ],
      "text/plain": [
       "     Real Duration  Planned by Cuf  Labels from RuleFit  Error_RuleFit  \\\n",
       "2             39.0              20            26.727085      31.469012   \n",
       "8             44.0              20            57.237188     -30.084518   \n",
       "13            38.0              20            32.550760      14.340106   \n",
       "16            30.0              20            23.417345      21.942183   \n",
       "21            39.0              20            57.215758     -46.707071   \n",
       "24            35.0              20            27.357585      21.835471   \n",
       "27            35.0              20            57.215758     -63.473593   \n",
       "39            55.0              20            22.786845      58.569372   \n",
       "50            35.0              20            26.727085      23.636899   \n",
       "51            35.0              30            44.077952     -25.937006   \n",
       "62            73.0              30            61.880386      15.232348   \n",
       "66            31.0              30            58.810026     -89.709760   \n",
       "69            35.0              20            27.357585      21.835471   \n",
       "71            65.0              30            57.215758      11.975757   \n",
       "74            50.0              30            22.786845      54.426309   \n",
       "75            39.0              30            22.786845      41.572191   \n",
       "78            55.0              20            32.550760      40.816800   \n",
       "80            62.0              30            22.786845      63.247023   \n",
       "81            35.0              30            23.417345      33.093300   \n",
       "92           100.0              20            62.532316      37.467684   \n",
       "105           80.0              30            61.901816      22.622730   \n",
       "106           45.0              20            43.447452       3.450106   \n",
       "109           51.0              30            58.158096     -14.035482   \n",
       "110           38.0              20            22.786845      40.034617   \n",
       "111           31.0              30            28.096881       9.364900   \n",
       "112           60.0              20            61.880386      -3.133977   \n",
       "113           65.0              30            61.249886       5.769405   \n",
       "122           34.0              50            22.786845      32.979866   \n",
       "124           55.0              60            59.417670      -8.032127   \n",
       "126           55.0              60            59.439100      -8.071091   \n",
       "132           40.0              60            59.417670     -48.544175   \n",
       "136           52.0              50            57.527596     -10.629993   \n",
       "137           50.0              30            57.527596     -15.055193   \n",
       "138           55.0              50            58.787170      -6.885764   \n",
       "141           45.0              60            58.787170     -30.638156   \n",
       "142           91.0              20            58.810026      35.373598   \n",
       "150           29.0              30            28.727381       0.940067   \n",
       "157           30.0              20            23.417345      21.942183   \n",
       "\n",
       "     Error_CUF  \n",
       "2    48.717949  \n",
       "8    54.545455  \n",
       "13   47.368421  \n",
       "16   33.333333  \n",
       "21   48.717949  \n",
       "24   42.857143  \n",
       "27   42.857143  \n",
       "39   63.636364  \n",
       "50   42.857143  \n",
       "51   14.285714  \n",
       "62   58.904110  \n",
       "66    3.225806  \n",
       "69   42.857143  \n",
       "71   53.846154  \n",
       "74   40.000000  \n",
       "75   23.076923  \n",
       "78   63.636364  \n",
       "80   51.612903  \n",
       "81   14.285714  \n",
       "92   80.000000  \n",
       "105  62.500000  \n",
       "106  55.555556  \n",
       "109  41.176471  \n",
       "110  47.368421  \n",
       "111   3.225806  \n",
       "112  66.666667  \n",
       "113  53.846154  \n",
       "122 -47.058824  \n",
       "124  -9.090909  \n",
       "126  -9.090909  \n",
       "132 -50.000000  \n",
       "136   3.846154  \n",
       "137  40.000000  \n",
       "138   9.090909  \n",
       "141 -33.333333  \n",
       "142  78.021978  \n",
       "150  -3.448276  \n",
       "157  33.333333  "
      ]
     },
     "execution_count": 74,
     "metadata": {},
     "output_type": "execute_result"
    }
   ],
   "source": [
    "dataset_predicton=Rashomon_curve[Curve][point]['Dataset_predicton'][Rashomon_curve[Curve][point]['Dataset_predicton']['Real Duration']>28]\n",
    "dataset_predicton"
   ]
  },
  {
   "cell_type": "code",
   "execution_count": 75,
   "metadata": {},
   "outputs": [
    {
     "data": {
      "text/plain": [
       "16.719176648351766"
      ]
     },
     "execution_count": 75,
     "metadata": {},
     "output_type": "execute_result"
    }
   ],
   "source": [
    "mean_squared_error(dataset_predicton['Labels from RuleFit'],dataset_predicton['Real Duration'],squared=False)"
   ]
  },
  {
   "cell_type": "code",
   "execution_count": 76,
   "metadata": {},
   "outputs": [
    {
     "data": {
      "text/plain": [
       "27.77730993758073"
      ]
     },
     "execution_count": 76,
     "metadata": {},
     "output_type": "execute_result"
    }
   ],
   "source": [
    "mean_squared_error(dataset_predicton['Planned by Cuf'],dataset_predicton['Real Duration'],squared=False)"
   ]
  },
  {
   "cell_type": "code",
   "execution_count": 77,
   "metadata": {},
   "outputs": [
    {
     "data": {
      "image/png": "[encoded data removed]",
      "text/plain": [
       "<Figure size 432x288 with 1 Axes>"
      ]
     },
     "metadata": {
      "needs_background": "light"
     },
     "output_type": "display_data"
    }
   ],
   "source": [
    "a = plt.axes(aspect='equal')\n",
    "plt.scatter(dataset_predicton['Real Duration'], dataset_predicton['Labels from RuleFit'])\n",
    "plt.xlabel('True Values [Time]')\n",
    "plt.ylabel('Predictions [Time]')\n",
    "lims = [0, 300]\n",
    "plt.xlim(lims)\n",
    "plt.ylim(lims)\n",
    "_ = plt.plot(lims, lims)"
   ]
  },
  {
   "cell_type": "code",
   "execution_count": 78,
   "metadata": {},
   "outputs": [
    {
     "data": {
      "image/png": "[encoded data removed]",
      "text/plain": [
       "<Figure size 432x288 with 1 Axes>"
      ]
     },
     "metadata": {
      "needs_background": "light"
     },
     "output_type": "display_data"
    }
   ],
   "source": [
    "error = dataset_predicton['Labels from RuleFit'] - dataset_predicton['Real Duration']\n",
    "plt.hist(error, bins=25)\n",
    "plt.xlabel('Prediction Error')\n",
    "_ = plt.ylabel('Count')"
   ]
  },
  {
   "cell_type": "code",
   "execution_count": 79,
   "metadata": {},
   "outputs": [
    {
     "name": "stderr",
     "output_type": "stream",
     "text": [
      "\n",
      "A value is trying to be set on a copy of a slice from a DataFrame.\n",
      "Try using .loc[row_indexer,col_indexer] = value instead\n",
      "\n",
      "See the caveats in the documentation: https://pandas.pydata.org/pandas-docs/stable/user_guide/indexing.html#returning-a-view-versus-a-copy\n",
      "\n",
      "A value is trying to be set on a copy of a slice from a DataFrame.\n",
      "Try using .loc[row_indexer,col_indexer] = value instead\n",
      "\n",
      "See the caveats in the documentation: https://pandas.pydata.org/pandas-docs/stable/user_guide/indexing.html#returning-a-view-versus-a-copy\n",
      "\n",
      "A value is trying to be set on a copy of a slice from a DataFrame.\n",
      "Try using .loc[row_indexer,col_indexer] = value instead\n",
      "\n",
      "See the caveats in the documentation: https://pandas.pydata.org/pandas-docs/stable/user_guide/indexing.html#returning-a-view-versus-a-copy\n",
      "\n",
      "A value is trying to be set on a copy of a slice from a DataFrame.\n",
      "Try using .loc[row_indexer,col_indexer] = value instead\n",
      "\n",
      "See the caveats in the documentation: https://pandas.pydata.org/pandas-docs/stable/user_guide/indexing.html#returning-a-view-versus-a-copy\n"
     ]
    },
    {
     "data": {
      "text/plain": [
       "<matplotlib.legend.Legend at 0x25f2d65bd00>"
      ]
     },
     "execution_count": 79,
     "metadata": {},
     "output_type": "execute_result"
    },
    {
     "data": {
      "image/png": "[encoded data removed]",
      "text/plain": [
       "<Figure size 432x288 with 1 Axes>"
      ]
     },
     "metadata": {
      "needs_background": "light"
     },
     "output_type": "display_data"
    }
   ],
   "source": [
    "\n",
    "def percCal(x,y):\n",
    "    return (x-y)*100/x\n",
    "\n",
    "def percCal2(x,y):\n",
    "    return abs(x-y)\n",
    "\n",
    "\n",
    "dataset_predicton['Error_RuleFit'] = percCal(dataset_predicton['Real Duration'], dataset_predicton['Labels from RuleFit'])\n",
    "dataset_predicton['Error_CUF'] = percCal(dataset_predicton['Real Duration'], dataset_predicton['Planned by Cuf'])\n",
    "dataset_predicton['Minutes_RuleFit'] = percCal2(dataset_predicton['Real Duration'], dataset_predicton['Labels from RuleFit'])\n",
    "dataset_predicton['Minutes_CUF'] = percCal2(dataset_predicton['Real Duration'], dataset_predicton['Planned by Cuf'])\n",
    "\n",
    "dataset_predicton['Error_CUF'].plot(kind='density')\n",
    "dataset_predicton['Error_RuleFit'].plot(kind='density')\n",
    "plt.xlim([-400, 400])\n",
    "plt.title('General RuleFit vs CUF prediction')\n",
    "orange_patch = matplotlib.patches.Patch(color='orange', label='RuleFit')\n",
    "blue_patch = matplotlib.patches.Patch(color='blue', label='CUF')\n",
    "plt.legend(handles=[orange_patch,blue_patch])"
   ]
  },
  {
   "cell_type": "code",
   "execution_count": 80,
   "metadata": {},
   "outputs": [
    {
     "data": {
      "text/plain": [
       "5.259740259740259"
      ]
     },
     "execution_count": 80,
     "metadata": {},
     "output_type": "execute_result"
    }
   ],
   "source": [
    "dataset_predicton['Minutes_CUF'].sum()/154 "
   ]
  },
  {
   "cell_type": "code",
   "execution_count": 81,
   "metadata": {},
   "outputs": [
    {
     "data": {
      "text/plain": [
       "3.2687874403702484"
      ]
     },
     "execution_count": 81,
     "metadata": {},
     "output_type": "execute_result"
    }
   ],
   "source": [
    "dataset_predicton['Minutes_RuleFit'].sum()/154"
   ]
  },
  {
   "cell_type": "code",
   "execution_count": 82,
   "metadata": {},
   "outputs": [
    {
     "name": "stdout",
     "output_type": "stream",
     "text": [
      "-------------  -------------------  ------------------  -------------------\n",
      "Model          Within               Overutilization     Underutilization\n",
      "CUF Model      0.18421052631578946  0.7368421052631579  0.07894736842105263\n",
      "RuleFit Model  0.21052631578947367  0.5263157894736842  0.2631578947368421\n",
      "-------------  -------------------  ------------------  -------------------\n"
     ]
    }
   ],
   "source": [
    "#Overutilization \n",
    "CUF_overuse=dataset_predicton[dataset_predicton['Error_CUF']>10].shape[0]/dataset_predicton.shape[0]\n",
    "RuleFit_overuse=dataset_predicton[dataset_predicton['Error_RuleFit']>10].shape[0]/dataset_predicton.shape[0]\n",
    "#Underutilization\n",
    "CUF_under=dataset_predicton[dataset_predicton['Error_CUF']<-10].shape[0]/dataset_predicton.shape[0]\n",
    "RuleFit_under=dataset_predicton[dataset_predicton['Error_RuleFit']<-10].shape[0]/dataset_predicton.shape[0]\n",
    "#Within\n",
    "CUF_Within=dataset_predicton[dataset_predicton['Error_CUF'].abs()<=10].shape[0]/dataset_predicton.shape[0]\n",
    "RuleFit_Within=dataset_predicton[dataset_predicton['Error_RuleFit'].abs()<=10].shape[0]/dataset_predicton.shape[0]\n",
    "\n",
    "table2 = [['Model', 'Within', 'Overutilization','Underutilization'], ['CUF Model', CUF_Within, CUF_overuse,CUF_under], ['RuleFit Model', RuleFit_Within, RuleFit_overuse,RuleFit_under]]\n",
    "print(tabulate(table2))"
   ]
  },
  {
   "cell_type": "code",
   "execution_count": 33,
   "metadata": {},
   "outputs": [],
   "source": [
    "dataset_predicton['Labels from RuleFit'].to_csv('Labels_RuleFit_surgeon_notimbalance',index=False)"
   ]
  },
  {
   "cell_type": "markdown",
   "metadata": {},
   "source": [
    "* Generalization Set"
   ]
  },
  {
   "cell_type": "code",
   "execution_count": 34,
   "metadata": {},
   "outputs": [],
   "source": [
    "generalization_dataset_surgeons=Datasets_surgeon_96440008['GeneralizationSet_After_Encoding']\n",
    "\n",
    "generalization_features_surgeons = generalization_dataset_surgeons.copy()\n",
    "generalization_labels_surgeons = generalization_features_surgeons.pop('Real Room Duration')\n",
    "generalization_CUF_labels_surgeons = generalization_features_surgeons.pop('CUF Planned Duration')\n",
    "\n",
    "generalization_dataset_surgeons= np.asarray(generalization_dataset_surgeons).astype(np.float32)\n",
    "\n",
    "    #Features\n",
    "generalization_features_surgeons= np.asarray(generalization_features_surgeons).astype(np.float32)\n",
    "\n",
    "#labels\n",
    "generalization_labels_surgeons= np.asarray(generalization_labels_surgeons).astype(np.float32)\n"
   ]
  },
  {
   "cell_type": "code",
   "execution_count": 35,
   "metadata": {},
   "outputs": [
    {
     "data": {
      "text/html": [
       "<div>\n",
       "<style scoped>\n",
       "    .dataframe tbody tr th:only-of-type {\n",
       "        vertical-align: middle;\n",
       "    }\n",
       "\n",
       "    .dataframe tbody tr th {\n",
       "        vertical-align: top;\n",
       "    }\n",
       "\n",
       "    .dataframe thead th {\n",
       "        text-align: right;\n",
       "    }\n",
       "</style>\n",
       "<table border=\"1\" class=\"dataframe\">\n",
       "  <thead>\n",
       "    <tr style=\"text-align: right;\">\n",
       "      <th></th>\n",
       "      <th>Real Duration</th>\n",
       "      <th>Planned by Cuf</th>\n",
       "      <th>Labels from RuleFit</th>\n",
       "    </tr>\n",
       "  </thead>\n",
       "  <tbody>\n",
       "    <tr>\n",
       "      <th>255</th>\n",
       "      <td>20.0</td>\n",
       "      <td>20</td>\n",
       "      <td>22.786845</td>\n",
       "    </tr>\n",
       "    <tr>\n",
       "      <th>53</th>\n",
       "      <td>17.0</td>\n",
       "      <td>20</td>\n",
       "      <td>26.727085</td>\n",
       "    </tr>\n",
       "    <tr>\n",
       "      <th>480</th>\n",
       "      <td>15.0</td>\n",
       "      <td>30</td>\n",
       "      <td>22.786845</td>\n",
       "    </tr>\n",
       "    <tr>\n",
       "      <th>562</th>\n",
       "      <td>21.0</td>\n",
       "      <td>30</td>\n",
       "      <td>22.786845</td>\n",
       "    </tr>\n",
       "    <tr>\n",
       "      <th>1336</th>\n",
       "      <td>21.0</td>\n",
       "      <td>20</td>\n",
       "      <td>22.786845</td>\n",
       "    </tr>\n",
       "    <tr>\n",
       "      <th>...</th>\n",
       "      <td>...</td>\n",
       "      <td>...</td>\n",
       "      <td>...</td>\n",
       "    </tr>\n",
       "    <tr>\n",
       "      <th>649</th>\n",
       "      <td>28.0</td>\n",
       "      <td>30</td>\n",
       "      <td>23.417345</td>\n",
       "    </tr>\n",
       "    <tr>\n",
       "      <th>475</th>\n",
       "      <td>35.0</td>\n",
       "      <td>30</td>\n",
       "      <td>22.786845</td>\n",
       "    </tr>\n",
       "    <tr>\n",
       "      <th>1365</th>\n",
       "      <td>20.0</td>\n",
       "      <td>30</td>\n",
       "      <td>22.786845</td>\n",
       "    </tr>\n",
       "    <tr>\n",
       "      <th>1238</th>\n",
       "      <td>22.0</td>\n",
       "      <td>30</td>\n",
       "      <td>22.786845</td>\n",
       "    </tr>\n",
       "    <tr>\n",
       "      <th>355</th>\n",
       "      <td>110.0</td>\n",
       "      <td>20</td>\n",
       "      <td>62.532316</td>\n",
       "    </tr>\n",
       "  </tbody>\n",
       "</table>\n",
       "<p>158 rows × 3 columns</p>\n",
       "</div>"
      ],
      "text/plain": [
       "      Real Duration  Planned by Cuf  Labels from RuleFit\n",
       "255            20.0              20            22.786845\n",
       "53             17.0              20            26.727085\n",
       "480            15.0              30            22.786845\n",
       "562            21.0              30            22.786845\n",
       "1336           21.0              20            22.786845\n",
       "...             ...             ...                  ...\n",
       "649            28.0              30            23.417345\n",
       "475            35.0              30            22.786845\n",
       "1365           20.0              30            22.786845\n",
       "1238           22.0              30            22.786845\n",
       "355           110.0              20            62.532316\n",
       "\n",
       "[158 rows x 3 columns]"
      ]
     },
     "execution_count": 35,
     "metadata": {},
     "output_type": "execute_result"
    }
   ],
   "source": [
    "labels_generalization=Best_model.predict(generalization_features_surgeons)\n",
    "dataset_predicton_generalization = {\"Real Duration\": generalization_labels_surgeons, \"Planned by Cuf\": generalization_CUF_labels_surgeons, \"Labels from RuleFit\": labels_generalization}\n",
    "    \n",
    "dataset_predicton_generalization=pd.DataFrame(dataset_predicton_generalization)\n",
    "dataset_predicton_generalization"
   ]
  },
  {
   "cell_type": "code",
   "execution_count": 36,
   "metadata": {},
   "outputs": [],
   "source": [
    "dataset=dataset_predicton_generalization[dataset_predicton_generalization['Real Duration']>28]"
   ]
  },
  {
   "cell_type": "code",
   "execution_count": 37,
   "metadata": {},
   "outputs": [
    {
     "data": {
      "text/plain": [
       "18.211655182341122"
      ]
     },
     "execution_count": 37,
     "metadata": {},
     "output_type": "execute_result"
    }
   ],
   "source": [
    "mean_squared_error(dataset['Labels from RuleFit'],dataset['Real Duration'],squared=False)"
   ]
  },
  {
   "cell_type": "code",
   "execution_count": 38,
   "metadata": {},
   "outputs": [
    {
     "name": "stderr",
     "output_type": "stream",
     "text": [
      "Arrays of bytes/strings is being converted to decimal numbers if dtype='numeric'. This behavior is deprecated in 0.24 and will be removed in 1.1 (renaming of 0.26). Please convert your data to numeric values explicitly instead.\n"
     ]
    },
    {
     "data": {
      "text/plain": [
       "29.34411223869148"
      ]
     },
     "execution_count": 38,
     "metadata": {},
     "output_type": "execute_result"
    }
   ],
   "source": [
    "mean_squared_error(dataset['Planned by Cuf'],dataset['Real Duration'],squared=False)"
   ]
  },
  {
   "cell_type": "code",
   "execution_count": null,
   "metadata": {},
   "outputs": [],
   "source": []
  },
  {
   "cell_type": "code",
   "execution_count": 37,
   "metadata": {},
   "outputs": [
    {
     "data": {
      "text/plain": [
       "<matplotlib.legend.Legend at 0x25918cc2880>"
      ]
     },
     "execution_count": 37,
     "metadata": {},
     "output_type": "execute_result"
    },
    {
     "data": {
      "image/png": "[encoded data removed]",
      "text/plain": [
       "<Figure size 432x288 with 1 Axes>"
      ]
     },
     "metadata": {
      "needs_background": "light"
     },
     "output_type": "display_data"
    }
   ],
   "source": [
    "\n",
    "def percCal(x,y):\n",
    "    return (x-y)*100/x\n",
    "\n",
    "def percCal2(x,y):\n",
    "    return abs(x-y)\n",
    "\n",
    "\n",
    "dataset_predicton_generalization['Error_RuleFit'] = percCal(dataset_predicton_generalization['Real Duration'], dataset_predicton_generalization['Labels from RuleFit'])\n",
    "dataset_predicton_generalization['Error_CUF'] = percCal(dataset_predicton_generalization['Real Duration'], dataset_predicton_generalization['Planned by Cuf'])\n",
    "dataset_predicton_generalization['Minutes_RuleFit'] = percCal2(dataset_predicton_generalization['Real Duration'], dataset_predicton_generalization['Labels from RuleFit'])\n",
    "dataset_predicton_generalization['Minutes_CUF'] = percCal2(dataset_predicton_generalization['Real Duration'], dataset_predicton_generalization['Planned by Cuf'])\n",
    "\n",
    "\n",
    "dataset_predicton_generalization['Error_CUF'].plot(kind='density')\n",
    "dataset_predicton_generalization['Error_RuleFit'].plot(kind='density')\n",
    "plt.xlim([-400, 400])\n",
    "plt.title('General RuleFit vs CUF prediction')\n",
    "orange_patch = matplotlib.patches.Patch(color='orange', label='RuleFit')\n",
    "blue_patch = matplotlib.patches.Patch(color='blue', label='CUF')\n",
    "plt.legend(handles=[orange_patch,blue_patch])"
   ]
  },
  {
   "cell_type": "code",
   "execution_count": 38,
   "metadata": {},
   "outputs": [
    {
     "name": "stdout",
     "output_type": "stream",
     "text": [
      "-------------  -------------------  ------------------  -------------------\n",
      "Model          Within               Overutilization     Underutilization\n",
      "CUF Model      0.20253164556962025  0.3291139240506329  0.46835443037974683\n",
      "RuleFit Model  0.15822784810126583  0.2721518987341772  0.569620253164557\n",
      "-------------  -------------------  ------------------  -------------------\n"
     ]
    }
   ],
   "source": [
    "#Overutilization \n",
    "CUF_overuse=dataset_predicton_generalization[dataset_predicton_generalization['Error_CUF']>10].shape[0]/dataset_predicton_generalization.shape[0]\n",
    "RuleFit_overuse=dataset_predicton_generalization[dataset_predicton_generalization['Error_RuleFit']>10].shape[0]/dataset_predicton_generalization.shape[0]\n",
    "#Underutilization\n",
    "CUF_under=dataset_predicton_generalization[dataset_predicton_generalization['Error_CUF']<-10].shape[0]/dataset_predicton_generalization.shape[0]\n",
    "RuleFit_under=dataset_predicton_generalization[dataset_predicton_generalization['Error_RuleFit']<-10].shape[0]/dataset_predicton_generalization.shape[0]\n",
    "#Within\n",
    "CUF_Within=dataset_predicton_generalization[dataset_predicton_generalization['Error_CUF'].abs()<=10].shape[0]/dataset_predicton_generalization.shape[0]\n",
    "RuleFit_Within=dataset_predicton_generalization[dataset_predicton_generalization['Error_RuleFit'].abs()<=10].shape[0]/dataset_predicton_generalization.shape[0]\n",
    "\n",
    "table2 = [['Model', 'Within', 'Overutilization','Underutilization'], ['CUF Model', CUF_Within, CUF_overuse,CUF_under], ['RuleFit Model', RuleFit_Within, RuleFit_overuse,RuleFit_under]]\n",
    "print(tabulate(table2))"
   ]
  },
  {
   "cell_type": "code",
   "execution_count": 59,
   "metadata": {},
   "outputs": [
    {
     "data": {
      "text/plain": [
       "8.465859153002993"
      ]
     },
     "execution_count": 59,
     "metadata": {},
     "output_type": "execute_result"
    }
   ],
   "source": [
    "dataset_predicton_generalization[dataset_predicton_generalization['Error_RuleFit']<-10]['Minutes_RuleFit'].sum()/dataset_predicton_generalization[dataset_predicton_generalization['Error_RuleFit']<-10].shape[0]"
   ]
  },
  {
   "cell_type": "code",
   "execution_count": 60,
   "metadata": {},
   "outputs": [
    {
     "data": {
      "text/plain": [
       "9.324324324324325"
      ]
     },
     "execution_count": 60,
     "metadata": {},
     "output_type": "execute_result"
    }
   ],
   "source": [
    "dataset_predicton_generalization[dataset_predicton_generalization['Error_CUF']<-10]['Minutes_CUF'].sum()/dataset_predicton_generalization[dataset_predicton_generalization['Error_CUF']<-10].shape[0]"
   ]
  },
  {
   "cell_type": "code",
   "execution_count": 61,
   "metadata": {},
   "outputs": [
    {
     "data": {
      "text/plain": [
       "13.337857311295664"
      ]
     },
     "execution_count": 61,
     "metadata": {},
     "output_type": "execute_result"
    }
   ],
   "source": [
    "dataset_predicton_generalization[dataset_predicton_generalization['Error_RuleFit']>10]['Minutes_RuleFit'].sum()/dataset_predicton_generalization[dataset_predicton_generalization['Error_RuleFit']>10].shape[0]"
   ]
  },
  {
   "cell_type": "code",
   "execution_count": 62,
   "metadata": {},
   "outputs": [
    {
     "data": {
      "text/plain": [
       "20.692307692307693"
      ]
     },
     "execution_count": 62,
     "metadata": {},
     "output_type": "execute_result"
    }
   ],
   "source": [
    "dataset_predicton_generalization[dataset_predicton_generalization['Error_CUF']>10]['Minutes_CUF'].sum()/dataset_predicton_generalization[dataset_predicton_generalization['Error_CUF']>10].shape[0]"
   ]
  },
  {
   "cell_type": "code",
   "execution_count": null,
   "metadata": {},
   "outputs": [],
   "source": []
  },
  {
   "cell_type": "code",
   "execution_count": 58,
   "metadata": {},
   "outputs": [
    {
     "data": {
      "text/plain": [
       "68"
      ]
     },
     "execution_count": 58,
     "metadata": {},
     "output_type": "execute_result"
    }
   ],
   "source": [
    "dataset_predicton_generalization[dataset_predicton_generalization['Error_RuleFit']>-10].shape[0]"
   ]
  },
  {
   "cell_type": "code",
   "execution_count": 39,
   "metadata": {},
   "outputs": [
    {
     "data": {
      "text/plain": [
       "11.64935064935065"
      ]
     },
     "execution_count": 39,
     "metadata": {},
     "output_type": "execute_result"
    }
   ],
   "source": [
    "dataset_predicton_generalization['Minutes_CUF'].sum()/154"
   ]
  },
  {
   "cell_type": "code",
   "execution_count": 40,
   "metadata": {},
   "outputs": [
    {
     "data": {
      "text/plain": [
       "8.916092021797274"
      ]
     },
     "execution_count": 40,
     "metadata": {},
     "output_type": "execute_result"
    }
   ],
   "source": [
    "dataset_predicton_generalization['Minutes_RuleFit'].sum()/154"
   ]
  },
  {
   "cell_type": "code",
   "execution_count": 42,
   "metadata": {},
   "outputs": [
    {
     "data": {
      "text/plain": [
       "12.0"
      ]
     },
     "execution_count": 42,
     "metadata": {},
     "output_type": "execute_result"
    }
   ],
   "source": [
    "np.round(mean_squared_error(labels_generalization,generalization_labels_surgeons,squared=False))\n",
    "        \n",
    "        "
   ]
  },
  {
   "cell_type": "code",
   "execution_count": 43,
   "metadata": {},
   "outputs": [
    {
     "name": "stderr",
     "output_type": "stream",
     "text": [
      "Arrays of bytes/strings is being converted to decimal numbers if dtype='numeric'. This behavior is deprecated in 0.24 and will be removed in 1.1 (renaming of 0.26). Please convert your data to numeric values explicitly instead.\n"
     ]
    },
    {
     "data": {
      "text/plain": [
       "18.0"
      ]
     },
     "execution_count": 43,
     "metadata": {},
     "output_type": "execute_result"
    }
   ],
   "source": [
    "np.round(mean_squared_error(generalization_CUF_labels_surgeons,generalization_labels_surgeons,squared=False))\n",
    "        "
   ]
  },
  {
   "cell_type": "code",
   "execution_count": 1,
   "metadata": {},
   "outputs": [
    {
     "ename": "NameError",
     "evalue": "name 'dataset_predicton' is not defined",
     "output_type": "error",
     "traceback": [
      "\u001b[1;31m---------------------------------------------------------------------------\u001b[0m",
      "\u001b[1;31mNameError\u001b[0m                                 Traceback (most recent call last)",
      "\u001b[1;32m<ipython-input-1-7f01819c63d5>\u001b[0m in \u001b[0;36m<module>\u001b[1;34m\u001b[0m\n\u001b[1;32m----> 1\u001b[1;33m \u001b[0mdataset_predicton\u001b[0m\u001b[1;33m[\u001b[0m\u001b[1;34m'Labels from RuleFit'\u001b[0m\u001b[1;33m]\u001b[0m\u001b[1;33m>\u001b[0m\u001b[1;36m28\u001b[0m\u001b[1;33m\u001b[0m\u001b[1;33m\u001b[0m\u001b[0m\n\u001b[0m",
      "\u001b[1;31mNameError\u001b[0m: name 'dataset_predicton' is not defined"
     ]
    }
   ],
   "source": [
    "dataset_predicton['Labels from RuleFit']>28"
   ]
  },
  {
   "cell_type": "code",
   "execution_count": 44,
   "metadata": {},
   "outputs": [
    {
     "data": {
      "text/plain": [
       "11.0"
      ]
     },
     "execution_count": 44,
     "metadata": {},
     "output_type": "execute_result"
    }
   ],
   "source": [
    "np.round(mean_squared_error(dataset_predicton['Labels from RuleFit']>28,dataset_predicton['Real Duration'],squared=False))\n",
    "   "
   ]
  },
  {
   "cell_type": "code",
   "execution_count": 45,
   "metadata": {},
   "outputs": [
    {
     "data": {
      "text/plain": [
       "17.0"
      ]
     },
     "execution_count": 45,
     "metadata": {},
     "output_type": "execute_result"
    }
   ],
   "source": [
    "np.round(mean_squared_error(dataset_predicton['Planned by Cuf'],dataset_predicton['Real Duration'],squared=False))\n"
   ]
  },
  {
   "cell_type": "markdown",
   "metadata": {},
   "source": [
    "* ## Imbalance"
   ]
  },
  {
   "cell_type": "code",
   "execution_count": 12,
   "metadata": {},
   "outputs": [],
   "source": [
    "Curve=0\n",
    "point=7"
   ]
  },
  {
   "cell_type": "code",
   "execution_count": 13,
   "metadata": {},
   "outputs": [],
   "source": [
    "Best_model=Rashomon_curve[Curve][point]['Model']"
   ]
  },
  {
   "cell_type": "code",
   "execution_count": 14,
   "metadata": {},
   "outputs": [
    {
     "data": {
      "text/html": [
       "<div>\n",
       "<style scoped>\n",
       "    .dataframe tbody tr th:only-of-type {\n",
       "        vertical-align: middle;\n",
       "    }\n",
       "\n",
       "    .dataframe tbody tr th {\n",
       "        vertical-align: top;\n",
       "    }\n",
       "\n",
       "    .dataframe thead th {\n",
       "        text-align: right;\n",
       "    }\n",
       "</style>\n",
       "<table border=\"1\" class=\"dataframe\">\n",
       "  <thead>\n",
       "    <tr style=\"text-align: right;\">\n",
       "      <th></th>\n",
       "      <th>rule</th>\n",
       "      <th>type</th>\n",
       "      <th>coef</th>\n",
       "      <th>support</th>\n",
       "      <th>importance</th>\n",
       "    </tr>\n",
       "  </thead>\n",
       "  <tbody>\n",
       "    <tr>\n",
       "      <th>129</th>\n",
       "      <td>Surgery Number Performed_perDoctor &lt;= 1120.0 &amp;...</td>\n",
       "      <td>rule</td>\n",
       "      <td>6.913744</td>\n",
       "      <td>0.046366</td>\n",
       "      <td>1.453796</td>\n",
       "    </tr>\n",
       "    <tr>\n",
       "      <th>5</th>\n",
       "      <td>Procedures_I</td>\n",
       "      <td>linear</td>\n",
       "      <td>5.860281</td>\n",
       "      <td>1.000000</td>\n",
       "      <td>1.000327</td>\n",
       "    </tr>\n",
       "    <tr>\n",
       "      <th>160</th>\n",
       "      <td>I1 &gt; 36.49469757080078 &amp; Month &gt; 27.6935205459...</td>\n",
       "      <td>rule</td>\n",
       "      <td>3.763188</td>\n",
       "      <td>0.024752</td>\n",
       "      <td>0.584686</td>\n",
       "    </tr>\n",
       "    <tr>\n",
       "      <th>237</th>\n",
       "      <td>I1 &gt; 43.27751541137695 &amp; Hospitalization &lt;= 0....</td>\n",
       "      <td>rule</td>\n",
       "      <td>3.099028</td>\n",
       "      <td>0.037371</td>\n",
       "      <td>0.587791</td>\n",
       "    </tr>\n",
       "    <tr>\n",
       "      <th>276</th>\n",
       "      <td>Hospitalization &gt; 0.5 &amp; Surgery Number Perform...</td>\n",
       "      <td>rule</td>\n",
       "      <td>2.576730</td>\n",
       "      <td>0.003759</td>\n",
       "      <td>0.157692</td>\n",
       "    </tr>\n",
       "    <tr>\n",
       "      <th>582</th>\n",
       "      <td>I1 &gt; 34.569496154785156 &amp; Surgery Number Perfo...</td>\n",
       "      <td>rule</td>\n",
       "      <td>2.045003</td>\n",
       "      <td>0.038896</td>\n",
       "      <td>0.395395</td>\n",
       "    </tr>\n",
       "    <tr>\n",
       "      <th>448</th>\n",
       "      <td>Hospitalization &gt; 0.5 &amp; Surgery Number Perform...</td>\n",
       "      <td>rule</td>\n",
       "      <td>1.654113</td>\n",
       "      <td>0.083127</td>\n",
       "      <td>0.456657</td>\n",
       "    </tr>\n",
       "    <tr>\n",
       "      <th>383</th>\n",
       "      <td>I1 &gt; 36.49469757080078 &amp; Hospitalization &lt;= 0....</td>\n",
       "      <td>rule</td>\n",
       "      <td>1.402258</td>\n",
       "      <td>0.047273</td>\n",
       "      <td>0.297590</td>\n",
       "    </tr>\n",
       "    <tr>\n",
       "      <th>16</th>\n",
       "      <td>Month &gt; 27.693520545959473 &amp; I1 &gt; 43.277515411...</td>\n",
       "      <td>rule</td>\n",
       "      <td>0.366899</td>\n",
       "      <td>0.027534</td>\n",
       "      <td>0.060037</td>\n",
       "    </tr>\n",
       "    <tr>\n",
       "      <th>500</th>\n",
       "      <td>I1 &gt; 28.77825164794922</td>\n",
       "      <td>rule</td>\n",
       "      <td>0.293842</td>\n",
       "      <td>0.217933</td>\n",
       "      <td>0.121310</td>\n",
       "    </tr>\n",
       "    <tr>\n",
       "      <th>13</th>\n",
       "      <td>Anesthesia</td>\n",
       "      <td>linear</td>\n",
       "      <td>0.245608</td>\n",
       "      <td>1.000000</td>\n",
       "      <td>2.812887</td>\n",
       "    </tr>\n",
       "    <tr>\n",
       "      <th>8</th>\n",
       "      <td>Part of the day</td>\n",
       "      <td>linear</td>\n",
       "      <td>0.159150</td>\n",
       "      <td>1.000000</td>\n",
       "      <td>0.521295</td>\n",
       "    </tr>\n",
       "    <tr>\n",
       "      <th>12</th>\n",
       "      <td>Weekday</td>\n",
       "      <td>linear</td>\n",
       "      <td>0.042976</td>\n",
       "      <td>1.000000</td>\n",
       "      <td>0.057078</td>\n",
       "    </tr>\n",
       "    <tr>\n",
       "      <th>485</th>\n",
       "      <td>Hospitalization &gt; 0.5 &amp; Surgery Number Perform...</td>\n",
       "      <td>rule</td>\n",
       "      <td>0.025274</td>\n",
       "      <td>0.074257</td>\n",
       "      <td>0.006626</td>\n",
       "    </tr>\n",
       "    <tr>\n",
       "      <th>242</th>\n",
       "      <td>Hospitalization &gt; 0.5 &amp; Surgery Number Perform...</td>\n",
       "      <td>rule</td>\n",
       "      <td>-0.275236</td>\n",
       "      <td>0.090686</td>\n",
       "      <td>0.079037</td>\n",
       "    </tr>\n",
       "    <tr>\n",
       "      <th>140</th>\n",
       "      <td>Hospitalization &gt; 0.5 &amp; Surgery Number Perform...</td>\n",
       "      <td>rule</td>\n",
       "      <td>-0.717159</td>\n",
       "      <td>0.117139</td>\n",
       "      <td>0.230628</td>\n",
       "    </tr>\n",
       "    <tr>\n",
       "      <th>322</th>\n",
       "      <td>I1 &lt;= 22.999340057373047 &amp; I1 &lt;= 31.9271059036...</td>\n",
       "      <td>rule</td>\n",
       "      <td>-1.043910</td>\n",
       "      <td>0.719497</td>\n",
       "      <td>0.468972</td>\n",
       "    </tr>\n",
       "    <tr>\n",
       "      <th>2</th>\n",
       "      <td>Gender</td>\n",
       "      <td>linear</td>\n",
       "      <td>-1.090507</td>\n",
       "      <td>1.000000</td>\n",
       "      <td>0.539890</td>\n",
       "    </tr>\n",
       "    <tr>\n",
       "      <th>280</th>\n",
       "      <td>Hospitalization &gt; 0.5 &amp; I1 &lt;= 56.7005462646484...</td>\n",
       "      <td>rule</td>\n",
       "      <td>-1.123536</td>\n",
       "      <td>0.095057</td>\n",
       "      <td>0.329526</td>\n",
       "    </tr>\n",
       "    <tr>\n",
       "      <th>103</th>\n",
       "      <td>Age &lt;= 78.5 &amp; I1 &lt;= 51.82125473022461 &amp; I1 &lt;= ...</td>\n",
       "      <td>rule</td>\n",
       "      <td>-1.203717</td>\n",
       "      <td>0.042929</td>\n",
       "      <td>0.243991</td>\n",
       "    </tr>\n",
       "    <tr>\n",
       "      <th>255</th>\n",
       "      <td>I1 &lt;= 36.49469757080078 &amp; Age &lt;= 89.0 &amp; I1 &lt;= ...</td>\n",
       "      <td>rule</td>\n",
       "      <td>-1.254423</td>\n",
       "      <td>0.754453</td>\n",
       "      <td>0.539918</td>\n",
       "    </tr>\n",
       "    <tr>\n",
       "      <th>364</th>\n",
       "      <td>I1 &lt;= 43.27751541137695 &amp; Anesthesia &lt;= 36.329...</td>\n",
       "      <td>rule</td>\n",
       "      <td>-2.119490</td>\n",
       "      <td>0.496863</td>\n",
       "      <td>1.059724</td>\n",
       "    </tr>\n",
       "    <tr>\n",
       "      <th>366</th>\n",
       "      <td>Hospitalization &gt; 0.5 &amp; I1 &lt;= 56.7005462646484...</td>\n",
       "      <td>rule</td>\n",
       "      <td>-2.210493</td>\n",
       "      <td>0.084596</td>\n",
       "      <td>0.615135</td>\n",
       "    </tr>\n",
       "    <tr>\n",
       "      <th>248</th>\n",
       "      <td>Age &lt;= 80.5 &amp; Month &gt; 28.08802890777588 &amp; I1 &lt;...</td>\n",
       "      <td>rule</td>\n",
       "      <td>-2.809309</td>\n",
       "      <td>0.025478</td>\n",
       "      <td>0.442665</td>\n",
       "    </tr>\n",
       "    <tr>\n",
       "      <th>39</th>\n",
       "      <td>I1 &lt;= 36.49469757080078 &amp; Age &lt;= 96.5 &amp; I1 &lt;= ...</td>\n",
       "      <td>rule</td>\n",
       "      <td>-4.432452</td>\n",
       "      <td>0.769039</td>\n",
       "      <td>1.868047</td>\n",
       "    </tr>\n",
       "    <tr>\n",
       "      <th>180</th>\n",
       "      <td>I1 &lt;= 36.49469757080078 &amp; I1 &lt;= 28.77825164794922</td>\n",
       "      <td>rule</td>\n",
       "      <td>-5.386708</td>\n",
       "      <td>0.779394</td>\n",
       "      <td>2.233627</td>\n",
       "    </tr>\n",
       "    <tr>\n",
       "      <th>361</th>\n",
       "      <td>Hospitalization &gt; 0.5 &amp; I1 &gt; 28.77825164794922...</td>\n",
       "      <td>rule</td>\n",
       "      <td>-9.572024</td>\n",
       "      <td>0.105263</td>\n",
       "      <td>2.937579</td>\n",
       "    </tr>\n",
       "    <tr>\n",
       "      <th>489</th>\n",
       "      <td>I1 &lt;= 43.27751541137695 &amp; Age &lt;= 95.5</td>\n",
       "      <td>rule</td>\n",
       "      <td>-15.068950</td>\n",
       "      <td>0.805486</td>\n",
       "      <td>5.964680</td>\n",
       "    </tr>\n",
       "  </tbody>\n",
       "</table>\n",
       "</div>"
      ],
      "text/plain": [
       "                                                  rule    type       coef  \\\n",
       "129  Surgery Number Performed_perDoctor <= 1120.0 &...    rule   6.913744   \n",
       "5                                         Procedures_I  linear   5.860281   \n",
       "160  I1 > 36.49469757080078 & Month > 27.6935205459...    rule   3.763188   \n",
       "237  I1 > 43.27751541137695 & Hospitalization <= 0....    rule   3.099028   \n",
       "276  Hospitalization > 0.5 & Surgery Number Perform...    rule   2.576730   \n",
       "582  I1 > 34.569496154785156 & Surgery Number Perfo...    rule   2.045003   \n",
       "448  Hospitalization > 0.5 & Surgery Number Perform...    rule   1.654113   \n",
       "383  I1 > 36.49469757080078 & Hospitalization <= 0....    rule   1.402258   \n",
       "16   Month > 27.693520545959473 & I1 > 43.277515411...    rule   0.366899   \n",
       "500                             I1 > 28.77825164794922    rule   0.293842   \n",
       "13                                          Anesthesia  linear   0.245608   \n",
       "8                                      Part of the day  linear   0.159150   \n",
       "12                                             Weekday  linear   0.042976   \n",
       "485  Hospitalization > 0.5 & Surgery Number Perform...    rule   0.025274   \n",
       "242  Hospitalization > 0.5 & Surgery Number Perform...    rule  -0.275236   \n",
       "140  Hospitalization > 0.5 & Surgery Number Perform...    rule  -0.717159   \n",
       "322  I1 <= 22.999340057373047 & I1 <= 31.9271059036...    rule  -1.043910   \n",
       "2                                               Gender  linear  -1.090507   \n",
       "280  Hospitalization > 0.5 & I1 <= 56.7005462646484...    rule  -1.123536   \n",
       "103  Age <= 78.5 & I1 <= 51.82125473022461 & I1 <= ...    rule  -1.203717   \n",
       "255  I1 <= 36.49469757080078 & Age <= 89.0 & I1 <= ...    rule  -1.254423   \n",
       "364  I1 <= 43.27751541137695 & Anesthesia <= 36.329...    rule  -2.119490   \n",
       "366  Hospitalization > 0.5 & I1 <= 56.7005462646484...    rule  -2.210493   \n",
       "248  Age <= 80.5 & Month > 28.08802890777588 & I1 <...    rule  -2.809309   \n",
       "39   I1 <= 36.49469757080078 & Age <= 96.5 & I1 <= ...    rule  -4.432452   \n",
       "180  I1 <= 36.49469757080078 & I1 <= 28.77825164794922    rule  -5.386708   \n",
       "361  Hospitalization > 0.5 & I1 > 28.77825164794922...    rule  -9.572024   \n",
       "489              I1 <= 43.27751541137695 & Age <= 95.5    rule -15.068950   \n",
       "\n",
       "      support  importance  \n",
       "129  0.046366    1.453796  \n",
       "5    1.000000    1.000327  \n",
       "160  0.024752    0.584686  \n",
       "237  0.037371    0.587791  \n",
       "276  0.003759    0.157692  \n",
       "582  0.038896    0.395395  \n",
       "448  0.083127    0.456657  \n",
       "383  0.047273    0.297590  \n",
       "16   0.027534    0.060037  \n",
       "500  0.217933    0.121310  \n",
       "13   1.000000    2.812887  \n",
       "8    1.000000    0.521295  \n",
       "12   1.000000    0.057078  \n",
       "485  0.074257    0.006626  \n",
       "242  0.090686    0.079037  \n",
       "140  0.117139    0.230628  \n",
       "322  0.719497    0.468972  \n",
       "2    1.000000    0.539890  \n",
       "280  0.095057    0.329526  \n",
       "103  0.042929    0.243991  \n",
       "255  0.754453    0.539918  \n",
       "364  0.496863    1.059724  \n",
       "366  0.084596    0.615135  \n",
       "248  0.025478    0.442665  \n",
       "39   0.769039    1.868047  \n",
       "180  0.779394    2.233627  \n",
       "361  0.105263    2.937579  \n",
       "489  0.805486    5.964680  "
      ]
     },
     "execution_count": 14,
     "metadata": {},
     "output_type": "execute_result"
    }
   ],
   "source": [
    "Rashomon_curve[Curve][point]['Rules_non0']"
   ]
  },
  {
   "cell_type": "code",
   "execution_count": 304,
   "metadata": {
    "scrolled": true
   },
   "outputs": [
    {
     "data": {
      "text/html": [
       "<div>\n",
       "<style scoped>\n",
       "    .dataframe tbody tr th:only-of-type {\n",
       "        vertical-align: middle;\n",
       "    }\n",
       "\n",
       "    .dataframe tbody tr th {\n",
       "        vertical-align: top;\n",
       "    }\n",
       "\n",
       "    .dataframe thead th {\n",
       "        text-align: right;\n",
       "    }\n",
       "</style>\n",
       "<table border=\"1\" class=\"dataframe\">\n",
       "  <thead>\n",
       "    <tr style=\"text-align: right;\">\n",
       "      <th></th>\n",
       "      <th>Real Duration</th>\n",
       "      <th>Planned by Cuf</th>\n",
       "      <th>Labels from RuleFit</th>\n",
       "      <th>Error_RuleFit</th>\n",
       "      <th>Error_CUF</th>\n",
       "    </tr>\n",
       "  </thead>\n",
       "  <tbody>\n",
       "    <tr>\n",
       "      <th>1</th>\n",
       "      <td>16.0</td>\n",
       "      <td>20</td>\n",
       "      <td>23.849821</td>\n",
       "      <td>-49.061381</td>\n",
       "      <td>-25.0</td>\n",
       "    </tr>\n",
       "    <tr>\n",
       "      <th>2</th>\n",
       "      <td>12.0</td>\n",
       "      <td>20</td>\n",
       "      <td>20.663673</td>\n",
       "      <td>-72.197277</td>\n",
       "      <td>-66.666667</td>\n",
       "    </tr>\n",
       "    <tr>\n",
       "      <th>3</th>\n",
       "      <td>39.0</td>\n",
       "      <td>20</td>\n",
       "      <td>25.426031</td>\n",
       "      <td>34.805050</td>\n",
       "      <td>48.717949</td>\n",
       "    </tr>\n",
       "    <tr>\n",
       "      <th>8</th>\n",
       "      <td>20.0</td>\n",
       "      <td>20</td>\n",
       "      <td>22.798091</td>\n",
       "      <td>-13.990454</td>\n",
       "      <td>0.0</td>\n",
       "    </tr>\n",
       "    <tr>\n",
       "      <th>25</th>\n",
       "      <td>20.0</td>\n",
       "      <td>20</td>\n",
       "      <td>21.689604</td>\n",
       "      <td>-8.448022</td>\n",
       "      <td>0.0</td>\n",
       "    </tr>\n",
       "    <tr>\n",
       "      <th>...</th>\n",
       "      <td>...</td>\n",
       "      <td>...</td>\n",
       "      <td>...</td>\n",
       "      <td>...</td>\n",
       "      <td>...</td>\n",
       "    </tr>\n",
       "    <tr>\n",
       "      <th>1553</th>\n",
       "      <td>25.0</td>\n",
       "      <td>30</td>\n",
       "      <td>22.649252</td>\n",
       "      <td>9.402991</td>\n",
       "      <td>-20.0</td>\n",
       "    </tr>\n",
       "    <tr>\n",
       "      <th>1563</th>\n",
       "      <td>19.0</td>\n",
       "      <td>30</td>\n",
       "      <td>29.869791</td>\n",
       "      <td>-57.209425</td>\n",
       "      <td>-57.894737</td>\n",
       "    </tr>\n",
       "    <tr>\n",
       "      <th>1574</th>\n",
       "      <td>17.0</td>\n",
       "      <td>20</td>\n",
       "      <td>20.663673</td>\n",
       "      <td>-21.551019</td>\n",
       "      <td>-17.647059</td>\n",
       "    </tr>\n",
       "    <tr>\n",
       "      <th>1577</th>\n",
       "      <td>14.0</td>\n",
       "      <td>30</td>\n",
       "      <td>22.525332</td>\n",
       "      <td>-60.895226</td>\n",
       "      <td>-114.285714</td>\n",
       "    </tr>\n",
       "    <tr>\n",
       "      <th>1579</th>\n",
       "      <td>30.0</td>\n",
       "      <td>20</td>\n",
       "      <td>21.754181</td>\n",
       "      <td>27.486065</td>\n",
       "      <td>33.333333</td>\n",
       "    </tr>\n",
       "  </tbody>\n",
       "</table>\n",
       "<p>158 rows × 5 columns</p>\n",
       "</div>"
      ],
      "text/plain": [
       "      Real Duration  Planned by Cuf  Labels from RuleFit  Error_RuleFit  \\\n",
       "1              16.0              20            23.849821     -49.061381   \n",
       "2              12.0              20            20.663673     -72.197277   \n",
       "3              39.0              20            25.426031      34.805050   \n",
       "8              20.0              20            22.798091     -13.990454   \n",
       "25             20.0              20            21.689604      -8.448022   \n",
       "...             ...             ...                  ...            ...   \n",
       "1553           25.0              30            22.649252       9.402991   \n",
       "1563           19.0              30            29.869791     -57.209425   \n",
       "1574           17.0              20            20.663673     -21.551019   \n",
       "1577           14.0              30            22.525332     -60.895226   \n",
       "1579           30.0              20            21.754181      27.486065   \n",
       "\n",
       "       Error_CUF  \n",
       "1          -25.0  \n",
       "2     -66.666667  \n",
       "3      48.717949  \n",
       "8            0.0  \n",
       "25           0.0  \n",
       "...          ...  \n",
       "1553       -20.0  \n",
       "1563  -57.894737  \n",
       "1574  -17.647059  \n",
       "1577 -114.285714  \n",
       "1579   33.333333  \n",
       "\n",
       "[158 rows x 5 columns]"
      ]
     },
     "execution_count": 304,
     "metadata": {},
     "output_type": "execute_result"
    }
   ],
   "source": [
    "dataset_predicton=Rashomon_curve[Curve][point]['Dataset_predicton']\n",
    "dataset_predicton"
   ]
  },
  {
   "cell_type": "code",
   "execution_count": 305,
   "metadata": {},
   "outputs": [
    {
     "name": "stdout",
     "output_type": "stream",
     "text": [
      "-------------  -------------------  -------------------  ------------------\n",
      "Model          Within               Overutilization      Underutilization\n",
      "CUF Model      0.13924050632911392  0.27848101265822783  0.5822784810126582\n",
      "RuleFit Model  0.25949367088607594  0.2088607594936709   0.5316455696202531\n",
      "-------------  -------------------  -------------------  ------------------\n"
     ]
    }
   ],
   "source": [
    "#Overutilization \n",
    "CUF_overuse=dataset_predicton[dataset_predicton['Error_CUF']>10].shape[0]/dataset_predicton.shape[0]\n",
    "RuleFit_overuse=dataset_predicton[dataset_predicton['Error_RuleFit']>10].shape[0]/dataset_predicton.shape[0]\n",
    "#Underutilization\n",
    "CUF_under=dataset_predicton[dataset_predicton['Error_CUF']<-10].shape[0]/dataset_predicton.shape[0]\n",
    "RuleFit_under=dataset_predicton[dataset_predicton['Error_RuleFit']<-10].shape[0]/dataset_predicton.shape[0]\n",
    "#Within\n",
    "CUF_Within=dataset_predicton[dataset_predicton['Error_CUF'].abs()<=10].shape[0]/dataset_predicton.shape[0]\n",
    "RuleFit_Within=dataset_predicton[dataset_predicton['Error_RuleFit'].abs()<=10].shape[0]/dataset_predicton.shape[0]\n",
    "\n",
    "table2 = [['Model', 'Within', 'Overutilization','Underutilization'], ['CUF Model', CUF_Within, CUF_overuse,CUF_under], ['RuleFit Model', RuleFit_Within, RuleFit_overuse,RuleFit_under]]\n",
    "print(tabulate(table2))"
   ]
  },
  {
   "cell_type": "code",
   "execution_count": 306,
   "metadata": {},
   "outputs": [],
   "source": [
    "dataset_predicton['Labels from RuleFit'].to_csv('Labels_RuleFit_surgeon_imbalance',index=False)"
   ]
  },
  {
   "cell_type": "code",
   "execution_count": null,
   "metadata": {},
   "outputs": [],
   "source": []
  },
  {
   "cell_type": "code",
   "execution_count": null,
   "metadata": {},
   "outputs": [],
   "source": []
  },
  {
   "cell_type": "code",
   "execution_count": null,
   "metadata": {},
   "outputs": [],
   "source": []
  }
 ],
 "metadata": {
  "accelerator": "GPU",
  "colab": {
   "authorship_tag": "ABX9TyNYey+gTE2lnQN6F2DitrqX",
   "collapsed_sections": [],
   "name": "RuleFit.ipynb",
   "provenance": []
  },
  "kernelspec": {
   "display_name": "Python 3",
   "language": "python",
   "name": "python3"
  },
  "language_info": {
   "codemirror_mode": {
    "name": "ipython",
    "version": 3
   },
   "file_extension": ".py",
   "mimetype": "text/x-python",
   "name": "python",
   "nbconvert_exporter": "python",
   "pygments_lexer": "ipython3",
   "version": "3.8.8"
  }
 },
 "nbformat": 4,
 "nbformat_minor": 1
}
